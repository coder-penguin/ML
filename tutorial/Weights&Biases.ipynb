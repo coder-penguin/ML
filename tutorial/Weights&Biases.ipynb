{
  "nbformat": 4,
  "nbformat_minor": 0,
  "metadata": {
    "colab": {
      "name": "Weights&Biases.ipynb",
      "provenance": [],
      "authorship_tag": "ABX9TyO2gqm22jLZ0uatl51acdMy",
      "include_colab_link": true
    },
    "kernelspec": {
      "name": "python3",
      "display_name": "Python 3"
    }
  },
  "cells": [
    {
      "cell_type": "markdown",
      "metadata": {
        "id": "view-in-github",
        "colab_type": "text"
      },
      "source": [
        "<a href=\"https://colab.research.google.com/github/coder-penguin/ML/blob/master/tutorial/Weights%26Biases.ipynb\" target=\"_parent\"><img src=\"https://colab.research.google.com/assets/colab-badge.svg\" alt=\"Open In Colab\"/></a>"
      ]
    },
    {
      "cell_type": "markdown",
      "metadata": {
        "id": "OcEgsbHx0Aaa",
        "colab_type": "text"
      },
      "source": [
        "reference : http://maruo51.com/2020/02/17/wandb/"
      ]
    },
    {
      "cell_type": "code",
      "metadata": {
        "id": "8UOr-KAzz4dg",
        "colab_type": "code",
        "colab": {}
      },
      "source": [
        "!pip install wandb"
      ],
      "execution_count": 0,
      "outputs": []
    },
    {
      "cell_type": "code",
      "metadata": {
        "id": "WxNpUcCp0bzr",
        "colab_type": "code",
        "outputId": "8cf0b277-0a8d-4bdb-a73b-17285845dd2a",
        "colab": {
          "base_uri": "https://localhost:8080/",
          "height": 51
        }
      },
      "source": [
        "from __future__ import absolute_import, division, print_function, unicode_literals\n",
        "\n",
        "# TensorFlow と tf.keras のインポート\n",
        "%tensorflow_version 2.x\n",
        "import tensorflow as tf\n",
        "from tensorflow import keras\n",
        "\n",
        "# ヘルパーライブラリのインポート\n",
        "import numpy as np\n",
        "import matplotlib.pyplot as plt\n",
        "\n",
        "import wandb\n",
        "from wandb.keras import WandbCallback\n",
        "\n",
        "print(tf.__version__)"
      ],
      "execution_count": 0,
      "outputs": [
        {
          "output_type": "stream",
          "text": [
            "TensorFlow 2.x selected.\n",
            "2.1.0\n"
          ],
          "name": "stdout"
        }
      ]
    },
    {
      "cell_type": "code",
      "metadata": {
        "id": "f9S7V33l0gOG",
        "colab_type": "code",
        "colab": {}
      },
      "source": [
        "#データのダウンロード\n",
        "fashion_mnist = keras.datasets.fashion_mnist\n",
        "\n",
        "(train_images, train_labels), (test_images, test_labels) = fashion_mnist.load_data()\n",
        "\n",
        "#正規化\n",
        "train_images = train_images / 255.0\n",
        "\n",
        "test_images = test_images / 255.0"
      ],
      "execution_count": 0,
      "outputs": []
    },
    {
      "cell_type": "code",
      "metadata": {
        "id": "waCP_vNi0l23",
        "colab_type": "code",
        "colab": {}
      },
      "source": [
        "#プロジェクトを指定（なかったら作成される）\n",
        "wandb.init(project=\"sample_project\")\n",
        "\n",
        "#調整するパラメータを登録\n",
        "#config = {\"optimizer\": \"Adam\", \n",
        "config = {\"optimizer\": \"SGD\", \n",
        "          \"lr\" : 1e-3,\n",
        "          \"epochs\": 20}\n",
        "\n",
        "wandb.config.update(config)"
      ],
      "execution_count": 0,
      "outputs": []
    },
    {
      "cell_type": "code",
      "metadata": {
        "id": "0WSLaCFt0qi0",
        "colab_type": "code",
        "colab": {}
      },
      "source": [
        "model = keras.Sequential([\n",
        "    keras.layers.Flatten(input_shape=(28, 28)),\n",
        "    keras.layers.Dense(128, activation='relu'),\n",
        "    keras.layers.Dense(10, activation='softmax')\n",
        "])\n",
        "\n",
        "#model.compile(optimizer=tf.keras.optimizers.Adam(lr=0.001), \n",
        "model.compile(optimizer=tf.keras.optimizers.SGD(lr=0.001), \n",
        "              loss='sparse_categorical_crossentropy',\n",
        "              metrics=['accuracy'])\n",
        "\n",
        "#WandCallback()を指定\n",
        "model.fit(train_images, train_labels, \n",
        "          validation_data = (test_images, test_labels),\n",
        "          epochs=20, callbacks=[WandbCallback()])"
      ],
      "execution_count": 0,
      "outputs": []
    },
    {
      "cell_type": "code",
      "metadata": {
        "id": "RNen3Hp71EuM",
        "colab_type": "code",
        "colab": {}
      },
      "source": [
        ""
      ],
      "execution_count": 0,
      "outputs": []
    }
  ]
}