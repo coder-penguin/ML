{
  "nbformat": 4,
  "nbformat_minor": 0,
  "metadata": {
    "colab": {
      "name": "keras_tutorial_cnn",
      "provenance": [],
      "collapsed_sections": [],
      "include_colab_link": true
    },
    "kernelspec": {
      "name": "python3",
      "display_name": "Python 3"
    },
    "accelerator": "GPU"
  },
  "cells": [
    {
      "cell_type": "markdown",
      "metadata": {
        "id": "view-in-github",
        "colab_type": "text"
      },
      "source": [
        "<a href=\"https://colab.research.google.com/github/coder-penguin/ML/blob/master/tutorial/keras_tutorial_cnn.ipynb\" target=\"_parent\"><img src=\"https://colab.research.google.com/assets/colab-badge.svg\" alt=\"Open In Colab\"/></a>"
      ]
    },
    {
      "cell_type": "markdown",
      "metadata": {
        "id": "E-5PkF7PBj7_",
        "colab_type": "text"
      },
      "source": [
        "#Sample code for multi classification with CNN"
      ]
    },
    {
      "cell_type": "markdown",
      "metadata": {
        "id": "V5hrcRzY_9uM",
        "colab_type": "text"
      },
      "source": [
        "Load libraries"
      ]
    },
    {
      "cell_type": "code",
      "metadata": {
        "id": "uz6chkI6AFGk",
        "colab_type": "code",
        "outputId": "c620ff12-1ab9-4b24-e5c1-9b38e0aef85c",
        "colab": {
          "base_uri": "https://localhost:8080/",
          "height": 171
        }
      },
      "source": [
        "import numpy as np\n",
        "import pandas as pd\n",
        "import matplotlib.pyplot as plt\n",
        "\n",
        "from sklearn.datasets import fetch_openml\n",
        "from sklearn.model_selection import train_test_split, KFold\n",
        "from sklearn.metrics import confusion_matrix\n",
        "from sklearn.metrics import accuracy_score, precision_score, recall_score, f1_score, classification_report\n",
        "from sklearn.metrics import precision_recall_curve, roc_curve, roc_auc_score\n",
        "from sklearn.externals import joblib\n",
        "\n",
        "import tensorflow as tf\n",
        "from tensorflow.keras.models import Sequential, load_model\n",
        "from tensorflow.keras.layers import Dense, Dropout, BatchNormalization, Activation, Flatten, Conv2D, MaxPooling2D\n",
        "from tensorflow.keras.optimizers import SGD\n",
        "from tensorflow.keras.callbacks import EarlyStopping, ModelCheckpoint\n",
        "from tensorflow.keras.utils import plot_model, model_to_dot, to_categorical\n",
        "from IPython.display import SVG\n",
        "\n",
        "print(tf.__version__)"
      ],
      "execution_count": 1,
      "outputs": [
        {
          "output_type": "stream",
          "text": [
            "/usr/local/lib/python3.6/dist-packages/sklearn/externals/joblib/__init__.py:15: FutureWarning: sklearn.externals.joblib is deprecated in 0.21 and will be removed in 0.23. Please import this functionality directly from joblib, which can be installed with: pip install joblib. If this warning is raised when loading pickled models, you may need to re-serialize those models with scikit-learn 0.21+.\n",
            "  warnings.warn(msg, category=FutureWarning)\n"
          ],
          "name": "stderr"
        },
        {
          "output_type": "stream",
          "text": [
            "2.2.0-rc2\n"
          ],
          "name": "stdout"
        }
      ]
    },
    {
      "cell_type": "code",
      "metadata": {
        "id": "CvDPtcJ2YPo0",
        "colab_type": "code",
        "outputId": "92a97266-c3f7-4714-92e6-85f5a41ba4cf",
        "colab": {
          "base_uri": "https://localhost:8080/",
          "height": 34
        }
      },
      "source": [
        "#check GPU\n",
        "tf.test.gpu_device_name()"
      ],
      "execution_count": 2,
      "outputs": [
        {
          "output_type": "execute_result",
          "data": {
            "text/plain": [
              "'/device:GPU:0'"
            ]
          },
          "metadata": {
            "tags": []
          },
          "execution_count": 2
        }
      ]
    },
    {
      "cell_type": "markdown",
      "metadata": {
        "id": "yWjy9yhPETE9",
        "colab_type": "text"
      },
      "source": [
        "Read data"
      ]
    },
    {
      "cell_type": "code",
      "metadata": {
        "id": "xKApP_2eEduJ",
        "colab_type": "code",
        "colab": {}
      },
      "source": [
        "# read hand-written dataset\n",
        "mnist = fetch_openml(name='mnist_784')"
      ],
      "execution_count": 0,
      "outputs": []
    },
    {
      "cell_type": "code",
      "metadata": {
        "id": "seKjk_6vfYzd",
        "colab_type": "code",
        "outputId": "d5dbcc99-d4e7-4274-c3b3-379ead160561",
        "colab": {
          "base_uri": "https://localhost:8080/",
          "height": 34
        }
      },
      "source": [
        "#784 = 28*28 pixels\n",
        "mnist['data'].shape"
      ],
      "execution_count": 4,
      "outputs": [
        {
          "output_type": "execute_result",
          "data": {
            "text/plain": [
              "(70000, 784)"
            ]
          },
          "metadata": {
            "tags": []
          },
          "execution_count": 4
        }
      ]
    },
    {
      "cell_type": "code",
      "metadata": {
        "id": "9jO5ZfoA1cuY",
        "colab_type": "code",
        "outputId": "d16723ad-4d5a-468c-9e5e-33646f88310e",
        "colab": {
          "base_uri": "https://localhost:8080/",
          "height": 275
        }
      },
      "source": [
        "# show data\n",
        "plt.matshow(mnist['data'][0].reshape(28,28), cmap=\"Greys\")\n",
        "plt.show()"
      ],
      "execution_count": 5,
      "outputs": [
        {
          "output_type": "display_data",
          "data": {
            "image/png": "[encoded data removed]",
            "text/plain": [
              "<Figure size 288x288 with 1 Axes>"
            ]
          },
          "metadata": {
            "tags": []
          }
        }
      ]
    },
    {
      "cell_type": "code",
      "metadata": {
        "id": "Sc_Ce1Y-FUrN",
        "colab_type": "code",
        "colab": {}
      },
      "source": [
        "# image(numpy.ndarray)\n",
        "X = mnist.data/255\n",
        "\n",
        "# label(numpy.ndarray)\n",
        "y = mnist.target"
      ],
      "execution_count": 0,
      "outputs": []
    },
    {
      "cell_type": "code",
      "metadata": {
        "id": "o6VcS3viIBh0",
        "colab_type": "code",
        "colab": {}
      },
      "source": [
        "#split dataset to train and test dataset\n",
        "test_size = 0.2\n",
        "X_train, X_test, y_train, y_test = train_test_split(X, y, test_size=test_size, shuffle=True)#default is True"
      ],
      "execution_count": 0,
      "outputs": []
    },
    {
      "cell_type": "code",
      "metadata": {
        "id": "iyOyxl4RJN9I",
        "colab_type": "code",
        "outputId": "41e6366c-0a09-4956-f7d1-1ea9ee08d334",
        "colab": {
          "base_uri": "https://localhost:8080/",
          "height": 51
        }
      },
      "source": [
        "print(len(X_train), len(X_test))\n",
        "print(len(y_train), len(y_test))"
      ],
      "execution_count": 8,
      "outputs": [
        {
          "output_type": "stream",
          "text": [
            "56000 14000\n",
            "56000 14000\n"
          ],
          "name": "stdout"
        }
      ]
    },
    {
      "cell_type": "code",
      "metadata": {
        "id": "ZEJTSGQERSxl",
        "colab_type": "code",
        "colab": {}
      },
      "source": [
        "X_train = X_train.reshape(-1, 28, 28, 1)\n",
        "X_test = X_test.reshape(-1, 28, 28, 1)\n",
        "y_train_onehot = to_categorical(y_train, num_classes=10)\n",
        "y_test_onehot = to_categorical(y_test, num_classes=10)\n",
        "y_train = [int(x) for x in y_train]\n",
        "y_test = [int(x) for x in y_test]"
      ],
      "execution_count": 0,
      "outputs": []
    },
    {
      "cell_type": "code",
      "metadata": {
        "id": "e5volQaVT92F",
        "colab_type": "code",
        "colab": {
          "base_uri": "https://localhost:8080/",
          "height": 51
        },
        "outputId": "5e5e6bb1-1590-46e3-fa29-23585ca88b5e"
      },
      "source": [
        "print(X_train.shape, X_test.shape)\n",
        "print(y_train_onehot.shape, y_test_onehot.shape)"
      ],
      "execution_count": 10,
      "outputs": [
        {
          "output_type": "stream",
          "text": [
            "(56000, 28, 28, 1) (14000, 28, 28, 1)\n",
            "(56000, 10) (14000, 10)\n"
          ],
          "name": "stdout"
        }
      ]
    },
    {
      "cell_type": "markdown",
      "metadata": {
        "id": "jvugNRRWNuYH",
        "colab_type": "text"
      },
      "source": [
        "###Train model"
      ]
    },
    {
      "cell_type": "code",
      "metadata": {
        "id": "y3caPEEIKCHY",
        "colab_type": "code",
        "colab": {}
      },
      "source": [
        "def build_model():\n",
        "  activation = 'elu'\n",
        "  model = Sequential([\n",
        "    Conv2D(32,3, input_shape=(28, 28, 1)),#filters, kernel_size\n",
        "    Activation(activation),\n",
        "    Conv2D(64,3),\n",
        "    Activation(activation),\n",
        "    MaxPooling2D(pool_size=2),\n",
        "    Dropout(0.2),\n",
        "\n",
        "    Flatten(),\n",
        "    Dense(128),\n",
        "    BatchNormalization(),\n",
        "    Activation(activation),\n",
        "    Dropout(0.5),\n",
        "    Dense(32, activation=activation),\n",
        "    Dense(10, activation='softmax')\n",
        "  ], name='my_model')\n",
        "\n",
        "  #compile\n",
        "  loss = 'categorical_crossentropy'\n",
        "  optimizer = SGD(lr=0.005, nesterov=True)\n",
        "  model.compile(loss=loss, optimizer=optimizer, metrics=['accuracy'])\n",
        "\n",
        "  return model"
      ],
      "execution_count": 0,
      "outputs": []
    },
    {
      "cell_type": "code",
      "metadata": {
        "id": "mA5uTMOWz2Ql",
        "colab_type": "code",
        "colab": {}
      },
      "source": [
        "model = build_model()"
      ],
      "execution_count": 0,
      "outputs": []
    },
    {
      "cell_type": "code",
      "metadata": {
        "id": "2mGABOONPPIw",
        "colab_type": "code",
        "outputId": "426f5580-271f-4101-a662-6b9b7498bde3",
        "colab": {
          "base_uri": "https://localhost:8080/",
          "height": 595
        }
      },
      "source": [
        "model.summary()"
      ],
      "execution_count": 13,
      "outputs": [
        {
          "output_type": "stream",
          "text": [
            "Model: \"my_model\"\n",
            "_________________________________________________________________\n",
            "Layer (type)                 Output Shape              Param #   \n",
            "=================================================================\n",
            "conv2d (Conv2D)              (None, 26, 26, 32)        320       \n",
            "_________________________________________________________________\n",
            "activation (Activation)      (None, 26, 26, 32)        0         \n",
            "_________________________________________________________________\n",
            "conv2d_1 (Conv2D)            (None, 24, 24, 64)        18496     \n",
            "_________________________________________________________________\n",
            "activation_1 (Activation)    (None, 24, 24, 64)        0         \n",
            "_________________________________________________________________\n",
            "max_pooling2d (MaxPooling2D) (None, 12, 12, 64)        0         \n",
            "_________________________________________________________________\n",
            "dropout (Dropout)            (None, 12, 12, 64)        0         \n",
            "_________________________________________________________________\n",
            "flatten (Flatten)            (None, 9216)              0         \n",
            "_________________________________________________________________\n",
            "dense (Dense)                (None, 128)               1179776   \n",
            "_________________________________________________________________\n",
            "batch_normalization (BatchNo (None, 128)               512       \n",
            "_________________________________________________________________\n",
            "activation_2 (Activation)    (None, 128)               0         \n",
            "_________________________________________________________________\n",
            "dropout_1 (Dropout)          (None, 128)               0         \n",
            "_________________________________________________________________\n",
            "dense_1 (Dense)              (None, 32)                4128      \n",
            "_________________________________________________________________\n",
            "dense_2 (Dense)              (None, 10)                330       \n",
            "=================================================================\n",
            "Total params: 1,203,562\n",
            "Trainable params: 1,203,306\n",
            "Non-trainable params: 256\n",
            "_________________________________________________________________\n"
          ],
          "name": "stdout"
        }
      ]
    },
    {
      "cell_type": "code",
      "metadata": {
        "id": "lmHV5Rh2LX05",
        "colab_type": "code",
        "outputId": "0295a4a7-ab80-4e95-d886-221a820cd019",
        "colab": {
          "base_uri": "https://localhost:8080/",
          "height": 1000
        }
      },
      "source": [
        "#show model\n",
        "SVG(model_to_dot(model, show_shapes=True, dpi=65).create(prog='dot', format='svg'))"
      ],
      "execution_count": 14,
      "outputs": [
        {
          "output_type": "execute_result",
          "data": {
            "text/plain": [
              "<IPython.core.display.SVG object>"
            ],
            "image/svg+xml": "<svg height=\"1024pt\" viewBox=\"0.00 0.00 384.00 1134.00\" width=\"347pt\" xmlns=\"http://www.w3.org/2000/svg\" xmlns:xlink=\"http://www.w3.org/1999/xlink\">\n<g class=\"graph\" id=\"graph0\" transform=\"scale(.9028 .9028) rotate(0) translate(4 1130)\">\n<title>G</title>\n<polygon fill=\"#ffffff\" points=\"-4,4 -4,-1130 380,-1130 380,4 -4,4\" stroke=\"transparent\"/>\n<!-- 139926320122120 -->\n<g class=\"node\" id=\"node1\">\n<title>139926320122120</title>\n<polygon fill=\"none\" points=\"24,-1079.5 24,-1125.5 352,-1125.5 352,-1079.5 24,-1079.5\" stroke=\"#000000\"/>\n<text fill=\"#000000\" font-family=\"Times,serif\" font-size=\"14.00\" text-anchor=\"middle\" x=\"108.5\" y=\"-1098.8\">conv2d_input: InputLayer</text>\n<polyline fill=\"none\" points=\"193,-1079.5 193,-1125.5 \" stroke=\"#000000\"/>\n<text fill=\"#000000\" font-family=\"Times,serif\" font-size=\"14.00\" text-anchor=\"middle\" x=\"222\" y=\"-1110.3\">input:</text>\n<polyline fill=\"none\" points=\"193,-1102.5 251,-1102.5 \" stroke=\"#000000\"/>\n<text fill=\"#000000\" font-family=\"Times,serif\" font-size=\"14.00\" text-anchor=\"middle\" x=\"222\" y=\"-1087.3\">output:</text>\n<polyline fill=\"none\" points=\"251,-1079.5 251,-1125.5 \" stroke=\"#000000\"/>\n<text fill=\"#000000\" font-family=\"Times,serif\" font-size=\"14.00\" text-anchor=\"middle\" x=\"301.5\" y=\"-1110.3\">[(?, 28, 28, 1)]</text>\n<polyline fill=\"none\" points=\"251,-1102.5 352,-1102.5 \" stroke=\"#000000\"/>\n<text fill=\"#000000\" font-family=\"Times,serif\" font-size=\"14.00\" text-anchor=\"middle\" x=\"301.5\" y=\"-1087.3\">[(?, 28, 28, 1)]</text>\n</g>\n<!-- 139926325657496 -->\n<g class=\"node\" id=\"node2\">\n<title>139926325657496</title>\n<polygon fill=\"none\" points=\"50.5,-996.5 50.5,-1042.5 325.5,-1042.5 325.5,-996.5 50.5,-996.5\" stroke=\"#000000\"/>\n<text fill=\"#000000\" font-family=\"Times,serif\" font-size=\"14.00\" text-anchor=\"middle\" x=\"109.5\" y=\"-1015.8\">conv2d: Conv2D</text>\n<polyline fill=\"none\" points=\"168.5,-996.5 168.5,-1042.5 \" stroke=\"#000000\"/>\n<text fill=\"#000000\" font-family=\"Times,serif\" font-size=\"14.00\" text-anchor=\"middle\" x=\"197.5\" y=\"-1027.3\">input:</text>\n<polyline fill=\"none\" points=\"168.5,-1019.5 226.5,-1019.5 \" stroke=\"#000000\"/>\n<text fill=\"#000000\" font-family=\"Times,serif\" font-size=\"14.00\" text-anchor=\"middle\" x=\"197.5\" y=\"-1004.3\">output:</text>\n<polyline fill=\"none\" points=\"226.5,-996.5 226.5,-1042.5 \" stroke=\"#000000\"/>\n<text fill=\"#000000\" font-family=\"Times,serif\" font-size=\"14.00\" text-anchor=\"middle\" x=\"276\" y=\"-1027.3\">(?, 28, 28, 1)</text>\n<polyline fill=\"none\" points=\"226.5,-1019.5 325.5,-1019.5 \" stroke=\"#000000\"/>\n<text fill=\"#000000\" font-family=\"Times,serif\" font-size=\"14.00\" text-anchor=\"middle\" x=\"276\" y=\"-1004.3\">(?, 26, 26, 32)</text>\n</g>\n<!-- 139926320122120&#45;&gt;139926325657496 -->\n<g class=\"edge\" id=\"edge1\">\n<title>139926320122120-&gt;139926325657496</title>\n<path d=\"M188,-1079.3799C188,-1071.1745 188,-1061.7679 188,-1052.8786\" fill=\"none\" stroke=\"#000000\"/>\n<polygon fill=\"#000000\" points=\"191.5001,-1052.784 188,-1042.784 184.5001,-1052.784 191.5001,-1052.784\" stroke=\"#000000\"/>\n</g>\n<!-- 139926325603072 -->\n<g class=\"node\" id=\"node3\">\n<title>139926325603072</title>\n<polygon fill=\"none\" points=\"40,-913.5 40,-959.5 336,-959.5 336,-913.5 40,-913.5\" stroke=\"#000000\"/>\n<text fill=\"#000000\" font-family=\"Times,serif\" font-size=\"14.00\" text-anchor=\"middle\" x=\"109.5\" y=\"-932.8\">activation: Activation</text>\n<polyline fill=\"none\" points=\"179,-913.5 179,-959.5 \" stroke=\"#000000\"/>\n<text fill=\"#000000\" font-family=\"Times,serif\" font-size=\"14.00\" text-anchor=\"middle\" x=\"208\" y=\"-944.3\">input:</text>\n<polyline fill=\"none\" points=\"179,-936.5 237,-936.5 \" stroke=\"#000000\"/>\n<text fill=\"#000000\" font-family=\"Times,serif\" font-size=\"14.00\" text-anchor=\"middle\" x=\"208\" y=\"-921.3\">output:</text>\n<polyline fill=\"none\" points=\"237,-913.5 237,-959.5 \" stroke=\"#000000\"/>\n<text fill=\"#000000\" font-family=\"Times,serif\" font-size=\"14.00\" text-anchor=\"middle\" x=\"286.5\" y=\"-944.3\">(?, 26, 26, 32)</text>\n<polyline fill=\"none\" points=\"237,-936.5 336,-936.5 \" stroke=\"#000000\"/>\n<text fill=\"#000000\" font-family=\"Times,serif\" font-size=\"14.00\" text-anchor=\"middle\" x=\"286.5\" y=\"-921.3\">(?, 26, 26, 32)</text>\n</g>\n<!-- 139926325657496&#45;&gt;139926325603072 -->\n<g class=\"edge\" id=\"edge2\">\n<title>139926325657496-&gt;139926325603072</title>\n<path d=\"M188,-996.3799C188,-988.1745 188,-978.7679 188,-969.8786\" fill=\"none\" stroke=\"#000000\"/>\n<polygon fill=\"#000000\" points=\"191.5001,-969.784 188,-959.784 184.5001,-969.784 191.5001,-969.784\" stroke=\"#000000\"/>\n</g>\n<!-- 139926325603744 -->\n<g class=\"node\" id=\"node4\">\n<title>139926325603744</title>\n<polygon fill=\"none\" points=\"43,-830.5 43,-876.5 333,-876.5 333,-830.5 43,-830.5\" stroke=\"#000000\"/>\n<text fill=\"#000000\" font-family=\"Times,serif\" font-size=\"14.00\" text-anchor=\"middle\" x=\"109.5\" y=\"-849.8\">conv2d_1: Conv2D</text>\n<polyline fill=\"none\" points=\"176,-830.5 176,-876.5 \" stroke=\"#000000\"/>\n<text fill=\"#000000\" font-family=\"Times,serif\" font-size=\"14.00\" text-anchor=\"middle\" x=\"205\" y=\"-861.3\">input:</text>\n<polyline fill=\"none\" points=\"176,-853.5 234,-853.5 \" stroke=\"#000000\"/>\n<text fill=\"#000000\" font-family=\"Times,serif\" font-size=\"14.00\" text-anchor=\"middle\" x=\"205\" y=\"-838.3\">output:</text>\n<polyline fill=\"none\" points=\"234,-830.5 234,-876.5 \" stroke=\"#000000\"/>\n<text fill=\"#000000\" font-family=\"Times,serif\" font-size=\"14.00\" text-anchor=\"middle\" x=\"283.5\" y=\"-861.3\">(?, 26, 26, 32)</text>\n<polyline fill=\"none\" points=\"234,-853.5 333,-853.5 \" stroke=\"#000000\"/>\n<text fill=\"#000000\" font-family=\"Times,serif\" font-size=\"14.00\" text-anchor=\"middle\" x=\"283.5\" y=\"-838.3\">(?, 24, 24, 64)</text>\n</g>\n<!-- 139926325603072&#45;&gt;139926325603744 -->\n<g class=\"edge\" id=\"edge3\">\n<title>139926325603072-&gt;139926325603744</title>\n<path d=\"M188,-913.3799C188,-905.1745 188,-895.7679 188,-886.8786\" fill=\"none\" stroke=\"#000000\"/>\n<polygon fill=\"#000000\" points=\"191.5001,-886.784 188,-876.784 184.5001,-886.784 191.5001,-886.784\" stroke=\"#000000\"/>\n</g>\n<!-- 139928659799568 -->\n<g class=\"node\" id=\"node5\">\n<title>139928659799568</title>\n<polygon fill=\"none\" points=\"32.5,-747.5 32.5,-793.5 343.5,-793.5 343.5,-747.5 32.5,-747.5\" stroke=\"#000000\"/>\n<text fill=\"#000000\" font-family=\"Times,serif\" font-size=\"14.00\" text-anchor=\"middle\" x=\"109.5\" y=\"-766.8\">activation_1: Activation</text>\n<polyline fill=\"none\" points=\"186.5,-747.5 186.5,-793.5 \" stroke=\"#000000\"/>\n<text fill=\"#000000\" font-family=\"Times,serif\" font-size=\"14.00\" text-anchor=\"middle\" x=\"215.5\" y=\"-778.3\">input:</text>\n<polyline fill=\"none\" points=\"186.5,-770.5 244.5,-770.5 \" stroke=\"#000000\"/>\n<text fill=\"#000000\" font-family=\"Times,serif\" font-size=\"14.00\" text-anchor=\"middle\" x=\"215.5\" y=\"-755.3\">output:</text>\n<polyline fill=\"none\" points=\"244.5,-747.5 244.5,-793.5 \" stroke=\"#000000\"/>\n<text fill=\"#000000\" font-family=\"Times,serif\" font-size=\"14.00\" text-anchor=\"middle\" x=\"294\" y=\"-778.3\">(?, 24, 24, 64)</text>\n<polyline fill=\"none\" points=\"244.5,-770.5 343.5,-770.5 \" stroke=\"#000000\"/>\n<text fill=\"#000000\" font-family=\"Times,serif\" font-size=\"14.00\" text-anchor=\"middle\" x=\"294\" y=\"-755.3\">(?, 24, 24, 64)</text>\n</g>\n<!-- 139926325603744&#45;&gt;139928659799568 -->\n<g class=\"edge\" id=\"edge4\">\n<title>139926325603744-&gt;139928659799568</title>\n<path d=\"M188,-830.3799C188,-822.1745 188,-812.7679 188,-803.8786\" fill=\"none\" stroke=\"#000000\"/>\n<polygon fill=\"#000000\" points=\"191.5001,-803.784 188,-793.784 184.5001,-803.784 191.5001,-803.784\" stroke=\"#000000\"/>\n</g>\n<!-- 139926325395976 -->\n<g class=\"node\" id=\"node6\">\n<title>139926325395976</title>\n<polygon fill=\"none\" points=\"6.5,-664.5 6.5,-710.5 369.5,-710.5 369.5,-664.5 6.5,-664.5\" stroke=\"#000000\"/>\n<text fill=\"#000000\" font-family=\"Times,serif\" font-size=\"14.00\" text-anchor=\"middle\" x=\"109.5\" y=\"-683.8\">max_pooling2d: MaxPooling2D</text>\n<polyline fill=\"none\" points=\"212.5,-664.5 212.5,-710.5 \" stroke=\"#000000\"/>\n<text fill=\"#000000\" font-family=\"Times,serif\" font-size=\"14.00\" text-anchor=\"middle\" x=\"241.5\" y=\"-695.3\">input:</text>\n<polyline fill=\"none\" points=\"212.5,-687.5 270.5,-687.5 \" stroke=\"#000000\"/>\n<text fill=\"#000000\" font-family=\"Times,serif\" font-size=\"14.00\" text-anchor=\"middle\" x=\"241.5\" y=\"-672.3\">output:</text>\n<polyline fill=\"none\" points=\"270.5,-664.5 270.5,-710.5 \" stroke=\"#000000\"/>\n<text fill=\"#000000\" font-family=\"Times,serif\" font-size=\"14.00\" text-anchor=\"middle\" x=\"320\" y=\"-695.3\">(?, 24, 24, 64)</text>\n<polyline fill=\"none\" points=\"270.5,-687.5 369.5,-687.5 \" stroke=\"#000000\"/>\n<text fill=\"#000000\" font-family=\"Times,serif\" font-size=\"14.00\" text-anchor=\"middle\" x=\"320\" y=\"-672.3\">(?, 12, 12, 64)</text>\n</g>\n<!-- 139928659799568&#45;&gt;139926325395976 -->\n<g class=\"edge\" id=\"edge5\">\n<title>139928659799568-&gt;139926325395976</title>\n<path d=\"M188,-747.3799C188,-739.1745 188,-729.7679 188,-720.8786\" fill=\"none\" stroke=\"#000000\"/>\n<polygon fill=\"#000000\" points=\"191.5001,-720.784 188,-710.784 184.5001,-720.784 191.5001,-720.784\" stroke=\"#000000\"/>\n</g>\n<!-- 139926325398552 -->\n<g class=\"node\" id=\"node7\">\n<title>139926325398552</title>\n<polygon fill=\"none\" points=\"50,-581.5 50,-627.5 326,-627.5 326,-581.5 50,-581.5\" stroke=\"#000000\"/>\n<text fill=\"#000000\" font-family=\"Times,serif\" font-size=\"14.00\" text-anchor=\"middle\" x=\"109.5\" y=\"-600.8\">dropout: Dropout</text>\n<polyline fill=\"none\" points=\"169,-581.5 169,-627.5 \" stroke=\"#000000\"/>\n<text fill=\"#000000\" font-family=\"Times,serif\" font-size=\"14.00\" text-anchor=\"middle\" x=\"198\" y=\"-612.3\">input:</text>\n<polyline fill=\"none\" points=\"169,-604.5 227,-604.5 \" stroke=\"#000000\"/>\n<text fill=\"#000000\" font-family=\"Times,serif\" font-size=\"14.00\" text-anchor=\"middle\" x=\"198\" y=\"-589.3\">output:</text>\n<polyline fill=\"none\" points=\"227,-581.5 227,-627.5 \" stroke=\"#000000\"/>\n<text fill=\"#000000\" font-family=\"Times,serif\" font-size=\"14.00\" text-anchor=\"middle\" x=\"276.5\" y=\"-612.3\">(?, 12, 12, 64)</text>\n<polyline fill=\"none\" points=\"227,-604.5 326,-604.5 \" stroke=\"#000000\"/>\n<text fill=\"#000000\" font-family=\"Times,serif\" font-size=\"14.00\" text-anchor=\"middle\" x=\"276.5\" y=\"-589.3\">(?, 12, 12, 64)</text>\n</g>\n<!-- 139926325395976&#45;&gt;139926325398552 -->\n<g class=\"edge\" id=\"edge6\">\n<title>139926325395976-&gt;139926325398552</title>\n<path d=\"M188,-664.3799C188,-656.1745 188,-646.7679 188,-637.8786\" fill=\"none\" stroke=\"#000000\"/>\n<polygon fill=\"#000000\" points=\"191.5001,-637.784 188,-627.784 184.5001,-637.784 191.5001,-637.784\" stroke=\"#000000\"/>\n</g>\n<!-- 139926325352824 -->\n<g class=\"node\" id=\"node8\">\n<title>139926325352824</title>\n<polygon fill=\"none\" points=\"60.5,-498.5 60.5,-544.5 315.5,-544.5 315.5,-498.5 60.5,-498.5\" stroke=\"#000000\"/>\n<text fill=\"#000000\" font-family=\"Times,serif\" font-size=\"14.00\" text-anchor=\"middle\" x=\"109.5\" y=\"-517.8\">flatten: Flatten</text>\n<polyline fill=\"none\" points=\"158.5,-498.5 158.5,-544.5 \" stroke=\"#000000\"/>\n<text fill=\"#000000\" font-family=\"Times,serif\" font-size=\"14.00\" text-anchor=\"middle\" x=\"187.5\" y=\"-529.3\">input:</text>\n<polyline fill=\"none\" points=\"158.5,-521.5 216.5,-521.5 \" stroke=\"#000000\"/>\n<text fill=\"#000000\" font-family=\"Times,serif\" font-size=\"14.00\" text-anchor=\"middle\" x=\"187.5\" y=\"-506.3\">output:</text>\n<polyline fill=\"none\" points=\"216.5,-498.5 216.5,-544.5 \" stroke=\"#000000\"/>\n<text fill=\"#000000\" font-family=\"Times,serif\" font-size=\"14.00\" text-anchor=\"middle\" x=\"266\" y=\"-529.3\">(?, 12, 12, 64)</text>\n<polyline fill=\"none\" points=\"216.5,-521.5 315.5,-521.5 \" stroke=\"#000000\"/>\n<text fill=\"#000000\" font-family=\"Times,serif\" font-size=\"14.00\" text-anchor=\"middle\" x=\"266\" y=\"-506.3\">(?, 9216)</text>\n</g>\n<!-- 139926325398552&#45;&gt;139926325352824 -->\n<g class=\"edge\" id=\"edge7\">\n<title>139926325398552-&gt;139926325352824</title>\n<path d=\"M188,-581.3799C188,-573.1745 188,-563.7679 188,-554.8786\" fill=\"none\" stroke=\"#000000\"/>\n<polygon fill=\"#000000\" points=\"191.5001,-554.784 188,-544.784 184.5001,-554.784 191.5001,-554.784\" stroke=\"#000000\"/>\n</g>\n<!-- 139926325351256 -->\n<g class=\"node\" id=\"node9\">\n<title>139926325351256</title>\n<polygon fill=\"none\" points=\"78.5,-415.5 78.5,-461.5 297.5,-461.5 297.5,-415.5 78.5,-415.5\" stroke=\"#000000\"/>\n<text fill=\"#000000\" font-family=\"Times,serif\" font-size=\"14.00\" text-anchor=\"middle\" x=\"124.5\" y=\"-434.8\">dense: Dense</text>\n<polyline fill=\"none\" points=\"170.5,-415.5 170.5,-461.5 \" stroke=\"#000000\"/>\n<text fill=\"#000000\" font-family=\"Times,serif\" font-size=\"14.00\" text-anchor=\"middle\" x=\"199.5\" y=\"-446.3\">input:</text>\n<polyline fill=\"none\" points=\"170.5,-438.5 228.5,-438.5 \" stroke=\"#000000\"/>\n<text fill=\"#000000\" font-family=\"Times,serif\" font-size=\"14.00\" text-anchor=\"middle\" x=\"199.5\" y=\"-423.3\">output:</text>\n<polyline fill=\"none\" points=\"228.5,-415.5 228.5,-461.5 \" stroke=\"#000000\"/>\n<text fill=\"#000000\" font-family=\"Times,serif\" font-size=\"14.00\" text-anchor=\"middle\" x=\"263\" y=\"-446.3\">(?, 9216)</text>\n<polyline fill=\"none\" points=\"228.5,-438.5 297.5,-438.5 \" stroke=\"#000000\"/>\n<text fill=\"#000000\" font-family=\"Times,serif\" font-size=\"14.00\" text-anchor=\"middle\" x=\"263\" y=\"-423.3\">(?, 128)</text>\n</g>\n<!-- 139926325352824&#45;&gt;139926325351256 -->\n<g class=\"edge\" id=\"edge8\">\n<title>139926325352824-&gt;139926325351256</title>\n<path d=\"M188,-498.3799C188,-490.1745 188,-480.7679 188,-471.8786\" fill=\"none\" stroke=\"#000000\"/>\n<polygon fill=\"#000000\" points=\"191.5001,-471.784 188,-461.784 184.5001,-471.784 191.5001,-471.784\" stroke=\"#000000\"/>\n</g>\n<!-- 139929011101088 -->\n<g class=\"node\" id=\"node10\">\n<title>139929011101088</title>\n<polygon fill=\"none\" points=\"0,-332.5 0,-378.5 376,-378.5 376,-332.5 0,-332.5\" stroke=\"#000000\"/>\n<text fill=\"#000000\" font-family=\"Times,serif\" font-size=\"14.00\" text-anchor=\"middle\" x=\"128\" y=\"-351.8\">batch_normalization: BatchNormalization</text>\n<polyline fill=\"none\" points=\"256,-332.5 256,-378.5 \" stroke=\"#000000\"/>\n<text fill=\"#000000\" font-family=\"Times,serif\" font-size=\"14.00\" text-anchor=\"middle\" x=\"285\" y=\"-363.3\">input:</text>\n<polyline fill=\"none\" points=\"256,-355.5 314,-355.5 \" stroke=\"#000000\"/>\n<text fill=\"#000000\" font-family=\"Times,serif\" font-size=\"14.00\" text-anchor=\"middle\" x=\"285\" y=\"-340.3\">output:</text>\n<polyline fill=\"none\" points=\"314,-332.5 314,-378.5 \" stroke=\"#000000\"/>\n<text fill=\"#000000\" font-family=\"Times,serif\" font-size=\"14.00\" text-anchor=\"middle\" x=\"345\" y=\"-363.3\">(?, 128)</text>\n<polyline fill=\"none\" points=\"314,-355.5 376,-355.5 \" stroke=\"#000000\"/>\n<text fill=\"#000000\" font-family=\"Times,serif\" font-size=\"14.00\" text-anchor=\"middle\" x=\"345\" y=\"-340.3\">(?, 128)</text>\n</g>\n<!-- 139926325351256&#45;&gt;139929011101088 -->\n<g class=\"edge\" id=\"edge9\">\n<title>139926325351256-&gt;139929011101088</title>\n<path d=\"M188,-415.3799C188,-407.1745 188,-397.7679 188,-388.8786\" fill=\"none\" stroke=\"#000000\"/>\n<polygon fill=\"#000000\" points=\"191.5001,-388.784 188,-378.784 184.5001,-388.784 191.5001,-388.784\" stroke=\"#000000\"/>\n</g>\n<!-- 139928659618392 -->\n<g class=\"node\" id=\"node11\">\n<title>139928659618392</title>\n<polygon fill=\"none\" points=\"51,-249.5 51,-295.5 325,-295.5 325,-249.5 51,-249.5\" stroke=\"#000000\"/>\n<text fill=\"#000000\" font-family=\"Times,serif\" font-size=\"14.00\" text-anchor=\"middle\" x=\"128\" y=\"-268.8\">activation_2: Activation</text>\n<polyline fill=\"none\" points=\"205,-249.5 205,-295.5 \" stroke=\"#000000\"/>\n<text fill=\"#000000\" font-family=\"Times,serif\" font-size=\"14.00\" text-anchor=\"middle\" x=\"234\" y=\"-280.3\">input:</text>\n<polyline fill=\"none\" points=\"205,-272.5 263,-272.5 \" stroke=\"#000000\"/>\n<text fill=\"#000000\" font-family=\"Times,serif\" font-size=\"14.00\" text-anchor=\"middle\" x=\"234\" y=\"-257.3\">output:</text>\n<polyline fill=\"none\" points=\"263,-249.5 263,-295.5 \" stroke=\"#000000\"/>\n<text fill=\"#000000\" font-family=\"Times,serif\" font-size=\"14.00\" text-anchor=\"middle\" x=\"294\" y=\"-280.3\">(?, 128)</text>\n<polyline fill=\"none\" points=\"263,-272.5 325,-272.5 \" stroke=\"#000000\"/>\n<text fill=\"#000000\" font-family=\"Times,serif\" font-size=\"14.00\" text-anchor=\"middle\" x=\"294\" y=\"-257.3\">(?, 128)</text>\n</g>\n<!-- 139929011101088&#45;&gt;139928659618392 -->\n<g class=\"edge\" id=\"edge10\">\n<title>139929011101088-&gt;139928659618392</title>\n<path d=\"M188,-332.3799C188,-324.1745 188,-314.7679 188,-305.8786\" fill=\"none\" stroke=\"#000000\"/>\n<polygon fill=\"#000000\" points=\"191.5001,-305.784 188,-295.784 184.5001,-305.784 191.5001,-305.784\" stroke=\"#000000\"/>\n</g>\n<!-- 139926324911240 -->\n<g class=\"node\" id=\"node12\">\n<title>139926324911240</title>\n<polygon fill=\"none\" points=\"61,-166.5 61,-212.5 315,-212.5 315,-166.5 61,-166.5\" stroke=\"#000000\"/>\n<text fill=\"#000000\" font-family=\"Times,serif\" font-size=\"14.00\" text-anchor=\"middle\" x=\"128\" y=\"-185.8\">dropout_1: Dropout</text>\n<polyline fill=\"none\" points=\"195,-166.5 195,-212.5 \" stroke=\"#000000\"/>\n<text fill=\"#000000\" font-family=\"Times,serif\" font-size=\"14.00\" text-anchor=\"middle\" x=\"224\" y=\"-197.3\">input:</text>\n<polyline fill=\"none\" points=\"195,-189.5 253,-189.5 \" stroke=\"#000000\"/>\n<text fill=\"#000000\" font-family=\"Times,serif\" font-size=\"14.00\" text-anchor=\"middle\" x=\"224\" y=\"-174.3\">output:</text>\n<polyline fill=\"none\" points=\"253,-166.5 253,-212.5 \" stroke=\"#000000\"/>\n<text fill=\"#000000\" font-family=\"Times,serif\" font-size=\"14.00\" text-anchor=\"middle\" x=\"284\" y=\"-197.3\">(?, 128)</text>\n<polyline fill=\"none\" points=\"253,-189.5 315,-189.5 \" stroke=\"#000000\"/>\n<text fill=\"#000000\" font-family=\"Times,serif\" font-size=\"14.00\" text-anchor=\"middle\" x=\"284\" y=\"-174.3\">(?, 128)</text>\n</g>\n<!-- 139928659618392&#45;&gt;139926324911240 -->\n<g class=\"edge\" id=\"edge11\">\n<title>139928659618392-&gt;139926324911240</title>\n<path d=\"M188,-249.3799C188,-241.1745 188,-231.7679 188,-222.8786\" fill=\"none\" stroke=\"#000000\"/>\n<polygon fill=\"#000000\" points=\"191.5001,-222.784 188,-212.784 184.5001,-222.784 191.5001,-222.784\" stroke=\"#000000\"/>\n</g>\n<!-- 139926324912024 -->\n<g class=\"node\" id=\"node13\">\n<title>139926324912024</title>\n<polygon fill=\"none\" points=\"74.5,-83.5 74.5,-129.5 301.5,-129.5 301.5,-83.5 74.5,-83.5\" stroke=\"#000000\"/>\n<text fill=\"#000000\" font-family=\"Times,serif\" font-size=\"14.00\" text-anchor=\"middle\" x=\"128\" y=\"-102.8\">dense_1: Dense</text>\n<polyline fill=\"none\" points=\"181.5,-83.5 181.5,-129.5 \" stroke=\"#000000\"/>\n<text fill=\"#000000\" font-family=\"Times,serif\" font-size=\"14.00\" text-anchor=\"middle\" x=\"210.5\" y=\"-114.3\">input:</text>\n<polyline fill=\"none\" points=\"181.5,-106.5 239.5,-106.5 \" stroke=\"#000000\"/>\n<text fill=\"#000000\" font-family=\"Times,serif\" font-size=\"14.00\" text-anchor=\"middle\" x=\"210.5\" y=\"-91.3\">output:</text>\n<polyline fill=\"none\" points=\"239.5,-83.5 239.5,-129.5 \" stroke=\"#000000\"/>\n<text fill=\"#000000\" font-family=\"Times,serif\" font-size=\"14.00\" text-anchor=\"middle\" x=\"270.5\" y=\"-114.3\">(?, 128)</text>\n<polyline fill=\"none\" points=\"239.5,-106.5 301.5,-106.5 \" stroke=\"#000000\"/>\n<text fill=\"#000000\" font-family=\"Times,serif\" font-size=\"14.00\" text-anchor=\"middle\" x=\"270.5\" y=\"-91.3\">(?, 32)</text>\n</g>\n<!-- 139926324911240&#45;&gt;139926324912024 -->\n<g class=\"edge\" id=\"edge12\">\n<title>139926324911240-&gt;139926324912024</title>\n<path d=\"M188,-166.3799C188,-158.1745 188,-148.7679 188,-139.8786\" fill=\"none\" stroke=\"#000000\"/>\n<polygon fill=\"#000000\" points=\"191.5001,-139.784 188,-129.784 184.5001,-139.784 191.5001,-139.784\" stroke=\"#000000\"/>\n</g>\n<!-- 139926320120384 -->\n<g class=\"node\" id=\"node14\">\n<title>139926320120384</title>\n<polygon fill=\"none\" points=\"78.5,-.5 78.5,-46.5 297.5,-46.5 297.5,-.5 78.5,-.5\" stroke=\"#000000\"/>\n<text fill=\"#000000\" font-family=\"Times,serif\" font-size=\"14.00\" text-anchor=\"middle\" x=\"132\" y=\"-19.8\">dense_2: Dense</text>\n<polyline fill=\"none\" points=\"185.5,-.5 185.5,-46.5 \" stroke=\"#000000\"/>\n<text fill=\"#000000\" font-family=\"Times,serif\" font-size=\"14.00\" text-anchor=\"middle\" x=\"214.5\" y=\"-31.3\">input:</text>\n<polyline fill=\"none\" points=\"185.5,-23.5 243.5,-23.5 \" stroke=\"#000000\"/>\n<text fill=\"#000000\" font-family=\"Times,serif\" font-size=\"14.00\" text-anchor=\"middle\" x=\"214.5\" y=\"-8.3\">output:</text>\n<polyline fill=\"none\" points=\"243.5,-.5 243.5,-46.5 \" stroke=\"#000000\"/>\n<text fill=\"#000000\" font-family=\"Times,serif\" font-size=\"14.00\" text-anchor=\"middle\" x=\"270.5\" y=\"-31.3\">(?, 32)</text>\n<polyline fill=\"none\" points=\"243.5,-23.5 297.5,-23.5 \" stroke=\"#000000\"/>\n<text fill=\"#000000\" font-family=\"Times,serif\" font-size=\"14.00\" text-anchor=\"middle\" x=\"270.5\" y=\"-8.3\">(?, 10)</text>\n</g>\n<!-- 139926324912024&#45;&gt;139926320120384 -->\n<g class=\"edge\" id=\"edge13\">\n<title>139926324912024-&gt;139926320120384</title>\n<path d=\"M188,-83.3799C188,-75.1745 188,-65.7679 188,-56.8786\" fill=\"none\" stroke=\"#000000\"/>\n<polygon fill=\"#000000\" points=\"191.5001,-56.784 188,-46.784 184.5001,-56.784 191.5001,-56.784\" stroke=\"#000000\"/>\n</g>\n</g>\n</svg>"
          },
          "metadata": {
            "tags": []
          },
          "execution_count": 14
        }
      ]
    },
    {
      "cell_type": "code",
      "metadata": {
        "id": "rHmCPSKrhNhb",
        "colab_type": "code",
        "outputId": "413f0c6e-29d7-4803-8f78-dcac99b4a39a",
        "colab": {
          "base_uri": "https://localhost:8080/",
          "height": 63
        }
      },
      "source": [
        "!mkdir log"
      ],
      "execution_count": 15,
      "outputs": [
        {
          "output_type": "stream",
          "text": [
            "mkdir: cannot create directory ‘log’: File exists\n"
          ],
          "name": "stdout"
        }
      ]
    },
    {
      "cell_type": "code",
      "metadata": {
        "id": "Y67ATRdYLME9",
        "colab_type": "code",
        "colab": {}
      },
      "source": [
        "callbacks = [#EarlyStopping(monitor='val_loss', patience=30, restore_best_weights=True), #stop training if there is no improvement\n",
        "                   ModelCheckpoint('./log/model_{epoch:03d}_{val_loss:.4f}.h5', save_best_only=True) #save models\n",
        "                   ]"
      ],
      "execution_count": 0,
      "outputs": []
    },
    {
      "cell_type": "code",
      "metadata": {
        "id": "uOUjfKTHNyhh",
        "colab_type": "code",
        "outputId": "de1e582b-5b64-4a5b-b35d-5d3d8defbe05",
        "colab": {
          "base_uri": "https://localhost:8080/",
          "height": 1000
        }
      },
      "source": [
        "history = model.fit(X_train, y_train_onehot, epochs=100, batch_size=32, validation_split=0.1, callbacks=callbacks)"
      ],
      "execution_count": 17,
      "outputs": [
        {
          "output_type": "stream",
          "text": [
            "Epoch 1/100\n",
            "1575/1575 [==============================] - 7s 5ms/step - loss: 0.4318 - accuracy: 0.8757 - val_loss: 0.1612 - val_accuracy: 0.9561\n",
            "Epoch 2/100\n",
            "1575/1575 [==============================] - 7s 4ms/step - loss: 0.2015 - accuracy: 0.9422 - val_loss: 0.1091 - val_accuracy: 0.9684\n",
            "Epoch 3/100\n",
            "1575/1575 [==============================] - 7s 4ms/step - loss: 0.1540 - accuracy: 0.9557 - val_loss: 0.0938 - val_accuracy: 0.9746\n",
            "Epoch 4/100\n",
            "1575/1575 [==============================] - 7s 5ms/step - loss: 0.1302 - accuracy: 0.9610 - val_loss: 0.0777 - val_accuracy: 0.9770\n",
            "Epoch 5/100\n",
            "1575/1575 [==============================] - 7s 4ms/step - loss: 0.1148 - accuracy: 0.9659 - val_loss: 0.0709 - val_accuracy: 0.9784\n",
            "Epoch 6/100\n",
            "1575/1575 [==============================] - 7s 4ms/step - loss: 0.1033 - accuracy: 0.9688 - val_loss: 0.0666 - val_accuracy: 0.9796\n",
            "Epoch 7/100\n",
            "1575/1575 [==============================] - 7s 4ms/step - loss: 0.0961 - accuracy: 0.9706 - val_loss: 0.0632 - val_accuracy: 0.9818\n",
            "Epoch 8/100\n",
            "1575/1575 [==============================] - 7s 4ms/step - loss: 0.0889 - accuracy: 0.9729 - val_loss: 0.0599 - val_accuracy: 0.9829\n",
            "Epoch 9/100\n",
            "1575/1575 [==============================] - 7s 4ms/step - loss: 0.0857 - accuracy: 0.9737 - val_loss: 0.0595 - val_accuracy: 0.9832\n",
            "Epoch 10/100\n",
            "1575/1575 [==============================] - 7s 4ms/step - loss: 0.0805 - accuracy: 0.9750 - val_loss: 0.0584 - val_accuracy: 0.9843\n",
            "Epoch 11/100\n",
            "1575/1575 [==============================] - 7s 4ms/step - loss: 0.0773 - accuracy: 0.9758 - val_loss: 0.0554 - val_accuracy: 0.9839\n",
            "Epoch 12/100\n",
            "1575/1575 [==============================] - 7s 4ms/step - loss: 0.0754 - accuracy: 0.9767 - val_loss: 0.0547 - val_accuracy: 0.9850\n",
            "Epoch 13/100\n",
            "1575/1575 [==============================] - 7s 4ms/step - loss: 0.0737 - accuracy: 0.9767 - val_loss: 0.0545 - val_accuracy: 0.9841\n",
            "Epoch 14/100\n",
            "1575/1575 [==============================] - 7s 4ms/step - loss: 0.0687 - accuracy: 0.9782 - val_loss: 0.0528 - val_accuracy: 0.9852\n",
            "Epoch 15/100\n",
            "1575/1575 [==============================] - 7s 4ms/step - loss: 0.0650 - accuracy: 0.9800 - val_loss: 0.0522 - val_accuracy: 0.9848\n",
            "Epoch 16/100\n",
            "1575/1575 [==============================] - 7s 4ms/step - loss: 0.0649 - accuracy: 0.9796 - val_loss: 0.0530 - val_accuracy: 0.9846\n",
            "Epoch 17/100\n",
            "1575/1575 [==============================] - 7s 4ms/step - loss: 0.0615 - accuracy: 0.9803 - val_loss: 0.0505 - val_accuracy: 0.9843\n",
            "Epoch 18/100\n",
            "1575/1575 [==============================] - 7s 4ms/step - loss: 0.0621 - accuracy: 0.9804 - val_loss: 0.0516 - val_accuracy: 0.9848\n",
            "Epoch 19/100\n",
            "1575/1575 [==============================] - 7s 4ms/step - loss: 0.0593 - accuracy: 0.9811 - val_loss: 0.0500 - val_accuracy: 0.9846\n",
            "Epoch 20/100\n",
            "1575/1575 [==============================] - 7s 5ms/step - loss: 0.0563 - accuracy: 0.9822 - val_loss: 0.0495 - val_accuracy: 0.9839\n",
            "Epoch 21/100\n",
            "1575/1575 [==============================] - 7s 5ms/step - loss: 0.0579 - accuracy: 0.9819 - val_loss: 0.0484 - val_accuracy: 0.9857\n",
            "Epoch 22/100\n",
            "1575/1575 [==============================] - 7s 4ms/step - loss: 0.0542 - accuracy: 0.9830 - val_loss: 0.0508 - val_accuracy: 0.9854\n",
            "Epoch 23/100\n",
            "1575/1575 [==============================] - 7s 4ms/step - loss: 0.0526 - accuracy: 0.9830 - val_loss: 0.0518 - val_accuracy: 0.9837\n",
            "Epoch 24/100\n",
            "1575/1575 [==============================] - 7s 4ms/step - loss: 0.0520 - accuracy: 0.9830 - val_loss: 0.0508 - val_accuracy: 0.9836\n",
            "Epoch 25/100\n",
            "1575/1575 [==============================] - 7s 4ms/step - loss: 0.0514 - accuracy: 0.9832 - val_loss: 0.0487 - val_accuracy: 0.9834\n",
            "Epoch 26/100\n",
            "1575/1575 [==============================] - 7s 4ms/step - loss: 0.0498 - accuracy: 0.9833 - val_loss: 0.0480 - val_accuracy: 0.9852\n",
            "Epoch 27/100\n",
            "1575/1575 [==============================] - 7s 4ms/step - loss: 0.0486 - accuracy: 0.9840 - val_loss: 0.0476 - val_accuracy: 0.9852\n",
            "Epoch 28/100\n",
            "1575/1575 [==============================] - 7s 4ms/step - loss: 0.0474 - accuracy: 0.9846 - val_loss: 0.0506 - val_accuracy: 0.9839\n",
            "Epoch 29/100\n",
            "1575/1575 [==============================] - 7s 4ms/step - loss: 0.0475 - accuracy: 0.9844 - val_loss: 0.0490 - val_accuracy: 0.9845\n",
            "Epoch 30/100\n",
            "1575/1575 [==============================] - 7s 4ms/step - loss: 0.0470 - accuracy: 0.9847 - val_loss: 0.0476 - val_accuracy: 0.9854\n",
            "Epoch 31/100\n",
            "1575/1575 [==============================] - 7s 4ms/step - loss: 0.0440 - accuracy: 0.9855 - val_loss: 0.0472 - val_accuracy: 0.9857\n",
            "Epoch 32/100\n",
            "1575/1575 [==============================] - 7s 4ms/step - loss: 0.0436 - accuracy: 0.9863 - val_loss: 0.0472 - val_accuracy: 0.9861\n",
            "Epoch 33/100\n",
            "1575/1575 [==============================] - 7s 4ms/step - loss: 0.0429 - accuracy: 0.9862 - val_loss: 0.0467 - val_accuracy: 0.9864\n",
            "Epoch 34/100\n",
            "1575/1575 [==============================] - 7s 4ms/step - loss: 0.0417 - accuracy: 0.9869 - val_loss: 0.0468 - val_accuracy: 0.9855\n",
            "Epoch 35/100\n",
            "1575/1575 [==============================] - 7s 4ms/step - loss: 0.0427 - accuracy: 0.9856 - val_loss: 0.0481 - val_accuracy: 0.9855\n",
            "Epoch 36/100\n",
            "1575/1575 [==============================] - 7s 4ms/step - loss: 0.0393 - accuracy: 0.9872 - val_loss: 0.0496 - val_accuracy: 0.9848\n",
            "Epoch 37/100\n",
            "1575/1575 [==============================] - 7s 5ms/step - loss: 0.0407 - accuracy: 0.9865 - val_loss: 0.0465 - val_accuracy: 0.9864\n",
            "Epoch 38/100\n",
            "1575/1575 [==============================] - 7s 4ms/step - loss: 0.0396 - accuracy: 0.9872 - val_loss: 0.0470 - val_accuracy: 0.9855\n",
            "Epoch 39/100\n",
            "1575/1575 [==============================] - 7s 4ms/step - loss: 0.0385 - accuracy: 0.9873 - val_loss: 0.0450 - val_accuracy: 0.9861\n",
            "Epoch 40/100\n",
            "1575/1575 [==============================] - 7s 4ms/step - loss: 0.0385 - accuracy: 0.9872 - val_loss: 0.0450 - val_accuracy: 0.9862\n",
            "Epoch 41/100\n",
            "1575/1575 [==============================] - 7s 4ms/step - loss: 0.0383 - accuracy: 0.9875 - val_loss: 0.0467 - val_accuracy: 0.9862\n",
            "Epoch 42/100\n",
            "1575/1575 [==============================] - 7s 4ms/step - loss: 0.0367 - accuracy: 0.9876 - val_loss: 0.0467 - val_accuracy: 0.9861\n",
            "Epoch 43/100\n",
            "1575/1575 [==============================] - 7s 4ms/step - loss: 0.0361 - accuracy: 0.9882 - val_loss: 0.0473 - val_accuracy: 0.9850\n",
            "Epoch 44/100\n",
            "1575/1575 [==============================] - 7s 4ms/step - loss: 0.0333 - accuracy: 0.9892 - val_loss: 0.0461 - val_accuracy: 0.9859\n",
            "Epoch 45/100\n",
            "1575/1575 [==============================] - 7s 4ms/step - loss: 0.0352 - accuracy: 0.9883 - val_loss: 0.0455 - val_accuracy: 0.9859\n",
            "Epoch 46/100\n",
            "1575/1575 [==============================] - 7s 4ms/step - loss: 0.0332 - accuracy: 0.9883 - val_loss: 0.0456 - val_accuracy: 0.9866\n",
            "Epoch 47/100\n",
            "1575/1575 [==============================] - 7s 5ms/step - loss: 0.0332 - accuracy: 0.9890 - val_loss: 0.0470 - val_accuracy: 0.9854\n",
            "Epoch 48/100\n",
            "1575/1575 [==============================] - 7s 4ms/step - loss: 0.0336 - accuracy: 0.9890 - val_loss: 0.0466 - val_accuracy: 0.9861\n",
            "Epoch 49/100\n",
            "1575/1575 [==============================] - 7s 4ms/step - loss: 0.0314 - accuracy: 0.9895 - val_loss: 0.0475 - val_accuracy: 0.9857\n",
            "Epoch 50/100\n",
            "1575/1575 [==============================] - 7s 5ms/step - loss: 0.0311 - accuracy: 0.9895 - val_loss: 0.0472 - val_accuracy: 0.9864\n",
            "Epoch 51/100\n",
            "1575/1575 [==============================] - 7s 4ms/step - loss: 0.0322 - accuracy: 0.9891 - val_loss: 0.0478 - val_accuracy: 0.9854\n",
            "Epoch 52/100\n",
            "1575/1575 [==============================] - 7s 4ms/step - loss: 0.0315 - accuracy: 0.9896 - val_loss: 0.0457 - val_accuracy: 0.9864\n",
            "Epoch 53/100\n",
            "1575/1575 [==============================] - 7s 4ms/step - loss: 0.0310 - accuracy: 0.9892 - val_loss: 0.0466 - val_accuracy: 0.9852\n",
            "Epoch 54/100\n",
            "1575/1575 [==============================] - 7s 5ms/step - loss: 0.0310 - accuracy: 0.9897 - val_loss: 0.0449 - val_accuracy: 0.9875\n",
            "Epoch 55/100\n",
            "1575/1575 [==============================] - 7s 4ms/step - loss: 0.0279 - accuracy: 0.9908 - val_loss: 0.0461 - val_accuracy: 0.9864\n",
            "Epoch 56/100\n",
            "1575/1575 [==============================] - 7s 5ms/step - loss: 0.0292 - accuracy: 0.9899 - val_loss: 0.0503 - val_accuracy: 0.9837\n",
            "Epoch 57/100\n",
            "1575/1575 [==============================] - 7s 4ms/step - loss: 0.0293 - accuracy: 0.9903 - val_loss: 0.0469 - val_accuracy: 0.9848\n",
            "Epoch 58/100\n",
            "1575/1575 [==============================] - 7s 4ms/step - loss: 0.0295 - accuracy: 0.9903 - val_loss: 0.0469 - val_accuracy: 0.9846\n",
            "Epoch 59/100\n",
            "1575/1575 [==============================] - 7s 4ms/step - loss: 0.0302 - accuracy: 0.9900 - val_loss: 0.0456 - val_accuracy: 0.9850\n",
            "Epoch 60/100\n",
            "1575/1575 [==============================] - 7s 4ms/step - loss: 0.0289 - accuracy: 0.9904 - val_loss: 0.0485 - val_accuracy: 0.9850\n",
            "Epoch 61/100\n",
            "1575/1575 [==============================] - 7s 4ms/step - loss: 0.0273 - accuracy: 0.9910 - val_loss: 0.0473 - val_accuracy: 0.9859\n",
            "Epoch 62/100\n",
            "1575/1575 [==============================] - 7s 4ms/step - loss: 0.0276 - accuracy: 0.9908 - val_loss: 0.0488 - val_accuracy: 0.9850\n",
            "Epoch 63/100\n",
            "1575/1575 [==============================] - 7s 4ms/step - loss: 0.0264 - accuracy: 0.9908 - val_loss: 0.0448 - val_accuracy: 0.9859\n",
            "Epoch 64/100\n",
            "1575/1575 [==============================] - 7s 5ms/step - loss: 0.0260 - accuracy: 0.9911 - val_loss: 0.0453 - val_accuracy: 0.9866\n",
            "Epoch 65/100\n",
            "1575/1575 [==============================] - 7s 5ms/step - loss: 0.0259 - accuracy: 0.9909 - val_loss: 0.0472 - val_accuracy: 0.9859\n",
            "Epoch 66/100\n",
            "1575/1575 [==============================] - 7s 4ms/step - loss: 0.0263 - accuracy: 0.9915 - val_loss: 0.0450 - val_accuracy: 0.9861\n",
            "Epoch 67/100\n",
            "1575/1575 [==============================] - 7s 4ms/step - loss: 0.0257 - accuracy: 0.9911 - val_loss: 0.0462 - val_accuracy: 0.9854\n",
            "Epoch 68/100\n",
            "1575/1575 [==============================] - 7s 4ms/step - loss: 0.0248 - accuracy: 0.9917 - val_loss: 0.0444 - val_accuracy: 0.9868\n",
            "Epoch 69/100\n",
            "1575/1575 [==============================] - 7s 4ms/step - loss: 0.0252 - accuracy: 0.9918 - val_loss: 0.0441 - val_accuracy: 0.9866\n",
            "Epoch 70/100\n",
            "1575/1575 [==============================] - 7s 4ms/step - loss: 0.0252 - accuracy: 0.9915 - val_loss: 0.0452 - val_accuracy: 0.9866\n",
            "Epoch 71/100\n",
            "1575/1575 [==============================] - 7s 4ms/step - loss: 0.0239 - accuracy: 0.9919 - val_loss: 0.0476 - val_accuracy: 0.9855\n",
            "Epoch 72/100\n",
            "1575/1575 [==============================] - 7s 4ms/step - loss: 0.0238 - accuracy: 0.9921 - val_loss: 0.0454 - val_accuracy: 0.9857\n",
            "Epoch 73/100\n",
            "1575/1575 [==============================] - 7s 4ms/step - loss: 0.0231 - accuracy: 0.9920 - val_loss: 0.0451 - val_accuracy: 0.9864\n",
            "Epoch 74/100\n",
            "1575/1575 [==============================] - 7s 4ms/step - loss: 0.0234 - accuracy: 0.9920 - val_loss: 0.0457 - val_accuracy: 0.9855\n",
            "Epoch 75/100\n",
            "1575/1575 [==============================] - 7s 4ms/step - loss: 0.0230 - accuracy: 0.9924 - val_loss: 0.0495 - val_accuracy: 0.9841\n",
            "Epoch 76/100\n",
            "1575/1575 [==============================] - 7s 4ms/step - loss: 0.0236 - accuracy: 0.9924 - val_loss: 0.0463 - val_accuracy: 0.9864\n",
            "Epoch 77/100\n",
            "1575/1575 [==============================] - 7s 4ms/step - loss: 0.0222 - accuracy: 0.9926 - val_loss: 0.0468 - val_accuracy: 0.9855\n",
            "Epoch 78/100\n",
            "1575/1575 [==============================] - 7s 4ms/step - loss: 0.0219 - accuracy: 0.9928 - val_loss: 0.0470 - val_accuracy: 0.9864\n",
            "Epoch 79/100\n",
            "1575/1575 [==============================] - 7s 4ms/step - loss: 0.0224 - accuracy: 0.9926 - val_loss: 0.0468 - val_accuracy: 0.9868\n",
            "Epoch 80/100\n",
            "1575/1575 [==============================] - 7s 4ms/step - loss: 0.0243 - accuracy: 0.9917 - val_loss: 0.0485 - val_accuracy: 0.9857\n",
            "Epoch 81/100\n",
            "1575/1575 [==============================] - 7s 4ms/step - loss: 0.0223 - accuracy: 0.9925 - val_loss: 0.0496 - val_accuracy: 0.9857\n",
            "Epoch 82/100\n",
            "1575/1575 [==============================] - 7s 4ms/step - loss: 0.0212 - accuracy: 0.9927 - val_loss: 0.0474 - val_accuracy: 0.9855\n",
            "Epoch 83/100\n",
            "1575/1575 [==============================] - 7s 4ms/step - loss: 0.0230 - accuracy: 0.9920 - val_loss: 0.0481 - val_accuracy: 0.9848\n",
            "Epoch 84/100\n",
            "1575/1575 [==============================] - 7s 5ms/step - loss: 0.0215 - accuracy: 0.9928 - val_loss: 0.0466 - val_accuracy: 0.9852\n",
            "Epoch 85/100\n",
            "1575/1575 [==============================] - 7s 4ms/step - loss: 0.0210 - accuracy: 0.9930 - val_loss: 0.0492 - val_accuracy: 0.9862\n",
            "Epoch 86/100\n",
            "1575/1575 [==============================] - 7s 4ms/step - loss: 0.0213 - accuracy: 0.9931 - val_loss: 0.0483 - val_accuracy: 0.9852\n",
            "Epoch 87/100\n",
            "1575/1575 [==============================] - 7s 4ms/step - loss: 0.0209 - accuracy: 0.9929 - val_loss: 0.0466 - val_accuracy: 0.9859\n",
            "Epoch 88/100\n",
            "1575/1575 [==============================] - 7s 4ms/step - loss: 0.0198 - accuracy: 0.9936 - val_loss: 0.0484 - val_accuracy: 0.9854\n",
            "Epoch 89/100\n",
            "1575/1575 [==============================] - 7s 4ms/step - loss: 0.0207 - accuracy: 0.9928 - val_loss: 0.0502 - val_accuracy: 0.9861\n",
            "Epoch 90/100\n",
            "1575/1575 [==============================] - 7s 5ms/step - loss: 0.0193 - accuracy: 0.9935 - val_loss: 0.0484 - val_accuracy: 0.9864\n",
            "Epoch 91/100\n",
            "1575/1575 [==============================] - 7s 5ms/step - loss: 0.0208 - accuracy: 0.9932 - val_loss: 0.0490 - val_accuracy: 0.9861\n",
            "Epoch 92/100\n",
            "1575/1575 [==============================] - 7s 4ms/step - loss: 0.0200 - accuracy: 0.9935 - val_loss: 0.0473 - val_accuracy: 0.9864\n",
            "Epoch 93/100\n",
            "1575/1575 [==============================] - 7s 4ms/step - loss: 0.0182 - accuracy: 0.9940 - val_loss: 0.0483 - val_accuracy: 0.9862\n",
            "Epoch 94/100\n",
            "1575/1575 [==============================] - 7s 4ms/step - loss: 0.0184 - accuracy: 0.9940 - val_loss: 0.0472 - val_accuracy: 0.9864\n",
            "Epoch 95/100\n",
            "1575/1575 [==============================] - 7s 4ms/step - loss: 0.0201 - accuracy: 0.9932 - val_loss: 0.0489 - val_accuracy: 0.9862\n",
            "Epoch 96/100\n",
            "1575/1575 [==============================] - 7s 4ms/step - loss: 0.0185 - accuracy: 0.9937 - val_loss: 0.0478 - val_accuracy: 0.9857\n",
            "Epoch 97/100\n",
            "1575/1575 [==============================] - 7s 4ms/step - loss: 0.0166 - accuracy: 0.9945 - val_loss: 0.0483 - val_accuracy: 0.9859\n",
            "Epoch 98/100\n",
            "1575/1575 [==============================] - 7s 4ms/step - loss: 0.0165 - accuracy: 0.9942 - val_loss: 0.0484 - val_accuracy: 0.9864\n",
            "Epoch 99/100\n",
            "1575/1575 [==============================] - 7s 4ms/step - loss: 0.0191 - accuracy: 0.9937 - val_loss: 0.0499 - val_accuracy: 0.9848\n",
            "Epoch 100/100\n",
            "1575/1575 [==============================] - 7s 4ms/step - loss: 0.0181 - accuracy: 0.9940 - val_loss: 0.0565 - val_accuracy: 0.9836\n"
          ],
          "name": "stdout"
        }
      ]
    },
    {
      "cell_type": "code",
      "metadata": {
        "id": "DgH_gEwmbEEw",
        "colab_type": "code",
        "colab": {}
      },
      "source": [
        "def plot_loss_and_accuracy(history):\n",
        "  plt.figure(figsize=(12, 4))\n",
        "  plt.subplot(121)\n",
        "  plt.plot(history.epoch, history.history[\"accuracy\"], label=\"train_accuracy\")\n",
        "  plt.plot(history.epoch, history.history[\"val_accuracy\"], label=\"val_accuracy\")\n",
        "  plt.xlabel(\"epoch\")\n",
        "  plt.legend()\n",
        "\n",
        "  plt.subplot(122)\n",
        "  plt.plot(history.epoch, history.history[\"loss\"], label=\"train_loss\")\n",
        "  plt.plot(history.epoch, history.history[\"val_loss\"], label=\"val_loss\")\n",
        "  plt.xlabel(\"epoch\")\n",
        "  plt.legend()"
      ],
      "execution_count": 0,
      "outputs": []
    },
    {
      "cell_type": "code",
      "metadata": {
        "id": "gIILW_QwAMfy",
        "colab_type": "code",
        "outputId": "0362f2e2-eb32-4030-e9b5-df58e855b8bc",
        "colab": {
          "base_uri": "https://localhost:8080/",
          "height": 283
        }
      },
      "source": [
        "plot_loss_and_accuracy(history)"
      ],
      "execution_count": 19,
      "outputs": [
        {
          "output_type": "display_data",
          "data": {
            "image/png": "[encoded data removed]",
            "text/plain": [
              "<Figure size 864x288 with 2 Axes>"
            ]
          },
          "metadata": {
            "tags": []
          }
        }
      ]
    },
    {
      "cell_type": "markdown",
      "metadata": {
        "id": "ulyGSSBYOId8",
        "colab_type": "text"
      },
      "source": [
        "###Evaluation"
      ]
    },
    {
      "cell_type": "markdown",
      "metadata": {
        "id": "LtE4TV6ZUNvi",
        "colab_type": "text"
      },
      "source": [
        "k-th cross validation"
      ]
    },
    {
      "cell_type": "code",
      "metadata": {
        "id": "6ys8yBVdf1SF",
        "colab_type": "code",
        "colab": {}
      },
      "source": [
        "def cross_validation(X, y, cv=None, epochs=100, batch_size=32):\n",
        "  kf = KFold(n_splits=cv, shuffle=True)\n",
        "\n",
        "  y_probas = [0] * len(y)\n",
        "  accuracy_list = []\n",
        "  for train_index, val_index in kf.split(X, y):\n",
        "    train_data = X[train_index]\n",
        "    train_label = y[train_index]\n",
        "    val_data = X[val_index]\n",
        "    val_label = y[val_index]\n",
        "\n",
        "    model = build_model()\n",
        "    history = model.fit(train_data, train_label, epochs=epochs, batch_size=batch_size, validation_data=(val_data, val_label))\n",
        "    val_probas = model.predict(val_data)\n",
        "    for i, index in enumerate(val_index):\n",
        "      y_probas[index] = val_probas[i]\n",
        "\n",
        "    plot_loss_and_accuracy(history)\n",
        "\n",
        "    accuracy = np.max(history.history['val_accuracy'])\n",
        "    print('accuracy : ', accuracy)\n",
        "    accuracy_list.append(accuracy)\n",
        "\n",
        "  print('accuracy : ', np.mean(accuracy_list), ' +- ', np.std(accuracy_list))  \n",
        "\n",
        "  return y_probas"
      ],
      "execution_count": 0,
      "outputs": []
    },
    {
      "cell_type": "code",
      "metadata": {
        "id": "-d6cE1TvOIB8",
        "colab_type": "code",
        "outputId": "5d8576d1-9779-4df2-d230-aacaecafb9bc",
        "colab": {
          "base_uri": "https://localhost:8080/",
          "height": 1000
        }
      },
      "source": [
        "#k-th cross validation\n",
        "cv = 3 #the number of foldings\n",
        "y_train_probas = cross_validation(X_train, y_train_onehot, cv=cv, epochs=50)"
      ],
      "execution_count": 21,
      "outputs": [
        {
          "output_type": "stream",
          "text": [
            "Epoch 1/50\n",
            "1167/1167 [==============================] - 8s 7ms/step - loss: 0.4679 - accuracy: 0.8607 - val_loss: 0.1739 - val_accuracy: 0.9488\n",
            "Epoch 2/50\n",
            "1167/1167 [==============================] - 7s 6ms/step - loss: 0.2354 - accuracy: 0.9306 - val_loss: 0.1233 - val_accuracy: 0.9639\n",
            "Epoch 3/50\n",
            "1167/1167 [==============================] - 7s 6ms/step - loss: 0.1768 - accuracy: 0.9480 - val_loss: 0.0944 - val_accuracy: 0.9728\n",
            "Epoch 4/50\n",
            "1167/1167 [==============================] - 7s 6ms/step - loss: 0.1482 - accuracy: 0.9568 - val_loss: 0.0831 - val_accuracy: 0.9761\n",
            "Epoch 5/50\n",
            "1167/1167 [==============================] - 7s 6ms/step - loss: 0.1329 - accuracy: 0.9602 - val_loss: 0.0809 - val_accuracy: 0.9756\n",
            "Epoch 6/50\n",
            "1167/1167 [==============================] - 7s 6ms/step - loss: 0.1219 - accuracy: 0.9624 - val_loss: 0.0670 - val_accuracy: 0.9808\n",
            "Epoch 7/50\n",
            "1167/1167 [==============================] - 7s 6ms/step - loss: 0.1082 - accuracy: 0.9670 - val_loss: 0.0694 - val_accuracy: 0.9787\n",
            "Epoch 8/50\n",
            "1167/1167 [==============================] - 8s 7ms/step - loss: 0.1015 - accuracy: 0.9688 - val_loss: 0.0604 - val_accuracy: 0.9825\n",
            "Epoch 9/50\n",
            "1167/1167 [==============================] - 8s 7ms/step - loss: 0.0957 - accuracy: 0.9709 - val_loss: 0.0589 - val_accuracy: 0.9823\n",
            "Epoch 10/50\n",
            "1167/1167 [==============================] - 8s 7ms/step - loss: 0.0893 - accuracy: 0.9723 - val_loss: 0.0591 - val_accuracy: 0.9826\n",
            "Epoch 11/50\n",
            "1167/1167 [==============================] - 7s 6ms/step - loss: 0.0858 - accuracy: 0.9737 - val_loss: 0.0587 - val_accuracy: 0.9821\n",
            "Epoch 12/50\n",
            "1167/1167 [==============================] - 7s 6ms/step - loss: 0.0826 - accuracy: 0.9738 - val_loss: 0.0559 - val_accuracy: 0.9833\n",
            "Epoch 13/50\n",
            "1167/1167 [==============================] - 7s 6ms/step - loss: 0.0782 - accuracy: 0.9754 - val_loss: 0.0613 - val_accuracy: 0.9803\n",
            "Epoch 14/50\n",
            "1167/1167 [==============================] - 8s 6ms/step - loss: 0.0751 - accuracy: 0.9752 - val_loss: 0.0565 - val_accuracy: 0.9825\n",
            "Epoch 15/50\n",
            "1167/1167 [==============================] - 7s 6ms/step - loss: 0.0739 - accuracy: 0.9767 - val_loss: 0.0528 - val_accuracy: 0.9834\n",
            "Epoch 16/50\n",
            "1167/1167 [==============================] - 8s 6ms/step - loss: 0.0687 - accuracy: 0.9782 - val_loss: 0.0539 - val_accuracy: 0.9840\n",
            "Epoch 17/50\n",
            "1167/1167 [==============================] - 8s 6ms/step - loss: 0.0693 - accuracy: 0.9777 - val_loss: 0.0506 - val_accuracy: 0.9849\n",
            "Epoch 18/50\n",
            "1167/1167 [==============================] - 7s 6ms/step - loss: 0.0649 - accuracy: 0.9792 - val_loss: 0.0521 - val_accuracy: 0.9848\n",
            "Epoch 19/50\n",
            "1167/1167 [==============================] - 7s 6ms/step - loss: 0.0642 - accuracy: 0.9794 - val_loss: 0.0514 - val_accuracy: 0.9845\n",
            "Epoch 20/50\n",
            "1167/1167 [==============================] - 8s 6ms/step - loss: 0.0625 - accuracy: 0.9799 - val_loss: 0.0507 - val_accuracy: 0.9855\n",
            "Epoch 21/50\n",
            "1167/1167 [==============================] - 7s 6ms/step - loss: 0.0594 - accuracy: 0.9812 - val_loss: 0.0498 - val_accuracy: 0.9855\n",
            "Epoch 22/50\n",
            "1167/1167 [==============================] - 7s 6ms/step - loss: 0.0559 - accuracy: 0.9816 - val_loss: 0.0515 - val_accuracy: 0.9845\n",
            "Epoch 23/50\n",
            "1167/1167 [==============================] - 7s 6ms/step - loss: 0.0532 - accuracy: 0.9832 - val_loss: 0.0510 - val_accuracy: 0.9848\n",
            "Epoch 24/50\n",
            "1167/1167 [==============================] - 7s 6ms/step - loss: 0.0554 - accuracy: 0.9820 - val_loss: 0.0507 - val_accuracy: 0.9845\n",
            "Epoch 25/50\n",
            "1167/1167 [==============================] - 7s 6ms/step - loss: 0.0550 - accuracy: 0.9819 - val_loss: 0.0499 - val_accuracy: 0.9849\n",
            "Epoch 26/50\n",
            "1167/1167 [==============================] - 7s 6ms/step - loss: 0.0536 - accuracy: 0.9822 - val_loss: 0.0496 - val_accuracy: 0.9855\n",
            "Epoch 27/50\n",
            "1167/1167 [==============================] - 7s 6ms/step - loss: 0.0521 - accuracy: 0.9828 - val_loss: 0.0511 - val_accuracy: 0.9854\n",
            "Epoch 28/50\n",
            "1167/1167 [==============================] - 7s 6ms/step - loss: 0.0524 - accuracy: 0.9826 - val_loss: 0.0491 - val_accuracy: 0.9857\n",
            "Epoch 29/50\n",
            "1167/1167 [==============================] - 8s 6ms/step - loss: 0.0490 - accuracy: 0.9838 - val_loss: 0.0484 - val_accuracy: 0.9859\n",
            "Epoch 30/50\n",
            "1167/1167 [==============================] - 7s 6ms/step - loss: 0.0494 - accuracy: 0.9841 - val_loss: 0.0485 - val_accuracy: 0.9861\n",
            "Epoch 31/50\n",
            "1167/1167 [==============================] - 8s 6ms/step - loss: 0.0486 - accuracy: 0.9842 - val_loss: 0.0525 - val_accuracy: 0.9846\n",
            "Epoch 32/50\n",
            "1167/1167 [==============================] - 8s 6ms/step - loss: 0.0474 - accuracy: 0.9841 - val_loss: 0.0493 - val_accuracy: 0.9853\n",
            "Epoch 33/50\n",
            "1167/1167 [==============================] - 7s 6ms/step - loss: 0.0473 - accuracy: 0.9843 - val_loss: 0.0475 - val_accuracy: 0.9859\n",
            "Epoch 34/50\n",
            "1167/1167 [==============================] - 7s 6ms/step - loss: 0.0435 - accuracy: 0.9861 - val_loss: 0.0484 - val_accuracy: 0.9863\n",
            "Epoch 35/50\n",
            "1167/1167 [==============================] - 7s 6ms/step - loss: 0.0443 - accuracy: 0.9854 - val_loss: 0.0467 - val_accuracy: 0.9863\n",
            "Epoch 36/50\n",
            "1167/1167 [==============================] - 7s 6ms/step - loss: 0.0412 - accuracy: 0.9861 - val_loss: 0.0466 - val_accuracy: 0.9866\n",
            "Epoch 37/50\n",
            "1167/1167 [==============================] - 7s 6ms/step - loss: 0.0391 - accuracy: 0.9872 - val_loss: 0.0485 - val_accuracy: 0.9860\n",
            "Epoch 38/50\n",
            "1167/1167 [==============================] - 7s 6ms/step - loss: 0.0420 - accuracy: 0.9862 - val_loss: 0.0515 - val_accuracy: 0.9856\n",
            "Epoch 39/50\n",
            "1167/1167 [==============================] - 7s 6ms/step - loss: 0.0401 - accuracy: 0.9863 - val_loss: 0.0493 - val_accuracy: 0.9863\n",
            "Epoch 40/50\n",
            "1167/1167 [==============================] - 7s 6ms/step - loss: 0.0398 - accuracy: 0.9864 - val_loss: 0.0486 - val_accuracy: 0.9859\n",
            "Epoch 41/50\n",
            "1167/1167 [==============================] - 7s 6ms/step - loss: 0.0396 - accuracy: 0.9872 - val_loss: 0.0474 - val_accuracy: 0.9863\n",
            "Epoch 42/50\n",
            "1167/1167 [==============================] - 7s 6ms/step - loss: 0.0376 - accuracy: 0.9871 - val_loss: 0.0498 - val_accuracy: 0.9852\n",
            "Epoch 43/50\n",
            "1167/1167 [==============================] - 7s 6ms/step - loss: 0.0374 - accuracy: 0.9878 - val_loss: 0.0469 - val_accuracy: 0.9870\n",
            "Epoch 44/50\n",
            "1167/1167 [==============================] - 7s 6ms/step - loss: 0.0393 - accuracy: 0.9866 - val_loss: 0.0467 - val_accuracy: 0.9871\n",
            "Epoch 45/50\n",
            "1167/1167 [==============================] - 7s 6ms/step - loss: 0.0366 - accuracy: 0.9880 - val_loss: 0.0473 - val_accuracy: 0.9866\n",
            "Epoch 46/50\n",
            "1167/1167 [==============================] - 7s 6ms/step - loss: 0.0375 - accuracy: 0.9871 - val_loss: 0.0481 - val_accuracy: 0.9861\n",
            "Epoch 47/50\n",
            "1167/1167 [==============================] - 7s 6ms/step - loss: 0.0363 - accuracy: 0.9876 - val_loss: 0.0475 - val_accuracy: 0.9857\n",
            "Epoch 48/50\n",
            "1167/1167 [==============================] - 7s 6ms/step - loss: 0.0352 - accuracy: 0.9883 - val_loss: 0.0469 - val_accuracy: 0.9865\n",
            "Epoch 49/50\n",
            "1167/1167 [==============================] - 8s 6ms/step - loss: 0.0350 - accuracy: 0.9884 - val_loss: 0.0485 - val_accuracy: 0.9861\n",
            "Epoch 50/50\n",
            "1167/1167 [==============================] - 8s 7ms/step - loss: 0.0330 - accuracy: 0.9887 - val_loss: 0.0468 - val_accuracy: 0.9867\n",
            "accuracy :  0.9871430993080139\n",
            "Epoch 1/50\n",
            "1167/1167 [==============================] - 8s 6ms/step - loss: 0.4858 - accuracy: 0.8567 - val_loss: 0.2124 - val_accuracy: 0.9398\n",
            "Epoch 2/50\n",
            "1167/1167 [==============================] - 7s 6ms/step - loss: 0.2526 - accuracy: 0.9274 - val_loss: 0.1381 - val_accuracy: 0.9603\n",
            "Epoch 3/50\n",
            "1167/1167 [==============================] - 7s 6ms/step - loss: 0.1856 - accuracy: 0.9469 - val_loss: 0.1131 - val_accuracy: 0.9662\n",
            "Epoch 4/50\n",
            "1167/1167 [==============================] - 7s 6ms/step - loss: 0.1503 - accuracy: 0.9553 - val_loss: 0.0964 - val_accuracy: 0.9707\n",
            "Epoch 5/50\n",
            "1167/1167 [==============================] - 7s 6ms/step - loss: 0.1314 - accuracy: 0.9621 - val_loss: 0.0862 - val_accuracy: 0.9743\n",
            "Epoch 6/50\n",
            "1167/1167 [==============================] - 7s 6ms/step - loss: 0.1186 - accuracy: 0.9644 - val_loss: 0.0777 - val_accuracy: 0.9767\n",
            "Epoch 7/50\n",
            "1167/1167 [==============================] - 7s 6ms/step - loss: 0.1071 - accuracy: 0.9680 - val_loss: 0.0761 - val_accuracy: 0.9779\n",
            "Epoch 8/50\n",
            "1167/1167 [==============================] - 7s 6ms/step - loss: 0.1008 - accuracy: 0.9698 - val_loss: 0.0702 - val_accuracy: 0.9788\n",
            "Epoch 9/50\n",
            "1167/1167 [==============================] - 7s 6ms/step - loss: 0.0931 - accuracy: 0.9719 - val_loss: 0.0678 - val_accuracy: 0.9796\n",
            "Epoch 10/50\n",
            "1167/1167 [==============================] - 7s 6ms/step - loss: 0.0902 - accuracy: 0.9733 - val_loss: 0.0727 - val_accuracy: 0.9793\n",
            "Epoch 11/50\n",
            "1167/1167 [==============================] - 7s 6ms/step - loss: 0.0827 - accuracy: 0.9745 - val_loss: 0.0663 - val_accuracy: 0.9806\n",
            "Epoch 12/50\n",
            "1167/1167 [==============================] - 7s 6ms/step - loss: 0.0787 - accuracy: 0.9757 - val_loss: 0.0671 - val_accuracy: 0.9815\n",
            "Epoch 13/50\n",
            "1167/1167 [==============================] - 7s 6ms/step - loss: 0.0773 - accuracy: 0.9759 - val_loss: 0.0619 - val_accuracy: 0.9825\n",
            "Epoch 14/50\n",
            "1167/1167 [==============================] - 7s 6ms/step - loss: 0.0769 - accuracy: 0.9762 - val_loss: 0.0626 - val_accuracy: 0.9819\n",
            "Epoch 15/50\n",
            "1167/1167 [==============================] - 7s 6ms/step - loss: 0.0708 - accuracy: 0.9777 - val_loss: 0.0608 - val_accuracy: 0.9816\n",
            "Epoch 16/50\n",
            "1167/1167 [==============================] - 7s 6ms/step - loss: 0.0704 - accuracy: 0.9781 - val_loss: 0.0602 - val_accuracy: 0.9827\n",
            "Epoch 17/50\n",
            "1167/1167 [==============================] - 7s 6ms/step - loss: 0.0684 - accuracy: 0.9782 - val_loss: 0.0590 - val_accuracy: 0.9825\n",
            "Epoch 18/50\n",
            "1167/1167 [==============================] - 7s 6ms/step - loss: 0.0642 - accuracy: 0.9795 - val_loss: 0.0632 - val_accuracy: 0.9816\n",
            "Epoch 19/50\n",
            "1167/1167 [==============================] - 7s 6ms/step - loss: 0.0628 - accuracy: 0.9806 - val_loss: 0.0621 - val_accuracy: 0.9810\n",
            "Epoch 20/50\n",
            "1167/1167 [==============================] - 7s 6ms/step - loss: 0.0588 - accuracy: 0.9815 - val_loss: 0.0574 - val_accuracy: 0.9839\n",
            "Epoch 21/50\n",
            "1167/1167 [==============================] - 7s 6ms/step - loss: 0.0592 - accuracy: 0.9811 - val_loss: 0.0564 - val_accuracy: 0.9841\n",
            "Epoch 22/50\n",
            "1167/1167 [==============================] - 7s 6ms/step - loss: 0.0575 - accuracy: 0.9817 - val_loss: 0.0563 - val_accuracy: 0.9839\n",
            "Epoch 23/50\n",
            "1167/1167 [==============================] - 7s 6ms/step - loss: 0.0556 - accuracy: 0.9827 - val_loss: 0.0612 - val_accuracy: 0.9827\n",
            "Epoch 24/50\n",
            "1167/1167 [==============================] - 7s 6ms/step - loss: 0.0550 - accuracy: 0.9824 - val_loss: 0.0572 - val_accuracy: 0.9824\n",
            "Epoch 25/50\n",
            "1167/1167 [==============================] - 7s 6ms/step - loss: 0.0537 - accuracy: 0.9832 - val_loss: 0.0566 - val_accuracy: 0.9835\n",
            "Epoch 26/50\n",
            "1167/1167 [==============================] - 7s 6ms/step - loss: 0.0525 - accuracy: 0.9830 - val_loss: 0.0563 - val_accuracy: 0.9847\n",
            "Epoch 27/50\n",
            "1167/1167 [==============================] - 7s 6ms/step - loss: 0.0510 - accuracy: 0.9832 - val_loss: 0.0558 - val_accuracy: 0.9847\n",
            "Epoch 28/50\n",
            "1167/1167 [==============================] - 7s 6ms/step - loss: 0.0503 - accuracy: 0.9836 - val_loss: 0.0536 - val_accuracy: 0.9853\n",
            "Epoch 29/50\n",
            "1167/1167 [==============================] - 8s 6ms/step - loss: 0.0494 - accuracy: 0.9842 - val_loss: 0.0546 - val_accuracy: 0.9844\n",
            "Epoch 30/50\n",
            "1167/1167 [==============================] - 7s 6ms/step - loss: 0.0443 - accuracy: 0.9857 - val_loss: 0.0574 - val_accuracy: 0.9823\n",
            "Epoch 31/50\n",
            "1167/1167 [==============================] - 7s 6ms/step - loss: 0.0448 - accuracy: 0.9855 - val_loss: 0.0549 - val_accuracy: 0.9844\n",
            "Epoch 32/50\n",
            "1167/1167 [==============================] - 7s 6ms/step - loss: 0.0450 - accuracy: 0.9854 - val_loss: 0.0552 - val_accuracy: 0.9847\n",
            "Epoch 33/50\n",
            "1167/1167 [==============================] - 7s 6ms/step - loss: 0.0427 - accuracy: 0.9868 - val_loss: 0.0550 - val_accuracy: 0.9838\n",
            "Epoch 34/50\n",
            "1167/1167 [==============================] - 7s 6ms/step - loss: 0.0428 - accuracy: 0.9861 - val_loss: 0.0547 - val_accuracy: 0.9839\n",
            "Epoch 35/50\n",
            "1167/1167 [==============================] - 7s 6ms/step - loss: 0.0425 - accuracy: 0.9863 - val_loss: 0.0563 - val_accuracy: 0.9831\n",
            "Epoch 36/50\n",
            "1167/1167 [==============================] - 7s 6ms/step - loss: 0.0428 - accuracy: 0.9858 - val_loss: 0.0552 - val_accuracy: 0.9849\n",
            "Epoch 37/50\n",
            "1167/1167 [==============================] - 7s 6ms/step - loss: 0.0410 - accuracy: 0.9870 - val_loss: 0.0542 - val_accuracy: 0.9851\n",
            "Epoch 38/50\n",
            "1167/1167 [==============================] - 7s 6ms/step - loss: 0.0415 - accuracy: 0.9862 - val_loss: 0.0547 - val_accuracy: 0.9848\n",
            "Epoch 39/50\n",
            "1167/1167 [==============================] - 7s 6ms/step - loss: 0.0385 - accuracy: 0.9875 - val_loss: 0.0537 - val_accuracy: 0.9849\n",
            "Epoch 40/50\n",
            "1167/1167 [==============================] - 7s 6ms/step - loss: 0.0376 - accuracy: 0.9877 - val_loss: 0.0551 - val_accuracy: 0.9841\n",
            "Epoch 41/50\n",
            "1167/1167 [==============================] - 8s 7ms/step - loss: 0.0380 - accuracy: 0.9876 - val_loss: 0.0545 - val_accuracy: 0.9848\n",
            "Epoch 42/50\n",
            "1167/1167 [==============================] - 7s 6ms/step - loss: 0.0367 - accuracy: 0.9876 - val_loss: 0.0533 - val_accuracy: 0.9848\n",
            "Epoch 43/50\n",
            "1167/1167 [==============================] - 7s 6ms/step - loss: 0.0372 - accuracy: 0.9877 - val_loss: 0.0527 - val_accuracy: 0.9855\n",
            "Epoch 44/50\n",
            "1167/1167 [==============================] - 8s 6ms/step - loss: 0.0357 - accuracy: 0.9885 - val_loss: 0.0529 - val_accuracy: 0.9855\n",
            "Epoch 45/50\n",
            "1167/1167 [==============================] - 7s 6ms/step - loss: 0.0359 - accuracy: 0.9879 - val_loss: 0.0538 - val_accuracy: 0.9852\n",
            "Epoch 46/50\n",
            "1167/1167 [==============================] - 7s 6ms/step - loss: 0.0350 - accuracy: 0.9884 - val_loss: 0.0545 - val_accuracy: 0.9851\n",
            "Epoch 47/50\n",
            "1167/1167 [==============================] - 7s 6ms/step - loss: 0.0346 - accuracy: 0.9891 - val_loss: 0.0539 - val_accuracy: 0.9852\n",
            "Epoch 48/50\n",
            "1167/1167 [==============================] - 7s 6ms/step - loss: 0.0333 - accuracy: 0.9898 - val_loss: 0.0516 - val_accuracy: 0.9852\n",
            "Epoch 49/50\n",
            "1167/1167 [==============================] - 7s 6ms/step - loss: 0.0354 - accuracy: 0.9883 - val_loss: 0.0538 - val_accuracy: 0.9861\n",
            "Epoch 50/50\n",
            "1167/1167 [==============================] - 7s 6ms/step - loss: 0.0325 - accuracy: 0.9892 - val_loss: 0.0546 - val_accuracy: 0.9855\n",
            "accuracy :  0.9861252307891846\n",
            "Epoch 1/50\n",
            "1167/1167 [==============================] - 8s 7ms/step - loss: 0.4745 - accuracy: 0.8580 - val_loss: 0.1881 - val_accuracy: 0.9480\n",
            "Epoch 2/50\n",
            "1167/1167 [==============================] - 7s 6ms/step - loss: 0.2450 - accuracy: 0.9294 - val_loss: 0.1277 - val_accuracy: 0.9628\n",
            "Epoch 3/50\n",
            "1167/1167 [==============================] - 7s 6ms/step - loss: 0.1847 - accuracy: 0.9463 - val_loss: 0.1017 - val_accuracy: 0.9701\n",
            "Epoch 4/50\n",
            "1167/1167 [==============================] - 7s 6ms/step - loss: 0.1511 - accuracy: 0.9552 - val_loss: 0.0833 - val_accuracy: 0.9755\n",
            "Epoch 5/50\n",
            "1167/1167 [==============================] - 7s 6ms/step - loss: 0.1332 - accuracy: 0.9597 - val_loss: 0.0771 - val_accuracy: 0.9776\n",
            "Epoch 6/50\n",
            "1167/1167 [==============================] - 7s 6ms/step - loss: 0.1226 - accuracy: 0.9625 - val_loss: 0.0696 - val_accuracy: 0.9795\n",
            "Epoch 7/50\n",
            "1167/1167 [==============================] - 7s 6ms/step - loss: 0.1116 - accuracy: 0.9665 - val_loss: 0.0644 - val_accuracy: 0.9805\n",
            "Epoch 8/50\n",
            "1167/1167 [==============================] - 7s 6ms/step - loss: 0.1022 - accuracy: 0.9691 - val_loss: 0.0624 - val_accuracy: 0.9809\n",
            "Epoch 9/50\n",
            "1167/1167 [==============================] - 7s 6ms/step - loss: 0.0980 - accuracy: 0.9707 - val_loss: 0.0619 - val_accuracy: 0.9812\n",
            "Epoch 10/50\n",
            "1167/1167 [==============================] - 7s 6ms/step - loss: 0.0942 - accuracy: 0.9717 - val_loss: 0.0599 - val_accuracy: 0.9814\n",
            "Epoch 11/50\n",
            "1167/1167 [==============================] - 7s 6ms/step - loss: 0.0892 - accuracy: 0.9728 - val_loss: 0.0599 - val_accuracy: 0.9814\n",
            "Epoch 12/50\n",
            "1167/1167 [==============================] - 7s 6ms/step - loss: 0.0837 - accuracy: 0.9747 - val_loss: 0.0563 - val_accuracy: 0.9825\n",
            "Epoch 13/50\n",
            "1167/1167 [==============================] - 8s 7ms/step - loss: 0.0830 - accuracy: 0.9746 - val_loss: 0.0560 - val_accuracy: 0.9833\n",
            "Epoch 14/50\n",
            "1167/1167 [==============================] - 7s 6ms/step - loss: 0.0792 - accuracy: 0.9755 - val_loss: 0.0559 - val_accuracy: 0.9829\n",
            "Epoch 15/50\n",
            "1167/1167 [==============================] - 7s 6ms/step - loss: 0.0762 - accuracy: 0.9766 - val_loss: 0.0560 - val_accuracy: 0.9821\n",
            "Epoch 16/50\n",
            "1167/1167 [==============================] - 7s 6ms/step - loss: 0.0701 - accuracy: 0.9784 - val_loss: 0.0523 - val_accuracy: 0.9839\n",
            "Epoch 17/50\n",
            "1167/1167 [==============================] - 7s 6ms/step - loss: 0.0721 - accuracy: 0.9767 - val_loss: 0.0509 - val_accuracy: 0.9844\n",
            "Epoch 18/50\n",
            "1167/1167 [==============================] - 7s 6ms/step - loss: 0.0665 - accuracy: 0.9783 - val_loss: 0.0532 - val_accuracy: 0.9831\n",
            "Epoch 19/50\n",
            "1167/1167 [==============================] - 7s 6ms/step - loss: 0.0654 - accuracy: 0.9800 - val_loss: 0.0513 - val_accuracy: 0.9836\n",
            "Epoch 20/50\n",
            "1167/1167 [==============================] - 7s 6ms/step - loss: 0.0656 - accuracy: 0.9795 - val_loss: 0.0492 - val_accuracy: 0.9847\n",
            "Epoch 21/50\n",
            "1167/1167 [==============================] - 7s 6ms/step - loss: 0.0654 - accuracy: 0.9787 - val_loss: 0.0495 - val_accuracy: 0.9845\n",
            "Epoch 22/50\n",
            "1167/1167 [==============================] - 7s 6ms/step - loss: 0.0635 - accuracy: 0.9795 - val_loss: 0.0487 - val_accuracy: 0.9845\n",
            "Epoch 23/50\n",
            "1167/1167 [==============================] - 7s 6ms/step - loss: 0.0594 - accuracy: 0.9808 - val_loss: 0.0481 - val_accuracy: 0.9854\n",
            "Epoch 24/50\n",
            "1167/1167 [==============================] - 7s 6ms/step - loss: 0.0593 - accuracy: 0.9812 - val_loss: 0.0475 - val_accuracy: 0.9854\n",
            "Epoch 25/50\n",
            "1167/1167 [==============================] - 7s 6ms/step - loss: 0.0592 - accuracy: 0.9808 - val_loss: 0.0478 - val_accuracy: 0.9851\n",
            "Epoch 26/50\n",
            "1167/1167 [==============================] - 7s 6ms/step - loss: 0.0550 - accuracy: 0.9828 - val_loss: 0.0480 - val_accuracy: 0.9848\n",
            "Epoch 27/50\n",
            "1167/1167 [==============================] - 7s 6ms/step - loss: 0.0550 - accuracy: 0.9823 - val_loss: 0.0473 - val_accuracy: 0.9859\n",
            "Epoch 28/50\n",
            "1167/1167 [==============================] - 7s 6ms/step - loss: 0.0538 - accuracy: 0.9826 - val_loss: 0.0466 - val_accuracy: 0.9853\n",
            "Epoch 29/50\n",
            "1167/1167 [==============================] - 8s 6ms/step - loss: 0.0545 - accuracy: 0.9820 - val_loss: 0.0467 - val_accuracy: 0.9859\n",
            "Epoch 30/50\n",
            "1167/1167 [==============================] - 7s 6ms/step - loss: 0.0506 - accuracy: 0.9835 - val_loss: 0.0470 - val_accuracy: 0.9855\n",
            "Epoch 31/50\n",
            "1167/1167 [==============================] - 7s 6ms/step - loss: 0.0487 - accuracy: 0.9834 - val_loss: 0.0481 - val_accuracy: 0.9854\n",
            "Epoch 32/50\n",
            "1167/1167 [==============================] - 8s 6ms/step - loss: 0.0478 - accuracy: 0.9843 - val_loss: 0.0464 - val_accuracy: 0.9863\n",
            "Epoch 33/50\n",
            "1167/1167 [==============================] - 8s 7ms/step - loss: 0.0454 - accuracy: 0.9853 - val_loss: 0.0460 - val_accuracy: 0.9860\n",
            "Epoch 34/50\n",
            "1167/1167 [==============================] - 7s 6ms/step - loss: 0.0471 - accuracy: 0.9844 - val_loss: 0.0486 - val_accuracy: 0.9857\n",
            "Epoch 35/50\n",
            "1167/1167 [==============================] - 7s 6ms/step - loss: 0.0463 - accuracy: 0.9853 - val_loss: 0.0477 - val_accuracy: 0.9856\n",
            "Epoch 36/50\n",
            "1167/1167 [==============================] - 7s 6ms/step - loss: 0.0474 - accuracy: 0.9844 - val_loss: 0.0449 - val_accuracy: 0.9867\n",
            "Epoch 37/50\n",
            "1167/1167 [==============================] - 7s 6ms/step - loss: 0.0441 - accuracy: 0.9860 - val_loss: 0.0438 - val_accuracy: 0.9867\n",
            "Epoch 38/50\n",
            "1167/1167 [==============================] - 7s 6ms/step - loss: 0.0446 - accuracy: 0.9853 - val_loss: 0.0470 - val_accuracy: 0.9859\n",
            "Epoch 39/50\n",
            "1167/1167 [==============================] - 7s 6ms/step - loss: 0.0434 - accuracy: 0.9859 - val_loss: 0.0495 - val_accuracy: 0.9852\n",
            "Epoch 40/50\n",
            "1167/1167 [==============================] - 7s 6ms/step - loss: 0.0403 - accuracy: 0.9870 - val_loss: 0.0452 - val_accuracy: 0.9862\n",
            "Epoch 41/50\n",
            "1167/1167 [==============================] - 7s 6ms/step - loss: 0.0397 - accuracy: 0.9867 - val_loss: 0.0458 - val_accuracy: 0.9862\n",
            "Epoch 42/50\n",
            "1167/1167 [==============================] - 7s 6ms/step - loss: 0.0389 - accuracy: 0.9873 - val_loss: 0.0447 - val_accuracy: 0.9864\n",
            "Epoch 43/50\n",
            "1167/1167 [==============================] - 7s 6ms/step - loss: 0.0395 - accuracy: 0.9870 - val_loss: 0.0458 - val_accuracy: 0.9866\n",
            "Epoch 44/50\n",
            "1167/1167 [==============================] - 7s 6ms/step - loss: 0.0380 - accuracy: 0.9873 - val_loss: 0.0455 - val_accuracy: 0.9868\n",
            "Epoch 45/50\n",
            "1167/1167 [==============================] - 7s 6ms/step - loss: 0.0396 - accuracy: 0.9871 - val_loss: 0.0465 - val_accuracy: 0.9856\n",
            "Epoch 46/50\n",
            "1167/1167 [==============================] - 7s 6ms/step - loss: 0.0370 - accuracy: 0.9877 - val_loss: 0.0445 - val_accuracy: 0.9869\n",
            "Epoch 47/50\n",
            "1167/1167 [==============================] - 7s 6ms/step - loss: 0.0374 - accuracy: 0.9878 - val_loss: 0.0444 - val_accuracy: 0.9870\n",
            "Epoch 48/50\n",
            "1167/1167 [==============================] - 7s 6ms/step - loss: 0.0352 - accuracy: 0.9876 - val_loss: 0.0446 - val_accuracy: 0.9868\n",
            "Epoch 49/50\n",
            "1167/1167 [==============================] - 7s 6ms/step - loss: 0.0343 - accuracy: 0.9888 - val_loss: 0.0444 - val_accuracy: 0.9871\n",
            "Epoch 50/50\n",
            "1167/1167 [==============================] - 7s 6ms/step - loss: 0.0360 - accuracy: 0.9882 - val_loss: 0.0561 - val_accuracy: 0.9836\n",
            "accuracy :  0.9871423840522766\n",
            "accuracy :  0.9868035713831583  +-  0.0004796593228339143\n"
          ],
          "name": "stdout"
        },
        {
          "output_type": "display_data",
          "data": {
            "image/png": "[encoded data removed]",
            "text/plain": [
              "<Figure size 864x288 with 2 Axes>"
            ]
          },
          "metadata": {
            "tags": []
          }
        },
        {
          "output_type": "display_data",
          "data": {
            "image/png": "[encoded data removed]",
            "text/plain": [
              "<Figure size 864x288 with 2 Axes>"
            ]
          },
          "metadata": {
            "tags": []
          }
        },
        {
          "output_type": "display_data",
          "data": {
            "image/png": "[encoded data removed]",
            "text/plain": [
              "<Figure size 864x288 with 2 Axes>"
            ]
          },
          "metadata": {
            "tags": []
          }
        }
      ]
    },
    {
      "cell_type": "markdown",
      "metadata": {
        "id": "qaewy_XNUCli",
        "colab_type": "text"
      },
      "source": [
        "confusion matrix"
      ]
    },
    {
      "cell_type": "code",
      "metadata": {
        "id": "TZd9ufXVRH4C",
        "colab_type": "code",
        "colab": {}
      },
      "source": [
        "#calculate confusion matrix\n",
        "y_train_pred = np.argmax(y_train_probas, axis=1)\n",
        "conf_mx = confusion_matrix(y_train, y_train_pred)"
      ],
      "execution_count": 0,
      "outputs": []
    },
    {
      "cell_type": "code",
      "metadata": {
        "id": "5dqZ8eIPRu5J",
        "colab_type": "code",
        "outputId": "a8dc72c1-1b72-4f7f-d46e-8aca4cb6d59d",
        "colab": {
          "base_uri": "https://localhost:8080/",
          "height": 275
        }
      },
      "source": [
        "plt.matshow(conf_mx, cmap=plt.cm.gray)\n",
        "plt.show()"
      ],
      "execution_count": 28,
      "outputs": [
        {
          "output_type": "display_data",
          "data": {
            "image/png": "[encoded data removed]",
            "text/plain": [
              "<Figure size 288x288 with 1 Axes>"
            ]
          },
          "metadata": {
            "tags": []
          }
        }
      ]
    },
    {
      "cell_type": "code",
      "metadata": {
        "id": "nguEbiLbSL97",
        "colab_type": "code",
        "outputId": "b7c0bd20-550e-4846-ff3d-8eb0ad3aed9a",
        "colab": {
          "base_uri": "https://localhost:8080/",
          "height": 275
        }
      },
      "source": [
        "#convert to error probability\n",
        "row_sums = conf_mx.sum(axis=1, keepdims=True)\n",
        "norm_conf_mx = conf_mx / row_sums\n",
        "#set diagonal to 0 for visibility\n",
        "np.fill_diagonal(norm_conf_mx, 0)\n",
        "plt.matshow(norm_conf_mx, cmap=plt.cm.gray)\n",
        "plt.show()"
      ],
      "execution_count": 29,
      "outputs": [
        {
          "output_type": "display_data",
          "data": {
            "image/png": "[encoded data removed]",
            "text/plain": [
              "<Figure size 288x288 with 1 Axes>"
            ]
          },
          "metadata": {
            "tags": []
          }
        }
      ]
    },
    {
      "cell_type": "markdown",
      "metadata": {
        "id": "nHwFa6jiV29L",
        "colab_type": "text"
      },
      "source": [
        "various scores"
      ]
    },
    {
      "cell_type": "code",
      "metadata": {
        "id": "R5j04o7ckEq6",
        "colab_type": "code",
        "outputId": "864274f3-6ca1-4f09-e57b-d384093b1cc8",
        "colab": {
          "base_uri": "https://localhost:8080/",
          "height": 34
        }
      },
      "source": [
        "accuracy_score(y_train, y_train_pred)"
      ],
      "execution_count": 30,
      "outputs": [
        {
          "output_type": "execute_result",
          "data": {
            "text/plain": [
              "0.9852857142857143"
            ]
          },
          "metadata": {
            "tags": []
          },
          "execution_count": 30
        }
      ]
    },
    {
      "cell_type": "markdown",
      "metadata": {
        "id": "CIgJPTmF7v-_",
        "colab_type": "text"
      },
      "source": [
        "###Test"
      ]
    },
    {
      "cell_type": "code",
      "metadata": {
        "id": "OFdD-x1ZKZ3Q",
        "colab_type": "code",
        "outputId": "196e853d-4725-4525-ed8a-5cbcf540de58",
        "colab": {
          "base_uri": "https://localhost:8080/",
          "height": 34
        }
      },
      "source": [
        "test_loss, test_accuracy = model.evaluate(X_test, y_test_onehot, batch_size=128)"
      ],
      "execution_count": 31,
      "outputs": [
        {
          "output_type": "stream",
          "text": [
            "110/110 [==============================] - 0s 4ms/step - loss: 0.0446 - accuracy: 0.9874\n"
          ],
          "name": "stdout"
        }
      ]
    },
    {
      "cell_type": "code",
      "metadata": {
        "id": "xM9qnUvQajg-",
        "colab_type": "code",
        "outputId": "1886c15d-3d3b-4c6a-ddbf-e439f226196d",
        "colab": {
          "base_uri": "https://localhost:8080/",
          "height": 34
        }
      },
      "source": [
        "print('test loss : ', test_loss, ', accuracy : ', test_accuracy)"
      ],
      "execution_count": 32,
      "outputs": [
        {
          "output_type": "stream",
          "text": [
            "test loss :  0.0446314811706543 , accuracy :  0.9874285459518433\n"
          ],
          "name": "stdout"
        }
      ]
    },
    {
      "cell_type": "code",
      "metadata": {
        "id": "Vze5Jn7CMvWd",
        "colab_type": "code",
        "colab": {}
      },
      "source": [
        "y_test_probas = model.predict(X_test)"
      ],
      "execution_count": 0,
      "outputs": []
    },
    {
      "cell_type": "code",
      "metadata": {
        "id": "S-X9iv2Mfh18",
        "colab_type": "code",
        "colab": {}
      },
      "source": [
        "y_test_pred = np.argmax(y_test_probas, axis=1)"
      ],
      "execution_count": 0,
      "outputs": []
    },
    {
      "cell_type": "code",
      "metadata": {
        "id": "lRY0GZeCc1SQ",
        "colab_type": "code",
        "outputId": "1863f40d-9cd5-4a76-ba63-6e4c6ee943ce",
        "colab": {
          "base_uri": "https://localhost:8080/",
          "height": 34
        }
      },
      "source": [
        "print(y_test_pred)"
      ],
      "execution_count": 36,
      "outputs": [
        {
          "output_type": "stream",
          "text": [
            "[5 6 5 ... 2 5 9]\n"
          ],
          "name": "stdout"
        }
      ]
    },
    {
      "cell_type": "markdown",
      "metadata": {
        "id": "-F-zfxit8R0A",
        "colab_type": "text"
      },
      "source": [
        "###Save"
      ]
    },
    {
      "cell_type": "code",
      "metadata": {
        "id": "OeCJwAct8mq8",
        "colab_type": "code",
        "colab": {}
      },
      "source": [
        "#save the prediction\n",
        "submissiondir = '.'\n",
        "submissionname = 'submission'\n",
        "pd.DataFrame(data={'target':y_test, 'prediction':y_test_pred}).to_csv(submissiondir + '/' + submissionname + \".csv\", index_label=[\"Id\"])"
      ],
      "execution_count": 0,
      "outputs": []
    },
    {
      "cell_type": "code",
      "metadata": {
        "id": "gmZQtZYZ6yAa",
        "colab_type": "code",
        "colab": {}
      },
      "source": [
        "# save the model\n",
        "filename = 'model.h5'\n",
        "model.save(filename)"
      ],
      "execution_count": 0,
      "outputs": []
    },
    {
      "cell_type": "code",
      "metadata": {
        "id": "PSHnOTDv8Q-J",
        "colab_type": "code",
        "outputId": "ad485bac-57d2-4388-97ef-e53d7076a2ff",
        "colab": {
          "base_uri": "https://localhost:8080/",
          "height": 174
        }
      },
      "source": [
        "# load the model\n",
        "loaded_model = load_model(filename)\n",
        "test_loss, test_accuracy = loaded_model.evaluate(X_test, y_test_onehot, batch_size=128)"
      ],
      "execution_count": 41,
      "outputs": [
        {
          "output_type": "stream",
          "text": [
            "WARNING:tensorflow:Error in loading the saved optimizer state. As a result, your model is starting with a freshly initialized optimizer.\n",
            "110/110 [==============================] - 0s 4ms/step - loss: 0.0446 - accuracy: 0.9874\n"
          ],
          "name": "stdout"
        }
      ]
    },
    {
      "cell_type": "code",
      "metadata": {
        "id": "vJwFB3Rf-xZt",
        "colab_type": "code",
        "outputId": "c2019dca-64f9-4a82-9292-a1a40a5f4030",
        "colab": {
          "base_uri": "https://localhost:8080/",
          "height": 34
        }
      },
      "source": [
        "print('test loss : ', test_loss, ', accuracy : ', test_accuracy)"
      ],
      "execution_count": 42,
      "outputs": [
        {
          "output_type": "stream",
          "text": [
            "test loss :  0.0446314811706543 , accuracy :  0.9874285459518433\n"
          ],
          "name": "stdout"
        }
      ]
    },
    {
      "cell_type": "code",
      "metadata": {
        "id": "grprSYDncuoz",
        "colab_type": "code",
        "colab": {}
      },
      "source": [
        ""
      ],
      "execution_count": 0,
      "outputs": []
    }
  ]
}