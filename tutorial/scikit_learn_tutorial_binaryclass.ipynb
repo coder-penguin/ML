{
  "nbformat": 4,
  "nbformat_minor": 0,
  "metadata": {
    "colab": {
      "name": "scikit-learn_tutorial_binaryclass",
      "provenance": [],
      "collapsed_sections": [],
      "include_colab_link": true
    },
    "kernelspec": {
      "name": "python3",
      "display_name": "Python 3"
    }
  },
  "cells": [
    {
      "cell_type": "markdown",
      "metadata": {
        "id": "view-in-github",
        "colab_type": "text"
      },
      "source": [
        "<a href=\"https://colab.research.google.com/github/coder-penguin/ML/blob/master/tutorial/scikit_learn_tutorial_binaryclass.ipynb\" target=\"_parent\"><img src=\"https://colab.research.google.com/assets/colab-badge.svg\" alt=\"Open In Colab\"/></a>"
      ]
    },
    {
      "cell_type": "markdown",
      "metadata": {
        "id": "E-5PkF7PBj7_",
        "colab_type": "text"
      },
      "source": [
        "#Sample code for binary classification"
      ]
    },
    {
      "cell_type": "markdown",
      "metadata": {
        "id": "V5hrcRzY_9uM",
        "colab_type": "text"
      },
      "source": [
        "Load libraries"
      ]
    },
    {
      "cell_type": "code",
      "metadata": {
        "id": "uz6chkI6AFGk",
        "colab_type": "code",
        "outputId": "96b5f2c6-525e-41e4-bcf2-b273309a5174",
        "colab": {
          "base_uri": "https://localhost:8080/",
          "height": 91
        }
      },
      "source": [
        "import numpy as np\n",
        "import pandas as pd\n",
        "import matplotlib.pyplot as plt\n",
        "\n",
        "from sklearn.datasets import load_breast_cancer\n",
        "from sklearn.model_selection import train_test_split, cross_val_predict, cross_val_score\n",
        "from sklearn.metrics import confusion_matrix\n",
        "from sklearn.metrics import accuracy_score, precision_score, recall_score, f1_score, classification_report\n",
        "from sklearn.metrics import precision_recall_curve, roc_curve, roc_auc_score\n",
        "from sklearn.tree import DecisionTreeClassifier \n",
        "from sklearn.preprocessing import StandardScaler\n",
        "from sklearn.externals import joblib"
      ],
      "execution_count": 1,
      "outputs": [
        {
          "output_type": "stream",
          "text": [
            "/usr/local/lib/python3.6/dist-packages/sklearn/externals/joblib/__init__.py:15: FutureWarning: sklearn.externals.joblib is deprecated in 0.21 and will be removed in 0.23. Please import this functionality directly from joblib, which can be installed with: pip install joblib. If this warning is raised when loading pickled models, you may need to re-serialize those models with scikit-learn 0.21+.\n",
            "  warnings.warn(msg, category=FutureWarning)\n"
          ],
          "name": "stderr"
        }
      ]
    },
    {
      "cell_type": "markdown",
      "metadata": {
        "id": "yWjy9yhPETE9",
        "colab_type": "text"
      },
      "source": [
        "Read data"
      ]
    },
    {
      "cell_type": "code",
      "metadata": {
        "id": "xKApP_2eEduJ",
        "colab_type": "code",
        "colab": {}
      },
      "source": [
        "# read the breast cancer wisconsin dataset\n",
        "dataset = load_breast_cancer()"
      ],
      "execution_count": 0,
      "outputs": []
    },
    {
      "cell_type": "code",
      "metadata": {
        "id": "seKjk_6vfYzd",
        "colab_type": "code",
        "outputId": "dbbefaab-2b08-4339-f3df-73b858aab5d9",
        "colab": {
          "base_uri": "https://localhost:8080/",
          "height": 34
        }
      },
      "source": [
        "#30 features\n",
        "dataset['data'].shape"
      ],
      "execution_count": 3,
      "outputs": [
        {
          "output_type": "execute_result",
          "data": {
            "text/plain": [
              "(569, 30)"
            ]
          },
          "metadata": {
            "tags": []
          },
          "execution_count": 3
        }
      ]
    },
    {
      "cell_type": "code",
      "metadata": {
        "id": "9jO5ZfoA1cuY",
        "colab_type": "code",
        "outputId": "1e3611de-d511-450e-ae6a-45966816e826",
        "colab": {
          "base_uri": "https://localhost:8080/",
          "height": 459
        }
      },
      "source": [
        "#binary target\n",
        "dataset['target']"
      ],
      "execution_count": 4,
      "outputs": [
        {
          "output_type": "execute_result",
          "data": {
            "text/plain": [
              "array([0, 0, 0, 0, 0, 0, 0, 0, 0, 0, 0, 0, 0, 0, 0, 0, 0, 0, 0, 1, 1, 1,\n",
              "       0, 0, 0, 0, 0, 0, 0, 0, 0, 0, 0, 0, 0, 0, 0, 1, 0, 0, 0, 0, 0, 0,\n",
              "       0, 0, 1, 0, 1, 1, 1, 1, 1, 0, 0, 1, 0, 0, 1, 1, 1, 1, 0, 1, 0, 0,\n",
              "       1, 1, 1, 1, 0, 1, 0, 0, 1, 0, 1, 0, 0, 1, 1, 1, 0, 0, 1, 0, 0, 0,\n",
              "       1, 1, 1, 0, 1, 1, 0, 0, 1, 1, 1, 0, 0, 1, 1, 1, 1, 0, 1, 1, 0, 1,\n",
              "       1, 1, 1, 1, 1, 1, 1, 0, 0, 0, 1, 0, 0, 1, 1, 1, 0, 0, 1, 0, 1, 0,\n",
              "       0, 1, 0, 0, 1, 1, 0, 1, 1, 0, 1, 1, 1, 1, 0, 1, 1, 1, 1, 1, 1, 1,\n",
              "       1, 1, 0, 1, 1, 1, 1, 0, 0, 1, 0, 1, 1, 0, 0, 1, 1, 0, 0, 1, 1, 1,\n",
              "       1, 0, 1, 1, 0, 0, 0, 1, 0, 1, 0, 1, 1, 1, 0, 1, 1, 0, 0, 1, 0, 0,\n",
              "       0, 0, 1, 0, 0, 0, 1, 0, 1, 0, 1, 1, 0, 1, 0, 0, 0, 0, 1, 1, 0, 0,\n",
              "       1, 1, 1, 0, 1, 1, 1, 1, 1, 0, 0, 1, 1, 0, 1, 1, 0, 0, 1, 0, 1, 1,\n",
              "       1, 1, 0, 1, 1, 1, 1, 1, 0, 1, 0, 0, 0, 0, 0, 0, 0, 0, 0, 0, 0, 0,\n",
              "       0, 0, 1, 1, 1, 1, 1, 1, 0, 1, 0, 1, 1, 0, 1, 1, 0, 1, 0, 0, 1, 1,\n",
              "       1, 1, 1, 1, 1, 1, 1, 1, 1, 1, 1, 0, 1, 1, 0, 1, 0, 1, 1, 1, 1, 1,\n",
              "       1, 1, 1, 1, 1, 1, 1, 1, 1, 0, 1, 1, 1, 0, 1, 0, 1, 1, 1, 1, 0, 0,\n",
              "       0, 1, 1, 1, 1, 0, 1, 0, 1, 0, 1, 1, 1, 0, 1, 1, 1, 1, 1, 1, 1, 0,\n",
              "       0, 0, 1, 1, 1, 1, 1, 1, 1, 1, 1, 1, 1, 0, 0, 1, 0, 0, 0, 1, 0, 0,\n",
              "       1, 1, 1, 1, 1, 0, 1, 1, 1, 1, 1, 0, 1, 1, 1, 0, 1, 1, 0, 0, 1, 1,\n",
              "       1, 1, 1, 1, 0, 1, 1, 1, 1, 1, 1, 1, 0, 1, 1, 1, 1, 1, 0, 1, 1, 0,\n",
              "       1, 1, 1, 1, 1, 1, 1, 1, 1, 1, 1, 1, 0, 1, 0, 0, 1, 0, 1, 1, 1, 1,\n",
              "       1, 0, 1, 1, 0, 1, 0, 1, 1, 0, 1, 0, 1, 1, 1, 1, 1, 1, 1, 1, 0, 0,\n",
              "       1, 1, 1, 1, 1, 1, 0, 1, 1, 1, 1, 1, 1, 1, 1, 1, 1, 0, 1, 1, 1, 1,\n",
              "       1, 1, 1, 0, 1, 0, 1, 1, 0, 1, 1, 1, 1, 1, 0, 0, 1, 0, 1, 0, 1, 1,\n",
              "       1, 1, 1, 0, 1, 1, 0, 1, 0, 1, 0, 0, 1, 1, 1, 0, 1, 1, 1, 1, 1, 1,\n",
              "       1, 1, 1, 1, 1, 0, 1, 0, 0, 1, 1, 1, 1, 1, 1, 1, 1, 1, 1, 1, 1, 1,\n",
              "       1, 1, 1, 1, 1, 1, 1, 1, 1, 1, 1, 1, 0, 0, 0, 0, 0, 0, 1])"
            ]
          },
          "metadata": {
            "tags": []
          },
          "execution_count": 4
        }
      ]
    },
    {
      "cell_type": "code",
      "metadata": {
        "id": "WIhdEMlF1U0M",
        "colab_type": "code",
        "outputId": "320f8560-66c6-4c3c-dd29-421e262e4e60",
        "colab": {
          "base_uri": "https://localhost:8080/",
          "height": 34
        }
      },
      "source": [
        "dataset['target_names']"
      ],
      "execution_count": 5,
      "outputs": [
        {
          "output_type": "execute_result",
          "data": {
            "text/plain": [
              "array(['malignant', 'benign'], dtype='<U9')"
            ]
          },
          "metadata": {
            "tags": []
          },
          "execution_count": 5
        }
      ]
    },
    {
      "cell_type": "code",
      "metadata": {
        "id": "ZYm5eGa10_0o",
        "colab_type": "code",
        "outputId": "18293fea-29db-48ec-8dbc-0fb74e8413e3",
        "colab": {
          "base_uri": "https://localhost:8080/",
          "height": 187
        }
      },
      "source": [
        "dataset['feature_names']"
      ],
      "execution_count": 6,
      "outputs": [
        {
          "output_type": "execute_result",
          "data": {
            "text/plain": [
              "array(['mean radius', 'mean texture', 'mean perimeter', 'mean area',\n",
              "       'mean smoothness', 'mean compactness', 'mean concavity',\n",
              "       'mean concave points', 'mean symmetry', 'mean fractal dimension',\n",
              "       'radius error', 'texture error', 'perimeter error', 'area error',\n",
              "       'smoothness error', 'compactness error', 'concavity error',\n",
              "       'concave points error', 'symmetry error',\n",
              "       'fractal dimension error', 'worst radius', 'worst texture',\n",
              "       'worst perimeter', 'worst area', 'worst smoothness',\n",
              "       'worst compactness', 'worst concavity', 'worst concave points',\n",
              "       'worst symmetry', 'worst fractal dimension'], dtype='<U23')"
            ]
          },
          "metadata": {
            "tags": []
          },
          "execution_count": 6
        }
      ]
    },
    {
      "cell_type": "code",
      "metadata": {
        "id": "9xRsKkwB_KxP",
        "colab_type": "code",
        "outputId": "b8e0b672-6681-464e-cbde-72849981ffed",
        "colab": {
          "base_uri": "https://localhost:8080/",
          "height": 265
        }
      },
      "source": [
        "# show data\n",
        "plt.hist(dataset['data'][:, 0][dataset['target']==0], label=dataset['target_names'][0], alpha=0.5)\n",
        "plt.hist(dataset['data'][:, 0][dataset['target']==1], label=dataset['target_names'][1], alpha=0.5)\n",
        "plt.show()"
      ],
      "execution_count": 7,
      "outputs": [
        {
          "output_type": "display_data",
          "data": {
            "image/png": "[encoded data removed]",
            "text/plain": [
              "<Figure size 432x288 with 1 Axes>"
            ]
          },
          "metadata": {
            "tags": []
          }
        }
      ]
    },
    {
      "cell_type": "code",
      "metadata": {
        "id": "Sc_Ce1Y-FUrN",
        "colab_type": "code",
        "colab": {}
      },
      "source": [
        "# image(numpy.ndarray)\n",
        "X = dataset.data\n",
        "\n",
        "# label(numpy.ndarray)\n",
        "y = dataset.target"
      ],
      "execution_count": 0,
      "outputs": []
    },
    {
      "cell_type": "code",
      "metadata": {
        "id": "o6VcS3viIBh0",
        "colab_type": "code",
        "colab": {}
      },
      "source": [
        "#split dataset to train and test dataset\n",
        "test_size = 0.2\n",
        "X_train, X_test, y_train, y_test = train_test_split(X, y, test_size=test_size, shuffle=True)#default is True"
      ],
      "execution_count": 0,
      "outputs": []
    },
    {
      "cell_type": "code",
      "metadata": {
        "id": "iyOyxl4RJN9I",
        "colab_type": "code",
        "outputId": "bb7e123a-07fd-4fb0-a3c9-b802f1bdeef0",
        "colab": {
          "base_uri": "https://localhost:8080/",
          "height": 51
        }
      },
      "source": [
        "print(len(X_train), len(X_test))\n",
        "print(len(y_train), len(y_test))"
      ],
      "execution_count": 10,
      "outputs": [
        {
          "output_type": "stream",
          "text": [
            "455 114\n",
            "455 114\n"
          ],
          "name": "stdout"
        }
      ]
    },
    {
      "cell_type": "code",
      "metadata": {
        "id": "65x1QDaA3CMW",
        "colab_type": "code",
        "colab": {}
      },
      "source": [
        "df = pd.DataFrame(data=X_train, columns=dataset.feature_names)"
      ],
      "execution_count": 0,
      "outputs": []
    },
    {
      "cell_type": "code",
      "metadata": {
        "id": "v2dPB7hG3C8g",
        "colab_type": "code",
        "colab": {}
      },
      "source": [
        "df['target'] = y_train"
      ],
      "execution_count": 0,
      "outputs": []
    },
    {
      "cell_type": "code",
      "metadata": {
        "id": "41FVJjq23E1m",
        "colab_type": "code",
        "colab": {
          "base_uri": "https://localhost:8080/",
          "height": 258
        },
        "outputId": "61422097-ac23-44f7-a87a-f525389a4a1a"
      },
      "source": [
        "df.head()"
      ],
      "execution_count": 13,
      "outputs": [
        {
          "output_type": "execute_result",
          "data": {
            "text/html": [
              "<div>\n",
              "<style scoped>\n",
              "    .dataframe tbody tr th:only-of-type {\n",
              "        vertical-align: middle;\n",
              "    }\n",
              "\n",
              "    .dataframe tbody tr th {\n",
              "        vertical-align: top;\n",
              "    }\n",
              "\n",
              "    .dataframe thead th {\n",
              "        text-align: right;\n",
              "    }\n",
              "</style>\n",
              "<table border=\"1\" class=\"dataframe\">\n",
              "  <thead>\n",
              "    <tr style=\"text-align: right;\">\n",
              "      <th></th>\n",
              "      <th>mean radius</th>\n",
              "      <th>mean texture</th>\n",
              "      <th>mean perimeter</th>\n",
              "      <th>mean area</th>\n",
              "      <th>mean smoothness</th>\n",
              "      <th>mean compactness</th>\n",
              "      <th>mean concavity</th>\n",
              "      <th>mean concave points</th>\n",
              "      <th>mean symmetry</th>\n",
              "      <th>mean fractal dimension</th>\n",
              "      <th>radius error</th>\n",
              "      <th>texture error</th>\n",
              "      <th>perimeter error</th>\n",
              "      <th>area error</th>\n",
              "      <th>smoothness error</th>\n",
              "      <th>compactness error</th>\n",
              "      <th>concavity error</th>\n",
              "      <th>concave points error</th>\n",
              "      <th>symmetry error</th>\n",
              "      <th>fractal dimension error</th>\n",
              "      <th>worst radius</th>\n",
              "      <th>worst texture</th>\n",
              "      <th>worst perimeter</th>\n",
              "      <th>worst area</th>\n",
              "      <th>worst smoothness</th>\n",
              "      <th>worst compactness</th>\n",
              "      <th>worst concavity</th>\n",
              "      <th>worst concave points</th>\n",
              "      <th>worst symmetry</th>\n",
              "      <th>worst fractal dimension</th>\n",
              "      <th>target</th>\n",
              "    </tr>\n",
              "  </thead>\n",
              "  <tbody>\n",
              "    <tr>\n",
              "      <th>0</th>\n",
              "      <td>12.18</td>\n",
              "      <td>17.84</td>\n",
              "      <td>77.79</td>\n",
              "      <td>451.1</td>\n",
              "      <td>0.10450</td>\n",
              "      <td>0.07057</td>\n",
              "      <td>0.024900</td>\n",
              "      <td>0.029410</td>\n",
              "      <td>0.1900</td>\n",
              "      <td>0.06635</td>\n",
              "      <td>0.3661</td>\n",
              "      <td>1.5110</td>\n",
              "      <td>2.410</td>\n",
              "      <td>24.44</td>\n",
              "      <td>0.005433</td>\n",
              "      <td>0.011790</td>\n",
              "      <td>0.011310</td>\n",
              "      <td>0.015190</td>\n",
              "      <td>0.02220</td>\n",
              "      <td>0.003408</td>\n",
              "      <td>12.83</td>\n",
              "      <td>20.92</td>\n",
              "      <td>82.14</td>\n",
              "      <td>495.2</td>\n",
              "      <td>0.11400</td>\n",
              "      <td>0.09358</td>\n",
              "      <td>0.04980</td>\n",
              "      <td>0.05882</td>\n",
              "      <td>0.2227</td>\n",
              "      <td>0.07376</td>\n",
              "      <td>1</td>\n",
              "    </tr>\n",
              "    <tr>\n",
              "      <th>1</th>\n",
              "      <td>11.71</td>\n",
              "      <td>17.19</td>\n",
              "      <td>74.68</td>\n",
              "      <td>420.3</td>\n",
              "      <td>0.09774</td>\n",
              "      <td>0.06141</td>\n",
              "      <td>0.038090</td>\n",
              "      <td>0.032390</td>\n",
              "      <td>0.1516</td>\n",
              "      <td>0.06095</td>\n",
              "      <td>0.2451</td>\n",
              "      <td>0.7655</td>\n",
              "      <td>1.742</td>\n",
              "      <td>17.86</td>\n",
              "      <td>0.006905</td>\n",
              "      <td>0.008704</td>\n",
              "      <td>0.019780</td>\n",
              "      <td>0.011850</td>\n",
              "      <td>0.01897</td>\n",
              "      <td>0.001671</td>\n",
              "      <td>13.01</td>\n",
              "      <td>21.39</td>\n",
              "      <td>84.42</td>\n",
              "      <td>521.5</td>\n",
              "      <td>0.13230</td>\n",
              "      <td>0.10400</td>\n",
              "      <td>0.15210</td>\n",
              "      <td>0.10990</td>\n",
              "      <td>0.2572</td>\n",
              "      <td>0.07097</td>\n",
              "      <td>1</td>\n",
              "    </tr>\n",
              "    <tr>\n",
              "      <th>2</th>\n",
              "      <td>23.27</td>\n",
              "      <td>22.04</td>\n",
              "      <td>152.10</td>\n",
              "      <td>1686.0</td>\n",
              "      <td>0.08439</td>\n",
              "      <td>0.11450</td>\n",
              "      <td>0.132400</td>\n",
              "      <td>0.097020</td>\n",
              "      <td>0.1801</td>\n",
              "      <td>0.05553</td>\n",
              "      <td>0.6642</td>\n",
              "      <td>0.8561</td>\n",
              "      <td>4.603</td>\n",
              "      <td>97.85</td>\n",
              "      <td>0.004910</td>\n",
              "      <td>0.025440</td>\n",
              "      <td>0.028220</td>\n",
              "      <td>0.016230</td>\n",
              "      <td>0.01956</td>\n",
              "      <td>0.003740</td>\n",
              "      <td>28.01</td>\n",
              "      <td>28.22</td>\n",
              "      <td>184.20</td>\n",
              "      <td>2403.0</td>\n",
              "      <td>0.12280</td>\n",
              "      <td>0.35830</td>\n",
              "      <td>0.39480</td>\n",
              "      <td>0.23460</td>\n",
              "      <td>0.3589</td>\n",
              "      <td>0.09187</td>\n",
              "      <td>0</td>\n",
              "    </tr>\n",
              "    <tr>\n",
              "      <th>3</th>\n",
              "      <td>12.70</td>\n",
              "      <td>12.17</td>\n",
              "      <td>80.88</td>\n",
              "      <td>495.0</td>\n",
              "      <td>0.08785</td>\n",
              "      <td>0.05794</td>\n",
              "      <td>0.023600</td>\n",
              "      <td>0.024020</td>\n",
              "      <td>0.1583</td>\n",
              "      <td>0.06275</td>\n",
              "      <td>0.2253</td>\n",
              "      <td>0.6457</td>\n",
              "      <td>1.527</td>\n",
              "      <td>17.37</td>\n",
              "      <td>0.006131</td>\n",
              "      <td>0.012630</td>\n",
              "      <td>0.009075</td>\n",
              "      <td>0.008231</td>\n",
              "      <td>0.01713</td>\n",
              "      <td>0.004414</td>\n",
              "      <td>13.65</td>\n",
              "      <td>16.92</td>\n",
              "      <td>88.12</td>\n",
              "      <td>566.9</td>\n",
              "      <td>0.13140</td>\n",
              "      <td>0.16070</td>\n",
              "      <td>0.09385</td>\n",
              "      <td>0.08224</td>\n",
              "      <td>0.2775</td>\n",
              "      <td>0.09464</td>\n",
              "      <td>1</td>\n",
              "    </tr>\n",
              "    <tr>\n",
              "      <th>4</th>\n",
              "      <td>11.22</td>\n",
              "      <td>33.81</td>\n",
              "      <td>70.79</td>\n",
              "      <td>386.8</td>\n",
              "      <td>0.07780</td>\n",
              "      <td>0.03574</td>\n",
              "      <td>0.004967</td>\n",
              "      <td>0.006434</td>\n",
              "      <td>0.1845</td>\n",
              "      <td>0.05828</td>\n",
              "      <td>0.2239</td>\n",
              "      <td>1.6470</td>\n",
              "      <td>1.489</td>\n",
              "      <td>15.46</td>\n",
              "      <td>0.004359</td>\n",
              "      <td>0.006813</td>\n",
              "      <td>0.003223</td>\n",
              "      <td>0.003419</td>\n",
              "      <td>0.01916</td>\n",
              "      <td>0.002534</td>\n",
              "      <td>12.36</td>\n",
              "      <td>41.78</td>\n",
              "      <td>78.44</td>\n",
              "      <td>470.9</td>\n",
              "      <td>0.09994</td>\n",
              "      <td>0.06885</td>\n",
              "      <td>0.02318</td>\n",
              "      <td>0.03002</td>\n",
              "      <td>0.2911</td>\n",
              "      <td>0.07307</td>\n",
              "      <td>1</td>\n",
              "    </tr>\n",
              "  </tbody>\n",
              "</table>\n",
              "</div>"
            ],
            "text/plain": [
              "   mean radius  mean texture  ...  worst fractal dimension  target\n",
              "0        12.18         17.84  ...                  0.07376       1\n",
              "1        11.71         17.19  ...                  0.07097       1\n",
              "2        23.27         22.04  ...                  0.09187       0\n",
              "3        12.70         12.17  ...                  0.09464       1\n",
              "4        11.22         33.81  ...                  0.07307       1\n",
              "\n",
              "[5 rows x 31 columns]"
            ]
          },
          "metadata": {
            "tags": []
          },
          "execution_count": 13
        }
      ]
    },
    {
      "cell_type": "code",
      "metadata": {
        "id": "CCdDinYt3HQS",
        "colab_type": "code",
        "colab": {
          "base_uri": "https://localhost:8080/",
          "height": 351
        },
        "outputId": "a8fc5251-8e64-4987-d702-09b02ccc4705"
      },
      "source": [
        "df.describe()"
      ],
      "execution_count": 14,
      "outputs": [
        {
          "output_type": "execute_result",
          "data": {
            "text/html": [
              "<div>\n",
              "<style scoped>\n",
              "    .dataframe tbody tr th:only-of-type {\n",
              "        vertical-align: middle;\n",
              "    }\n",
              "\n",
              "    .dataframe tbody tr th {\n",
              "        vertical-align: top;\n",
              "    }\n",
              "\n",
              "    .dataframe thead th {\n",
              "        text-align: right;\n",
              "    }\n",
              "</style>\n",
              "<table border=\"1\" class=\"dataframe\">\n",
              "  <thead>\n",
              "    <tr style=\"text-align: right;\">\n",
              "      <th></th>\n",
              "      <th>mean radius</th>\n",
              "      <th>mean texture</th>\n",
              "      <th>mean perimeter</th>\n",
              "      <th>mean area</th>\n",
              "      <th>mean smoothness</th>\n",
              "      <th>mean compactness</th>\n",
              "      <th>mean concavity</th>\n",
              "      <th>mean concave points</th>\n",
              "      <th>mean symmetry</th>\n",
              "      <th>mean fractal dimension</th>\n",
              "      <th>radius error</th>\n",
              "      <th>texture error</th>\n",
              "      <th>perimeter error</th>\n",
              "      <th>area error</th>\n",
              "      <th>smoothness error</th>\n",
              "      <th>compactness error</th>\n",
              "      <th>concavity error</th>\n",
              "      <th>concave points error</th>\n",
              "      <th>symmetry error</th>\n",
              "      <th>fractal dimension error</th>\n",
              "      <th>worst radius</th>\n",
              "      <th>worst texture</th>\n",
              "      <th>worst perimeter</th>\n",
              "      <th>worst area</th>\n",
              "      <th>worst smoothness</th>\n",
              "      <th>worst compactness</th>\n",
              "      <th>worst concavity</th>\n",
              "      <th>worst concave points</th>\n",
              "      <th>worst symmetry</th>\n",
              "      <th>worst fractal dimension</th>\n",
              "      <th>target</th>\n",
              "    </tr>\n",
              "  </thead>\n",
              "  <tbody>\n",
              "    <tr>\n",
              "      <th>count</th>\n",
              "      <td>455.000000</td>\n",
              "      <td>455.000000</td>\n",
              "      <td>455.000000</td>\n",
              "      <td>455.000000</td>\n",
              "      <td>455.000000</td>\n",
              "      <td>455.000000</td>\n",
              "      <td>455.000000</td>\n",
              "      <td>455.000000</td>\n",
              "      <td>455.000000</td>\n",
              "      <td>455.000000</td>\n",
              "      <td>455.000000</td>\n",
              "      <td>455.000000</td>\n",
              "      <td>455.000000</td>\n",
              "      <td>455.000000</td>\n",
              "      <td>455.000000</td>\n",
              "      <td>455.000000</td>\n",
              "      <td>455.000000</td>\n",
              "      <td>455.000000</td>\n",
              "      <td>455.000000</td>\n",
              "      <td>455.000000</td>\n",
              "      <td>455.000000</td>\n",
              "      <td>455.000000</td>\n",
              "      <td>455.000000</td>\n",
              "      <td>455.000000</td>\n",
              "      <td>455.000000</td>\n",
              "      <td>455.000000</td>\n",
              "      <td>455.000000</td>\n",
              "      <td>455.000000</td>\n",
              "      <td>455.000000</td>\n",
              "      <td>455.000000</td>\n",
              "      <td>455.000000</td>\n",
              "    </tr>\n",
              "    <tr>\n",
              "      <th>mean</th>\n",
              "      <td>14.114009</td>\n",
              "      <td>19.312484</td>\n",
              "      <td>91.920857</td>\n",
              "      <td>655.822857</td>\n",
              "      <td>0.096584</td>\n",
              "      <td>0.105392</td>\n",
              "      <td>0.088846</td>\n",
              "      <td>0.049050</td>\n",
              "      <td>0.181805</td>\n",
              "      <td>0.062948</td>\n",
              "      <td>0.408812</td>\n",
              "      <td>1.221678</td>\n",
              "      <td>2.902991</td>\n",
              "      <td>40.892446</td>\n",
              "      <td>0.007091</td>\n",
              "      <td>0.025821</td>\n",
              "      <td>0.031593</td>\n",
              "      <td>0.011741</td>\n",
              "      <td>0.020654</td>\n",
              "      <td>0.003791</td>\n",
              "      <td>16.259273</td>\n",
              "      <td>25.730176</td>\n",
              "      <td>107.299319</td>\n",
              "      <td>881.377582</td>\n",
              "      <td>0.132732</td>\n",
              "      <td>0.258389</td>\n",
              "      <td>0.273700</td>\n",
              "      <td>0.114498</td>\n",
              "      <td>0.290888</td>\n",
              "      <td>0.084241</td>\n",
              "      <td>0.619780</td>\n",
              "    </tr>\n",
              "    <tr>\n",
              "      <th>std</th>\n",
              "      <td>3.616429</td>\n",
              "      <td>4.327790</td>\n",
              "      <td>24.940162</td>\n",
              "      <td>363.304216</td>\n",
              "      <td>0.014131</td>\n",
              "      <td>0.053510</td>\n",
              "      <td>0.079486</td>\n",
              "      <td>0.039272</td>\n",
              "      <td>0.027888</td>\n",
              "      <td>0.007203</td>\n",
              "      <td>0.292259</td>\n",
              "      <td>0.569892</td>\n",
              "      <td>2.139810</td>\n",
              "      <td>48.373180</td>\n",
              "      <td>0.003068</td>\n",
              "      <td>0.018123</td>\n",
              "      <td>0.027035</td>\n",
              "      <td>0.006118</td>\n",
              "      <td>0.008588</td>\n",
              "      <td>0.002508</td>\n",
              "      <td>4.932217</td>\n",
              "      <td>6.250084</td>\n",
              "      <td>34.418336</td>\n",
              "      <td>582.109806</td>\n",
              "      <td>0.022838</td>\n",
              "      <td>0.160814</td>\n",
              "      <td>0.211286</td>\n",
              "      <td>0.066103</td>\n",
              "      <td>0.062343</td>\n",
              "      <td>0.018317</td>\n",
              "      <td>0.485975</td>\n",
              "    </tr>\n",
              "    <tr>\n",
              "      <th>min</th>\n",
              "      <td>6.981000</td>\n",
              "      <td>9.710000</td>\n",
              "      <td>43.790000</td>\n",
              "      <td>143.500000</td>\n",
              "      <td>0.052630</td>\n",
              "      <td>0.019380</td>\n",
              "      <td>0.000000</td>\n",
              "      <td>0.000000</td>\n",
              "      <td>0.106000</td>\n",
              "      <td>0.049960</td>\n",
              "      <td>0.111500</td>\n",
              "      <td>0.360200</td>\n",
              "      <td>0.757000</td>\n",
              "      <td>6.802000</td>\n",
              "      <td>0.001713</td>\n",
              "      <td>0.002252</td>\n",
              "      <td>0.000000</td>\n",
              "      <td>0.000000</td>\n",
              "      <td>0.007882</td>\n",
              "      <td>0.000895</td>\n",
              "      <td>7.930000</td>\n",
              "      <td>12.020000</td>\n",
              "      <td>50.410000</td>\n",
              "      <td>185.200000</td>\n",
              "      <td>0.071170</td>\n",
              "      <td>0.027290</td>\n",
              "      <td>0.000000</td>\n",
              "      <td>0.000000</td>\n",
              "      <td>0.156500</td>\n",
              "      <td>0.055040</td>\n",
              "      <td>0.000000</td>\n",
              "    </tr>\n",
              "    <tr>\n",
              "      <th>25%</th>\n",
              "      <td>11.700000</td>\n",
              "      <td>16.160000</td>\n",
              "      <td>74.720000</td>\n",
              "      <td>416.250000</td>\n",
              "      <td>0.086390</td>\n",
              "      <td>0.066160</td>\n",
              "      <td>0.029035</td>\n",
              "      <td>0.020530</td>\n",
              "      <td>0.162750</td>\n",
              "      <td>0.057805</td>\n",
              "      <td>0.231250</td>\n",
              "      <td>0.828350</td>\n",
              "      <td>1.601500</td>\n",
              "      <td>17.670000</td>\n",
              "      <td>0.005190</td>\n",
              "      <td>0.013225</td>\n",
              "      <td>0.014695</td>\n",
              "      <td>0.007555</td>\n",
              "      <td>0.015015</td>\n",
              "      <td>0.002253</td>\n",
              "      <td>12.975000</td>\n",
              "      <td>21.130000</td>\n",
              "      <td>83.990000</td>\n",
              "      <td>511.500000</td>\n",
              "      <td>0.116700</td>\n",
              "      <td>0.148600</td>\n",
              "      <td>0.115450</td>\n",
              "      <td>0.064075</td>\n",
              "      <td>0.250800</td>\n",
              "      <td>0.071945</td>\n",
              "      <td>0.000000</td>\n",
              "    </tr>\n",
              "    <tr>\n",
              "      <th>50%</th>\n",
              "      <td>13.340000</td>\n",
              "      <td>18.840000</td>\n",
              "      <td>86.100000</td>\n",
              "      <td>546.400000</td>\n",
              "      <td>0.095970</td>\n",
              "      <td>0.095460</td>\n",
              "      <td>0.063350</td>\n",
              "      <td>0.034000</td>\n",
              "      <td>0.180000</td>\n",
              "      <td>0.061660</td>\n",
              "      <td>0.319800</td>\n",
              "      <td>1.127000</td>\n",
              "      <td>2.310000</td>\n",
              "      <td>24.190000</td>\n",
              "      <td>0.006472</td>\n",
              "      <td>0.020650</td>\n",
              "      <td>0.026260</td>\n",
              "      <td>0.011030</td>\n",
              "      <td>0.018780</td>\n",
              "      <td>0.003187</td>\n",
              "      <td>14.910000</td>\n",
              "      <td>25.440000</td>\n",
              "      <td>97.330000</td>\n",
              "      <td>680.600000</td>\n",
              "      <td>0.131400</td>\n",
              "      <td>0.218600</td>\n",
              "      <td>0.226700</td>\n",
              "      <td>0.101700</td>\n",
              "      <td>0.282200</td>\n",
              "      <td>0.079990</td>\n",
              "      <td>1.000000</td>\n",
              "    </tr>\n",
              "    <tr>\n",
              "      <th>75%</th>\n",
              "      <td>15.765000</td>\n",
              "      <td>21.875000</td>\n",
              "      <td>103.750000</td>\n",
              "      <td>781.800000</td>\n",
              "      <td>0.105400</td>\n",
              "      <td>0.130600</td>\n",
              "      <td>0.132000</td>\n",
              "      <td>0.073895</td>\n",
              "      <td>0.196650</td>\n",
              "      <td>0.066565</td>\n",
              "      <td>0.474700</td>\n",
              "      <td>1.473500</td>\n",
              "      <td>3.334500</td>\n",
              "      <td>45.145000</td>\n",
              "      <td>0.008182</td>\n",
              "      <td>0.033065</td>\n",
              "      <td>0.042420</td>\n",
              "      <td>0.014965</td>\n",
              "      <td>0.023360</td>\n",
              "      <td>0.004560</td>\n",
              "      <td>18.775000</td>\n",
              "      <td>29.915000</td>\n",
              "      <td>125.650000</td>\n",
              "      <td>1077.000000</td>\n",
              "      <td>0.146000</td>\n",
              "      <td>0.341800</td>\n",
              "      <td>0.385900</td>\n",
              "      <td>0.161300</td>\n",
              "      <td>0.319600</td>\n",
              "      <td>0.092745</td>\n",
              "      <td>1.000000</td>\n",
              "    </tr>\n",
              "    <tr>\n",
              "      <th>max</th>\n",
              "      <td>28.110000</td>\n",
              "      <td>33.810000</td>\n",
              "      <td>188.500000</td>\n",
              "      <td>2501.000000</td>\n",
              "      <td>0.163400</td>\n",
              "      <td>0.345400</td>\n",
              "      <td>0.426800</td>\n",
              "      <td>0.201200</td>\n",
              "      <td>0.304000</td>\n",
              "      <td>0.097440</td>\n",
              "      <td>2.873000</td>\n",
              "      <td>4.885000</td>\n",
              "      <td>21.980000</td>\n",
              "      <td>542.200000</td>\n",
              "      <td>0.031130</td>\n",
              "      <td>0.135400</td>\n",
              "      <td>0.303800</td>\n",
              "      <td>0.040900</td>\n",
              "      <td>0.078950</td>\n",
              "      <td>0.022860</td>\n",
              "      <td>36.040000</td>\n",
              "      <td>49.540000</td>\n",
              "      <td>251.200000</td>\n",
              "      <td>4254.000000</td>\n",
              "      <td>0.222600</td>\n",
              "      <td>1.058000</td>\n",
              "      <td>1.252000</td>\n",
              "      <td>0.291000</td>\n",
              "      <td>0.663800</td>\n",
              "      <td>0.207500</td>\n",
              "      <td>1.000000</td>\n",
              "    </tr>\n",
              "  </tbody>\n",
              "</table>\n",
              "</div>"
            ],
            "text/plain": [
              "       mean radius  mean texture  ...  worst fractal dimension      target\n",
              "count   455.000000    455.000000  ...               455.000000  455.000000\n",
              "mean     14.114009     19.312484  ...                 0.084241    0.619780\n",
              "std       3.616429      4.327790  ...                 0.018317    0.485975\n",
              "min       6.981000      9.710000  ...                 0.055040    0.000000\n",
              "25%      11.700000     16.160000  ...                 0.071945    0.000000\n",
              "50%      13.340000     18.840000  ...                 0.079990    1.000000\n",
              "75%      15.765000     21.875000  ...                 0.092745    1.000000\n",
              "max      28.110000     33.810000  ...                 0.207500    1.000000\n",
              "\n",
              "[8 rows x 31 columns]"
            ]
          },
          "metadata": {
            "tags": []
          },
          "execution_count": 14
        }
      ]
    },
    {
      "cell_type": "code",
      "metadata": {
        "id": "q0b7DTJU3JM7",
        "colab_type": "code",
        "colab": {
          "base_uri": "https://localhost:8080/",
          "height": 1000
        },
        "outputId": "42e42f6a-91e9-4fe1-fc37-b4e256b2973d"
      },
      "source": [
        "# show data\n",
        "df.hist(bins=50, figsize=(20,15))"
      ],
      "execution_count": 15,
      "outputs": [
        {
          "output_type": "execute_result",
          "data": {
            "text/plain": [
              "array([[<matplotlib.axes._subplots.AxesSubplot object at 0x7f423bd00198>,\n",
              "        <matplotlib.axes._subplots.AxesSubplot object at 0x7f423bcaa438>,\n",
              "        <matplotlib.axes._subplots.AxesSubplot object at 0x7f423bc5f6a0>,\n",
              "        <matplotlib.axes._subplots.AxesSubplot object at 0x7f423bc14908>,\n",
              "        <matplotlib.axes._subplots.AxesSubplot object at 0x7f423bc47b70>,\n",
              "        <matplotlib.axes._subplots.AxesSubplot object at 0x7f423bbfadd8>],\n",
              "       [<matplotlib.axes._subplots.AxesSubplot object at 0x7f423bbbe080>,\n",
              "        <matplotlib.axes._subplots.AxesSubplot object at 0x7f423bb6f2b0>,\n",
              "        <matplotlib.axes._subplots.AxesSubplot object at 0x7f423bb6f320>,\n",
              "        <matplotlib.axes._subplots.AxesSubplot object at 0x7f423bad77b8>,\n",
              "        <matplotlib.axes._subplots.AxesSubplot object at 0x7f423bb09a20>,\n",
              "        <matplotlib.axes._subplots.AxesSubplot object at 0x7f423babec88>],\n",
              "       [<matplotlib.axes._subplots.AxesSubplot object at 0x7f423ba74ef0>,\n",
              "        <matplotlib.axes._subplots.AxesSubplot object at 0x7f423ba36198>,\n",
              "        <matplotlib.axes._subplots.AxesSubplot object at 0x7f423b9e8400>,\n",
              "        <matplotlib.axes._subplots.AxesSubplot object at 0x7f423b99a668>,\n",
              "        <matplotlib.axes._subplots.AxesSubplot object at 0x7f423b9cf8d0>,\n",
              "        <matplotlib.axes._subplots.AxesSubplot object at 0x7f423b982b38>],\n",
              "       [<matplotlib.axes._subplots.AxesSubplot object at 0x7f423b937da0>,\n",
              "        <matplotlib.axes._subplots.AxesSubplot object at 0x7f423b8eafd0>,\n",
              "        <matplotlib.axes._subplots.AxesSubplot object at 0x7f423b8ac2b0>,\n",
              "        <matplotlib.axes._subplots.AxesSubplot object at 0x7f423b85f518>,\n",
              "        <matplotlib.axes._subplots.AxesSubplot object at 0x7f423b814780>,\n",
              "        <matplotlib.axes._subplots.AxesSubplot object at 0x7f423b8479e8>],\n",
              "       [<matplotlib.axes._subplots.AxesSubplot object at 0x7f423b7fbc50>,\n",
              "        <matplotlib.axes._subplots.AxesSubplot object at 0x7f423b7b1eb8>,\n",
              "        <matplotlib.axes._subplots.AxesSubplot object at 0x7f423b771160>,\n",
              "        <matplotlib.axes._subplots.AxesSubplot object at 0x7f423b7243c8>,\n",
              "        <matplotlib.axes._subplots.AxesSubplot object at 0x7f423b6d7630>,\n",
              "        <matplotlib.axes._subplots.AxesSubplot object at 0x7f423b70b898>],\n",
              "       [<matplotlib.axes._subplots.AxesSubplot object at 0x7f423b6c4668>,\n",
              "        <matplotlib.axes._subplots.AxesSubplot object at 0x7f423b6749e8>,\n",
              "        <matplotlib.axes._subplots.AxesSubplot object at 0x7f423b628d68>,\n",
              "        <matplotlib.axes._subplots.AxesSubplot object at 0x7f423b5e6128>,\n",
              "        <matplotlib.axes._subplots.AxesSubplot object at 0x7f423b5974a8>,\n",
              "        <matplotlib.axes._subplots.AxesSubplot object at 0x7f423b5cb828>]],\n",
              "      dtype=object)"
            ]
          },
          "metadata": {
            "tags": []
          },
          "execution_count": 15
        },
        {
          "output_type": "display_data",
          "data": {
            "image/png": "[encoded data removed]",
            "text/plain": [
              "<Figure size 1440x1080 with 36 Axes>"
            ]
          },
          "metadata": {
            "tags": []
          }
        }
      ]
    },
    {
      "cell_type": "code",
      "metadata": {
        "id": "jn_oFf653MX8",
        "colab_type": "code",
        "colab": {}
      },
      "source": [
        "#standard correlation coefficient\n",
        "corr_mx = df.corr()"
      ],
      "execution_count": 0,
      "outputs": []
    },
    {
      "cell_type": "code",
      "metadata": {
        "id": "J2OLAAZO3PW5",
        "colab_type": "code",
        "colab": {
          "base_uri": "https://localhost:8080/",
          "height": 561
        },
        "outputId": "9612bc84-a09d-4dfa-ba68-6ae4063f96e0"
      },
      "source": [
        "corr_mx['target'].sort_values(ascending=False)"
      ],
      "execution_count": 17,
      "outputs": [
        {
          "output_type": "execute_result",
          "data": {
            "text/plain": [
              "target                     1.000000\n",
              "smoothness error           0.047738\n",
              "mean fractal dimension     0.022580\n",
              "symmetry error            -0.020271\n",
              "texture error             -0.020918\n",
              "fractal dimension error   -0.098777\n",
              "worst fractal dimension   -0.314273\n",
              "concavity error           -0.319757\n",
              "compactness error         -0.320965\n",
              "mean symmetry             -0.323129\n",
              "mean smoothness           -0.350859\n",
              "worst symmetry            -0.406416\n",
              "worst smoothness          -0.409864\n",
              "mean texture              -0.439074\n",
              "concave points error      -0.447096\n",
              "worst texture             -0.469371\n",
              "area error                -0.539384\n",
              "perimeter error           -0.558174\n",
              "radius error              -0.568833\n",
              "worst compactness         -0.593160\n",
              "mean compactness          -0.599931\n",
              "worst concavity           -0.662654\n",
              "mean area                 -0.701482\n",
              "mean concavity            -0.713452\n",
              "worst area                -0.726083\n",
              "mean radius               -0.726375\n",
              "mean perimeter            -0.739216\n",
              "worst radius              -0.771916\n",
              "worst perimeter           -0.778348\n",
              "mean concave points       -0.780758\n",
              "worst concave points      -0.788897\n",
              "Name: target, dtype: float64"
            ]
          },
          "metadata": {
            "tags": []
          },
          "execution_count": 17
        }
      ]
    },
    {
      "cell_type": "code",
      "metadata": {
        "id": "V-bBYbqf3Rj6",
        "colab_type": "code",
        "colab": {
          "base_uri": "https://localhost:8080/",
          "height": 794
        },
        "outputId": "81d378fb-9694-4957-dde7-8be305fd8e28"
      },
      "source": [
        "attributes = ['target', 'worst concave points', 'worst perimeter', 'mean concave points']\n",
        "pd.plotting.scatter_matrix(df[attributes], figsize=(12, 8))"
      ],
      "execution_count": 18,
      "outputs": [
        {
          "output_type": "execute_result",
          "data": {
            "text/plain": [
              "array([[<matplotlib.axes._subplots.AxesSubplot object at 0x7f423b0fada0>,\n",
              "        <matplotlib.axes._subplots.AxesSubplot object at 0x7f423a639c50>,\n",
              "        <matplotlib.axes._subplots.AxesSubplot object at 0x7f423a397940>,\n",
              "        <matplotlib.axes._subplots.AxesSubplot object at 0x7f423a19b668>],\n",
              "       [<matplotlib.axes._subplots.AxesSubplot object at 0x7f42389539e8>,\n",
              "        <matplotlib.axes._subplots.AxesSubplot object at 0x7f4238968d68>,\n",
              "        <matplotlib.axes._subplots.AxesSubplot object at 0x7f4238981128>,\n",
              "        <matplotlib.axes._subplots.AxesSubplot object at 0x7f4238914470>],\n",
              "       [<matplotlib.axes._subplots.AxesSubplot object at 0x7f42389144e0>,\n",
              "        <matplotlib.axes._subplots.AxesSubplot object at 0x7f42388daba8>,\n",
              "        <matplotlib.axes._subplots.AxesSubplot object at 0x7f4238905f28>,\n",
              "        <matplotlib.axes._subplots.AxesSubplot object at 0x7f42388c52e8>],\n",
              "       [<matplotlib.axes._subplots.AxesSubplot object at 0x7f4238876668>,\n",
              "        <matplotlib.axes._subplots.AxesSubplot object at 0x7f42388299e8>,\n",
              "        <matplotlib.axes._subplots.AxesSubplot object at 0x7f42387dcd68>,\n",
              "        <matplotlib.axes._subplots.AxesSubplot object at 0x7f423879b128>]],\n",
              "      dtype=object)"
            ]
          },
          "metadata": {
            "tags": []
          },
          "execution_count": 18
        },
        {
          "output_type": "display_data",
          "data": {
            "image/png": "[encoded data removed]",
            "text/plain": [
              "<Figure size 864x576 with 16 Axes>"
            ]
          },
          "metadata": {
            "tags": []
          }
        }
      ]
    },
    {
      "cell_type": "code",
      "metadata": {
        "id": "OPao_JDi2a3B",
        "colab_type": "code",
        "colab": {}
      },
      "source": [
        "scaler = StandardScaler()\n",
        "X_train_processed = scaler.fit_transform(X_train)"
      ],
      "execution_count": 0,
      "outputs": []
    },
    {
      "cell_type": "markdown",
      "metadata": {
        "id": "jvugNRRWNuYH",
        "colab_type": "text"
      },
      "source": [
        "###Train model"
      ]
    },
    {
      "cell_type": "code",
      "metadata": {
        "id": "y3caPEEIKCHY",
        "colab_type": "code",
        "colab": {}
      },
      "source": [
        "model = DecisionTreeClassifier()"
      ],
      "execution_count": 0,
      "outputs": []
    },
    {
      "cell_type": "code",
      "metadata": {
        "id": "uOUjfKTHNyhh",
        "colab_type": "code",
        "outputId": "12a32a5f-9540-40d2-ba45-814e0e7be1e8",
        "colab": {
          "base_uri": "https://localhost:8080/",
          "height": 119
        }
      },
      "source": [
        "model.fit(X_train_processed, y_train)"
      ],
      "execution_count": 21,
      "outputs": [
        {
          "output_type": "execute_result",
          "data": {
            "text/plain": [
              "DecisionTreeClassifier(ccp_alpha=0.0, class_weight=None, criterion='gini',\n",
              "                       max_depth=None, max_features=None, max_leaf_nodes=None,\n",
              "                       min_impurity_decrease=0.0, min_impurity_split=None,\n",
              "                       min_samples_leaf=1, min_samples_split=2,\n",
              "                       min_weight_fraction_leaf=0.0, presort='deprecated',\n",
              "                       random_state=None, splitter='best')"
            ]
          },
          "metadata": {
            "tags": []
          },
          "execution_count": 21
        }
      ]
    },
    {
      "cell_type": "markdown",
      "metadata": {
        "id": "ulyGSSBYOId8",
        "colab_type": "text"
      },
      "source": [
        "###Evaluation"
      ]
    },
    {
      "cell_type": "markdown",
      "metadata": {
        "id": "LtE4TV6ZUNvi",
        "colab_type": "text"
      },
      "source": [
        "k-th cross validation"
      ]
    },
    {
      "cell_type": "code",
      "metadata": {
        "id": "-d6cE1TvOIB8",
        "colab_type": "code",
        "outputId": "2fd895ad-8611-4087-9a75-bb333abffbe6",
        "colab": {
          "base_uri": "https://localhost:8080/",
          "height": 34
        }
      },
      "source": [
        "#k-th cross validation\n",
        "cv = 3 #the number of foldings\n",
        "cross_val_score(model, X_train_processed, y_train, cv=cv, scoring='accuracy')"
      ],
      "execution_count": 22,
      "outputs": [
        {
          "output_type": "execute_result",
          "data": {
            "text/plain": [
              "array([0.90131579, 0.93421053, 0.94039735])"
            ]
          },
          "metadata": {
            "tags": []
          },
          "execution_count": 22
        }
      ]
    },
    {
      "cell_type": "markdown",
      "metadata": {
        "id": "qaewy_XNUCli",
        "colab_type": "text"
      },
      "source": [
        "confusion matrix"
      ]
    },
    {
      "cell_type": "code",
      "metadata": {
        "id": "TZd9ufXVRH4C",
        "colab_type": "code",
        "colab": {}
      },
      "source": [
        "#calculate confusion matrix\n",
        "y_train_pred = cross_val_predict(model, X_train_processed, y_train, cv=cv)\n",
        "conf_mx = confusion_matrix(y_train, y_train_pred)"
      ],
      "execution_count": 0,
      "outputs": []
    },
    {
      "cell_type": "code",
      "metadata": {
        "id": "5dqZ8eIPRu5J",
        "colab_type": "code",
        "outputId": "e64f781e-19f1-4d39-a840-c75eb404befc",
        "colab": {
          "base_uri": "https://localhost:8080/",
          "height": 275
        }
      },
      "source": [
        "plt.matshow(conf_mx, cmap=plt.cm.gray)\n",
        "plt.show()"
      ],
      "execution_count": 24,
      "outputs": [
        {
          "output_type": "display_data",
          "data": {
            "image/png": "[encoded data removed]",
            "text/plain": [
              "<Figure size 288x288 with 1 Axes>"
            ]
          },
          "metadata": {
            "tags": []
          }
        }
      ]
    },
    {
      "cell_type": "code",
      "metadata": {
        "id": "nguEbiLbSL97",
        "colab_type": "code",
        "outputId": "c3b46208-9b39-4602-d783-a48e81a64276",
        "colab": {
          "base_uri": "https://localhost:8080/",
          "height": 275
        }
      },
      "source": [
        "#convert to error probability\n",
        "row_sums = conf_mx.sum(axis=1, keepdims=True)\n",
        "norm_conf_mx = conf_mx / row_sums\n",
        "#set diagonal to 0 for visibility\n",
        "np.fill_diagonal(norm_conf_mx, 0)\n",
        "plt.matshow(norm_conf_mx, cmap=plt.cm.gray)\n",
        "plt.show()"
      ],
      "execution_count": 25,
      "outputs": [
        {
          "output_type": "display_data",
          "data": {
            "image/png": "[encoded data removed]",
            "text/plain": [
              "<Figure size 288x288 with 1 Axes>"
            ]
          },
          "metadata": {
            "tags": []
          }
        }
      ]
    },
    {
      "cell_type": "markdown",
      "metadata": {
        "id": "nHwFa6jiV29L",
        "colab_type": "text"
      },
      "source": [
        "various scores"
      ]
    },
    {
      "cell_type": "code",
      "metadata": {
        "id": "R5j04o7ckEq6",
        "colab_type": "code",
        "outputId": "3360a615-abdc-465b-8478-d46658a98677",
        "colab": {
          "base_uri": "https://localhost:8080/",
          "height": 34
        }
      },
      "source": [
        "accuracy_score(y_train, y_train_pred)"
      ],
      "execution_count": 26,
      "outputs": [
        {
          "output_type": "execute_result",
          "data": {
            "text/plain": [
              "0.9186813186813186"
            ]
          },
          "metadata": {
            "tags": []
          },
          "execution_count": 26
        }
      ]
    },
    {
      "cell_type": "code",
      "metadata": {
        "id": "aswSNVqRV-Go",
        "colab_type": "code",
        "outputId": "ecd12c9e-af43-46d8-9000-ecaa475b1c7a",
        "colab": {
          "base_uri": "https://localhost:8080/",
          "height": 34
        }
      },
      "source": [
        "precision_score(y_train, y_train_pred)"
      ],
      "execution_count": 27,
      "outputs": [
        {
          "output_type": "execute_result",
          "data": {
            "text/plain": [
              "0.9328621908127208"
            ]
          },
          "metadata": {
            "tags": []
          },
          "execution_count": 27
        }
      ]
    },
    {
      "cell_type": "code",
      "metadata": {
        "id": "B_qSWH-nWRmc",
        "colab_type": "code",
        "outputId": "d4f6efd1-cab0-47da-e7e9-b8d67f9778e8",
        "colab": {
          "base_uri": "https://localhost:8080/",
          "height": 34
        }
      },
      "source": [
        "recall_score(y_train, y_train_pred)"
      ],
      "execution_count": 28,
      "outputs": [
        {
          "output_type": "execute_result",
          "data": {
            "text/plain": [
              "0.9361702127659575"
            ]
          },
          "metadata": {
            "tags": []
          },
          "execution_count": 28
        }
      ]
    },
    {
      "cell_type": "code",
      "metadata": {
        "id": "bL0OjSv2WXNR",
        "colab_type": "code",
        "outputId": "e73a5c45-7181-426b-d626-e0a41e560914",
        "colab": {
          "base_uri": "https://localhost:8080/",
          "height": 34
        }
      },
      "source": [
        "f1_score(y_train, y_train_pred)"
      ],
      "execution_count": 29,
      "outputs": [
        {
          "output_type": "execute_result",
          "data": {
            "text/plain": [
              "0.9345132743362832"
            ]
          },
          "metadata": {
            "tags": []
          },
          "execution_count": 29
        }
      ]
    },
    {
      "cell_type": "code",
      "metadata": {
        "id": "g7Zg2F81kryJ",
        "colab_type": "code",
        "outputId": "4675d70e-9a48-402e-904b-b6bcd3743602",
        "colab": {
          "base_uri": "https://localhost:8080/",
          "height": 170
        }
      },
      "source": [
        "print(classification_report(y_train, y_train_pred))"
      ],
      "execution_count": 30,
      "outputs": [
        {
          "output_type": "stream",
          "text": [
            "              precision    recall  f1-score   support\n",
            "\n",
            "           0       0.90      0.89      0.89       173\n",
            "           1       0.93      0.94      0.93       282\n",
            "\n",
            "    accuracy                           0.92       455\n",
            "   macro avg       0.91      0.91      0.91       455\n",
            "weighted avg       0.92      0.92      0.92       455\n",
            "\n"
          ],
          "name": "stdout"
        }
      ]
    },
    {
      "cell_type": "code",
      "metadata": {
        "id": "YPbmUvcdtnZT",
        "colab_type": "code",
        "colab": {}
      },
      "source": [
        "y_train_probas = cross_val_predict(model, X_train_processed, y_train, cv=cv, method='predict_proba')"
      ],
      "execution_count": 0,
      "outputs": []
    },
    {
      "cell_type": "code",
      "metadata": {
        "id": "0p1axNI3vS4L",
        "colab_type": "code",
        "colab": {}
      },
      "source": [
        "y_train_scores = y_train_probas[:, 1]"
      ],
      "execution_count": 0,
      "outputs": []
    },
    {
      "cell_type": "code",
      "metadata": {
        "id": "vQm6XdqG4QyE",
        "colab_type": "code",
        "colab": {}
      },
      "source": [
        "def plot_pr_curve(y, y_score, label=None):\n",
        "\n",
        "    fpr, tpr, thresholds = precision_recall_curve(y, y_score)\n",
        "    plt.plot(fpr, tpr, linewidth=2, label=label)\n",
        "    plt.plot([0, 1], [1, 0], 'k--')\n",
        "    plt.axis([0, 1, 0, 1])\n",
        "    plt.xlabel('Recall')\n",
        "    plt.ylabel('Precision')\n",
        "    plt.legend()\n",
        "\n",
        "    return"
      ],
      "execution_count": 0,
      "outputs": []
    },
    {
      "cell_type": "code",
      "metadata": {
        "id": "U318bPF64rWu",
        "colab_type": "code",
        "outputId": "6d009b3a-1ec1-448b-af46-6a03e6f36dd1",
        "colab": {
          "base_uri": "https://localhost:8080/",
          "height": 300
        }
      },
      "source": [
        "plot_pr_curve(y_train, y_train_scores)\n",
        "plt.show()"
      ],
      "execution_count": 34,
      "outputs": [
        {
          "output_type": "stream",
          "text": [
            "No handles with labels found to put in legend.\n"
          ],
          "name": "stderr"
        },
        {
          "output_type": "display_data",
          "data": {
            "image/png": "[encoded data removed]",
            "text/plain": [
              "<Figure size 432x288 with 1 Axes>"
            ]
          },
          "metadata": {
            "tags": []
          }
        }
      ]
    },
    {
      "cell_type": "code",
      "metadata": {
        "id": "7VCYqksuq24d",
        "colab_type": "code",
        "colab": {}
      },
      "source": [
        "def plot_roc_curve(y, y_score, label=None):\n",
        "\n",
        "    fpr, tpr, thresholds = roc_curve(y, y_score)\n",
        "    plt.plot(fpr, tpr, linewidth=2, label=label)\n",
        "    plt.plot([0, 1], [0, 1], 'k--')\n",
        "    plt.axis([0, 1, 0, 1])\n",
        "    plt.xlabel('False Positive Rate')\n",
        "    plt.ylabel('True Positive Rate')\n",
        "    plt.legend()\n",
        "\n",
        "    return"
      ],
      "execution_count": 0,
      "outputs": []
    },
    {
      "cell_type": "code",
      "metadata": {
        "id": "-Xu3kjTZseOT",
        "colab_type": "code",
        "outputId": "2f450bd4-6c44-46e7-bd79-b5697d4e1f05",
        "colab": {
          "base_uri": "https://localhost:8080/",
          "height": 300
        }
      },
      "source": [
        "plot_roc_curve(y_train, y_train_scores)\n",
        "plt.show()"
      ],
      "execution_count": 36,
      "outputs": [
        {
          "output_type": "stream",
          "text": [
            "No handles with labels found to put in legend.\n"
          ],
          "name": "stderr"
        },
        {
          "output_type": "display_data",
          "data": {
            "image/png": "[encoded data removed]",
            "text/plain": [
              "<Figure size 432x288 with 1 Axes>"
            ]
          },
          "metadata": {
            "tags": []
          }
        }
      ]
    },
    {
      "cell_type": "code",
      "metadata": {
        "id": "chw52C80Wku3",
        "colab_type": "code",
        "outputId": "c0b7227e-a243-46e7-8cad-a7c0fc26d9cb",
        "colab": {
          "base_uri": "https://localhost:8080/",
          "height": 34
        }
      },
      "source": [
        "roc_auc_score(y_train, y_train_scores)"
      ],
      "execution_count": 37,
      "outputs": [
        {
          "output_type": "execute_result",
          "data": {
            "text/plain": [
              "0.9125158857049154"
            ]
          },
          "metadata": {
            "tags": []
          },
          "execution_count": 37
        }
      ]
    },
    {
      "cell_type": "markdown",
      "metadata": {
        "id": "CIgJPTmF7v-_",
        "colab_type": "text"
      },
      "source": [
        "###Test"
      ]
    },
    {
      "cell_type": "code",
      "metadata": {
        "id": "CMECpqia7bsX",
        "colab_type": "code",
        "colab": {}
      },
      "source": [
        "y_test_pred = model.predict(scaler.transform(X_test))"
      ],
      "execution_count": 0,
      "outputs": []
    },
    {
      "cell_type": "code",
      "metadata": {
        "id": "SXPFLWBy7kSs",
        "colab_type": "code",
        "outputId": "cfd31231-f16b-46da-8e9a-9a8a5a0ff0a1",
        "colab": {
          "base_uri": "https://localhost:8080/",
          "height": 34
        }
      },
      "source": [
        "accuracy_score(y_test, y_test_pred)"
      ],
      "execution_count": 39,
      "outputs": [
        {
          "output_type": "execute_result",
          "data": {
            "text/plain": [
              "0.9298245614035088"
            ]
          },
          "metadata": {
            "tags": []
          },
          "execution_count": 39
        }
      ]
    },
    {
      "cell_type": "code",
      "metadata": {
        "id": "5d8g_mYD5pr0",
        "colab_type": "code",
        "outputId": "5636d296-3ca5-4cdf-ef48-309b24a0cfbf",
        "colab": {
          "base_uri": "https://localhost:8080/",
          "height": 510
        }
      },
      "source": [
        "fea_imp = pd.DataFrame({'imp': model.feature_importances_, 'col': dataset['feature_names']})\n",
        "_ = fea_imp.plot(kind='barh', x='col', y='imp', figsize=(20, 10))"
      ],
      "execution_count": 40,
      "outputs": [
        {
          "output_type": "display_data",
          "data": {
            "image/png": "[encoded data removed]",
            "text/plain": [
              "<Figure size 1440x720 with 1 Axes>"
            ]
          },
          "metadata": {
            "tags": []
          }
        }
      ]
    },
    {
      "cell_type": "markdown",
      "metadata": {
        "id": "-F-zfxit8R0A",
        "colab_type": "text"
      },
      "source": [
        "###Save"
      ]
    },
    {
      "cell_type": "code",
      "metadata": {
        "id": "OeCJwAct8mq8",
        "colab_type": "code",
        "colab": {}
      },
      "source": [
        "#save the prediction\n",
        "submissiondir = '.'\n",
        "submissionname = 'submission'\n",
        "pd.DataFrame(data={'target':y_test, 'prediction':y_test_pred}).to_csv(submissiondir + '/' + submissionname + \".csv\", index_label=[\"Id\"])"
      ],
      "execution_count": 0,
      "outputs": []
    },
    {
      "cell_type": "code",
      "metadata": {
        "id": "gmZQtZYZ6yAa",
        "colab_type": "code",
        "outputId": "3b2f598e-550f-448d-97b2-e5fd971cdfaf",
        "colab": {
          "base_uri": "https://localhost:8080/",
          "height": 34
        }
      },
      "source": [
        "# save the model\n",
        "filename = 'model.sav'\n",
        "joblib.dump(model, filename)"
      ],
      "execution_count": 42,
      "outputs": [
        {
          "output_type": "execute_result",
          "data": {
            "text/plain": [
              "['model.sav']"
            ]
          },
          "metadata": {
            "tags": []
          },
          "execution_count": 42
        }
      ]
    },
    {
      "cell_type": "code",
      "metadata": {
        "id": "PSHnOTDv8Q-J",
        "colab_type": "code",
        "outputId": "b60c468b-4624-4eb8-cb9e-dd7dab968662",
        "colab": {
          "base_uri": "https://localhost:8080/",
          "height": 34
        }
      },
      "source": [
        "# load the model\n",
        "loaded_model = joblib.load(filename)\n",
        "result = loaded_model.score(scaler.transform(X_test), y_test)\n",
        "print(result)"
      ],
      "execution_count": 43,
      "outputs": [
        {
          "output_type": "stream",
          "text": [
            "0.9298245614035088\n"
          ],
          "name": "stdout"
        }
      ]
    },
    {
      "cell_type": "code",
      "metadata": {
        "id": "vJwFB3Rf-xZt",
        "colab_type": "code",
        "colab": {}
      },
      "source": [
        ""
      ],
      "execution_count": 0,
      "outputs": []
    }
  ]
}