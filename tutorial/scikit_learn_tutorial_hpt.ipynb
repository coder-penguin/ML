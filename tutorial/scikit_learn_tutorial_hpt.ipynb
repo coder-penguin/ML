{
  "nbformat": 4,
  "nbformat_minor": 0,
  "metadata": {
    "colab": {
      "name": "scikit-learn_tutorial_hpt",
      "provenance": [],
      "collapsed_sections": [],
      "include_colab_link": true
    },
    "kernelspec": {
      "name": "python3",
      "display_name": "Python 3"
    }
  },
  "cells": [
    {
      "cell_type": "markdown",
      "metadata": {
        "id": "view-in-github",
        "colab_type": "text"
      },
      "source": [
        "<a href=\"https://colab.research.google.com/github/coder-penguin/ML/blob/master/tutorial/scikit_learn_tutorial_hpt.ipynb\" target=\"_parent\"><img src=\"https://colab.research.google.com/assets/colab-badge.svg\" alt=\"Open In Colab\"/></a>"
      ]
    },
    {
      "cell_type": "markdown",
      "metadata": {
        "id": "juZkCuCQBZz7",
        "colab_type": "text"
      },
      "source": [
        "#Sample code for hyper parameter tuning"
      ]
    },
    {
      "cell_type": "markdown",
      "metadata": {
        "id": "V5hrcRzY_9uM",
        "colab_type": "text"
      },
      "source": [
        "Load libraries"
      ]
    },
    {
      "cell_type": "code",
      "metadata": {
        "id": "T8rKn8WgIWQH",
        "colab_type": "code",
        "outputId": "d0a47e48-f5a2-4e9c-9239-44c0aa716cd4",
        "colab": {
          "base_uri": "https://localhost:8080/",
          "height": 1000
        }
      },
      "source": [
        "!pip install optuna"
      ],
      "execution_count": 1,
      "outputs": [
        {
          "output_type": "stream",
          "text": [
            "Collecting optuna\n",
            "\u001b[?25l  Downloading https://files.pythonhosted.org/packages/85/ee/2688cce5ced0597e12832d1ec4f4383a468f6bddff768eeaa3b5bf4f6500/optuna-1.3.0.tar.gz (163kB)\n",
            "\u001b[K     |████████████████████████████████| 163kB 3.4MB/s \n",
            "\u001b[?25hCollecting alembic\n",
            "\u001b[?25l  Downloading https://files.pythonhosted.org/packages/60/1e/cabc75a189de0fbb2841d0975243e59bde8b7822bacbb95008ac6fe9ad47/alembic-1.4.2.tar.gz (1.1MB)\n",
            "\u001b[K     |████████████████████████████████| 1.1MB 37.7MB/s \n",
            "\u001b[?25h  Installing build dependencies ... \u001b[?25l\u001b[?25hdone\n",
            "  Getting requirements to build wheel ... \u001b[?25l\u001b[?25hdone\n",
            "    Preparing wheel metadata ... \u001b[?25l\u001b[?25hdone\n",
            "Collecting cliff\n",
            "\u001b[?25l  Downloading https://files.pythonhosted.org/packages/b9/17/57187872842bf9f65815b6969b515528ec7fd754137d2d3f49e3bc016175/cliff-3.1.0-py3-none-any.whl (80kB)\n",
            "\u001b[K     |████████████████████████████████| 81kB 11.5MB/s \n",
            "\u001b[?25hCollecting cmaes\n",
            "  Downloading https://files.pythonhosted.org/packages/a6/9f/9fcd62076df5ff38ac4678e819b23f374973214d94a678d417dbf03b9dc5/cmaes-0.3.2-py3-none-any.whl\n",
            "Collecting colorlog\n",
            "  Downloading https://files.pythonhosted.org/packages/00/0d/22c73c2eccb21dd3498df7d22c0b1d4a30f5a5fb3feb64e1ce06bc247747/colorlog-4.1.0-py2.py3-none-any.whl\n",
            "Requirement already satisfied: joblib in /usr/local/lib/python3.6/dist-packages (from optuna) (0.14.1)\n",
            "Requirement already satisfied: numpy in /usr/local/lib/python3.6/dist-packages (from optuna) (1.18.2)\n",
            "Requirement already satisfied: scipy!=1.4.0 in /usr/local/lib/python3.6/dist-packages (from optuna) (1.4.1)\n",
            "Requirement already satisfied: sqlalchemy>=1.1.0 in /usr/local/lib/python3.6/dist-packages (from optuna) (1.3.15)\n",
            "Requirement already satisfied: tqdm in /usr/local/lib/python3.6/dist-packages (from optuna) (4.38.0)\n",
            "Requirement already satisfied: python-dateutil in /usr/local/lib/python3.6/dist-packages (from alembic->optuna) (2.8.1)\n",
            "Collecting Mako\n",
            "\u001b[?25l  Downloading https://files.pythonhosted.org/packages/50/78/f6ade1e18aebda570eed33b7c534378d9659351cadce2fcbc7b31be5f615/Mako-1.1.2-py2.py3-none-any.whl (75kB)\n",
            "\u001b[K     |████████████████████████████████| 81kB 12.7MB/s \n",
            "\u001b[?25hCollecting python-editor>=0.3\n",
            "  Downloading https://files.pythonhosted.org/packages/c6/d3/201fc3abe391bbae6606e6f1d598c15d367033332bd54352b12f35513717/python_editor-1.0.4-py3-none-any.whl\n",
            "Collecting stevedore>=1.20.0\n",
            "\u001b[?25l  Downloading https://files.pythonhosted.org/packages/e6/49/a35dd566626892d577e426dbe5ea424dd7fbe10645f2c1070dcba474eca9/stevedore-1.32.0-py2.py3-none-any.whl (43kB)\n",
            "\u001b[K     |████████████████████████████████| 51kB 8.6MB/s \n",
            "\u001b[?25hCollecting cmd2!=0.8.3,<0.9.0,>=0.8.0\n",
            "\u001b[?25l  Downloading https://files.pythonhosted.org/packages/e9/40/a71caa2aaff10c73612a7106e2d35f693e85b8cf6e37ab0774274bca3cf9/cmd2-0.8.9-py2.py3-none-any.whl (53kB)\n",
            "\u001b[K     |████████████████████████████████| 61kB 9.5MB/s \n",
            "\u001b[?25hRequirement already satisfied: pyparsing>=2.1.0 in /usr/local/lib/python3.6/dist-packages (from cliff->optuna) (2.4.6)\n",
            "Requirement already satisfied: PyYAML>=3.12 in /usr/local/lib/python3.6/dist-packages (from cliff->optuna) (3.13)\n",
            "Requirement already satisfied: PrettyTable<0.8,>=0.7.2 in /usr/local/lib/python3.6/dist-packages (from cliff->optuna) (0.7.2)\n",
            "Collecting pbr!=2.1.0,>=2.0.0\n",
            "\u001b[?25l  Downloading https://files.pythonhosted.org/packages/7a/db/a968fd7beb9fe06901c1841cb25c9ccb666ca1b9a19b114d1bbedf1126fc/pbr-5.4.4-py2.py3-none-any.whl (110kB)\n",
            "\u001b[K     |████████████████████████████████| 112kB 44.4MB/s \n",
            "\u001b[?25hRequirement already satisfied: six>=1.10.0 in /usr/local/lib/python3.6/dist-packages (from cliff->optuna) (1.12.0)\n",
            "Requirement already satisfied: MarkupSafe>=0.9.2 in /usr/local/lib/python3.6/dist-packages (from Mako->alembic->optuna) (1.1.1)\n",
            "Requirement already satisfied: wcwidth; sys_platform != \"win32\" in /usr/local/lib/python3.6/dist-packages (from cmd2!=0.8.3,<0.9.0,>=0.8.0->cliff->optuna) (0.1.9)\n",
            "Collecting pyperclip\n",
            "  Downloading https://files.pythonhosted.org/packages/f6/5b/55866e1cde0f86f5eec59dab5de8a66628cb0d53da74b8dbc15ad8dabda3/pyperclip-1.8.0.tar.gz\n",
            "Building wheels for collected packages: alembic\n",
            "  Building wheel for alembic (PEP 517) ... \u001b[?25l\u001b[?25hdone\n",
            "  Created wheel for alembic: filename=alembic-1.4.2-cp36-none-any.whl size=159543 sha256=a225013f4608937615187dba5ee435e13f04b851c07443f54792d68ad136cee7\n",
            "  Stored in directory: /root/.cache/pip/wheels/1f/04/83/76023f7a4c14688c0b5c2682a96392cfdd3ee4449eaaa287ef\n",
            "Successfully built alembic\n",
            "Building wheels for collected packages: optuna, pyperclip\n",
            "  Building wheel for optuna (setup.py) ... \u001b[?25l\u001b[?25hdone\n",
            "  Created wheel for optuna: filename=optuna-1.3.0-cp36-none-any.whl size=221121 sha256=280b7707f0c42fa96abf5fcc0ed98b07a155ce0f02b2b0e4078e833aac790e05\n",
            "  Stored in directory: /root/.cache/pip/wheels/62/fd/dd/71cfd4cee14164152b952f477a16dac42ba413cfb1981585e4\n",
            "  Building wheel for pyperclip (setup.py) ... \u001b[?25l\u001b[?25hdone\n",
            "  Created wheel for pyperclip: filename=pyperclip-1.8.0-cp36-none-any.whl size=8693 sha256=c4e255771dac2f32e9a2b167fd080b433e9ad4891f8c2b7197078ea7a59bced5\n",
            "  Stored in directory: /root/.cache/pip/wheels/b2/ac/0a/b784f0afe26eaf52e88a7e15c7369090deea0354fa1c6fc689\n",
            "Successfully built optuna pyperclip\n",
            "Installing collected packages: Mako, python-editor, alembic, pbr, stevedore, pyperclip, cmd2, cliff, cmaes, colorlog, optuna\n",
            "Successfully installed Mako-1.1.2 alembic-1.4.2 cliff-3.1.0 cmaes-0.3.2 cmd2-0.8.9 colorlog-4.1.0 optuna-1.3.0 pbr-5.4.4 pyperclip-1.8.0 python-editor-1.0.4 stevedore-1.32.0\n"
          ],
          "name": "stdout"
        }
      ]
    },
    {
      "cell_type": "code",
      "metadata": {
        "id": "uz6chkI6AFGk",
        "colab_type": "code",
        "colab": {
          "base_uri": "https://localhost:8080/",
          "height": 91
        },
        "outputId": "7a4232ef-0e36-4e91-daf0-c2d491dbad4a"
      },
      "source": [
        "import numpy as np\n",
        "import pandas as pd\n",
        "import matplotlib.pyplot as plt\n",
        "\n",
        "from sklearn.datasets import load_breast_cancer\n",
        "from sklearn.model_selection import train_test_split, cross_val_predict, cross_val_score\n",
        "from sklearn.model_selection import GridSearchCV, RandomizedSearchCV\n",
        "from sklearn.metrics import confusion_matrix\n",
        "from sklearn.metrics import accuracy_score, precision_score, recall_score, f1_score, classification_report\n",
        "from sklearn.metrics import precision_recall_curve, roc_curve, roc_auc_score\n",
        "from sklearn.ensemble import RandomForestClassifier\n",
        "from sklearn.preprocessing import StandardScaler\n",
        "from sklearn.externals import joblib\n",
        "\n",
        "from hyperopt import fmin, tpe, hp, rand, Trials\n",
        "from hyperopt.pyll.base  import scope\n",
        "import optuna"
      ],
      "execution_count": 2,
      "outputs": [
        {
          "output_type": "stream",
          "text": [
            "/usr/local/lib/python3.6/dist-packages/sklearn/externals/joblib/__init__.py:15: FutureWarning: sklearn.externals.joblib is deprecated in 0.21 and will be removed in 0.23. Please import this functionality directly from joblib, which can be installed with: pip install joblib. If this warning is raised when loading pickled models, you may need to re-serialize those models with scikit-learn 0.21+.\n",
            "  warnings.warn(msg, category=FutureWarning)\n"
          ],
          "name": "stderr"
        }
      ]
    },
    {
      "cell_type": "markdown",
      "metadata": {
        "id": "yWjy9yhPETE9",
        "colab_type": "text"
      },
      "source": [
        "Read data"
      ]
    },
    {
      "cell_type": "code",
      "metadata": {
        "id": "xKApP_2eEduJ",
        "colab_type": "code",
        "colab": {}
      },
      "source": [
        "# read the breast cancer wisconsin dataset\n",
        "dataset = load_breast_cancer()"
      ],
      "execution_count": 0,
      "outputs": []
    },
    {
      "cell_type": "code",
      "metadata": {
        "id": "seKjk_6vfYzd",
        "colab_type": "code",
        "outputId": "cd8f89b1-8525-4d24-b2ef-d0526cdf5093",
        "colab": {
          "base_uri": "https://localhost:8080/",
          "height": 34
        }
      },
      "source": [
        "#30 features\n",
        "dataset['data'].shape"
      ],
      "execution_count": 4,
      "outputs": [
        {
          "output_type": "execute_result",
          "data": {
            "text/plain": [
              "(569, 30)"
            ]
          },
          "metadata": {
            "tags": []
          },
          "execution_count": 4
        }
      ]
    },
    {
      "cell_type": "code",
      "metadata": {
        "id": "9jO5ZfoA1cuY",
        "colab_type": "code",
        "outputId": "658a07d1-10ea-49ed-ebc5-83150256133c",
        "colab": {
          "base_uri": "https://localhost:8080/",
          "height": 459
        }
      },
      "source": [
        "#binary target\n",
        "dataset['target']"
      ],
      "execution_count": 5,
      "outputs": [
        {
          "output_type": "execute_result",
          "data": {
            "text/plain": [
              "array([0, 0, 0, 0, 0, 0, 0, 0, 0, 0, 0, 0, 0, 0, 0, 0, 0, 0, 0, 1, 1, 1,\n",
              "       0, 0, 0, 0, 0, 0, 0, 0, 0, 0, 0, 0, 0, 0, 0, 1, 0, 0, 0, 0, 0, 0,\n",
              "       0, 0, 1, 0, 1, 1, 1, 1, 1, 0, 0, 1, 0, 0, 1, 1, 1, 1, 0, 1, 0, 0,\n",
              "       1, 1, 1, 1, 0, 1, 0, 0, 1, 0, 1, 0, 0, 1, 1, 1, 0, 0, 1, 0, 0, 0,\n",
              "       1, 1, 1, 0, 1, 1, 0, 0, 1, 1, 1, 0, 0, 1, 1, 1, 1, 0, 1, 1, 0, 1,\n",
              "       1, 1, 1, 1, 1, 1, 1, 0, 0, 0, 1, 0, 0, 1, 1, 1, 0, 0, 1, 0, 1, 0,\n",
              "       0, 1, 0, 0, 1, 1, 0, 1, 1, 0, 1, 1, 1, 1, 0, 1, 1, 1, 1, 1, 1, 1,\n",
              "       1, 1, 0, 1, 1, 1, 1, 0, 0, 1, 0, 1, 1, 0, 0, 1, 1, 0, 0, 1, 1, 1,\n",
              "       1, 0, 1, 1, 0, 0, 0, 1, 0, 1, 0, 1, 1, 1, 0, 1, 1, 0, 0, 1, 0, 0,\n",
              "       0, 0, 1, 0, 0, 0, 1, 0, 1, 0, 1, 1, 0, 1, 0, 0, 0, 0, 1, 1, 0, 0,\n",
              "       1, 1, 1, 0, 1, 1, 1, 1, 1, 0, 0, 1, 1, 0, 1, 1, 0, 0, 1, 0, 1, 1,\n",
              "       1, 1, 0, 1, 1, 1, 1, 1, 0, 1, 0, 0, 0, 0, 0, 0, 0, 0, 0, 0, 0, 0,\n",
              "       0, 0, 1, 1, 1, 1, 1, 1, 0, 1, 0, 1, 1, 0, 1, 1, 0, 1, 0, 0, 1, 1,\n",
              "       1, 1, 1, 1, 1, 1, 1, 1, 1, 1, 1, 0, 1, 1, 0, 1, 0, 1, 1, 1, 1, 1,\n",
              "       1, 1, 1, 1, 1, 1, 1, 1, 1, 0, 1, 1, 1, 0, 1, 0, 1, 1, 1, 1, 0, 0,\n",
              "       0, 1, 1, 1, 1, 0, 1, 0, 1, 0, 1, 1, 1, 0, 1, 1, 1, 1, 1, 1, 1, 0,\n",
              "       0, 0, 1, 1, 1, 1, 1, 1, 1, 1, 1, 1, 1, 0, 0, 1, 0, 0, 0, 1, 0, 0,\n",
              "       1, 1, 1, 1, 1, 0, 1, 1, 1, 1, 1, 0, 1, 1, 1, 0, 1, 1, 0, 0, 1, 1,\n",
              "       1, 1, 1, 1, 0, 1, 1, 1, 1, 1, 1, 1, 0, 1, 1, 1, 1, 1, 0, 1, 1, 0,\n",
              "       1, 1, 1, 1, 1, 1, 1, 1, 1, 1, 1, 1, 0, 1, 0, 0, 1, 0, 1, 1, 1, 1,\n",
              "       1, 0, 1, 1, 0, 1, 0, 1, 1, 0, 1, 0, 1, 1, 1, 1, 1, 1, 1, 1, 0, 0,\n",
              "       1, 1, 1, 1, 1, 1, 0, 1, 1, 1, 1, 1, 1, 1, 1, 1, 1, 0, 1, 1, 1, 1,\n",
              "       1, 1, 1, 0, 1, 0, 1, 1, 0, 1, 1, 1, 1, 1, 0, 0, 1, 0, 1, 0, 1, 1,\n",
              "       1, 1, 1, 0, 1, 1, 0, 1, 0, 1, 0, 0, 1, 1, 1, 0, 1, 1, 1, 1, 1, 1,\n",
              "       1, 1, 1, 1, 1, 0, 1, 0, 0, 1, 1, 1, 1, 1, 1, 1, 1, 1, 1, 1, 1, 1,\n",
              "       1, 1, 1, 1, 1, 1, 1, 1, 1, 1, 1, 1, 0, 0, 0, 0, 0, 0, 1])"
            ]
          },
          "metadata": {
            "tags": []
          },
          "execution_count": 5
        }
      ]
    },
    {
      "cell_type": "code",
      "metadata": {
        "id": "WIhdEMlF1U0M",
        "colab_type": "code",
        "outputId": "062042e8-b028-4102-f17b-b193e1f7ca2e",
        "colab": {
          "base_uri": "https://localhost:8080/",
          "height": 34
        }
      },
      "source": [
        "dataset['target_names']"
      ],
      "execution_count": 6,
      "outputs": [
        {
          "output_type": "execute_result",
          "data": {
            "text/plain": [
              "array(['malignant', 'benign'], dtype='<U9')"
            ]
          },
          "metadata": {
            "tags": []
          },
          "execution_count": 6
        }
      ]
    },
    {
      "cell_type": "code",
      "metadata": {
        "id": "ZYm5eGa10_0o",
        "colab_type": "code",
        "outputId": "43a45204-ff25-4207-f910-be981a43e3ad",
        "colab": {
          "base_uri": "https://localhost:8080/",
          "height": 187
        }
      },
      "source": [
        "dataset['feature_names']"
      ],
      "execution_count": 7,
      "outputs": [
        {
          "output_type": "execute_result",
          "data": {
            "text/plain": [
              "array(['mean radius', 'mean texture', 'mean perimeter', 'mean area',\n",
              "       'mean smoothness', 'mean compactness', 'mean concavity',\n",
              "       'mean concave points', 'mean symmetry', 'mean fractal dimension',\n",
              "       'radius error', 'texture error', 'perimeter error', 'area error',\n",
              "       'smoothness error', 'compactness error', 'concavity error',\n",
              "       'concave points error', 'symmetry error',\n",
              "       'fractal dimension error', 'worst radius', 'worst texture',\n",
              "       'worst perimeter', 'worst area', 'worst smoothness',\n",
              "       'worst compactness', 'worst concavity', 'worst concave points',\n",
              "       'worst symmetry', 'worst fractal dimension'], dtype='<U23')"
            ]
          },
          "metadata": {
            "tags": []
          },
          "execution_count": 7
        }
      ]
    },
    {
      "cell_type": "code",
      "metadata": {
        "id": "9xRsKkwB_KxP",
        "colab_type": "code",
        "outputId": "42d2d392-4a1c-4f4e-dd25-7c66a65ed3fb",
        "colab": {
          "base_uri": "https://localhost:8080/",
          "height": 265
        }
      },
      "source": [
        "# show data\n",
        "plt.hist(dataset['data'][:, 0][dataset['target']==0], label=dataset['target_names'][0], alpha=0.5)\n",
        "plt.hist(dataset['data'][:, 0][dataset['target']==1], label=dataset['target_names'][1], alpha=0.5)\n",
        "plt.show()"
      ],
      "execution_count": 8,
      "outputs": [
        {
          "output_type": "display_data",
          "data": {
            "image/png": "[encoded data removed]",
            "text/plain": [
              "<Figure size 432x288 with 1 Axes>"
            ]
          },
          "metadata": {
            "tags": []
          }
        }
      ]
    },
    {
      "cell_type": "code",
      "metadata": {
        "id": "Sc_Ce1Y-FUrN",
        "colab_type": "code",
        "colab": {}
      },
      "source": [
        "# image(numpy.ndarray)\n",
        "X = dataset.data\n",
        "\n",
        "# label(numpy.ndarray)\n",
        "y = dataset.target"
      ],
      "execution_count": 0,
      "outputs": []
    },
    {
      "cell_type": "code",
      "metadata": {
        "id": "o6VcS3viIBh0",
        "colab_type": "code",
        "colab": {}
      },
      "source": [
        "#split dataset to train and test dataset\n",
        "test_size = 0.2\n",
        "X_train, X_test, y_train, y_test = train_test_split(X, y, test_size=test_size, shuffle=True)#default is True"
      ],
      "execution_count": 0,
      "outputs": []
    },
    {
      "cell_type": "code",
      "metadata": {
        "id": "iyOyxl4RJN9I",
        "colab_type": "code",
        "outputId": "91ebd7e7-f1a3-43b6-e47f-798632b840ad",
        "colab": {
          "base_uri": "https://localhost:8080/",
          "height": 51
        }
      },
      "source": [
        "print(len(X_train), len(X_test))\n",
        "print(len(y_train), len(y_test))"
      ],
      "execution_count": 11,
      "outputs": [
        {
          "output_type": "stream",
          "text": [
            "455 114\n",
            "455 114\n"
          ],
          "name": "stdout"
        }
      ]
    },
    {
      "cell_type": "code",
      "metadata": {
        "id": "ioEo_7nD9cdC",
        "colab_type": "code",
        "colab": {}
      },
      "source": [
        "df = pd.DataFrame(data=X_train, columns=dataset.feature_names)"
      ],
      "execution_count": 0,
      "outputs": []
    },
    {
      "cell_type": "code",
      "metadata": {
        "id": "E-N0n6eo9aih",
        "colab_type": "code",
        "colab": {}
      },
      "source": [
        "df['target'] = y_train"
      ],
      "execution_count": 0,
      "outputs": []
    },
    {
      "cell_type": "code",
      "metadata": {
        "id": "FXWkJ94n9Yt3",
        "colab_type": "code",
        "colab": {
          "base_uri": "https://localhost:8080/",
          "height": 258
        },
        "outputId": "59b06e51-31bc-45c5-ca5d-cdddb343c98c"
      },
      "source": [
        "df.head()"
      ],
      "execution_count": 14,
      "outputs": [
        {
          "output_type": "execute_result",
          "data": {
            "text/html": [
              "<div>\n",
              "<style scoped>\n",
              "    .dataframe tbody tr th:only-of-type {\n",
              "        vertical-align: middle;\n",
              "    }\n",
              "\n",
              "    .dataframe tbody tr th {\n",
              "        vertical-align: top;\n",
              "    }\n",
              "\n",
              "    .dataframe thead th {\n",
              "        text-align: right;\n",
              "    }\n",
              "</style>\n",
              "<table border=\"1\" class=\"dataframe\">\n",
              "  <thead>\n",
              "    <tr style=\"text-align: right;\">\n",
              "      <th></th>\n",
              "      <th>mean radius</th>\n",
              "      <th>mean texture</th>\n",
              "      <th>mean perimeter</th>\n",
              "      <th>mean area</th>\n",
              "      <th>mean smoothness</th>\n",
              "      <th>mean compactness</th>\n",
              "      <th>mean concavity</th>\n",
              "      <th>mean concave points</th>\n",
              "      <th>mean symmetry</th>\n",
              "      <th>mean fractal dimension</th>\n",
              "      <th>radius error</th>\n",
              "      <th>texture error</th>\n",
              "      <th>perimeter error</th>\n",
              "      <th>area error</th>\n",
              "      <th>smoothness error</th>\n",
              "      <th>compactness error</th>\n",
              "      <th>concavity error</th>\n",
              "      <th>concave points error</th>\n",
              "      <th>symmetry error</th>\n",
              "      <th>fractal dimension error</th>\n",
              "      <th>worst radius</th>\n",
              "      <th>worst texture</th>\n",
              "      <th>worst perimeter</th>\n",
              "      <th>worst area</th>\n",
              "      <th>worst smoothness</th>\n",
              "      <th>worst compactness</th>\n",
              "      <th>worst concavity</th>\n",
              "      <th>worst concave points</th>\n",
              "      <th>worst symmetry</th>\n",
              "      <th>worst fractal dimension</th>\n",
              "      <th>target</th>\n",
              "    </tr>\n",
              "  </thead>\n",
              "  <tbody>\n",
              "    <tr>\n",
              "      <th>0</th>\n",
              "      <td>16.350</td>\n",
              "      <td>23.29</td>\n",
              "      <td>109.00</td>\n",
              "      <td>840.4</td>\n",
              "      <td>0.09742</td>\n",
              "      <td>0.14970</td>\n",
              "      <td>0.18110</td>\n",
              "      <td>0.08773</td>\n",
              "      <td>0.2175</td>\n",
              "      <td>0.06218</td>\n",
              "      <td>0.4312</td>\n",
              "      <td>1.022</td>\n",
              "      <td>2.972</td>\n",
              "      <td>45.50</td>\n",
              "      <td>0.005635</td>\n",
              "      <td>0.03917</td>\n",
              "      <td>0.06072</td>\n",
              "      <td>0.016560</td>\n",
              "      <td>0.03197</td>\n",
              "      <td>0.004085</td>\n",
              "      <td>19.38</td>\n",
              "      <td>31.03</td>\n",
              "      <td>129.30</td>\n",
              "      <td>1165.0</td>\n",
              "      <td>0.1415</td>\n",
              "      <td>0.4665</td>\n",
              "      <td>0.70870</td>\n",
              "      <td>0.22480</td>\n",
              "      <td>0.4824</td>\n",
              "      <td>0.09614</td>\n",
              "      <td>0</td>\n",
              "    </tr>\n",
              "    <tr>\n",
              "      <th>1</th>\n",
              "      <td>9.755</td>\n",
              "      <td>28.20</td>\n",
              "      <td>61.68</td>\n",
              "      <td>290.9</td>\n",
              "      <td>0.07984</td>\n",
              "      <td>0.04626</td>\n",
              "      <td>0.01541</td>\n",
              "      <td>0.01043</td>\n",
              "      <td>0.1621</td>\n",
              "      <td>0.05952</td>\n",
              "      <td>0.1781</td>\n",
              "      <td>1.687</td>\n",
              "      <td>1.243</td>\n",
              "      <td>11.28</td>\n",
              "      <td>0.006588</td>\n",
              "      <td>0.01270</td>\n",
              "      <td>0.01450</td>\n",
              "      <td>0.006104</td>\n",
              "      <td>0.01574</td>\n",
              "      <td>0.002268</td>\n",
              "      <td>10.67</td>\n",
              "      <td>36.92</td>\n",
              "      <td>68.03</td>\n",
              "      <td>349.9</td>\n",
              "      <td>0.1110</td>\n",
              "      <td>0.1109</td>\n",
              "      <td>0.07190</td>\n",
              "      <td>0.04866</td>\n",
              "      <td>0.2321</td>\n",
              "      <td>0.07211</td>\n",
              "      <td>1</td>\n",
              "    </tr>\n",
              "    <tr>\n",
              "      <th>2</th>\n",
              "      <td>8.734</td>\n",
              "      <td>16.84</td>\n",
              "      <td>55.27</td>\n",
              "      <td>234.3</td>\n",
              "      <td>0.10390</td>\n",
              "      <td>0.07428</td>\n",
              "      <td>0.00000</td>\n",
              "      <td>0.00000</td>\n",
              "      <td>0.1985</td>\n",
              "      <td>0.07098</td>\n",
              "      <td>0.5169</td>\n",
              "      <td>2.079</td>\n",
              "      <td>3.167</td>\n",
              "      <td>28.85</td>\n",
              "      <td>0.015820</td>\n",
              "      <td>0.01966</td>\n",
              "      <td>0.00000</td>\n",
              "      <td>0.000000</td>\n",
              "      <td>0.01865</td>\n",
              "      <td>0.006736</td>\n",
              "      <td>10.17</td>\n",
              "      <td>22.80</td>\n",
              "      <td>64.01</td>\n",
              "      <td>317.0</td>\n",
              "      <td>0.1460</td>\n",
              "      <td>0.1310</td>\n",
              "      <td>0.00000</td>\n",
              "      <td>0.00000</td>\n",
              "      <td>0.2445</td>\n",
              "      <td>0.08865</td>\n",
              "      <td>1</td>\n",
              "    </tr>\n",
              "    <tr>\n",
              "      <th>3</th>\n",
              "      <td>11.840</td>\n",
              "      <td>18.70</td>\n",
              "      <td>77.93</td>\n",
              "      <td>440.6</td>\n",
              "      <td>0.11090</td>\n",
              "      <td>0.15160</td>\n",
              "      <td>0.12180</td>\n",
              "      <td>0.05182</td>\n",
              "      <td>0.2301</td>\n",
              "      <td>0.07799</td>\n",
              "      <td>0.4825</td>\n",
              "      <td>1.030</td>\n",
              "      <td>3.475</td>\n",
              "      <td>41.00</td>\n",
              "      <td>0.005551</td>\n",
              "      <td>0.03414</td>\n",
              "      <td>0.04205</td>\n",
              "      <td>0.010440</td>\n",
              "      <td>0.02273</td>\n",
              "      <td>0.005667</td>\n",
              "      <td>16.82</td>\n",
              "      <td>28.12</td>\n",
              "      <td>119.40</td>\n",
              "      <td>888.7</td>\n",
              "      <td>0.1637</td>\n",
              "      <td>0.5775</td>\n",
              "      <td>0.69560</td>\n",
              "      <td>0.15460</td>\n",
              "      <td>0.4761</td>\n",
              "      <td>0.14020</td>\n",
              "      <td>0</td>\n",
              "    </tr>\n",
              "    <tr>\n",
              "      <th>4</th>\n",
              "      <td>10.490</td>\n",
              "      <td>19.29</td>\n",
              "      <td>67.41</td>\n",
              "      <td>336.1</td>\n",
              "      <td>0.09989</td>\n",
              "      <td>0.08578</td>\n",
              "      <td>0.02995</td>\n",
              "      <td>0.01201</td>\n",
              "      <td>0.2217</td>\n",
              "      <td>0.06481</td>\n",
              "      <td>0.3550</td>\n",
              "      <td>1.534</td>\n",
              "      <td>2.302</td>\n",
              "      <td>23.13</td>\n",
              "      <td>0.007595</td>\n",
              "      <td>0.02219</td>\n",
              "      <td>0.02880</td>\n",
              "      <td>0.008614</td>\n",
              "      <td>0.02710</td>\n",
              "      <td>0.003451</td>\n",
              "      <td>11.54</td>\n",
              "      <td>23.31</td>\n",
              "      <td>74.22</td>\n",
              "      <td>402.8</td>\n",
              "      <td>0.1219</td>\n",
              "      <td>0.1486</td>\n",
              "      <td>0.07987</td>\n",
              "      <td>0.03203</td>\n",
              "      <td>0.2826</td>\n",
              "      <td>0.07552</td>\n",
              "      <td>1</td>\n",
              "    </tr>\n",
              "  </tbody>\n",
              "</table>\n",
              "</div>"
            ],
            "text/plain": [
              "   mean radius  mean texture  ...  worst fractal dimension  target\n",
              "0       16.350         23.29  ...                  0.09614       0\n",
              "1        9.755         28.20  ...                  0.07211       1\n",
              "2        8.734         16.84  ...                  0.08865       1\n",
              "3       11.840         18.70  ...                  0.14020       0\n",
              "4       10.490         19.29  ...                  0.07552       1\n",
              "\n",
              "[5 rows x 31 columns]"
            ]
          },
          "metadata": {
            "tags": []
          },
          "execution_count": 14
        }
      ]
    },
    {
      "cell_type": "code",
      "metadata": {
        "id": "0ebDy7rf9Wrk",
        "colab_type": "code",
        "colab": {
          "base_uri": "https://localhost:8080/",
          "height": 351
        },
        "outputId": "944f51bb-75af-4514-c8ed-2d4686ec2e5e"
      },
      "source": [
        "df.describe()"
      ],
      "execution_count": 15,
      "outputs": [
        {
          "output_type": "execute_result",
          "data": {
            "text/html": [
              "<div>\n",
              "<style scoped>\n",
              "    .dataframe tbody tr th:only-of-type {\n",
              "        vertical-align: middle;\n",
              "    }\n",
              "\n",
              "    .dataframe tbody tr th {\n",
              "        vertical-align: top;\n",
              "    }\n",
              "\n",
              "    .dataframe thead th {\n",
              "        text-align: right;\n",
              "    }\n",
              "</style>\n",
              "<table border=\"1\" class=\"dataframe\">\n",
              "  <thead>\n",
              "    <tr style=\"text-align: right;\">\n",
              "      <th></th>\n",
              "      <th>mean radius</th>\n",
              "      <th>mean texture</th>\n",
              "      <th>mean perimeter</th>\n",
              "      <th>mean area</th>\n",
              "      <th>mean smoothness</th>\n",
              "      <th>mean compactness</th>\n",
              "      <th>mean concavity</th>\n",
              "      <th>mean concave points</th>\n",
              "      <th>mean symmetry</th>\n",
              "      <th>mean fractal dimension</th>\n",
              "      <th>radius error</th>\n",
              "      <th>texture error</th>\n",
              "      <th>perimeter error</th>\n",
              "      <th>area error</th>\n",
              "      <th>smoothness error</th>\n",
              "      <th>compactness error</th>\n",
              "      <th>concavity error</th>\n",
              "      <th>concave points error</th>\n",
              "      <th>symmetry error</th>\n",
              "      <th>fractal dimension error</th>\n",
              "      <th>worst radius</th>\n",
              "      <th>worst texture</th>\n",
              "      <th>worst perimeter</th>\n",
              "      <th>worst area</th>\n",
              "      <th>worst smoothness</th>\n",
              "      <th>worst compactness</th>\n",
              "      <th>worst concavity</th>\n",
              "      <th>worst concave points</th>\n",
              "      <th>worst symmetry</th>\n",
              "      <th>worst fractal dimension</th>\n",
              "      <th>target</th>\n",
              "    </tr>\n",
              "  </thead>\n",
              "  <tbody>\n",
              "    <tr>\n",
              "      <th>count</th>\n",
              "      <td>455.000000</td>\n",
              "      <td>455.000000</td>\n",
              "      <td>455.000000</td>\n",
              "      <td>455.000000</td>\n",
              "      <td>455.000000</td>\n",
              "      <td>455.000000</td>\n",
              "      <td>455.000000</td>\n",
              "      <td>455.000000</td>\n",
              "      <td>455.000000</td>\n",
              "      <td>455.000000</td>\n",
              "      <td>455.000000</td>\n",
              "      <td>455.000000</td>\n",
              "      <td>455.000000</td>\n",
              "      <td>455.000000</td>\n",
              "      <td>455.000000</td>\n",
              "      <td>455.000000</td>\n",
              "      <td>455.000000</td>\n",
              "      <td>455.000000</td>\n",
              "      <td>455.000000</td>\n",
              "      <td>455.000000</td>\n",
              "      <td>455.000000</td>\n",
              "      <td>455.000000</td>\n",
              "      <td>455.000000</td>\n",
              "      <td>455.000000</td>\n",
              "      <td>455.000000</td>\n",
              "      <td>455.000000</td>\n",
              "      <td>455.000000</td>\n",
              "      <td>455.000000</td>\n",
              "      <td>455.000000</td>\n",
              "      <td>455.000000</td>\n",
              "      <td>455.000000</td>\n",
              "    </tr>\n",
              "    <tr>\n",
              "      <th>mean</th>\n",
              "      <td>14.097059</td>\n",
              "      <td>19.393758</td>\n",
              "      <td>91.765077</td>\n",
              "      <td>650.079780</td>\n",
              "      <td>0.096107</td>\n",
              "      <td>0.104710</td>\n",
              "      <td>0.089057</td>\n",
              "      <td>0.048637</td>\n",
              "      <td>0.181254</td>\n",
              "      <td>0.062870</td>\n",
              "      <td>0.400126</td>\n",
              "      <td>1.219523</td>\n",
              "      <td>2.815558</td>\n",
              "      <td>39.256738</td>\n",
              "      <td>0.007023</td>\n",
              "      <td>0.025571</td>\n",
              "      <td>0.032252</td>\n",
              "      <td>0.011741</td>\n",
              "      <td>0.020386</td>\n",
              "      <td>0.003802</td>\n",
              "      <td>16.265505</td>\n",
              "      <td>25.778769</td>\n",
              "      <td>107.207429</td>\n",
              "      <td>878.997802</td>\n",
              "      <td>0.132099</td>\n",
              "      <td>0.257044</td>\n",
              "      <td>0.275443</td>\n",
              "      <td>0.114726</td>\n",
              "      <td>0.290479</td>\n",
              "      <td>0.084433</td>\n",
              "      <td>0.621978</td>\n",
              "    </tr>\n",
              "    <tr>\n",
              "      <th>std</th>\n",
              "      <td>3.422582</td>\n",
              "      <td>4.365526</td>\n",
              "      <td>23.596699</td>\n",
              "      <td>333.413717</td>\n",
              "      <td>0.014237</td>\n",
              "      <td>0.053923</td>\n",
              "      <td>0.080070</td>\n",
              "      <td>0.038569</td>\n",
              "      <td>0.028103</td>\n",
              "      <td>0.007279</td>\n",
              "      <td>0.250284</td>\n",
              "      <td>0.564869</td>\n",
              "      <td>1.767032</td>\n",
              "      <td>36.368459</td>\n",
              "      <td>0.003095</td>\n",
              "      <td>0.018067</td>\n",
              "      <td>0.031989</td>\n",
              "      <td>0.006169</td>\n",
              "      <td>0.008143</td>\n",
              "      <td>0.002639</td>\n",
              "      <td>4.771328</td>\n",
              "      <td>6.139128</td>\n",
              "      <td>33.122503</td>\n",
              "      <td>555.300110</td>\n",
              "      <td>0.022949</td>\n",
              "      <td>0.162097</td>\n",
              "      <td>0.214403</td>\n",
              "      <td>0.066054</td>\n",
              "      <td>0.062885</td>\n",
              "      <td>0.018851</td>\n",
              "      <td>0.485427</td>\n",
              "    </tr>\n",
              "    <tr>\n",
              "      <th>min</th>\n",
              "      <td>6.981000</td>\n",
              "      <td>10.380000</td>\n",
              "      <td>43.790000</td>\n",
              "      <td>143.500000</td>\n",
              "      <td>0.052630</td>\n",
              "      <td>0.019380</td>\n",
              "      <td>0.000000</td>\n",
              "      <td>0.000000</td>\n",
              "      <td>0.106000</td>\n",
              "      <td>0.049960</td>\n",
              "      <td>0.111500</td>\n",
              "      <td>0.360200</td>\n",
              "      <td>0.757000</td>\n",
              "      <td>6.802000</td>\n",
              "      <td>0.001713</td>\n",
              "      <td>0.002252</td>\n",
              "      <td>0.000000</td>\n",
              "      <td>0.000000</td>\n",
              "      <td>0.007882</td>\n",
              "      <td>0.000895</td>\n",
              "      <td>7.930000</td>\n",
              "      <td>12.870000</td>\n",
              "      <td>50.410000</td>\n",
              "      <td>185.200000</td>\n",
              "      <td>0.071170</td>\n",
              "      <td>0.027290</td>\n",
              "      <td>0.000000</td>\n",
              "      <td>0.000000</td>\n",
              "      <td>0.156500</td>\n",
              "      <td>0.055040</td>\n",
              "      <td>0.000000</td>\n",
              "    </tr>\n",
              "    <tr>\n",
              "      <th>25%</th>\n",
              "      <td>11.695000</td>\n",
              "      <td>16.190000</td>\n",
              "      <td>74.935000</td>\n",
              "      <td>420.050000</td>\n",
              "      <td>0.085345</td>\n",
              "      <td>0.064120</td>\n",
              "      <td>0.028360</td>\n",
              "      <td>0.019685</td>\n",
              "      <td>0.161750</td>\n",
              "      <td>0.057885</td>\n",
              "      <td>0.227200</td>\n",
              "      <td>0.832400</td>\n",
              "      <td>1.574500</td>\n",
              "      <td>17.740000</td>\n",
              "      <td>0.005080</td>\n",
              "      <td>0.012805</td>\n",
              "      <td>0.014550</td>\n",
              "      <td>0.007759</td>\n",
              "      <td>0.015210</td>\n",
              "      <td>0.002238</td>\n",
              "      <td>12.980000</td>\n",
              "      <td>21.250000</td>\n",
              "      <td>83.795000</td>\n",
              "      <td>511.500000</td>\n",
              "      <td>0.116600</td>\n",
              "      <td>0.142650</td>\n",
              "      <td>0.108800</td>\n",
              "      <td>0.064985</td>\n",
              "      <td>0.250300</td>\n",
              "      <td>0.071270</td>\n",
              "      <td>0.000000</td>\n",
              "    </tr>\n",
              "    <tr>\n",
              "      <th>50%</th>\n",
              "      <td>13.380000</td>\n",
              "      <td>18.900000</td>\n",
              "      <td>86.340000</td>\n",
              "      <td>551.700000</td>\n",
              "      <td>0.095660</td>\n",
              "      <td>0.092180</td>\n",
              "      <td>0.061950</td>\n",
              "      <td>0.033500</td>\n",
              "      <td>0.179200</td>\n",
              "      <td>0.061400</td>\n",
              "      <td>0.324200</td>\n",
              "      <td>1.108000</td>\n",
              "      <td>2.302000</td>\n",
              "      <td>24.720000</td>\n",
              "      <td>0.006292</td>\n",
              "      <td>0.020750</td>\n",
              "      <td>0.026020</td>\n",
              "      <td>0.010830</td>\n",
              "      <td>0.018680</td>\n",
              "      <td>0.003187</td>\n",
              "      <td>14.970000</td>\n",
              "      <td>25.460000</td>\n",
              "      <td>97.960000</td>\n",
              "      <td>687.600000</td>\n",
              "      <td>0.131200</td>\n",
              "      <td>0.211700</td>\n",
              "      <td>0.229900</td>\n",
              "      <td>0.101500</td>\n",
              "      <td>0.282300</td>\n",
              "      <td>0.080240</td>\n",
              "      <td>1.000000</td>\n",
              "    </tr>\n",
              "    <tr>\n",
              "      <th>75%</th>\n",
              "      <td>15.940000</td>\n",
              "      <td>21.760000</td>\n",
              "      <td>104.900000</td>\n",
              "      <td>790.850000</td>\n",
              "      <td>0.104900</td>\n",
              "      <td>0.130550</td>\n",
              "      <td>0.131300</td>\n",
              "      <td>0.071905</td>\n",
              "      <td>0.195800</td>\n",
              "      <td>0.066005</td>\n",
              "      <td>0.474700</td>\n",
              "      <td>1.466500</td>\n",
              "      <td>3.306500</td>\n",
              "      <td>45.075000</td>\n",
              "      <td>0.008060</td>\n",
              "      <td>0.032460</td>\n",
              "      <td>0.042890</td>\n",
              "      <td>0.014685</td>\n",
              "      <td>0.023360</td>\n",
              "      <td>0.004504</td>\n",
              "      <td>18.895000</td>\n",
              "      <td>29.690000</td>\n",
              "      <td>126.500000</td>\n",
              "      <td>1091.500000</td>\n",
              "      <td>0.146000</td>\n",
              "      <td>0.343500</td>\n",
              "      <td>0.385700</td>\n",
              "      <td>0.162650</td>\n",
              "      <td>0.318150</td>\n",
              "      <td>0.092220</td>\n",
              "      <td>1.000000</td>\n",
              "    </tr>\n",
              "    <tr>\n",
              "      <th>max</th>\n",
              "      <td>27.220000</td>\n",
              "      <td>39.280000</td>\n",
              "      <td>182.100000</td>\n",
              "      <td>2250.000000</td>\n",
              "      <td>0.163400</td>\n",
              "      <td>0.345400</td>\n",
              "      <td>0.426800</td>\n",
              "      <td>0.201200</td>\n",
              "      <td>0.304000</td>\n",
              "      <td>0.097440</td>\n",
              "      <td>1.509000</td>\n",
              "      <td>4.885000</td>\n",
              "      <td>10.120000</td>\n",
              "      <td>233.000000</td>\n",
              "      <td>0.031130</td>\n",
              "      <td>0.135400</td>\n",
              "      <td>0.396000</td>\n",
              "      <td>0.052790</td>\n",
              "      <td>0.078950</td>\n",
              "      <td>0.029840</td>\n",
              "      <td>33.130000</td>\n",
              "      <td>49.540000</td>\n",
              "      <td>229.300000</td>\n",
              "      <td>3432.000000</td>\n",
              "      <td>0.218400</td>\n",
              "      <td>1.058000</td>\n",
              "      <td>1.252000</td>\n",
              "      <td>0.291000</td>\n",
              "      <td>0.663800</td>\n",
              "      <td>0.207500</td>\n",
              "      <td>1.000000</td>\n",
              "    </tr>\n",
              "  </tbody>\n",
              "</table>\n",
              "</div>"
            ],
            "text/plain": [
              "       mean radius  mean texture  ...  worst fractal dimension      target\n",
              "count   455.000000    455.000000  ...               455.000000  455.000000\n",
              "mean     14.097059     19.393758  ...                 0.084433    0.621978\n",
              "std       3.422582      4.365526  ...                 0.018851    0.485427\n",
              "min       6.981000     10.380000  ...                 0.055040    0.000000\n",
              "25%      11.695000     16.190000  ...                 0.071270    0.000000\n",
              "50%      13.380000     18.900000  ...                 0.080240    1.000000\n",
              "75%      15.940000     21.760000  ...                 0.092220    1.000000\n",
              "max      27.220000     39.280000  ...                 0.207500    1.000000\n",
              "\n",
              "[8 rows x 31 columns]"
            ]
          },
          "metadata": {
            "tags": []
          },
          "execution_count": 15
        }
      ]
    },
    {
      "cell_type": "code",
      "metadata": {
        "id": "JyYZ2sYp9UBe",
        "colab_type": "code",
        "colab": {
          "base_uri": "https://localhost:8080/",
          "height": 1000
        },
        "outputId": "e5ef46a7-e565-4aa9-c91f-e5a39756b675"
      },
      "source": [
        "# show data\n",
        "df.hist(bins=50, figsize=(20,15))"
      ],
      "execution_count": 16,
      "outputs": [
        {
          "output_type": "execute_result",
          "data": {
            "text/plain": [
              "array([[<matplotlib.axes._subplots.AxesSubplot object at 0x7fcfc0ea3470>,\n",
              "        <matplotlib.axes._subplots.AxesSubplot object at 0x7fcfc0e4e710>,\n",
              "        <matplotlib.axes._subplots.AxesSubplot object at 0x7fcfc0e00978>,\n",
              "        <matplotlib.axes._subplots.AxesSubplot object at 0x7fcfc0e34be0>,\n",
              "        <matplotlib.axes._subplots.AxesSubplot object at 0x7fcfc0deae48>,\n",
              "        <matplotlib.axes._subplots.AxesSubplot object at 0x7fcfc0daa0f0>],\n",
              "       [<matplotlib.axes._subplots.AxesSubplot object at 0x7fcfc0d5e358>,\n",
              "        <matplotlib.axes._subplots.AxesSubplot object at 0x7fcfc0d10588>,\n",
              "        <matplotlib.axes._subplots.AxesSubplot object at 0x7fcfc0d105f8>,\n",
              "        <matplotlib.axes._subplots.AxesSubplot object at 0x7fcfc0c77a90>,\n",
              "        <matplotlib.axes._subplots.AxesSubplot object at 0x7fcfc0caccf8>,\n",
              "        <matplotlib.axes._subplots.AxesSubplot object at 0x7fcfc0c60f60>],\n",
              "       [<matplotlib.axes._subplots.AxesSubplot object at 0x7fcfc0c22208>,\n",
              "        <matplotlib.axes._subplots.AxesSubplot object at 0x7fcfc0bd4470>,\n",
              "        <matplotlib.axes._subplots.AxesSubplot object at 0x7fcfc0b886d8>,\n",
              "        <matplotlib.axes._subplots.AxesSubplot object at 0x7fcfc0b3b940>,\n",
              "        <matplotlib.axes._subplots.AxesSubplot object at 0x7fcfc0b72ba8>,\n",
              "        <matplotlib.axes._subplots.AxesSubplot object at 0x7fcfc0b26e10>],\n",
              "       [<matplotlib.axes._subplots.AxesSubplot object at 0x7fcfc0ae90b8>,\n",
              "        <matplotlib.axes._subplots.AxesSubplot object at 0x7fcfc0a99320>,\n",
              "        <matplotlib.axes._subplots.AxesSubplot object at 0x7fcfc0a4e588>,\n",
              "        <matplotlib.axes._subplots.AxesSubplot object at 0x7fcfc0a017f0>,\n",
              "        <matplotlib.axes._subplots.AxesSubplot object at 0x7fcfc0a34a58>,\n",
              "        <matplotlib.axes._subplots.AxesSubplot object at 0x7fcfc09eacc0>],\n",
              "       [<matplotlib.axes._subplots.AxesSubplot object at 0x7fcfc099cf28>,\n",
              "        <matplotlib.axes._subplots.AxesSubplot object at 0x7fcfc095d1d0>,\n",
              "        <matplotlib.axes._subplots.AxesSubplot object at 0x7fcfc0912438>,\n",
              "        <matplotlib.axes._subplots.AxesSubplot object at 0x7fcfc08c46a0>,\n",
              "        <matplotlib.axes._subplots.AxesSubplot object at 0x7fcfc0879908>,\n",
              "        <matplotlib.axes._subplots.AxesSubplot object at 0x7fcfc0e345c0>],\n",
              "       [<matplotlib.axes._subplots.AxesSubplot object at 0x7fcfc0ca05f8>,\n",
              "        <matplotlib.axes._subplots.AxesSubplot object at 0x7fcfc0b05080>,\n",
              "        <matplotlib.axes._subplots.AxesSubplot object at 0x7fcfc0977a20>,\n",
              "        <matplotlib.axes._subplots.AxesSubplot object at 0x7fcfc13cae10>,\n",
              "        <matplotlib.axes._subplots.AxesSubplot object at 0x7fcfc13d8978>,\n",
              "        <matplotlib.axes._subplots.AxesSubplot object at 0x7fcfc07d2978>]],\n",
              "      dtype=object)"
            ]
          },
          "metadata": {
            "tags": []
          },
          "execution_count": 16
        },
        {
          "output_type": "display_data",
          "data": {
            "image/png": "[encoded data removed]",
            "text/plain": [
              "<Figure size 1440x1080 with 36 Axes>"
            ]
          },
          "metadata": {
            "tags": []
          }
        }
      ]
    },
    {
      "cell_type": "code",
      "metadata": {
        "id": "3EG_Edmi9SYj",
        "colab_type": "code",
        "colab": {}
      },
      "source": [
        "#standard correlation coefficient\n",
        "corr_mx = df.corr()"
      ],
      "execution_count": 0,
      "outputs": []
    },
    {
      "cell_type": "code",
      "metadata": {
        "id": "h9Zm7ehp9QS4",
        "colab_type": "code",
        "colab": {
          "base_uri": "https://localhost:8080/",
          "height": 561
        },
        "outputId": "7f720d91-acf3-49aa-ce38-b03bc0ebaa47"
      },
      "source": [
        "corr_mx['target'].sort_values(ascending=False)"
      ],
      "execution_count": 18,
      "outputs": [
        {
          "output_type": "execute_result",
          "data": {
            "text/plain": [
              "target                     1.000000\n",
              "smoothness error           0.056944\n",
              "texture error              0.041983\n",
              "mean fractal dimension    -0.005972\n",
              "symmetry error            -0.007385\n",
              "fractal dimension error   -0.086545\n",
              "concavity error           -0.242689\n",
              "compactness error         -0.303833\n",
              "worst fractal dimension   -0.335437\n",
              "mean symmetry             -0.338206\n",
              "mean texture              -0.376475\n",
              "mean smoothness           -0.386158\n",
              "concave points error      -0.410491\n",
              "worst texture             -0.430234\n",
              "worst symmetry            -0.433414\n",
              "worst smoothness          -0.449876\n",
              "worst compactness         -0.596458\n",
              "mean compactness          -0.597512\n",
              "perimeter error           -0.606032\n",
              "radius error              -0.615297\n",
              "area error                -0.650513\n",
              "worst concavity           -0.655316\n",
              "mean concavity            -0.693609\n",
              "mean area                 -0.720389\n",
              "mean radius               -0.732307\n",
              "worst area                -0.741289\n",
              "mean perimeter            -0.746621\n",
              "worst radius              -0.779691\n",
              "mean concave points       -0.781655\n",
              "worst perimeter           -0.785230\n",
              "worst concave points      -0.797010\n",
              "Name: target, dtype: float64"
            ]
          },
          "metadata": {
            "tags": []
          },
          "execution_count": 18
        }
      ]
    },
    {
      "cell_type": "code",
      "metadata": {
        "id": "XMTT3UR49NUF",
        "colab_type": "code",
        "colab": {
          "base_uri": "https://localhost:8080/",
          "height": 794
        },
        "outputId": "7a50c060-945b-4e23-ae88-e588a11c3933"
      },
      "source": [
        "attributes = ['target', 'worst concave points', 'worst perimeter', 'mean concave points']\n",
        "pd.plotting.scatter_matrix(df[attributes], figsize=(12, 8))"
      ],
      "execution_count": 19,
      "outputs": [
        {
          "output_type": "execute_result",
          "data": {
            "text/plain": [
              "array([[<matplotlib.axes._subplots.AxesSubplot object at 0x7fcfc076ee80>,\n",
              "        <matplotlib.axes._subplots.AxesSubplot object at 0x7fcfbf4ccf98>,\n",
              "        <matplotlib.axes._subplots.AxesSubplot object at 0x7fcfbf2f79e8>,\n",
              "        <matplotlib.axes._subplots.AxesSubplot object at 0x7fcfbf42ad68>],\n",
              "       [<matplotlib.axes._subplots.AxesSubplot object at 0x7fcfbf3ec128>,\n",
              "        <matplotlib.axes._subplots.AxesSubplot object at 0x7fcfbf2fe4a8>,\n",
              "        <matplotlib.axes._subplots.AxesSubplot object at 0x7fcfbf9c1be0>,\n",
              "        <matplotlib.axes._subplots.AxesSubplot object at 0x7fcfbf7635f8>],\n",
              "       [<matplotlib.axes._subplots.AxesSubplot object at 0x7fcfbf763208>,\n",
              "        <matplotlib.axes._subplots.AxesSubplot object at 0x7fcfbff02320>,\n",
              "        <matplotlib.axes._subplots.AxesSubplot object at 0x7fcfbf7a12e8>,\n",
              "        <matplotlib.axes._subplots.AxesSubplot object at 0x7fcfbda47550>],\n",
              "       [<matplotlib.axes._subplots.AxesSubplot object at 0x7fcfbd9fb7b8>,\n",
              "        <matplotlib.axes._subplots.AxesSubplot object at 0x7fcfbda31a20>,\n",
              "        <matplotlib.axes._subplots.AxesSubplot object at 0x7fcfbd9e3c88>,\n",
              "        <matplotlib.axes._subplots.AxesSubplot object at 0x7fcfbd999ef0>]],\n",
              "      dtype=object)"
            ]
          },
          "metadata": {
            "tags": []
          },
          "execution_count": 19
        },
        {
          "output_type": "display_data",
          "data": {
            "image/png": "[encoded data removed]",
            "text/plain": [
              "<Figure size 864x576 with 16 Axes>"
            ]
          },
          "metadata": {
            "tags": []
          }
        }
      ]
    },
    {
      "cell_type": "code",
      "metadata": {
        "id": "_g66Py149MVK",
        "colab_type": "code",
        "colab": {}
      },
      "source": [
        "scaler = StandardScaler()\n",
        "X_train_processed = scaler.fit_transform(X_train)"
      ],
      "execution_count": 0,
      "outputs": []
    },
    {
      "cell_type": "markdown",
      "metadata": {
        "id": "3jX0iHDgDb_x",
        "colab_type": "text"
      },
      "source": [
        "###Hyper parameter tuning"
      ]
    },
    {
      "cell_type": "markdown",
      "metadata": {
        "id": "319LnwIDP9DO",
        "colab_type": "text"
      },
      "source": [
        "GridSearchCV"
      ]
    },
    {
      "cell_type": "code",
      "metadata": {
        "id": "Api09f4SQhn0",
        "colab_type": "code",
        "colab": {}
      },
      "source": [
        "param_grid = [{'n_estimators' : [10, 100, 500],\n",
        "                       'max_depth' : [2, 4, 6, 8, 10]}]"
      ],
      "execution_count": 0,
      "outputs": []
    },
    {
      "cell_type": "code",
      "metadata": {
        "id": "7avwoK0wRVYP",
        "colab_type": "code",
        "colab": {}
      },
      "source": [
        "model = RandomForestClassifier()"
      ],
      "execution_count": 0,
      "outputs": []
    },
    {
      "cell_type": "code",
      "metadata": {
        "id": "VS-SyQw7RGRN",
        "colab_type": "code",
        "colab": {}
      },
      "source": [
        "grid_search = GridSearchCV(model, param_grid, cv=3)"
      ],
      "execution_count": 0,
      "outputs": []
    },
    {
      "cell_type": "code",
      "metadata": {
        "id": "ooFVUtJaR_gm",
        "colab_type": "code",
        "outputId": "90487763-ce44-4a4d-905c-21e5053e54bb",
        "colab": {
          "base_uri": "https://localhost:8080/",
          "height": 374
        }
      },
      "source": [
        "grid_search.fit(X_train_processed, y_train)"
      ],
      "execution_count": 24,
      "outputs": [
        {
          "output_type": "execute_result",
          "data": {
            "text/plain": [
              "GridSearchCV(cv=3, error_score=nan,\n",
              "             estimator=RandomForestClassifier(bootstrap=True, ccp_alpha=0.0,\n",
              "                                              class_weight=None,\n",
              "                                              criterion='gini', max_depth=None,\n",
              "                                              max_features='auto',\n",
              "                                              max_leaf_nodes=None,\n",
              "                                              max_samples=None,\n",
              "                                              min_impurity_decrease=0.0,\n",
              "                                              min_impurity_split=None,\n",
              "                                              min_samples_leaf=1,\n",
              "                                              min_samples_split=2,\n",
              "                                              min_weight_fraction_leaf=0.0,\n",
              "                                              n_estimators=100, n_jobs=None,\n",
              "                                              oob_score=False,\n",
              "                                              random_state=None, verbose=0,\n",
              "                                              warm_start=False),\n",
              "             iid='deprecated', n_jobs=None,\n",
              "             param_grid=[{'max_depth': [2, 4, 6, 8, 10],\n",
              "                          'n_estimators': [10, 100, 500]}],\n",
              "             pre_dispatch='2*n_jobs', refit=True, return_train_score=False,\n",
              "             scoring=None, verbose=0)"
            ]
          },
          "metadata": {
            "tags": []
          },
          "execution_count": 24
        }
      ]
    },
    {
      "cell_type": "code",
      "metadata": {
        "id": "qvsExTPQStoE",
        "colab_type": "code",
        "outputId": "8161c652-3eb2-4bc5-8a97-e1802af112e3",
        "colab": {
          "base_uri": "https://localhost:8080/",
          "height": 34
        }
      },
      "source": [
        "grid_search.best_params_"
      ],
      "execution_count": 25,
      "outputs": [
        {
          "output_type": "execute_result",
          "data": {
            "text/plain": [
              "{'max_depth': 8, 'n_estimators': 10}"
            ]
          },
          "metadata": {
            "tags": []
          },
          "execution_count": 25
        }
      ]
    },
    {
      "cell_type": "code",
      "metadata": {
        "id": "HocAgELfS2E_",
        "colab_type": "code",
        "outputId": "ee0e0cfd-7c18-46b9-c09c-d890b680d612",
        "colab": {
          "base_uri": "https://localhost:8080/",
          "height": 34
        }
      },
      "source": [
        "grid_search.best_score_"
      ],
      "execution_count": 26,
      "outputs": [
        {
          "output_type": "execute_result",
          "data": {
            "text/plain": [
              "0.9625740676193796"
            ]
          },
          "metadata": {
            "tags": []
          },
          "execution_count": 26
        }
      ]
    },
    {
      "cell_type": "markdown",
      "metadata": {
        "id": "MQp_S4ZkQAnZ",
        "colab_type": "text"
      },
      "source": [
        "RandomizedSearchCV"
      ]
    },
    {
      "cell_type": "code",
      "metadata": {
        "id": "Zc0PzgWETWov",
        "colab_type": "code",
        "colab": {}
      },
      "source": [
        "# specify parameters and distributions to sample from\n",
        "param_dist = [{'n_estimators': range(10, 500),\n",
        "                      'max_depth': range(1, 10)}]\n",
        "\n",
        "n_iter_search = 100"
      ],
      "execution_count": 0,
      "outputs": []
    },
    {
      "cell_type": "code",
      "metadata": {
        "id": "Mnbr6S36TM7y",
        "colab_type": "code",
        "colab": {}
      },
      "source": [
        "model = RandomForestClassifier()"
      ],
      "execution_count": 0,
      "outputs": []
    },
    {
      "cell_type": "code",
      "metadata": {
        "id": "MBDs7WLKTZXF",
        "colab_type": "code",
        "colab": {}
      },
      "source": [
        "random_search = RandomizedSearchCV(model, param_distributions=param_dist, n_iter=n_iter_search, cv=3)"
      ],
      "execution_count": 0,
      "outputs": []
    },
    {
      "cell_type": "code",
      "metadata": {
        "id": "BC9PSO6YUmLP",
        "colab_type": "code",
        "outputId": "c17c277d-7970-4710-fe2b-6ec3d899287d",
        "colab": {
          "base_uri": "https://localhost:8080/",
          "height": 442
        }
      },
      "source": [
        "random_search.fit(X_train_processed, y_train)"
      ],
      "execution_count": 30,
      "outputs": [
        {
          "output_type": "execute_result",
          "data": {
            "text/plain": [
              "RandomizedSearchCV(cv=3, error_score=nan,\n",
              "                   estimator=RandomForestClassifier(bootstrap=True,\n",
              "                                                    ccp_alpha=0.0,\n",
              "                                                    class_weight=None,\n",
              "                                                    criterion='gini',\n",
              "                                                    max_depth=None,\n",
              "                                                    max_features='auto',\n",
              "                                                    max_leaf_nodes=None,\n",
              "                                                    max_samples=None,\n",
              "                                                    min_impurity_decrease=0.0,\n",
              "                                                    min_impurity_split=None,\n",
              "                                                    min_samples_leaf=1,\n",
              "                                                    min_samples_split=2,\n",
              "                                                    min_weight_fraction_leaf=0.0,\n",
              "                                                    n_estimators=100,\n",
              "                                                    n_jobs=None,\n",
              "                                                    oob_score=False,\n",
              "                                                    random_state=None,\n",
              "                                                    verbose=0,\n",
              "                                                    warm_start=False),\n",
              "                   iid='deprecated', n_iter=100, n_jobs=None,\n",
              "                   param_distributions=[{'max_depth': range(1, 10),\n",
              "                                         'n_estimators': range(10, 500)}],\n",
              "                   pre_dispatch='2*n_jobs', random_state=None, refit=True,\n",
              "                   return_train_score=False, scoring=None, verbose=0)"
            ]
          },
          "metadata": {
            "tags": []
          },
          "execution_count": 30
        }
      ]
    },
    {
      "cell_type": "code",
      "metadata": {
        "id": "501CFCRJVWqx",
        "colab_type": "code",
        "outputId": "43b19426-a078-4d62-80a3-a9627fb096ab",
        "colab": {
          "base_uri": "https://localhost:8080/",
          "height": 34
        }
      },
      "source": [
        "random_search.best_params_"
      ],
      "execution_count": 31,
      "outputs": [
        {
          "output_type": "execute_result",
          "data": {
            "text/plain": [
              "{'max_depth': 8, 'n_estimators': 113}"
            ]
          },
          "metadata": {
            "tags": []
          },
          "execution_count": 31
        }
      ]
    },
    {
      "cell_type": "code",
      "metadata": {
        "id": "0uY39ILKVaUP",
        "colab_type": "code",
        "outputId": "f9d716d6-99f0-4b6d-b4f5-06414c7c32c4",
        "colab": {
          "base_uri": "https://localhost:8080/",
          "height": 34
        }
      },
      "source": [
        "random_search.best_score_"
      ],
      "execution_count": 32,
      "outputs": [
        {
          "output_type": "execute_result",
          "data": {
            "text/plain": [
              "0.9669745555942838"
            ]
          },
          "metadata": {
            "tags": []
          },
          "execution_count": 32
        }
      ]
    },
    {
      "cell_type": "markdown",
      "metadata": {
        "id": "mZ0R2OfcXPFV",
        "colab_type": "text"
      },
      "source": [
        "hyperopt"
      ]
    },
    {
      "cell_type": "code",
      "metadata": {
        "id": "Y82iKZEhXR_P",
        "colab_type": "code",
        "colab": {}
      },
      "source": [
        "def objective_hyperopt(args):\n",
        "        \n",
        "    cv = 3\n",
        "    model = RandomForestClassifier(**args)\n",
        "    scores = cross_val_score(model, X_train_processed, y_train, cv=cv, scoring='accuracy')\n",
        "\n",
        "    return 1 - scores.mean()"
      ],
      "execution_count": 0,
      "outputs": []
    },
    {
      "cell_type": "code",
      "metadata": {
        "id": "i6sw69fuX_m1",
        "colab_type": "code",
        "colab": {}
      },
      "source": [
        "param_hyperopt = {'n_estimators': scope.int(hp.quniform('n_estimators',  10, 500, q=1)),\n",
        "                               'max_depth': scope.int(hp.quniform('max_depth', 1, 10,  q=1))}"
      ],
      "execution_count": 0,
      "outputs": []
    },
    {
      "cell_type": "code",
      "metadata": {
        "id": "IXvKCc9bXhYS",
        "colab_type": "code",
        "outputId": "942dee90-fd9c-4930-9c24-8b33cfa1ee59",
        "colab": {
          "base_uri": "https://localhost:8080/",
          "height": 34
        }
      },
      "source": [
        "trials = Trials()\n",
        "best = fmin(objective_hyperopt, param_hyperopt, algo=tpe.suggest, max_evals=100, trials=trials)"
      ],
      "execution_count": 35,
      "outputs": [
        {
          "output_type": "stream",
          "text": [
            "100%|██████████| 100/100 [02:03<00:00,  1.23s/it, best loss: 0.0330109213430928]\n"
          ],
          "name": "stdout"
        }
      ]
    },
    {
      "cell_type": "code",
      "metadata": {
        "id": "uBs-szFBcHh_",
        "colab_type": "code",
        "outputId": "29225d09-52a2-49e2-bf8a-4f8f54896709",
        "colab": {
          "base_uri": "https://localhost:8080/",
          "height": 34
        }
      },
      "source": [
        "best"
      ],
      "execution_count": 36,
      "outputs": [
        {
          "output_type": "execute_result",
          "data": {
            "text/plain": [
              "{'max_depth': 9.0, 'n_estimators': 46.0}"
            ]
          },
          "metadata": {
            "tags": []
          },
          "execution_count": 36
        }
      ]
    },
    {
      "cell_type": "code",
      "metadata": {
        "id": "yWtxg8H8cYOi",
        "colab_type": "code",
        "outputId": "68499843-eacb-4c51-a823-5be87d36bd73",
        "colab": {
          "base_uri": "https://localhost:8080/",
          "height": 34
        }
      },
      "source": [
        "1 - trials.best_trial['result']['loss']"
      ],
      "execution_count": 37,
      "outputs": [
        {
          "output_type": "execute_result",
          "data": {
            "text/plain": [
              "0.9669890786569072"
            ]
          },
          "metadata": {
            "tags": []
          },
          "execution_count": 37
        }
      ]
    },
    {
      "cell_type": "markdown",
      "metadata": {
        "id": "FiOAgDe7PFoB",
        "colab_type": "text"
      },
      "source": [
        "optuna"
      ]
    },
    {
      "cell_type": "code",
      "metadata": {
        "id": "Ttqq7_krDat3",
        "colab_type": "code",
        "colab": {}
      },
      "source": [
        "def objective_optuna(trial):\n",
        "    n_estimators = trial.suggest_int('n_estimators', 10, 500)\n",
        "    max_depth = trial.suggest_int('max_depth', 1, 10)\n",
        "        \n",
        "    cv = 3\n",
        "    model = RandomForestClassifier(n_estimators=n_estimators, max_depth=max_depth)\n",
        "    scores = cross_val_score(model, X_train_processed, y_train, cv=cv, scoring='accuracy')\n",
        "    \n",
        "    return 1 - scores.mean()"
      ],
      "execution_count": 0,
      "outputs": []
    },
    {
      "cell_type": "code",
      "metadata": {
        "id": "fTftV6mvEw20",
        "colab_type": "code",
        "colab": {}
      },
      "source": [
        "study = optuna.create_study()"
      ],
      "execution_count": 0,
      "outputs": []
    },
    {
      "cell_type": "code",
      "metadata": {
        "id": "B15vl8SzE0f3",
        "colab_type": "code",
        "colab": {
          "base_uri": "https://localhost:8080/",
          "height": 1000
        },
        "outputId": "f356c6aa-640c-4121-ca63-18f66ebfc6eb"
      },
      "source": [
        "study.optimize(objective_optuna, n_trials=100)"
      ],
      "execution_count": 40,
      "outputs": [
        {
          "output_type": "stream",
          "text": [
            "\u001b[32m[I 2020-04-03 03:01:12,697]\u001b[0m Finished trial#0 with value: 0.039604391774137326 with parameters: {'n_estimators': 479, 'max_depth': 8}. Best is trial#0 with value: 0.039604391774137326.\u001b[0m\n",
            "\u001b[32m[I 2020-04-03 03:01:14,702]\u001b[0m Finished trial#1 with value: 0.04400487974904144 with parameters: {'n_estimators': 376, 'max_depth': 4}. Best is trial#0 with value: 0.039604391774137326.\u001b[0m\n",
            "\u001b[32m[I 2020-04-03 03:01:16,098]\u001b[0m Finished trial#2 with value: 0.03963343789938423 with parameters: {'n_estimators': 242, 'max_depth': 9}. Best is trial#0 with value: 0.039604391774137326.\u001b[0m\n",
            "\u001b[32m[I 2020-04-03 03:01:16,795]\u001b[0m Finished trial#3 with value: 0.04182642035552453 with parameters: {'n_estimators': 104, 'max_depth': 7}. Best is trial#0 with value: 0.039604391774137326.\u001b[0m\n",
            "\u001b[32m[I 2020-04-03 03:01:18,512]\u001b[0m Finished trial#4 with value: 0.04622690833042864 with parameters: {'n_estimators': 308, 'max_depth': 7}. Best is trial#0 with value: 0.039604391774137326.\u001b[0m\n",
            "\u001b[32m[I 2020-04-03 03:01:20,278]\u001b[0m Finished trial#5 with value: 0.041811897292901024 with parameters: {'n_estimators': 313, 'max_depth': 7}. Best is trial#0 with value: 0.039604391774137326.\u001b[0m\n",
            "\u001b[32m[I 2020-04-03 03:01:22,618]\u001b[0m Finished trial#6 with value: 0.03961891483676083 with parameters: {'n_estimators': 431, 'max_depth': 9}. Best is trial#0 with value: 0.039604391774137326.\u001b[0m\n",
            "\u001b[32m[I 2020-04-03 03:01:23,941]\u001b[0m Finished trial#7 with value: 0.04401940281166494 with parameters: {'n_estimators': 227, 'max_depth': 7}. Best is trial#0 with value: 0.039604391774137326.\u001b[0m\n",
            "\u001b[32m[I 2020-04-03 03:01:26,224]\u001b[0m Finished trial#8 with value: 0.04619786220518185 with parameters: {'n_estimators': 446, 'max_depth': 3}. Best is trial#0 with value: 0.039604391774137326.\u001b[0m\n",
            "\u001b[32m[I 2020-04-03 03:01:26,485]\u001b[0m Finished trial#9 with value: 0.046212385267805356 with parameters: {'n_estimators': 15, 'max_depth': 7}. Best is trial#0 with value: 0.039604391774137326.\u001b[0m\n",
            "\u001b[32m[I 2020-04-03 03:01:28,705]\u001b[0m Finished trial#10 with value: 0.07257174392935983 with parameters: {'n_estimators': 489, 'max_depth': 1}. Best is trial#0 with value: 0.039604391774137326.\u001b[0m\n",
            "\u001b[32m[I 2020-04-03 03:01:31,365]\u001b[0m Finished trial#11 with value: 0.04400487974904144 with parameters: {'n_estimators': 498, 'max_depth': 10}. Best is trial#0 with value: 0.039604391774137326.\u001b[0m\n",
            "\u001b[32m[I 2020-04-03 03:01:33,608]\u001b[0m Finished trial#12 with value: 0.041811897292901024 with parameters: {'n_estimators': 415, 'max_depth': 10}. Best is trial#0 with value: 0.039604391774137326.\u001b[0m\n",
            "\u001b[32m[I 2020-04-03 03:01:36,274]\u001b[0m Finished trial#13 with value: 0.041811897292901024 with parameters: {'n_estimators': 499, 'max_depth': 9}. Best is trial#0 with value: 0.039604391774137326.\u001b[0m\n",
            "\u001b[32m[I 2020-04-03 03:01:38,303]\u001b[0m Finished trial#14 with value: 0.046212385267805356 with parameters: {'n_estimators': 372, 'max_depth': 9}. Best is trial#0 with value: 0.039604391774137326.\u001b[0m\n",
            "\u001b[32m[I 2020-04-03 03:01:40,666]\u001b[0m Finished trial#15 with value: 0.04400487974904144 with parameters: {'n_estimators': 441, 'max_depth': 5}. Best is trial#0 with value: 0.039604391774137326.\u001b[0m\n",
            "\u001b[32m[I 2020-04-03 03:01:42,559]\u001b[0m Finished trial#16 with value: 0.041811897292901024 with parameters: {'n_estimators': 341, 'max_depth': 8}. Best is trial#0 with value: 0.039604391774137326.\u001b[0m\n",
            "\u001b[32m[I 2020-04-03 03:01:43,608]\u001b[0m Finished trial#17 with value: 0.04401940281166494 with parameters: {'n_estimators': 172, 'max_depth': 10}. Best is trial#0 with value: 0.039604391774137326.\u001b[0m\n",
            "\u001b[32m[I 2020-04-03 03:01:45,984]\u001b[0m Finished trial#18 with value: 0.04619786220518185 with parameters: {'n_estimators': 444, 'max_depth': 5}. Best is trial#0 with value: 0.039604391774137326.\u001b[0m\n",
            "\u001b[32m[I 2020-04-03 03:01:48,175]\u001b[0m Finished trial#19 with value: 0.039604391774137326 with parameters: {'n_estimators': 404, 'max_depth': 8}. Best is trial#0 with value: 0.039604391774137326.\u001b[0m\n",
            "\u001b[32m[I 2020-04-03 03:01:50,290]\u001b[0m Finished trial#20 with value: 0.041811897292901024 with parameters: {'n_estimators': 382, 'max_depth': 6}. Best is trial#0 with value: 0.039604391774137326.\u001b[0m\n",
            "\u001b[32m[I 2020-04-03 03:01:52,974]\u001b[0m Finished trial#21 with value: 0.041811897292901024 with parameters: {'n_estimators': 499, 'max_depth': 8}. Best is trial#0 with value: 0.039604391774137326.\u001b[0m\n",
            "\u001b[32m[I 2020-04-03 03:01:55,234]\u001b[0m Finished trial#22 with value: 0.04400487974904144 with parameters: {'n_estimators': 411, 'max_depth': 8}. Best is trial#0 with value: 0.039604391774137326.\u001b[0m\n",
            "\u001b[32m[I 2020-04-03 03:01:57,754]\u001b[0m Finished trial#23 with value: 0.046212385267805356 with parameters: {'n_estimators': 470, 'max_depth': 9}. Best is trial#0 with value: 0.039604391774137326.\u001b[0m\n",
            "\u001b[32m[I 2020-04-03 03:01:59,376]\u001b[0m Finished trial#24 with value: 0.041811897292901024 with parameters: {'n_estimators': 293, 'max_depth': 6}. Best is trial#0 with value: 0.039604391774137326.\u001b[0m\n",
            "\u001b[32m[I 2020-04-03 03:02:01,591]\u001b[0m Finished trial#25 with value: 0.041811897292901024 with parameters: {'n_estimators': 407, 'max_depth': 8}. Best is trial#0 with value: 0.039604391774137326.\u001b[0m\n",
            "\u001b[32m[I 2020-04-03 03:02:03,480]\u001b[0m Finished trial#26 with value: 0.041811897292901024 with parameters: {'n_estimators': 344, 'max_depth': 10}. Best is trial#0 with value: 0.039604391774137326.\u001b[0m\n",
            "\u001b[32m[I 2020-04-03 03:02:05,903]\u001b[0m Finished trial#27 with value: 0.04400487974904144 with parameters: {'n_estimators': 450, 'max_depth': 9}. Best is trial#0 with value: 0.039604391774137326.\u001b[0m\n",
            "\u001b[32m[I 2020-04-03 03:02:07,460]\u001b[0m Finished trial#28 with value: 0.03961891483676083 with parameters: {'n_estimators': 273, 'max_depth': 8}. Best is trial#0 with value: 0.039604391774137326.\u001b[0m\n",
            "\u001b[32m[I 2020-04-03 03:02:09,401]\u001b[0m Finished trial#29 with value: 0.046212385267805356 with parameters: {'n_estimators': 361, 'max_depth': 4}. Best is trial#0 with value: 0.039604391774137326.\u001b[0m\n",
            "\u001b[32m[I 2020-04-03 03:02:11,531]\u001b[0m Finished trial#30 with value: 0.04400487974904144 with parameters: {'n_estimators': 397, 'max_depth': 6}. Best is trial#0 with value: 0.039604391774137326.\u001b[0m\n",
            "\u001b[32m[I 2020-04-03 03:02:12,753]\u001b[0m Finished trial#31 with value: 0.04182642035552453 with parameters: {'n_estimators': 201, 'max_depth': 8}. Best is trial#0 with value: 0.039604391774137326.\u001b[0m\n",
            "\u001b[32m[I 2020-04-03 03:02:14,250]\u001b[0m Finished trial#32 with value: 0.039604391774137326 with parameters: {'n_estimators': 267, 'max_depth': 9}. Best is trial#0 with value: 0.039604391774137326.\u001b[0m\n",
            "\u001b[32m[I 2020-04-03 03:02:15,122]\u001b[0m Finished trial#33 with value: 0.03742593238062042 with parameters: {'n_estimators': 137, 'max_depth': 8}. Best is trial#33 with value: 0.03742593238062042.\u001b[0m\n",
            "\u001b[32m[I 2020-04-03 03:02:15,967]\u001b[0m Finished trial#34 with value: 0.039604391774137326 with parameters: {'n_estimators': 129, 'max_depth': 7}. Best is trial#33 with value: 0.03742593238062042.\u001b[0m\n",
            "\u001b[32m[I 2020-04-03 03:02:16,629]\u001b[0m Finished trial#35 with value: 0.0330109213430928 with parameters: {'n_estimators': 96, 'max_depth': 9}. Best is trial#35 with value: 0.0330109213430928.\u001b[0m\n",
            "\u001b[32m[I 2020-04-03 03:02:17,050]\u001b[0m Finished trial#36 with value: 0.0308179388869525 with parameters: {'n_estimators': 46, 'max_depth': 9}. Best is trial#36 with value: 0.0308179388869525.\u001b[0m\n",
            "\u001b[32m[I 2020-04-03 03:02:17,569]\u001b[0m Finished trial#37 with value: 0.04841989078656905 with parameters: {'n_estimators': 68, 'max_depth': 7}. Best is trial#36 with value: 0.0308179388869525.\u001b[0m\n",
            "\u001b[32m[I 2020-04-03 03:02:17,823]\u001b[0m Finished trial#38 with value: 0.04839084466132215 with parameters: {'n_estimators': 12, 'max_depth': 10}. Best is trial#36 with value: 0.0308179388869525.\u001b[0m\n",
            "\u001b[32m[I 2020-04-03 03:02:18,267]\u001b[0m Finished trial#39 with value: 0.041840943418148036 with parameters: {'n_estimators': 52, 'max_depth': 9}. Best is trial#36 with value: 0.0308179388869525.\u001b[0m\n",
            "\u001b[32m[I 2020-04-03 03:02:19,048]\u001b[0m Finished trial#40 with value: 0.03961891483676083 with parameters: {'n_estimators': 118, 'max_depth': 9}. Best is trial#36 with value: 0.0308179388869525.\u001b[0m\n",
            "\u001b[32m[I 2020-04-03 03:02:19,913]\u001b[0m Finished trial#41 with value: 0.03741140931799691 with parameters: {'n_estimators': 133, 'max_depth': 7}. Best is trial#36 with value: 0.0308179388869525.\u001b[0m\n",
            "\u001b[32m[I 2020-04-03 03:02:20,772]\u001b[0m Finished trial#42 with value: 0.04619786220518185 with parameters: {'n_estimators': 137, 'max_depth': 7}. Best is trial#36 with value: 0.0308179388869525.\u001b[0m\n",
            "\u001b[32m[I 2020-04-03 03:02:21,387]\u001b[0m Finished trial#43 with value: 0.03741140931799691 with parameters: {'n_estimators': 83, 'max_depth': 7}. Best is trial#36 with value: 0.0308179388869525.\u001b[0m\n",
            "\u001b[32m[I 2020-04-03 03:02:21,955]\u001b[0m Finished trial#44 with value: 0.04622690833042864 with parameters: {'n_estimators': 76, 'max_depth': 6}. Best is trial#36 with value: 0.0308179388869525.\u001b[0m\n",
            "\u001b[32m[I 2020-04-03 03:02:22,965]\u001b[0m Finished trial#45 with value: 0.041840943418148036 with parameters: {'n_estimators': 164, 'max_depth': 7}. Best is trial#36 with value: 0.0308179388869525.\u001b[0m\n",
            "\u001b[32m[I 2020-04-03 03:02:23,323]\u001b[0m Finished trial#46 with value: 0.04179737423027774 with parameters: {'n_estimators': 34, 'max_depth': 8}. Best is trial#36 with value: 0.0308179388869525.\u001b[0m\n",
            "\u001b[32m[I 2020-04-03 03:02:24,025]\u001b[0m Finished trial#47 with value: 0.041811897292901024 with parameters: {'n_estimators': 101, 'max_depth': 7}. Best is trial#36 with value: 0.0308179388869525.\u001b[0m\n",
            "\u001b[32m[I 2020-04-03 03:02:24,669]\u001b[0m Finished trial#48 with value: 0.03961891483676083 with parameters: {'n_estimators': 94, 'max_depth': 5}. Best is trial#36 with value: 0.0308179388869525.\u001b[0m\n",
            "\u001b[32m[I 2020-04-03 03:02:25,629]\u001b[0m Finished trial#49 with value: 0.04400487974904144 with parameters: {'n_estimators': 155, 'max_depth': 10}. Best is trial#36 with value: 0.0308179388869525.\u001b[0m\n",
            "\u001b[32m[I 2020-04-03 03:02:26,836]\u001b[0m Finished trial#50 with value: 0.04400487974904144 with parameters: {'n_estimators': 204, 'max_depth': 6}. Best is trial#36 with value: 0.0308179388869525.\u001b[0m\n",
            "\u001b[32m[I 2020-04-03 03:02:28,246]\u001b[0m Finished trial#51 with value: 0.03521842686185661 with parameters: {'n_estimators': 246, 'max_depth': 9}. Best is trial#36 with value: 0.0308179388869525.\u001b[0m\n",
            "\u001b[32m[I 2020-04-03 03:02:28,635]\u001b[0m Finished trial#52 with value: 0.03741140931799691 with parameters: {'n_estimators': 40, 'max_depth': 9}. Best is trial#36 with value: 0.0308179388869525.\u001b[0m\n",
            "\u001b[32m[I 2020-04-03 03:02:29,013]\u001b[0m Finished trial#53 with value: 0.041811897292901024 with parameters: {'n_estimators': 37, 'max_depth': 9}. Best is trial#36 with value: 0.0308179388869525.\u001b[0m\n",
            "\u001b[32m[I 2020-04-03 03:02:29,642]\u001b[0m Finished trial#54 with value: 0.04401940281166494 with parameters: {'n_estimators': 88, 'max_depth': 10}. Best is trial#36 with value: 0.0308179388869525.\u001b[0m\n",
            "\u001b[32m[I 2020-04-03 03:02:30,001]\u001b[0m Finished trial#55 with value: 0.04179737423027774 with parameters: {'n_estimators': 33, 'max_depth': 9}. Best is trial#36 with value: 0.0308179388869525.\u001b[0m\n",
            "\u001b[32m[I 2020-04-03 03:02:30,491]\u001b[0m Finished trial#56 with value: 0.04622690833042864 with parameters: {'n_estimators': 60, 'max_depth': 10}. Best is trial#36 with value: 0.0308179388869525.\u001b[0m\n",
            "\u001b[32m[I 2020-04-03 03:02:31,794]\u001b[0m Finished trial#57 with value: 0.04400487974904144 with parameters: {'n_estimators': 239, 'max_depth': 3}. Best is trial#36 with value: 0.0308179388869525.\u001b[0m\n",
            "\u001b[32m[I 2020-04-03 03:02:32,957]\u001b[0m Finished trial#58 with value: 0.03961891483676083 with parameters: {'n_estimators': 190, 'max_depth': 9}. Best is trial#36 with value: 0.0308179388869525.\u001b[0m\n",
            "\u001b[32m[I 2020-04-03 03:02:33,710]\u001b[0m Finished trial#59 with value: 0.04179737423027774 with parameters: {'n_estimators': 113, 'max_depth': 8}. Best is trial#36 with value: 0.0308179388869525.\u001b[0m\n",
            "\u001b[32m[I 2020-04-03 03:02:34,293]\u001b[0m Finished trial#60 with value: 0.04400487974904144 with parameters: {'n_estimators': 78, 'max_depth': 9}. Best is trial#36 with value: 0.0308179388869525.\u001b[0m\n",
            "\u001b[32m[I 2020-04-03 03:02:35,193]\u001b[0m Finished trial#61 with value: 0.04182642035552453 with parameters: {'n_estimators': 143, 'max_depth': 8}. Best is trial#36 with value: 0.0308179388869525.\u001b[0m\n",
            "\u001b[32m[I 2020-04-03 03:02:35,599]\u001b[0m Finished trial#62 with value: 0.0330254444057162 with parameters: {'n_estimators': 44, 'max_depth': 7}. Best is trial#36 with value: 0.0308179388869525.\u001b[0m\n",
            "\u001b[32m[I 2020-04-03 03:02:35,911]\u001b[0m Finished trial#63 with value: 0.04619786220518185 with parameters: {'n_estimators': 23, 'max_depth': 7}. Best is trial#36 with value: 0.0308179388869525.\u001b[0m\n",
            "\u001b[32m[I 2020-04-03 03:02:36,389]\u001b[0m Finished trial#64 with value: 0.04182642035552453 with parameters: {'n_estimators': 55, 'max_depth': 7}. Best is trial#36 with value: 0.0308179388869525.\u001b[0m\n",
            "\u001b[32m[I 2020-04-03 03:02:36,635]\u001b[0m Finished trial#65 with value: 0.054984315092366676 with parameters: {'n_estimators': 10, 'max_depth': 10}. Best is trial#36 with value: 0.0308179388869525.\u001b[0m\n",
            "\u001b[32m[I 2020-04-03 03:02:37,076]\u001b[0m Finished trial#66 with value: 0.04182642035552464 with parameters: {'n_estimators': 48, 'max_depth': 8}. Best is trial#36 with value: 0.0308179388869525.\u001b[0m\n",
            "\u001b[32m[I 2020-04-03 03:02:37,710]\u001b[0m Finished trial#67 with value: 0.04400487974904144 with parameters: {'n_estimators': 87, 'max_depth': 6}. Best is trial#36 with value: 0.0308179388869525.\u001b[0m\n",
            "\u001b[32m[I 2020-04-03 03:02:38,438]\u001b[0m Finished trial#68 with value: 0.04401940281166494 with parameters: {'n_estimators': 106, 'max_depth': 5}. Best is trial#36 with value: 0.0308179388869525.\u001b[0m\n",
            "\u001b[32m[I 2020-04-03 03:02:38,980]\u001b[0m Finished trial#69 with value: 0.041811897292901024 with parameters: {'n_estimators': 67, 'max_depth': 9}. Best is trial#36 with value: 0.0308179388869525.\u001b[0m\n",
            "\u001b[32m[I 2020-04-03 03:02:39,287]\u001b[0m Finished trial#70 with value: 0.04619786220518185 with parameters: {'n_estimators': 23, 'max_depth': 4}. Best is trial#36 with value: 0.0308179388869525.\u001b[0m\n",
            "\u001b[32m[I 2020-04-03 03:02:40,128]\u001b[0m Finished trial#71 with value: 0.04399035668641804 with parameters: {'n_estimators': 130, 'max_depth': 8}. Best is trial#36 with value: 0.0308179388869525.\u001b[0m\n",
            "\u001b[32m[I 2020-04-03 03:02:41,241]\u001b[0m Finished trial#72 with value: 0.039604391774137326 with parameters: {'n_estimators': 187, 'max_depth': 7}. Best is trial#36 with value: 0.0308179388869525.\u001b[0m\n",
            "\u001b[32m[I 2020-04-03 03:02:42,055]\u001b[0m Finished trial#73 with value: 0.03741140931799691 with parameters: {'n_estimators': 123, 'max_depth': 8}. Best is trial#36 with value: 0.0308179388869525.\u001b[0m\n",
            "\u001b[32m[I 2020-04-03 03:02:42,661]\u001b[0m Finished trial#74 with value: 0.03964796096200762 with parameters: {'n_estimators': 80, 'max_depth': 8}. Best is trial#36 with value: 0.0308179388869525.\u001b[0m\n",
            "\u001b[32m[I 2020-04-03 03:02:43,413]\u001b[0m Finished trial#75 with value: 0.03741140931799691 with parameters: {'n_estimators': 113, 'max_depth': 9}. Best is trial#36 with value: 0.0308179388869525.\u001b[0m\n",
            "\u001b[32m[I 2020-04-03 03:02:44,166]\u001b[0m Finished trial#76 with value: 0.03742593238062042 with parameters: {'n_estimators': 114, 'max_depth': 9}. Best is trial#36 with value: 0.0308179388869525.\u001b[0m\n",
            "\u001b[32m[I 2020-04-03 03:02:44,591]\u001b[0m Finished trial#77 with value: 0.04404844893691173 with parameters: {'n_estimators': 45, 'max_depth': 8}. Best is trial#36 with value: 0.0308179388869525.\u001b[0m\n",
            "\u001b[32m[I 2020-04-03 03:02:46,371]\u001b[0m Finished trial#78 with value: 0.04401940281166494 with parameters: {'n_estimators': 318, 'max_depth': 10}. Best is trial#36 with value: 0.0308179388869525.\u001b[0m\n",
            "\u001b[32m[I 2020-04-03 03:02:47,163]\u001b[0m Finished trial#79 with value: 0.03521842686185661 with parameters: {'n_estimators': 121, 'max_depth': 7}. Best is trial#36 with value: 0.0308179388869525.\u001b[0m\n",
            "\u001b[32m[I 2020-04-03 03:02:48,463]\u001b[0m Finished trial#80 with value: 0.04841989078656905 with parameters: {'n_estimators': 222, 'max_depth': 9}. Best is trial#36 with value: 0.0308179388869525.\u001b[0m\n",
            "\u001b[32m[I 2020-04-03 03:02:49,420]\u001b[0m Finished trial#81 with value: 0.0330254444057162 with parameters: {'n_estimators': 152, 'max_depth': 9}. Best is trial#36 with value: 0.0308179388869525.\u001b[0m\n",
            "\u001b[32m[I 2020-04-03 03:02:50,097]\u001b[0m Finished trial#82 with value: 0.03518938073660971 with parameters: {'n_estimators': 97, 'max_depth': 9}. Best is trial#36 with value: 0.0308179388869525.\u001b[0m\n",
            "\u001b[32m[I 2020-04-03 03:02:51,075]\u001b[0m Finished trial#83 with value: 0.04401940281166494 with parameters: {'n_estimators': 157, 'max_depth': 9}. Best is trial#36 with value: 0.0308179388869525.\u001b[0m\n",
            "\u001b[32m[I 2020-04-03 03:02:52,004]\u001b[0m Finished trial#84 with value: 0.04843441384919256 with parameters: {'n_estimators': 146, 'max_depth': 6}. Best is trial#36 with value: 0.0308179388869525.\u001b[0m\n",
            "\u001b[32m[I 2020-04-03 03:02:52,534]\u001b[0m Finished trial#85 with value: 0.03958986871151404 with parameters: {'n_estimators': 67, 'max_depth': 10}. Best is trial#36 with value: 0.0308179388869525.\u001b[0m\n",
            "\u001b[32m[I 2020-04-03 03:02:53,232]\u001b[0m Finished trial#86 with value: 0.04401940281166494 with parameters: {'n_estimators': 99, 'max_depth': 9}. Best is trial#36 with value: 0.0308179388869525.\u001b[0m\n",
            "\u001b[32m[I 2020-04-03 03:02:53,908]\u001b[0m Finished trial#87 with value: 0.03523294992448012 with parameters: {'n_estimators': 95, 'max_depth': 7}. Best is trial#36 with value: 0.0308179388869525.\u001b[0m\n",
            "\u001b[32m[I 2020-04-03 03:02:54,644]\u001b[0m Finished trial#88 with value: 0.03961891483676083 with parameters: {'n_estimators': 108, 'max_depth': 9}. Best is trial#36 with value: 0.0308179388869525.\u001b[0m\n",
            "\u001b[32m[I 2020-04-03 03:02:55,716]\u001b[0m Finished trial#89 with value: 0.039604391774137326 with parameters: {'n_estimators': 174, 'max_depth': 10}. Best is trial#36 with value: 0.0308179388869525.\u001b[0m\n",
            "\u001b[32m[I 2020-04-03 03:02:56,563]\u001b[0m Finished trial#90 with value: 0.04182642035552453 with parameters: {'n_estimators': 130, 'max_depth': 7}. Best is trial#36 with value: 0.0308179388869525.\u001b[0m\n",
            "\u001b[32m[I 2020-04-03 03:02:57,240]\u001b[0m Finished trial#91 with value: 0.039604391774137326 with parameters: {'n_estimators': 95, 'max_depth': 9}. Best is trial#36 with value: 0.0308179388869525.\u001b[0m\n",
            "\u001b[32m[I 2020-04-03 03:02:57,835]\u001b[0m Finished trial#92 with value: 0.04401940281166494 with parameters: {'n_estimators': 81, 'max_depth': 7}. Best is trial#36 with value: 0.0308179388869525.\u001b[0m\n",
            "\u001b[32m[I 2020-04-03 03:02:58,624]\u001b[0m Finished trial#93 with value: 0.04179737423027774 with parameters: {'n_estimators': 119, 'max_depth': 8}. Best is trial#36 with value: 0.0308179388869525.\u001b[0m\n",
            "\u001b[32m[I 2020-04-03 03:02:59,139]\u001b[0m Finished trial#94 with value: 0.04400487974904144 with parameters: {'n_estimators': 63, 'max_depth': 6}. Best is trial#36 with value: 0.0308179388869525.\u001b[0m\n",
            "\u001b[32m[I 2020-04-03 03:03:00,185]\u001b[0m Finished trial#95 with value: 0.04401940281166494 with parameters: {'n_estimators': 172, 'max_depth': 9}. Best is trial#36 with value: 0.0308179388869525.\u001b[0m\n",
            "\u001b[32m[I 2020-04-03 03:03:01,156]\u001b[0m Finished trial#96 with value: 0.046212385267805356 with parameters: {'n_estimators': 156, 'max_depth': 8}. Best is trial#36 with value: 0.0308179388869525.\u001b[0m\n",
            "\u001b[32m[I 2020-04-03 03:03:01,955]\u001b[0m Finished trial#97 with value: 0.0330254444057162 with parameters: {'n_estimators': 121, 'max_depth': 8}. Best is trial#36 with value: 0.0308179388869525.\u001b[0m\n",
            "\u001b[32m[I 2020-04-03 03:03:02,874]\u001b[0m Finished trial#98 with value: 0.03742593238062042 with parameters: {'n_estimators': 144, 'max_depth': 7}. Best is trial#36 with value: 0.0308179388869525.\u001b[0m\n",
            "\u001b[32m[I 2020-04-03 03:03:03,541]\u001b[0m Finished trial#99 with value: 0.03742593238062042 with parameters: {'n_estimators': 90, 'max_depth': 8}. Best is trial#36 with value: 0.0308179388869525.\u001b[0m\n"
          ],
          "name": "stderr"
        }
      ]
    },
    {
      "cell_type": "code",
      "metadata": {
        "id": "LtuSyuY6N-np",
        "colab_type": "code",
        "outputId": "27ff7c38-2192-4de5-f3fe-c67822da388f",
        "colab": {
          "base_uri": "https://localhost:8080/",
          "height": 34
        }
      },
      "source": [
        "study.best_params"
      ],
      "execution_count": 41,
      "outputs": [
        {
          "output_type": "execute_result",
          "data": {
            "text/plain": [
              "{'max_depth': 9, 'n_estimators': 46}"
            ]
          },
          "metadata": {
            "tags": []
          },
          "execution_count": 41
        }
      ]
    },
    {
      "cell_type": "code",
      "metadata": {
        "id": "Ct-NyFkvOFr2",
        "colab_type": "code",
        "outputId": "3f2e3160-41bf-494e-d261-647915d586b7",
        "colab": {
          "base_uri": "https://localhost:8080/",
          "height": 34
        }
      },
      "source": [
        "1- study.best_value"
      ],
      "execution_count": 42,
      "outputs": [
        {
          "output_type": "execute_result",
          "data": {
            "text/plain": [
              "0.9691820611130475"
            ]
          },
          "metadata": {
            "tags": []
          },
          "execution_count": 42
        }
      ]
    },
    {
      "cell_type": "markdown",
      "metadata": {
        "id": "jvugNRRWNuYH",
        "colab_type": "text"
      },
      "source": [
        "###Train model"
      ]
    },
    {
      "cell_type": "code",
      "metadata": {
        "id": "y3caPEEIKCHY",
        "colab_type": "code",
        "colab": {}
      },
      "source": [
        "model = RandomForestClassifier(n_estimators=study.best_params['n_estimators'], max_depth=study.best_params['max_depth'])"
      ],
      "execution_count": 0,
      "outputs": []
    },
    {
      "cell_type": "code",
      "metadata": {
        "id": "uOUjfKTHNyhh",
        "colab_type": "code",
        "outputId": "8e5e5054-1821-4b34-a0be-128de58dfe05",
        "colab": {
          "base_uri": "https://localhost:8080/",
          "height": 153
        }
      },
      "source": [
        "model.fit(X_train_processed, y_train)"
      ],
      "execution_count": 68,
      "outputs": [
        {
          "output_type": "execute_result",
          "data": {
            "text/plain": [
              "RandomForestClassifier(bootstrap=True, ccp_alpha=0.0, class_weight=None,\n",
              "                       criterion='gini', max_depth=9, max_features='auto',\n",
              "                       max_leaf_nodes=None, max_samples=None,\n",
              "                       min_impurity_decrease=0.0, min_impurity_split=None,\n",
              "                       min_samples_leaf=1, min_samples_split=2,\n",
              "                       min_weight_fraction_leaf=0.0, n_estimators=46,\n",
              "                       n_jobs=None, oob_score=False, random_state=None,\n",
              "                       verbose=0, warm_start=False)"
            ]
          },
          "metadata": {
            "tags": []
          },
          "execution_count": 68
        }
      ]
    },
    {
      "cell_type": "markdown",
      "metadata": {
        "id": "ulyGSSBYOId8",
        "colab_type": "text"
      },
      "source": [
        "###Evaluation"
      ]
    },
    {
      "cell_type": "markdown",
      "metadata": {
        "id": "LtE4TV6ZUNvi",
        "colab_type": "text"
      },
      "source": [
        "k-th cross validation"
      ]
    },
    {
      "cell_type": "code",
      "metadata": {
        "id": "-d6cE1TvOIB8",
        "colab_type": "code",
        "outputId": "7ae455ea-7019-4cac-e42b-30c4c5d11c2c",
        "colab": {
          "base_uri": "https://localhost:8080/",
          "height": 34
        }
      },
      "source": [
        "#k-th cross validation\n",
        "cv = 3 #the number of foldings\n",
        "cross_val_score(model, X_train_processed, y_train, cv=cv, scoring='accuracy')"
      ],
      "execution_count": 69,
      "outputs": [
        {
          "output_type": "execute_result",
          "data": {
            "text/plain": [
              "array([0.97368421, 0.96052632, 0.94039735])"
            ]
          },
          "metadata": {
            "tags": []
          },
          "execution_count": 69
        }
      ]
    },
    {
      "cell_type": "markdown",
      "metadata": {
        "id": "qaewy_XNUCli",
        "colab_type": "text"
      },
      "source": [
        "confusion matrix"
      ]
    },
    {
      "cell_type": "code",
      "metadata": {
        "id": "TZd9ufXVRH4C",
        "colab_type": "code",
        "colab": {}
      },
      "source": [
        "#calculate confusion matrix\n",
        "y_train_pred = cross_val_predict(model, X_train_processed, y_train, cv=cv)\n",
        "conf_mx = confusion_matrix(y_train, y_train_pred)"
      ],
      "execution_count": 0,
      "outputs": []
    },
    {
      "cell_type": "code",
      "metadata": {
        "id": "5dqZ8eIPRu5J",
        "colab_type": "code",
        "outputId": "3b51bae4-8ae5-47ed-c1fa-b9c39274f0f0",
        "colab": {
          "base_uri": "https://localhost:8080/",
          "height": 275
        }
      },
      "source": [
        "plt.matshow(conf_mx, cmap=plt.cm.gray)\n",
        "plt.show()"
      ],
      "execution_count": 71,
      "outputs": [
        {
          "output_type": "display_data",
          "data": {
            "image/png": "[encoded data removed]",
            "text/plain": [
              "<Figure size 288x288 with 1 Axes>"
            ]
          },
          "metadata": {
            "tags": []
          }
        }
      ]
    },
    {
      "cell_type": "code",
      "metadata": {
        "id": "nguEbiLbSL97",
        "colab_type": "code",
        "outputId": "f88f9ef1-f798-4eb1-f7ae-4a09e078b852",
        "colab": {
          "base_uri": "https://localhost:8080/",
          "height": 275
        }
      },
      "source": [
        "#convert to error probability\n",
        "row_sums = conf_mx.sum(axis=1, keepdims=True)\n",
        "norm_conf_mx = conf_mx / row_sums\n",
        "#set diagonal to 0 for visibility\n",
        "np.fill_diagonal(norm_conf_mx, 0)\n",
        "plt.matshow(norm_conf_mx, cmap=plt.cm.gray)\n",
        "plt.show()"
      ],
      "execution_count": 72,
      "outputs": [
        {
          "output_type": "display_data",
          "data": {
            "image/png": "[encoded data removed]",
            "text/plain": [
              "<Figure size 288x288 with 1 Axes>"
            ]
          },
          "metadata": {
            "tags": []
          }
        }
      ]
    },
    {
      "cell_type": "markdown",
      "metadata": {
        "id": "nHwFa6jiV29L",
        "colab_type": "text"
      },
      "source": [
        "various scores"
      ]
    },
    {
      "cell_type": "code",
      "metadata": {
        "id": "R5j04o7ckEq6",
        "colab_type": "code",
        "outputId": "c63fa4e2-6e75-45e4-ee33-9eea65f1592e",
        "colab": {
          "base_uri": "https://localhost:8080/",
          "height": 34
        }
      },
      "source": [
        "accuracy_score(y_train, y_train_pred)"
      ],
      "execution_count": 73,
      "outputs": [
        {
          "output_type": "execute_result",
          "data": {
            "text/plain": [
              "0.9582417582417583"
            ]
          },
          "metadata": {
            "tags": []
          },
          "execution_count": 73
        }
      ]
    },
    {
      "cell_type": "code",
      "metadata": {
        "id": "aswSNVqRV-Go",
        "colab_type": "code",
        "outputId": "334a3bcb-de58-4448-81c0-a9d47a50aaac",
        "colab": {
          "base_uri": "https://localhost:8080/",
          "height": 34
        }
      },
      "source": [
        "precision_score(y_train, y_train_pred)"
      ],
      "execution_count": 74,
      "outputs": [
        {
          "output_type": "execute_result",
          "data": {
            "text/plain": [
              "0.9647887323943662"
            ]
          },
          "metadata": {
            "tags": []
          },
          "execution_count": 74
        }
      ]
    },
    {
      "cell_type": "code",
      "metadata": {
        "id": "B_qSWH-nWRmc",
        "colab_type": "code",
        "outputId": "4ced90a6-90d0-427b-d33c-85a32ba4c007",
        "colab": {
          "base_uri": "https://localhost:8080/",
          "height": 34
        }
      },
      "source": [
        "recall_score(y_train, y_train_pred)"
      ],
      "execution_count": 75,
      "outputs": [
        {
          "output_type": "execute_result",
          "data": {
            "text/plain": [
              "0.9681978798586572"
            ]
          },
          "metadata": {
            "tags": []
          },
          "execution_count": 75
        }
      ]
    },
    {
      "cell_type": "code",
      "metadata": {
        "id": "bL0OjSv2WXNR",
        "colab_type": "code",
        "outputId": "1dc9f39f-b51a-449e-fb46-4be78582a167",
        "colab": {
          "base_uri": "https://localhost:8080/",
          "height": 34
        }
      },
      "source": [
        "f1_score(y_train, y_train_pred)"
      ],
      "execution_count": 76,
      "outputs": [
        {
          "output_type": "execute_result",
          "data": {
            "text/plain": [
              "0.9664902998236332"
            ]
          },
          "metadata": {
            "tags": []
          },
          "execution_count": 76
        }
      ]
    },
    {
      "cell_type": "code",
      "metadata": {
        "id": "g7Zg2F81kryJ",
        "colab_type": "code",
        "outputId": "d10d9f00-fee4-4ecf-bbb7-8e2662f36a73",
        "colab": {
          "base_uri": "https://localhost:8080/",
          "height": 170
        }
      },
      "source": [
        "print(classification_report(y_train, y_train_pred))"
      ],
      "execution_count": 77,
      "outputs": [
        {
          "output_type": "stream",
          "text": [
            "              precision    recall  f1-score   support\n",
            "\n",
            "           0       0.95      0.94      0.94       172\n",
            "           1       0.96      0.97      0.97       283\n",
            "\n",
            "    accuracy                           0.96       455\n",
            "   macro avg       0.96      0.96      0.96       455\n",
            "weighted avg       0.96      0.96      0.96       455\n",
            "\n"
          ],
          "name": "stdout"
        }
      ]
    },
    {
      "cell_type": "code",
      "metadata": {
        "id": "YPbmUvcdtnZT",
        "colab_type": "code",
        "colab": {}
      },
      "source": [
        "y_train_probas = cross_val_predict(model, X_train_processed, y_train, cv=cv, method='predict_proba')"
      ],
      "execution_count": 0,
      "outputs": []
    },
    {
      "cell_type": "code",
      "metadata": {
        "id": "0p1axNI3vS4L",
        "colab_type": "code",
        "colab": {}
      },
      "source": [
        "y_train_scores = y_train_probas[:, 1]"
      ],
      "execution_count": 0,
      "outputs": []
    },
    {
      "cell_type": "code",
      "metadata": {
        "id": "vQm6XdqG4QyE",
        "colab_type": "code",
        "colab": {}
      },
      "source": [
        "def plot_pr_curve(y, y_score, label=None):\n",
        "\n",
        "    fpr, tpr, thresholds = precision_recall_curve(y, y_score)\n",
        "    plt.plot(fpr, tpr, linewidth=2, label=label)\n",
        "    plt.plot([0, 1], [0, 1], 'k--')\n",
        "    plt.axis([0, 1, 0, 1])\n",
        "    plt.xlabel('Recall')\n",
        "    plt.ylabel('Precision')\n",
        "\n",
        "    return"
      ],
      "execution_count": 0,
      "outputs": []
    },
    {
      "cell_type": "code",
      "metadata": {
        "id": "U318bPF64rWu",
        "colab_type": "code",
        "outputId": "6c6c1f76-bfc5-4cd9-cc7e-d6ef1eab667d",
        "colab": {
          "base_uri": "https://localhost:8080/",
          "height": 283
        }
      },
      "source": [
        "plot_pr_curve(y_train, y_train_scores)\n",
        "plt.show()"
      ],
      "execution_count": 57,
      "outputs": [
        {
          "output_type": "display_data",
          "data": {
            "image/png": "[encoded data removed]",
            "text/plain": [
              "<Figure size 432x288 with 1 Axes>"
            ]
          },
          "metadata": {
            "tags": []
          }
        }
      ]
    },
    {
      "cell_type": "code",
      "metadata": {
        "id": "7VCYqksuq24d",
        "colab_type": "code",
        "colab": {}
      },
      "source": [
        "def plot_roc_curve(y, y_score, label=None):\n",
        "\n",
        "    fpr, tpr, thresholds = roc_curve(y, y_score)\n",
        "    plt.plot(fpr, tpr, linewidth=2, label=label)\n",
        "    plt.plot([0, 1], [0, 1], 'k--')\n",
        "    plt.axis([0, 1, 0, 1])\n",
        "    plt.xlabel('False Positive Rate')\n",
        "    plt.ylabel('True Positive Rate')\n",
        "\n",
        "    return"
      ],
      "execution_count": 0,
      "outputs": []
    },
    {
      "cell_type": "code",
      "metadata": {
        "id": "-Xu3kjTZseOT",
        "colab_type": "code",
        "outputId": "e9bb18bd-47f0-4ba9-ca42-c4f0e8e30ac6",
        "colab": {
          "base_uri": "https://localhost:8080/",
          "height": 283
        }
      },
      "source": [
        "plot_roc_curve(y_train, y_train_scores)\n",
        "plt.show()"
      ],
      "execution_count": 59,
      "outputs": [
        {
          "output_type": "display_data",
          "data": {
            "image/png": "[encoded data removed]",
            "text/plain": [
              "<Figure size 432x288 with 1 Axes>"
            ]
          },
          "metadata": {
            "tags": []
          }
        }
      ]
    },
    {
      "cell_type": "code",
      "metadata": {
        "id": "chw52C80Wku3",
        "colab_type": "code",
        "outputId": "0ef23bdd-63d2-46e1-ac75-d38d5bdf75b8",
        "colab": {
          "base_uri": "https://localhost:8080/",
          "height": 34
        }
      },
      "source": [
        "roc_auc_score(y_train, y_train_scores)"
      ],
      "execution_count": 60,
      "outputs": [
        {
          "output_type": "execute_result",
          "data": {
            "text/plain": [
              "0.9866361245788479"
            ]
          },
          "metadata": {
            "tags": []
          },
          "execution_count": 60
        }
      ]
    },
    {
      "cell_type": "markdown",
      "metadata": {
        "id": "CIgJPTmF7v-_",
        "colab_type": "text"
      },
      "source": [
        "###Test"
      ]
    },
    {
      "cell_type": "code",
      "metadata": {
        "id": "CMECpqia7bsX",
        "colab_type": "code",
        "colab": {}
      },
      "source": [
        "y_test_pred = model.predict(scaler.transform(X_test))"
      ],
      "execution_count": 0,
      "outputs": []
    },
    {
      "cell_type": "code",
      "metadata": {
        "id": "SXPFLWBy7kSs",
        "colab_type": "code",
        "outputId": "7d4a97e5-b5cc-474a-e83d-87a75625616b",
        "colab": {
          "base_uri": "https://localhost:8080/",
          "height": 34
        }
      },
      "source": [
        "accuracy_score(y_test, y_test_pred)"
      ],
      "execution_count": 81,
      "outputs": [
        {
          "output_type": "execute_result",
          "data": {
            "text/plain": [
              "0.956140350877193"
            ]
          },
          "metadata": {
            "tags": []
          },
          "execution_count": 81
        }
      ]
    },
    {
      "cell_type": "code",
      "metadata": {
        "id": "5d8g_mYD5pr0",
        "colab_type": "code",
        "outputId": "2a1b0a67-b733-4a04-8b5f-22e5f4dbd879",
        "colab": {
          "base_uri": "https://localhost:8080/",
          "height": 510
        }
      },
      "source": [
        "fea_imp = pd.DataFrame({'imp': model.feature_importances_, 'col': dataset['feature_names']})\n",
        "_ = fea_imp.plot(kind='barh', x='col', y='imp', figsize=(20, 10))"
      ],
      "execution_count": 82,
      "outputs": [
        {
          "output_type": "display_data",
          "data": {
            "image/png": "[encoded data removed]",
            "text/plain": [
              "<Figure size 1440x720 with 1 Axes>"
            ]
          },
          "metadata": {
            "tags": []
          }
        }
      ]
    },
    {
      "cell_type": "markdown",
      "metadata": {
        "id": "-F-zfxit8R0A",
        "colab_type": "text"
      },
      "source": [
        "###Save"
      ]
    },
    {
      "cell_type": "code",
      "metadata": {
        "id": "OeCJwAct8mq8",
        "colab_type": "code",
        "colab": {}
      },
      "source": [
        "#save the prediction\n",
        "submissiondir = '.'\n",
        "submissionname = 'submission'\n",
        "pd.DataFrame(data={'target':y_test, 'prediction':y_test_pred}).to_csv(submissiondir + '/' + submissionname + \".csv\", index_label=[\"Id\"])"
      ],
      "execution_count": 0,
      "outputs": []
    },
    {
      "cell_type": "code",
      "metadata": {
        "id": "gmZQtZYZ6yAa",
        "colab_type": "code",
        "outputId": "dac3090c-0d1b-4a58-ac01-d681cde8bdf3",
        "colab": {
          "base_uri": "https://localhost:8080/",
          "height": 34
        }
      },
      "source": [
        "# save the model\n",
        "filename = 'model.sav'\n",
        "joblib.dump(model, filename)"
      ],
      "execution_count": 84,
      "outputs": [
        {
          "output_type": "execute_result",
          "data": {
            "text/plain": [
              "['model.sav']"
            ]
          },
          "metadata": {
            "tags": []
          },
          "execution_count": 84
        }
      ]
    },
    {
      "cell_type": "code",
      "metadata": {
        "id": "PSHnOTDv8Q-J",
        "colab_type": "code",
        "outputId": "ee20fa51-a0bf-475e-811b-13e953d046e7",
        "colab": {
          "base_uri": "https://localhost:8080/",
          "height": 34
        }
      },
      "source": [
        "# load the model\n",
        "loaded_model = joblib.load(filename)\n",
        "result = loaded_model.score(scaler.transform(X_test), y_test)\n",
        "print(result)"
      ],
      "execution_count": 85,
      "outputs": [
        {
          "output_type": "stream",
          "text": [
            "0.956140350877193\n"
          ],
          "name": "stdout"
        }
      ]
    },
    {
      "cell_type": "code",
      "metadata": {
        "id": "vJwFB3Rf-xZt",
        "colab_type": "code",
        "colab": {}
      },
      "source": [
        ""
      ],
      "execution_count": 0,
      "outputs": []
    }
  ]
}