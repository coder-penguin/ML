{
  "nbformat": 4,
  "nbformat_minor": 0,
  "metadata": {
    "colab": {
      "name": "scikit-learn_tutorial_class_models",
      "provenance": [],
      "collapsed_sections": [],
      "include_colab_link": true
    },
    "kernelspec": {
      "name": "python3",
      "display_name": "Python 3"
    }
  },
  "cells": [
    {
      "cell_type": "markdown",
      "metadata": {
        "id": "view-in-github",
        "colab_type": "text"
      },
      "source": [
        "<a href=\"https://colab.research.google.com/github/coder-penguin/ML/blob/master/tutorial/scikit_learn_tutorial_class_models.ipynb\" target=\"_parent\"><img src=\"https://colab.research.google.com/assets/colab-badge.svg\" alt=\"Open In Colab\"/></a>"
      ]
    },
    {
      "cell_type": "markdown",
      "metadata": {
        "id": "E-5PkF7PBj7_",
        "colab_type": "text"
      },
      "source": [
        "#Sample code for classification with multiple models"
      ]
    },
    {
      "cell_type": "markdown",
      "metadata": {
        "id": "V5hrcRzY_9uM",
        "colab_type": "text"
      },
      "source": [
        "Load libraries"
      ]
    },
    {
      "cell_type": "code",
      "metadata": {
        "id": "UXhg52M9kqvb",
        "colab_type": "code",
        "outputId": "bee2d5b0-050f-4c0d-ec2f-68780ecd2ae5",
        "colab": {
          "base_uri": "https://localhost:8080/",
          "height": 435
        }
      },
      "source": [
        "!pip install catboost"
      ],
      "execution_count": 1,
      "outputs": [
        {
          "output_type": "stream",
          "text": [
            "Collecting catboost\n",
            "\u001b[?25l  Downloading https://files.pythonhosted.org/packages/94/ec/12b9a42b2ea7dfe5b602f235692ab2b61ee1334ff34334a15902272869e8/catboost-0.22-cp36-none-manylinux1_x86_64.whl (64.4MB)\n",
            "\u001b[K     |████████████████████████████████| 64.4MB 57kB/s \n",
            "\u001b[?25hRequirement already satisfied: pandas>=0.24.0 in /usr/local/lib/python3.6/dist-packages (from catboost) (1.0.3)\n",
            "Requirement already satisfied: graphviz in /usr/local/lib/python3.6/dist-packages (from catboost) (0.10.1)\n",
            "Requirement already satisfied: scipy in /usr/local/lib/python3.6/dist-packages (from catboost) (1.4.1)\n",
            "Requirement already satisfied: plotly in /usr/local/lib/python3.6/dist-packages (from catboost) (4.4.1)\n",
            "Requirement already satisfied: six in /usr/local/lib/python3.6/dist-packages (from catboost) (1.12.0)\n",
            "Requirement already satisfied: numpy>=1.16.0 in /usr/local/lib/python3.6/dist-packages (from catboost) (1.18.2)\n",
            "Requirement already satisfied: matplotlib in /usr/local/lib/python3.6/dist-packages (from catboost) (3.2.1)\n",
            "Requirement already satisfied: python-dateutil>=2.6.1 in /usr/local/lib/python3.6/dist-packages (from pandas>=0.24.0->catboost) (2.8.1)\n",
            "Requirement already satisfied: pytz>=2017.2 in /usr/local/lib/python3.6/dist-packages (from pandas>=0.24.0->catboost) (2018.9)\n",
            "Requirement already satisfied: retrying>=1.3.3 in /usr/local/lib/python3.6/dist-packages (from plotly->catboost) (1.3.3)\n",
            "Requirement already satisfied: cycler>=0.10 in /usr/local/lib/python3.6/dist-packages (from matplotlib->catboost) (0.10.0)\n",
            "Requirement already satisfied: pyparsing!=2.0.4,!=2.1.2,!=2.1.6,>=2.0.1 in /usr/local/lib/python3.6/dist-packages (from matplotlib->catboost) (2.4.6)\n",
            "Requirement already satisfied: kiwisolver>=1.0.1 in /usr/local/lib/python3.6/dist-packages (from matplotlib->catboost) (1.1.0)\n",
            "Requirement already satisfied: setuptools in /usr/local/lib/python3.6/dist-packages (from kiwisolver>=1.0.1->matplotlib->catboost) (46.0.0)\n",
            "Installing collected packages: catboost\n",
            "Successfully installed catboost-0.22\n"
          ],
          "name": "stdout"
        }
      ]
    },
    {
      "cell_type": "code",
      "metadata": {
        "id": "uz6chkI6AFGk",
        "colab_type": "code",
        "colab": {
          "base_uri": "https://localhost:8080/",
          "height": 91
        },
        "outputId": "87ea5e93-d160-4a06-fc1e-1d2e4fe5d0dd"
      },
      "source": [
        "import numpy as np\n",
        "import pandas as pd\n",
        "import matplotlib.pyplot as plt\n",
        "\n",
        "from sklearn.datasets import load_breast_cancer\n",
        "from sklearn.model_selection import train_test_split, cross_val_predict, cross_val_score\n",
        "from sklearn.metrics import confusion_matrix\n",
        "from sklearn.metrics import accuracy_score, precision_score, recall_score, f1_score, classification_report\n",
        "from sklearn.metrics import precision_recall_curve, roc_curve, roc_auc_score\n",
        "from sklearn.tree import DecisionTreeClassifier\n",
        "from sklearn.ensemble import RandomForestClassifier\n",
        "from sklearn.ensemble import ExtraTreesClassifier\n",
        "from sklearn.ensemble import GradientBoostingClassifier\n",
        "from xgboost import XGBClassifier\n",
        "from catboost import CatBoostClassifier\n",
        "from sklearn.preprocessing import StandardScaler\n",
        "from sklearn.externals import joblib"
      ],
      "execution_count": 2,
      "outputs": [
        {
          "output_type": "stream",
          "text": [
            "/usr/local/lib/python3.6/dist-packages/sklearn/externals/joblib/__init__.py:15: FutureWarning: sklearn.externals.joblib is deprecated in 0.21 and will be removed in 0.23. Please import this functionality directly from joblib, which can be installed with: pip install joblib. If this warning is raised when loading pickled models, you may need to re-serialize those models with scikit-learn 0.21+.\n",
            "  warnings.warn(msg, category=FutureWarning)\n"
          ],
          "name": "stderr"
        }
      ]
    },
    {
      "cell_type": "markdown",
      "metadata": {
        "id": "yWjy9yhPETE9",
        "colab_type": "text"
      },
      "source": [
        "Read data"
      ]
    },
    {
      "cell_type": "code",
      "metadata": {
        "id": "xKApP_2eEduJ",
        "colab_type": "code",
        "colab": {}
      },
      "source": [
        "# read the breast cancer wisconsin dataset\n",
        "dataset = load_breast_cancer()"
      ],
      "execution_count": 0,
      "outputs": []
    },
    {
      "cell_type": "code",
      "metadata": {
        "id": "seKjk_6vfYzd",
        "colab_type": "code",
        "outputId": "a478d74b-6547-4395-c461-e3d8035eb61b",
        "colab": {
          "base_uri": "https://localhost:8080/",
          "height": 34
        }
      },
      "source": [
        "#30 features\n",
        "dataset['data'].shape"
      ],
      "execution_count": 4,
      "outputs": [
        {
          "output_type": "execute_result",
          "data": {
            "text/plain": [
              "(569, 30)"
            ]
          },
          "metadata": {
            "tags": []
          },
          "execution_count": 4
        }
      ]
    },
    {
      "cell_type": "code",
      "metadata": {
        "id": "9jO5ZfoA1cuY",
        "colab_type": "code",
        "outputId": "2ea0757f-148b-4285-e43c-1911f998fb68",
        "colab": {
          "base_uri": "https://localhost:8080/",
          "height": 459
        }
      },
      "source": [
        "#binary target\n",
        "dataset['target']"
      ],
      "execution_count": 5,
      "outputs": [
        {
          "output_type": "execute_result",
          "data": {
            "text/plain": [
              "array([0, 0, 0, 0, 0, 0, 0, 0, 0, 0, 0, 0, 0, 0, 0, 0, 0, 0, 0, 1, 1, 1,\n",
              "       0, 0, 0, 0, 0, 0, 0, 0, 0, 0, 0, 0, 0, 0, 0, 1, 0, 0, 0, 0, 0, 0,\n",
              "       0, 0, 1, 0, 1, 1, 1, 1, 1, 0, 0, 1, 0, 0, 1, 1, 1, 1, 0, 1, 0, 0,\n",
              "       1, 1, 1, 1, 0, 1, 0, 0, 1, 0, 1, 0, 0, 1, 1, 1, 0, 0, 1, 0, 0, 0,\n",
              "       1, 1, 1, 0, 1, 1, 0, 0, 1, 1, 1, 0, 0, 1, 1, 1, 1, 0, 1, 1, 0, 1,\n",
              "       1, 1, 1, 1, 1, 1, 1, 0, 0, 0, 1, 0, 0, 1, 1, 1, 0, 0, 1, 0, 1, 0,\n",
              "       0, 1, 0, 0, 1, 1, 0, 1, 1, 0, 1, 1, 1, 1, 0, 1, 1, 1, 1, 1, 1, 1,\n",
              "       1, 1, 0, 1, 1, 1, 1, 0, 0, 1, 0, 1, 1, 0, 0, 1, 1, 0, 0, 1, 1, 1,\n",
              "       1, 0, 1, 1, 0, 0, 0, 1, 0, 1, 0, 1, 1, 1, 0, 1, 1, 0, 0, 1, 0, 0,\n",
              "       0, 0, 1, 0, 0, 0, 1, 0, 1, 0, 1, 1, 0, 1, 0, 0, 0, 0, 1, 1, 0, 0,\n",
              "       1, 1, 1, 0, 1, 1, 1, 1, 1, 0, 0, 1, 1, 0, 1, 1, 0, 0, 1, 0, 1, 1,\n",
              "       1, 1, 0, 1, 1, 1, 1, 1, 0, 1, 0, 0, 0, 0, 0, 0, 0, 0, 0, 0, 0, 0,\n",
              "       0, 0, 1, 1, 1, 1, 1, 1, 0, 1, 0, 1, 1, 0, 1, 1, 0, 1, 0, 0, 1, 1,\n",
              "       1, 1, 1, 1, 1, 1, 1, 1, 1, 1, 1, 0, 1, 1, 0, 1, 0, 1, 1, 1, 1, 1,\n",
              "       1, 1, 1, 1, 1, 1, 1, 1, 1, 0, 1, 1, 1, 0, 1, 0, 1, 1, 1, 1, 0, 0,\n",
              "       0, 1, 1, 1, 1, 0, 1, 0, 1, 0, 1, 1, 1, 0, 1, 1, 1, 1, 1, 1, 1, 0,\n",
              "       0, 0, 1, 1, 1, 1, 1, 1, 1, 1, 1, 1, 1, 0, 0, 1, 0, 0, 0, 1, 0, 0,\n",
              "       1, 1, 1, 1, 1, 0, 1, 1, 1, 1, 1, 0, 1, 1, 1, 0, 1, 1, 0, 0, 1, 1,\n",
              "       1, 1, 1, 1, 0, 1, 1, 1, 1, 1, 1, 1, 0, 1, 1, 1, 1, 1, 0, 1, 1, 0,\n",
              "       1, 1, 1, 1, 1, 1, 1, 1, 1, 1, 1, 1, 0, 1, 0, 0, 1, 0, 1, 1, 1, 1,\n",
              "       1, 0, 1, 1, 0, 1, 0, 1, 1, 0, 1, 0, 1, 1, 1, 1, 1, 1, 1, 1, 0, 0,\n",
              "       1, 1, 1, 1, 1, 1, 0, 1, 1, 1, 1, 1, 1, 1, 1, 1, 1, 0, 1, 1, 1, 1,\n",
              "       1, 1, 1, 0, 1, 0, 1, 1, 0, 1, 1, 1, 1, 1, 0, 0, 1, 0, 1, 0, 1, 1,\n",
              "       1, 1, 1, 0, 1, 1, 0, 1, 0, 1, 0, 0, 1, 1, 1, 0, 1, 1, 1, 1, 1, 1,\n",
              "       1, 1, 1, 1, 1, 0, 1, 0, 0, 1, 1, 1, 1, 1, 1, 1, 1, 1, 1, 1, 1, 1,\n",
              "       1, 1, 1, 1, 1, 1, 1, 1, 1, 1, 1, 1, 0, 0, 0, 0, 0, 0, 1])"
            ]
          },
          "metadata": {
            "tags": []
          },
          "execution_count": 5
        }
      ]
    },
    {
      "cell_type": "code",
      "metadata": {
        "id": "WIhdEMlF1U0M",
        "colab_type": "code",
        "outputId": "b3afbc59-dabe-4e49-9498-6e3933c4dfb1",
        "colab": {
          "base_uri": "https://localhost:8080/",
          "height": 34
        }
      },
      "source": [
        "dataset['target_names']"
      ],
      "execution_count": 6,
      "outputs": [
        {
          "output_type": "execute_result",
          "data": {
            "text/plain": [
              "array(['malignant', 'benign'], dtype='<U9')"
            ]
          },
          "metadata": {
            "tags": []
          },
          "execution_count": 6
        }
      ]
    },
    {
      "cell_type": "code",
      "metadata": {
        "id": "ZYm5eGa10_0o",
        "colab_type": "code",
        "outputId": "35a181f8-ccc6-4be6-ea70-67ddd5f3138a",
        "colab": {
          "base_uri": "https://localhost:8080/",
          "height": 187
        }
      },
      "source": [
        "dataset['feature_names']"
      ],
      "execution_count": 7,
      "outputs": [
        {
          "output_type": "execute_result",
          "data": {
            "text/plain": [
              "array(['mean radius', 'mean texture', 'mean perimeter', 'mean area',\n",
              "       'mean smoothness', 'mean compactness', 'mean concavity',\n",
              "       'mean concave points', 'mean symmetry', 'mean fractal dimension',\n",
              "       'radius error', 'texture error', 'perimeter error', 'area error',\n",
              "       'smoothness error', 'compactness error', 'concavity error',\n",
              "       'concave points error', 'symmetry error',\n",
              "       'fractal dimension error', 'worst radius', 'worst texture',\n",
              "       'worst perimeter', 'worst area', 'worst smoothness',\n",
              "       'worst compactness', 'worst concavity', 'worst concave points',\n",
              "       'worst symmetry', 'worst fractal dimension'], dtype='<U23')"
            ]
          },
          "metadata": {
            "tags": []
          },
          "execution_count": 7
        }
      ]
    },
    {
      "cell_type": "code",
      "metadata": {
        "id": "9xRsKkwB_KxP",
        "colab_type": "code",
        "outputId": "7a78cba1-7b45-4cd6-a14e-f6624e948440",
        "colab": {
          "base_uri": "https://localhost:8080/",
          "height": 265
        }
      },
      "source": [
        "# show data\n",
        "plt.hist(dataset['data'][:, 0][dataset['target']==0], label=dataset['target_names'][0], alpha=0.5)\n",
        "plt.hist(dataset['data'][:, 0][dataset['target']==1], label=dataset['target_names'][1], alpha=0.5)\n",
        "plt.show()"
      ],
      "execution_count": 8,
      "outputs": [
        {
          "output_type": "display_data",
          "data": {
            "image/png": "[encoded data removed]",
            "text/plain": [
              "<Figure size 432x288 with 1 Axes>"
            ]
          },
          "metadata": {
            "tags": []
          }
        }
      ]
    },
    {
      "cell_type": "code",
      "metadata": {
        "id": "Sc_Ce1Y-FUrN",
        "colab_type": "code",
        "colab": {}
      },
      "source": [
        "# image(numpy.ndarray)\n",
        "X = dataset.data\n",
        "\n",
        "# label(numpy.ndarray)\n",
        "y = dataset.target"
      ],
      "execution_count": 0,
      "outputs": []
    },
    {
      "cell_type": "code",
      "metadata": {
        "id": "o6VcS3viIBh0",
        "colab_type": "code",
        "colab": {}
      },
      "source": [
        "#split dataset to train and test dataset\n",
        "test_size = 0.2\n",
        "X_train, X_test, y_train, y_test = train_test_split(X, y, test_size=test_size, shuffle=True)#default is True"
      ],
      "execution_count": 0,
      "outputs": []
    },
    {
      "cell_type": "code",
      "metadata": {
        "id": "iyOyxl4RJN9I",
        "colab_type": "code",
        "outputId": "6346d48f-a3de-402a-88e3-156f73080b8f",
        "colab": {
          "base_uri": "https://localhost:8080/",
          "height": 51
        }
      },
      "source": [
        "print(len(X_train), len(X_test))\n",
        "print(len(y_train), len(y_test))"
      ],
      "execution_count": 11,
      "outputs": [
        {
          "output_type": "stream",
          "text": [
            "455 114\n",
            "455 114\n"
          ],
          "name": "stdout"
        }
      ]
    },
    {
      "cell_type": "code",
      "metadata": {
        "id": "J2cao0-T4n9W",
        "colab_type": "code",
        "colab": {}
      },
      "source": [
        "df = pd.DataFrame(data=X_train, columns=dataset.feature_names)"
      ],
      "execution_count": 0,
      "outputs": []
    },
    {
      "cell_type": "code",
      "metadata": {
        "id": "-u6zuCpR4rZN",
        "colab_type": "code",
        "colab": {}
      },
      "source": [
        "df['target'] = y_train"
      ],
      "execution_count": 0,
      "outputs": []
    },
    {
      "cell_type": "code",
      "metadata": {
        "id": "6EHEcWZK4t3_",
        "colab_type": "code",
        "colab": {
          "base_uri": "https://localhost:8080/",
          "height": 258
        },
        "outputId": "8cc60ae9-c955-42cc-f88e-1ead77d8634b"
      },
      "source": [
        "df.head()"
      ],
      "execution_count": 14,
      "outputs": [
        {
          "output_type": "execute_result",
          "data": {
            "text/html": [
              "<div>\n",
              "<style scoped>\n",
              "    .dataframe tbody tr th:only-of-type {\n",
              "        vertical-align: middle;\n",
              "    }\n",
              "\n",
              "    .dataframe tbody tr th {\n",
              "        vertical-align: top;\n",
              "    }\n",
              "\n",
              "    .dataframe thead th {\n",
              "        text-align: right;\n",
              "    }\n",
              "</style>\n",
              "<table border=\"1\" class=\"dataframe\">\n",
              "  <thead>\n",
              "    <tr style=\"text-align: right;\">\n",
              "      <th></th>\n",
              "      <th>mean radius</th>\n",
              "      <th>mean texture</th>\n",
              "      <th>mean perimeter</th>\n",
              "      <th>mean area</th>\n",
              "      <th>mean smoothness</th>\n",
              "      <th>mean compactness</th>\n",
              "      <th>mean concavity</th>\n",
              "      <th>mean concave points</th>\n",
              "      <th>mean symmetry</th>\n",
              "      <th>mean fractal dimension</th>\n",
              "      <th>radius error</th>\n",
              "      <th>texture error</th>\n",
              "      <th>perimeter error</th>\n",
              "      <th>area error</th>\n",
              "      <th>smoothness error</th>\n",
              "      <th>compactness error</th>\n",
              "      <th>concavity error</th>\n",
              "      <th>concave points error</th>\n",
              "      <th>symmetry error</th>\n",
              "      <th>fractal dimension error</th>\n",
              "      <th>worst radius</th>\n",
              "      <th>worst texture</th>\n",
              "      <th>worst perimeter</th>\n",
              "      <th>worst area</th>\n",
              "      <th>worst smoothness</th>\n",
              "      <th>worst compactness</th>\n",
              "      <th>worst concavity</th>\n",
              "      <th>worst concave points</th>\n",
              "      <th>worst symmetry</th>\n",
              "      <th>worst fractal dimension</th>\n",
              "      <th>target</th>\n",
              "    </tr>\n",
              "  </thead>\n",
              "  <tbody>\n",
              "    <tr>\n",
              "      <th>0</th>\n",
              "      <td>11.680</td>\n",
              "      <td>16.17</td>\n",
              "      <td>75.49</td>\n",
              "      <td>420.5</td>\n",
              "      <td>0.11280</td>\n",
              "      <td>0.09263</td>\n",
              "      <td>0.042790</td>\n",
              "      <td>0.03132</td>\n",
              "      <td>0.1853</td>\n",
              "      <td>0.06401</td>\n",
              "      <td>0.3713</td>\n",
              "      <td>1.1540</td>\n",
              "      <td>2.554</td>\n",
              "      <td>27.57</td>\n",
              "      <td>0.008998</td>\n",
              "      <td>0.012920</td>\n",
              "      <td>0.018510</td>\n",
              "      <td>0.011670</td>\n",
              "      <td>0.02152</td>\n",
              "      <td>0.003213</td>\n",
              "      <td>13.32</td>\n",
              "      <td>21.59</td>\n",
              "      <td>86.57</td>\n",
              "      <td>549.8</td>\n",
              "      <td>0.1526</td>\n",
              "      <td>0.1477</td>\n",
              "      <td>0.14900</td>\n",
              "      <td>0.09815</td>\n",
              "      <td>0.2804</td>\n",
              "      <td>0.08024</td>\n",
              "      <td>1</td>\n",
              "    </tr>\n",
              "    <tr>\n",
              "      <th>1</th>\n",
              "      <td>10.510</td>\n",
              "      <td>20.19</td>\n",
              "      <td>68.64</td>\n",
              "      <td>334.2</td>\n",
              "      <td>0.11220</td>\n",
              "      <td>0.13030</td>\n",
              "      <td>0.064760</td>\n",
              "      <td>0.03068</td>\n",
              "      <td>0.1922</td>\n",
              "      <td>0.07782</td>\n",
              "      <td>0.3336</td>\n",
              "      <td>1.8600</td>\n",
              "      <td>2.041</td>\n",
              "      <td>19.91</td>\n",
              "      <td>0.011880</td>\n",
              "      <td>0.037470</td>\n",
              "      <td>0.045910</td>\n",
              "      <td>0.015440</td>\n",
              "      <td>0.02287</td>\n",
              "      <td>0.006792</td>\n",
              "      <td>11.16</td>\n",
              "      <td>22.75</td>\n",
              "      <td>72.62</td>\n",
              "      <td>374.4</td>\n",
              "      <td>0.1300</td>\n",
              "      <td>0.2049</td>\n",
              "      <td>0.12950</td>\n",
              "      <td>0.06136</td>\n",
              "      <td>0.2383</td>\n",
              "      <td>0.09026</td>\n",
              "      <td>1</td>\n",
              "    </tr>\n",
              "    <tr>\n",
              "      <th>2</th>\n",
              "      <td>11.160</td>\n",
              "      <td>21.41</td>\n",
              "      <td>70.95</td>\n",
              "      <td>380.3</td>\n",
              "      <td>0.10180</td>\n",
              "      <td>0.05978</td>\n",
              "      <td>0.008955</td>\n",
              "      <td>0.01076</td>\n",
              "      <td>0.1615</td>\n",
              "      <td>0.06144</td>\n",
              "      <td>0.2865</td>\n",
              "      <td>1.6780</td>\n",
              "      <td>1.968</td>\n",
              "      <td>18.99</td>\n",
              "      <td>0.006908</td>\n",
              "      <td>0.009442</td>\n",
              "      <td>0.006972</td>\n",
              "      <td>0.006159</td>\n",
              "      <td>0.02694</td>\n",
              "      <td>0.002060</td>\n",
              "      <td>12.36</td>\n",
              "      <td>28.92</td>\n",
              "      <td>79.26</td>\n",
              "      <td>458.0</td>\n",
              "      <td>0.1282</td>\n",
              "      <td>0.1108</td>\n",
              "      <td>0.03582</td>\n",
              "      <td>0.04306</td>\n",
              "      <td>0.2976</td>\n",
              "      <td>0.07123</td>\n",
              "      <td>1</td>\n",
              "    </tr>\n",
              "    <tr>\n",
              "      <th>3</th>\n",
              "      <td>9.465</td>\n",
              "      <td>21.01</td>\n",
              "      <td>60.11</td>\n",
              "      <td>269.4</td>\n",
              "      <td>0.10440</td>\n",
              "      <td>0.07773</td>\n",
              "      <td>0.021720</td>\n",
              "      <td>0.01504</td>\n",
              "      <td>0.1717</td>\n",
              "      <td>0.06899</td>\n",
              "      <td>0.2351</td>\n",
              "      <td>2.0110</td>\n",
              "      <td>1.660</td>\n",
              "      <td>14.20</td>\n",
              "      <td>0.010520</td>\n",
              "      <td>0.017550</td>\n",
              "      <td>0.017140</td>\n",
              "      <td>0.009333</td>\n",
              "      <td>0.02279</td>\n",
              "      <td>0.004237</td>\n",
              "      <td>10.41</td>\n",
              "      <td>31.56</td>\n",
              "      <td>67.03</td>\n",
              "      <td>330.7</td>\n",
              "      <td>0.1548</td>\n",
              "      <td>0.1664</td>\n",
              "      <td>0.09412</td>\n",
              "      <td>0.06517</td>\n",
              "      <td>0.2878</td>\n",
              "      <td>0.09211</td>\n",
              "      <td>1</td>\n",
              "    </tr>\n",
              "    <tr>\n",
              "      <th>4</th>\n",
              "      <td>12.900</td>\n",
              "      <td>15.92</td>\n",
              "      <td>83.74</td>\n",
              "      <td>512.2</td>\n",
              "      <td>0.08677</td>\n",
              "      <td>0.09509</td>\n",
              "      <td>0.048940</td>\n",
              "      <td>0.03088</td>\n",
              "      <td>0.1778</td>\n",
              "      <td>0.06235</td>\n",
              "      <td>0.2143</td>\n",
              "      <td>0.7712</td>\n",
              "      <td>1.689</td>\n",
              "      <td>16.64</td>\n",
              "      <td>0.005324</td>\n",
              "      <td>0.015630</td>\n",
              "      <td>0.015100</td>\n",
              "      <td>0.007584</td>\n",
              "      <td>0.02104</td>\n",
              "      <td>0.001887</td>\n",
              "      <td>14.48</td>\n",
              "      <td>21.82</td>\n",
              "      <td>97.17</td>\n",
              "      <td>643.8</td>\n",
              "      <td>0.1312</td>\n",
              "      <td>0.2548</td>\n",
              "      <td>0.20900</td>\n",
              "      <td>0.10120</td>\n",
              "      <td>0.3549</td>\n",
              "      <td>0.08118</td>\n",
              "      <td>1</td>\n",
              "    </tr>\n",
              "  </tbody>\n",
              "</table>\n",
              "</div>"
            ],
            "text/plain": [
              "   mean radius  mean texture  ...  worst fractal dimension  target\n",
              "0       11.680         16.17  ...                  0.08024       1\n",
              "1       10.510         20.19  ...                  0.09026       1\n",
              "2       11.160         21.41  ...                  0.07123       1\n",
              "3        9.465         21.01  ...                  0.09211       1\n",
              "4       12.900         15.92  ...                  0.08118       1\n",
              "\n",
              "[5 rows x 31 columns]"
            ]
          },
          "metadata": {
            "tags": []
          },
          "execution_count": 14
        }
      ]
    },
    {
      "cell_type": "code",
      "metadata": {
        "id": "-HOgB4Vm4voR",
        "colab_type": "code",
        "colab": {
          "base_uri": "https://localhost:8080/",
          "height": 351
        },
        "outputId": "9ab750cd-6b23-425c-cd3d-4763140576d5"
      },
      "source": [
        "df.describe()"
      ],
      "execution_count": 15,
      "outputs": [
        {
          "output_type": "execute_result",
          "data": {
            "text/html": [
              "<div>\n",
              "<style scoped>\n",
              "    .dataframe tbody tr th:only-of-type {\n",
              "        vertical-align: middle;\n",
              "    }\n",
              "\n",
              "    .dataframe tbody tr th {\n",
              "        vertical-align: top;\n",
              "    }\n",
              "\n",
              "    .dataframe thead th {\n",
              "        text-align: right;\n",
              "    }\n",
              "</style>\n",
              "<table border=\"1\" class=\"dataframe\">\n",
              "  <thead>\n",
              "    <tr style=\"text-align: right;\">\n",
              "      <th></th>\n",
              "      <th>mean radius</th>\n",
              "      <th>mean texture</th>\n",
              "      <th>mean perimeter</th>\n",
              "      <th>mean area</th>\n",
              "      <th>mean smoothness</th>\n",
              "      <th>mean compactness</th>\n",
              "      <th>mean concavity</th>\n",
              "      <th>mean concave points</th>\n",
              "      <th>mean symmetry</th>\n",
              "      <th>mean fractal dimension</th>\n",
              "      <th>radius error</th>\n",
              "      <th>texture error</th>\n",
              "      <th>perimeter error</th>\n",
              "      <th>area error</th>\n",
              "      <th>smoothness error</th>\n",
              "      <th>compactness error</th>\n",
              "      <th>concavity error</th>\n",
              "      <th>concave points error</th>\n",
              "      <th>symmetry error</th>\n",
              "      <th>fractal dimension error</th>\n",
              "      <th>worst radius</th>\n",
              "      <th>worst texture</th>\n",
              "      <th>worst perimeter</th>\n",
              "      <th>worst area</th>\n",
              "      <th>worst smoothness</th>\n",
              "      <th>worst compactness</th>\n",
              "      <th>worst concavity</th>\n",
              "      <th>worst concave points</th>\n",
              "      <th>worst symmetry</th>\n",
              "      <th>worst fractal dimension</th>\n",
              "      <th>target</th>\n",
              "    </tr>\n",
              "  </thead>\n",
              "  <tbody>\n",
              "    <tr>\n",
              "      <th>count</th>\n",
              "      <td>455.000000</td>\n",
              "      <td>455.000000</td>\n",
              "      <td>455.000000</td>\n",
              "      <td>455.000000</td>\n",
              "      <td>455.000000</td>\n",
              "      <td>455.000000</td>\n",
              "      <td>455.000000</td>\n",
              "      <td>455.000000</td>\n",
              "      <td>455.000000</td>\n",
              "      <td>455.000000</td>\n",
              "      <td>455.000000</td>\n",
              "      <td>455.000000</td>\n",
              "      <td>455.000000</td>\n",
              "      <td>455.000000</td>\n",
              "      <td>455.000000</td>\n",
              "      <td>455.000000</td>\n",
              "      <td>455.000000</td>\n",
              "      <td>455.000000</td>\n",
              "      <td>455.000000</td>\n",
              "      <td>455.000000</td>\n",
              "      <td>455.000000</td>\n",
              "      <td>455.000000</td>\n",
              "      <td>455.000000</td>\n",
              "      <td>455.000000</td>\n",
              "      <td>455.000000</td>\n",
              "      <td>455.000000</td>\n",
              "      <td>455.000000</td>\n",
              "      <td>455.000000</td>\n",
              "      <td>455.000000</td>\n",
              "      <td>455.000000</td>\n",
              "      <td>455.000000</td>\n",
              "    </tr>\n",
              "    <tr>\n",
              "      <th>mean</th>\n",
              "      <td>14.076927</td>\n",
              "      <td>19.401231</td>\n",
              "      <td>91.696703</td>\n",
              "      <td>651.845714</td>\n",
              "      <td>0.096607</td>\n",
              "      <td>0.105488</td>\n",
              "      <td>0.090465</td>\n",
              "      <td>0.049364</td>\n",
              "      <td>0.181400</td>\n",
              "      <td>0.063056</td>\n",
              "      <td>0.409943</td>\n",
              "      <td>1.239679</td>\n",
              "      <td>2.914299</td>\n",
              "      <td>40.982738</td>\n",
              "      <td>0.007150</td>\n",
              "      <td>0.026098</td>\n",
              "      <td>0.033076</td>\n",
              "      <td>0.012058</td>\n",
              "      <td>0.020798</td>\n",
              "      <td>0.003908</td>\n",
              "      <td>16.183332</td>\n",
              "      <td>25.703407</td>\n",
              "      <td>106.842066</td>\n",
              "      <td>874.673846</td>\n",
              "      <td>0.132302</td>\n",
              "      <td>0.255009</td>\n",
              "      <td>0.273997</td>\n",
              "      <td>0.115001</td>\n",
              "      <td>0.288799</td>\n",
              "      <td>0.084117</td>\n",
              "      <td>0.635165</td>\n",
              "    </tr>\n",
              "    <tr>\n",
              "      <th>std</th>\n",
              "      <td>3.582352</td>\n",
              "      <td>4.385575</td>\n",
              "      <td>24.750328</td>\n",
              "      <td>358.998049</td>\n",
              "      <td>0.013978</td>\n",
              "      <td>0.053839</td>\n",
              "      <td>0.081472</td>\n",
              "      <td>0.039248</td>\n",
              "      <td>0.027537</td>\n",
              "      <td>0.007167</td>\n",
              "      <td>0.291471</td>\n",
              "      <td>0.582157</td>\n",
              "      <td>2.136038</td>\n",
              "      <td>48.626673</td>\n",
              "      <td>0.003099</td>\n",
              "      <td>0.018698</td>\n",
              "      <td>0.032411</td>\n",
              "      <td>0.006477</td>\n",
              "      <td>0.008346</td>\n",
              "      <td>0.002830</td>\n",
              "      <td>4.914311</td>\n",
              "      <td>6.227363</td>\n",
              "      <td>34.276565</td>\n",
              "      <td>582.879103</td>\n",
              "      <td>0.022510</td>\n",
              "      <td>0.161568</td>\n",
              "      <td>0.212719</td>\n",
              "      <td>0.066661</td>\n",
              "      <td>0.061609</td>\n",
              "      <td>0.018381</td>\n",
              "      <td>0.481914</td>\n",
              "    </tr>\n",
              "    <tr>\n",
              "      <th>min</th>\n",
              "      <td>6.981000</td>\n",
              "      <td>9.710000</td>\n",
              "      <td>43.790000</td>\n",
              "      <td>143.500000</td>\n",
              "      <td>0.062510</td>\n",
              "      <td>0.019380</td>\n",
              "      <td>0.000000</td>\n",
              "      <td>0.000000</td>\n",
              "      <td>0.106000</td>\n",
              "      <td>0.049960</td>\n",
              "      <td>0.111500</td>\n",
              "      <td>0.360200</td>\n",
              "      <td>0.757000</td>\n",
              "      <td>6.802000</td>\n",
              "      <td>0.001713</td>\n",
              "      <td>0.002252</td>\n",
              "      <td>0.000000</td>\n",
              "      <td>0.000000</td>\n",
              "      <td>0.007882</td>\n",
              "      <td>0.000895</td>\n",
              "      <td>7.930000</td>\n",
              "      <td>12.020000</td>\n",
              "      <td>50.410000</td>\n",
              "      <td>185.200000</td>\n",
              "      <td>0.071170</td>\n",
              "      <td>0.027290</td>\n",
              "      <td>0.000000</td>\n",
              "      <td>0.000000</td>\n",
              "      <td>0.156500</td>\n",
              "      <td>0.055040</td>\n",
              "      <td>0.000000</td>\n",
              "    </tr>\n",
              "    <tr>\n",
              "      <th>25%</th>\n",
              "      <td>11.650000</td>\n",
              "      <td>16.175000</td>\n",
              "      <td>74.720000</td>\n",
              "      <td>415.650000</td>\n",
              "      <td>0.086610</td>\n",
              "      <td>0.064880</td>\n",
              "      <td>0.029620</td>\n",
              "      <td>0.020290</td>\n",
              "      <td>0.163500</td>\n",
              "      <td>0.058270</td>\n",
              "      <td>0.236650</td>\n",
              "      <td>0.832400</td>\n",
              "      <td>1.668500</td>\n",
              "      <td>17.885000</td>\n",
              "      <td>0.005286</td>\n",
              "      <td>0.013115</td>\n",
              "      <td>0.015140</td>\n",
              "      <td>0.007975</td>\n",
              "      <td>0.015095</td>\n",
              "      <td>0.002269</td>\n",
              "      <td>12.980000</td>\n",
              "      <td>21.090000</td>\n",
              "      <td>83.875000</td>\n",
              "      <td>512.800000</td>\n",
              "      <td>0.117150</td>\n",
              "      <td>0.145850</td>\n",
              "      <td>0.112100</td>\n",
              "      <td>0.064985</td>\n",
              "      <td>0.250300</td>\n",
              "      <td>0.071895</td>\n",
              "      <td>0.000000</td>\n",
              "    </tr>\n",
              "    <tr>\n",
              "      <th>50%</th>\n",
              "      <td>13.160000</td>\n",
              "      <td>18.750000</td>\n",
              "      <td>85.420000</td>\n",
              "      <td>534.600000</td>\n",
              "      <td>0.096760</td>\n",
              "      <td>0.095460</td>\n",
              "      <td>0.063870</td>\n",
              "      <td>0.034850</td>\n",
              "      <td>0.179200</td>\n",
              "      <td>0.061680</td>\n",
              "      <td>0.324200</td>\n",
              "      <td>1.108000</td>\n",
              "      <td>2.279000</td>\n",
              "      <td>24.600000</td>\n",
              "      <td>0.006432</td>\n",
              "      <td>0.020750</td>\n",
              "      <td>0.026260</td>\n",
              "      <td>0.011100</td>\n",
              "      <td>0.018980</td>\n",
              "      <td>0.003249</td>\n",
              "      <td>14.800000</td>\n",
              "      <td>25.220000</td>\n",
              "      <td>97.110000</td>\n",
              "      <td>670.000000</td>\n",
              "      <td>0.131600</td>\n",
              "      <td>0.211900</td>\n",
              "      <td>0.224100</td>\n",
              "      <td>0.099930</td>\n",
              "      <td>0.281900</td>\n",
              "      <td>0.079990</td>\n",
              "      <td>1.000000</td>\n",
              "    </tr>\n",
              "    <tr>\n",
              "      <th>75%</th>\n",
              "      <td>15.815000</td>\n",
              "      <td>21.840000</td>\n",
              "      <td>103.700000</td>\n",
              "      <td>785.600000</td>\n",
              "      <td>0.105350</td>\n",
              "      <td>0.130500</td>\n",
              "      <td>0.132200</td>\n",
              "      <td>0.074095</td>\n",
              "      <td>0.195700</td>\n",
              "      <td>0.066135</td>\n",
              "      <td>0.473500</td>\n",
              "      <td>1.497500</td>\n",
              "      <td>3.306500</td>\n",
              "      <td>44.935000</td>\n",
              "      <td>0.008199</td>\n",
              "      <td>0.033315</td>\n",
              "      <td>0.043280</td>\n",
              "      <td>0.014990</td>\n",
              "      <td>0.023765</td>\n",
              "      <td>0.004587</td>\n",
              "      <td>18.800000</td>\n",
              "      <td>29.545000</td>\n",
              "      <td>125.650000</td>\n",
              "      <td>1086.000000</td>\n",
              "      <td>0.145800</td>\n",
              "      <td>0.339500</td>\n",
              "      <td>0.388400</td>\n",
              "      <td>0.164800</td>\n",
              "      <td>0.317150</td>\n",
              "      <td>0.092100</td>\n",
              "      <td>1.000000</td>\n",
              "    </tr>\n",
              "    <tr>\n",
              "      <th>max</th>\n",
              "      <td>28.110000</td>\n",
              "      <td>39.280000</td>\n",
              "      <td>188.500000</td>\n",
              "      <td>2501.000000</td>\n",
              "      <td>0.163400</td>\n",
              "      <td>0.345400</td>\n",
              "      <td>0.426800</td>\n",
              "      <td>0.201200</td>\n",
              "      <td>0.304000</td>\n",
              "      <td>0.097440</td>\n",
              "      <td>2.873000</td>\n",
              "      <td>4.885000</td>\n",
              "      <td>21.980000</td>\n",
              "      <td>542.200000</td>\n",
              "      <td>0.031130</td>\n",
              "      <td>0.135400</td>\n",
              "      <td>0.396000</td>\n",
              "      <td>0.052790</td>\n",
              "      <td>0.078950</td>\n",
              "      <td>0.029840</td>\n",
              "      <td>36.040000</td>\n",
              "      <td>49.540000</td>\n",
              "      <td>251.200000</td>\n",
              "      <td>4254.000000</td>\n",
              "      <td>0.218400</td>\n",
              "      <td>1.058000</td>\n",
              "      <td>1.252000</td>\n",
              "      <td>0.291000</td>\n",
              "      <td>0.663800</td>\n",
              "      <td>0.207500</td>\n",
              "      <td>1.000000</td>\n",
              "    </tr>\n",
              "  </tbody>\n",
              "</table>\n",
              "</div>"
            ],
            "text/plain": [
              "       mean radius  mean texture  ...  worst fractal dimension      target\n",
              "count   455.000000    455.000000  ...               455.000000  455.000000\n",
              "mean     14.076927     19.401231  ...                 0.084117    0.635165\n",
              "std       3.582352      4.385575  ...                 0.018381    0.481914\n",
              "min       6.981000      9.710000  ...                 0.055040    0.000000\n",
              "25%      11.650000     16.175000  ...                 0.071895    0.000000\n",
              "50%      13.160000     18.750000  ...                 0.079990    1.000000\n",
              "75%      15.815000     21.840000  ...                 0.092100    1.000000\n",
              "max      28.110000     39.280000  ...                 0.207500    1.000000\n",
              "\n",
              "[8 rows x 31 columns]"
            ]
          },
          "metadata": {
            "tags": []
          },
          "execution_count": 15
        }
      ]
    },
    {
      "cell_type": "code",
      "metadata": {
        "id": "N8TPm4Gg4xjY",
        "colab_type": "code",
        "colab": {
          "base_uri": "https://localhost:8080/",
          "height": 1000
        },
        "outputId": "255907bb-d1b0-4d7d-8e0b-e00c78a15521"
      },
      "source": [
        "# show data\n",
        "df.hist(bins=50, figsize=(20,15))"
      ],
      "execution_count": 16,
      "outputs": [
        {
          "output_type": "execute_result",
          "data": {
            "text/plain": [
              "array([[<matplotlib.axes._subplots.AxesSubplot object at 0x7f98ecc11898>,\n",
              "        <matplotlib.axes._subplots.AxesSubplot object at 0x7f98ecbb7b00>,\n",
              "        <matplotlib.axes._subplots.AxesSubplot object at 0x7f98ecb6cd68>,\n",
              "        <matplotlib.axes._subplots.AxesSubplot object at 0x7f98ecb20fd0>,\n",
              "        <matplotlib.axes._subplots.AxesSubplot object at 0x7f98ecae0278>,\n",
              "        <matplotlib.axes._subplots.AxesSubplot object at 0x7f98ecb144e0>],\n",
              "       [<matplotlib.axes._subplots.AxesSubplot object at 0x7f98ecac7748>,\n",
              "        <matplotlib.axes._subplots.AxesSubplot object at 0x7f98eca7c978>,\n",
              "        <matplotlib.axes._subplots.AxesSubplot object at 0x7f98eca7c9e8>,\n",
              "        <matplotlib.axes._subplots.AxesSubplot object at 0x7f98ec9e3e80>,\n",
              "        <matplotlib.axes._subplots.AxesSubplot object at 0x7f98ec9a4128>,\n",
              "        <matplotlib.axes._subplots.AxesSubplot object at 0x7f98ec959390>],\n",
              "       [<matplotlib.axes._subplots.AxesSubplot object at 0x7f98ec98c5f8>,\n",
              "        <matplotlib.axes._subplots.AxesSubplot object at 0x7f98ec940860>,\n",
              "        <matplotlib.axes._subplots.AxesSubplot object at 0x7f98ec8f4ac8>,\n",
              "        <matplotlib.axes._subplots.AxesSubplot object at 0x7f98ec8a5d30>,\n",
              "        <matplotlib.axes._subplots.AxesSubplot object at 0x7f98ec85df98>,\n",
              "        <matplotlib.axes._subplots.AxesSubplot object at 0x7f98ec81c240>],\n",
              "       [<matplotlib.axes._subplots.AxesSubplot object at 0x7f98ec8504a8>,\n",
              "        <matplotlib.axes._subplots.AxesSubplot object at 0x7f98ec802710>,\n",
              "        <matplotlib.axes._subplots.AxesSubplot object at 0x7f98ec7b7978>,\n",
              "        <matplotlib.axes._subplots.AxesSubplot object at 0x7f98ec76cbe0>,\n",
              "        <matplotlib.axes._subplots.AxesSubplot object at 0x7f98ec720e48>,\n",
              "        <matplotlib.axes._subplots.AxesSubplot object at 0x7f98ec6e10f0>],\n",
              "       [<matplotlib.axes._subplots.AxesSubplot object at 0x7f98ec716358>,\n",
              "        <matplotlib.axes._subplots.AxesSubplot object at 0x7f98ec6c85c0>,\n",
              "        <matplotlib.axes._subplots.AxesSubplot object at 0x7f98ec67c828>,\n",
              "        <matplotlib.axes._subplots.AxesSubplot object at 0x7f98ec62ea90>,\n",
              "        <matplotlib.axes._subplots.AxesSubplot object at 0x7f98ec5e3cf8>,\n",
              "        <matplotlib.axes._subplots.AxesSubplot object at 0x7f98ec618f60>],\n",
              "       [<matplotlib.axes._subplots.AxesSubplot object at 0x7f98ec5d0d30>,\n",
              "        <matplotlib.axes._subplots.AxesSubplot object at 0x7f98ec58e0f0>,\n",
              "        <matplotlib.axes._subplots.AxesSubplot object at 0x7f98ec540470>,\n",
              "        <matplotlib.axes._subplots.AxesSubplot object at 0x7f98ec4f27f0>,\n",
              "        <matplotlib.axes._subplots.AxesSubplot object at 0x7f98ec4a3b70>,\n",
              "        <matplotlib.axes._subplots.AxesSubplot object at 0x7f98ec4d6ef0>]],\n",
              "      dtype=object)"
            ]
          },
          "metadata": {
            "tags": []
          },
          "execution_count": 16
        },
        {
          "output_type": "display_data",
          "data": {
            "image/png": "[encoded data removed]",
            "text/plain": [
              "<Figure size 1440x1080 with 36 Axes>"
            ]
          },
          "metadata": {
            "tags": []
          }
        }
      ]
    },
    {
      "cell_type": "code",
      "metadata": {
        "id": "hpRAkC5s4z8N",
        "colab_type": "code",
        "colab": {}
      },
      "source": [
        "#standard correlation coefficient\n",
        "corr_mx = df.corr()"
      ],
      "execution_count": 0,
      "outputs": []
    },
    {
      "cell_type": "code",
      "metadata": {
        "id": "serQqefw42zE",
        "colab_type": "code",
        "colab": {
          "base_uri": "https://localhost:8080/",
          "height": 561
        },
        "outputId": "9ffbb732-4fa0-4e6f-dafe-23c0adcc7d18"
      },
      "source": [
        "corr_mx['target'].sort_values(ascending=False)"
      ],
      "execution_count": 18,
      "outputs": [
        {
          "output_type": "execute_result",
          "data": {
            "text/plain": [
              "target                     1.000000\n",
              "smoothness error           0.076110\n",
              "mean fractal dimension     0.037813\n",
              "symmetry error             0.020331\n",
              "texture error              0.018808\n",
              "fractal dimension error   -0.049510\n",
              "concavity error           -0.232226\n",
              "compactness error         -0.280710\n",
              "worst fractal dimension   -0.304591\n",
              "mean symmetry             -0.311413\n",
              "mean smoothness           -0.343986\n",
              "concave points error      -0.394662\n",
              "worst symmetry            -0.400896\n",
              "mean texture              -0.406503\n",
              "worst smoothness          -0.410533\n",
              "worst texture             -0.450968\n",
              "area error                -0.533731\n",
              "perimeter error           -0.545547\n",
              "radius error              -0.550439\n",
              "worst compactness         -0.586408\n",
              "mean compactness          -0.588127\n",
              "worst concavity           -0.655511\n",
              "mean concavity            -0.689563\n",
              "mean area                 -0.713589\n",
              "worst area                -0.731473\n",
              "mean radius               -0.733919\n",
              "mean perimeter            -0.745946\n",
              "worst radius              -0.775214\n",
              "mean concave points       -0.776928\n",
              "worst perimeter           -0.783594\n",
              "worst concave points      -0.795940\n",
              "Name: target, dtype: float64"
            ]
          },
          "metadata": {
            "tags": []
          },
          "execution_count": 18
        }
      ]
    },
    {
      "cell_type": "code",
      "metadata": {
        "id": "0IcaatKd44nU",
        "colab_type": "code",
        "colab": {
          "base_uri": "https://localhost:8080/",
          "height": 794
        },
        "outputId": "34e1d8b3-bba3-4063-f119-692dc4c1d496"
      },
      "source": [
        "attributes = ['target', 'worst concave points', 'worst perimeter', 'mean concave points']\n",
        "pd.plotting.scatter_matrix(df[attributes], figsize=(12, 8))"
      ],
      "execution_count": 19,
      "outputs": [
        {
          "output_type": "execute_result",
          "data": {
            "text/plain": [
              "array([[<matplotlib.axes._subplots.AxesSubplot object at 0x7f98eb89b9e8>,\n",
              "        <matplotlib.axes._subplots.AxesSubplot object at 0x7f98eb3308d0>,\n",
              "        <matplotlib.axes._subplots.AxesSubplot object at 0x7f98eb171da0>,\n",
              "        <matplotlib.axes._subplots.AxesSubplot object at 0x7f98eb140160>],\n",
              "       [<matplotlib.axes._subplots.AxesSubplot object at 0x7f98eb0b74e0>,\n",
              "        <matplotlib.axes._subplots.AxesSubplot object at 0x7f98eb067860>,\n",
              "        <matplotlib.axes._subplots.AxesSubplot object at 0x7f98eb084be0>,\n",
              "        <matplotlib.axes._subplots.AxesSubplot object at 0x7f98eb097f28>],\n",
              "       [<matplotlib.axes._subplots.AxesSubplot object at 0x7f98eb097f98>,\n",
              "        <matplotlib.axes._subplots.AxesSubplot object at 0x7f98eaff86a0>,\n",
              "        <matplotlib.axes._subplots.AxesSubplot object at 0x7f98eafa9a20>,\n",
              "        <matplotlib.axes._subplots.AxesSubplot object at 0x7f98eaf5dda0>],\n",
              "       [<matplotlib.axes._subplots.AxesSubplot object at 0x7f98eaf1c160>,\n",
              "        <matplotlib.axes._subplots.AxesSubplot object at 0x7f98eaf4c4e0>,\n",
              "        <matplotlib.axes._subplots.AxesSubplot object at 0x7f98eaf00860>,\n",
              "        <matplotlib.axes._subplots.AxesSubplot object at 0x7f98eaeb1be0>]],\n",
              "      dtype=object)"
            ]
          },
          "metadata": {
            "tags": []
          },
          "execution_count": 19
        },
        {
          "output_type": "display_data",
          "data": {
            "image/png": "[encoded data removed]",
            "text/plain": [
              "<Figure size 864x576 with 16 Axes>"
            ]
          },
          "metadata": {
            "tags": []
          }
        }
      ]
    },
    {
      "cell_type": "code",
      "metadata": {
        "id": "L1RUOJvI49N8",
        "colab_type": "code",
        "colab": {}
      },
      "source": [
        "scaler = StandardScaler()\n",
        "X_train_processed = scaler.fit_transform(X_train)"
      ],
      "execution_count": 0,
      "outputs": []
    },
    {
      "cell_type": "markdown",
      "metadata": {
        "id": "jvugNRRWNuYH",
        "colab_type": "text"
      },
      "source": [
        "###Train model"
      ]
    },
    {
      "cell_type": "code",
      "metadata": {
        "id": "Apadtx7Ag8if",
        "colab_type": "code",
        "colab": {}
      },
      "source": [
        "models = {'decision tree' : DecisionTreeClassifier(),\n",
        "                'random forest' : RandomForestClassifier(),\n",
        "                'extra trees' : ExtraTreesClassifier(),\n",
        "                'gradient boosting' : GradientBoostingClassifier(),\n",
        "                'xgboost' : XGBClassifier(),\n",
        "                'catboost' : CatBoostClassifier(verbose=False)}"
      ],
      "execution_count": 0,
      "outputs": []
    },
    {
      "cell_type": "code",
      "metadata": {
        "id": "y3caPEEIKCHY",
        "colab_type": "code",
        "colab": {}
      },
      "source": [
        "for key in models:\n",
        "  models[key].fit(X_train_processed, y_train)"
      ],
      "execution_count": 0,
      "outputs": []
    },
    {
      "cell_type": "markdown",
      "metadata": {
        "id": "ulyGSSBYOId8",
        "colab_type": "text"
      },
      "source": [
        "###Evaluation"
      ]
    },
    {
      "cell_type": "markdown",
      "metadata": {
        "id": "LtE4TV6ZUNvi",
        "colab_type": "text"
      },
      "source": [
        "k-th cross validation"
      ]
    },
    {
      "cell_type": "code",
      "metadata": {
        "id": "-d6cE1TvOIB8",
        "colab_type": "code",
        "colab": {}
      },
      "source": [
        "def kth_cross_validation(model):\n",
        "   #k-th cross validation\n",
        "   cv = 3 #the number of foldings\n",
        "   scores = cross_val_score(model, X_train_processed, y_train, cv=cv, scoring='accuracy')\n",
        "   return scores"
      ],
      "execution_count": 0,
      "outputs": []
    },
    {
      "cell_type": "code",
      "metadata": {
        "id": "69dZsSXanO2s",
        "colab_type": "code",
        "outputId": "294f3926-f9f5-4d44-bcbb-98fedd8fa975",
        "colab": {
          "base_uri": "https://localhost:8080/",
          "height": 119
        }
      },
      "source": [
        "for key in models:\n",
        "  scores = kth_cross_validation(models[key])\n",
        "  print(key, scores.mean())"
      ],
      "execution_count": 24,
      "outputs": [
        {
          "output_type": "stream",
          "text": [
            "decision tree 0.909869873358894\n",
            "random forest 0.9538892761705587\n",
            "extra trees 0.9626757290577438\n",
            "gradient boosting 0.9428807947019867\n",
            "xgboost 0.9450883002207506\n",
            "catboost 0.9604827466016034\n"
          ],
          "name": "stdout"
        }
      ]
    },
    {
      "cell_type": "markdown",
      "metadata": {
        "id": "nHwFa6jiV29L",
        "colab_type": "text"
      },
      "source": [
        "various scores"
      ]
    },
    {
      "cell_type": "code",
      "metadata": {
        "id": "g7Zg2F81kryJ",
        "colab_type": "code",
        "outputId": "d588cd52-5772-4e97-8132-d14569739c3d",
        "colab": {
          "base_uri": "https://localhost:8080/",
          "height": 935
        }
      },
      "source": [
        "for key in models:\n",
        "   y_train_pred = cross_val_predict(models[key], X_train_processed, y_train, cv=3)\n",
        "   print(key, classification_report(y_train, y_train_pred))"
      ],
      "execution_count": 25,
      "outputs": [
        {
          "output_type": "stream",
          "text": [
            "decision tree               precision    recall  f1-score   support\n",
            "\n",
            "           0       0.88      0.92      0.90       166\n",
            "           1       0.95      0.93      0.94       289\n",
            "\n",
            "    accuracy                           0.92       455\n",
            "   macro avg       0.91      0.92      0.92       455\n",
            "weighted avg       0.92      0.92      0.92       455\n",
            "\n",
            "random forest               precision    recall  f1-score   support\n",
            "\n",
            "           0       0.96      0.92      0.94       166\n",
            "           1       0.95      0.98      0.97       289\n",
            "\n",
            "    accuracy                           0.96       455\n",
            "   macro avg       0.96      0.95      0.95       455\n",
            "weighted avg       0.96      0.96      0.96       455\n",
            "\n",
            "extra trees               precision    recall  f1-score   support\n",
            "\n",
            "           0       0.96      0.94      0.95       166\n",
            "           1       0.97      0.98      0.97       289\n",
            "\n",
            "    accuracy                           0.96       455\n",
            "   macro avg       0.96      0.96      0.96       455\n",
            "weighted avg       0.96      0.96      0.96       455\n",
            "\n",
            "gradient boosting               precision    recall  f1-score   support\n",
            "\n",
            "           0       0.93      0.92      0.92       166\n",
            "           1       0.95      0.96      0.96       289\n",
            "\n",
            "    accuracy                           0.95       455\n",
            "   macro avg       0.94      0.94      0.94       455\n",
            "weighted avg       0.94      0.95      0.94       455\n",
            "\n",
            "xgboost               precision    recall  f1-score   support\n",
            "\n",
            "           0       0.94      0.91      0.92       166\n",
            "           1       0.95      0.97      0.96       289\n",
            "\n",
            "    accuracy                           0.95       455\n",
            "   macro avg       0.94      0.94      0.94       455\n",
            "weighted avg       0.94      0.95      0.94       455\n",
            "\n",
            "catboost               precision    recall  f1-score   support\n",
            "\n",
            "           0       0.96      0.93      0.94       166\n",
            "           1       0.96      0.98      0.97       289\n",
            "\n",
            "    accuracy                           0.96       455\n",
            "   macro avg       0.96      0.95      0.96       455\n",
            "weighted avg       0.96      0.96      0.96       455\n",
            "\n"
          ],
          "name": "stdout"
        }
      ]
    },
    {
      "cell_type": "code",
      "metadata": {
        "id": "vQm6XdqG4QyE",
        "colab_type": "code",
        "colab": {}
      },
      "source": [
        "def plot_pr_curve(y, y_score, label=None):\n",
        "\n",
        "    fpr, tpr, thresholds = precision_recall_curve(y, y_score)\n",
        "    plt.plot(fpr, tpr, linewidth=2, label=label)\n",
        "    plt.plot([0, 1], [1, 0], 'k--')\n",
        "    plt.axis([0, 1, 0, 1])\n",
        "    plt.xlabel('Recall')\n",
        "    plt.ylabel('Precision')\n",
        "    plt.legend()\n",
        "\n",
        "    return"
      ],
      "execution_count": 0,
      "outputs": []
    },
    {
      "cell_type": "code",
      "metadata": {
        "id": "U318bPF64rWu",
        "colab_type": "code",
        "outputId": "dacf9413-2843-4f07-8162-929889d1d34a",
        "colab": {
          "base_uri": "https://localhost:8080/",
          "height": 283
        }
      },
      "source": [
        "for key in models:\n",
        "   y_train_probas = cross_val_predict(models[key], X_train_processed, y_train, cv=3, method='predict_proba')\n",
        "   y_train_scores = y_train_probas[:, 1]\n",
        "   plot_pr_curve(y_train, y_train_scores, label=key)"
      ],
      "execution_count": 27,
      "outputs": [
        {
          "output_type": "display_data",
          "data": {
            "image/png": "[encoded data removed]",
            "text/plain": [
              "<Figure size 432x288 with 1 Axes>"
            ]
          },
          "metadata": {
            "tags": []
          }
        }
      ]
    },
    {
      "cell_type": "code",
      "metadata": {
        "id": "7VCYqksuq24d",
        "colab_type": "code",
        "colab": {}
      },
      "source": [
        "def plot_roc_curve(y, y_score, label=None):\n",
        "\n",
        "    fpr, tpr, thresholds = roc_curve(y, y_score)\n",
        "    plt.plot(fpr, tpr, linewidth=2, label=label)\n",
        "    plt.plot([0, 1], [0, 1], 'k--')\n",
        "    plt.axis([0, 1, 0, 1])\n",
        "    plt.xlabel('False Positive Rate')\n",
        "    plt.ylabel('True Positive Rate')\n",
        "    plt.legend()\n",
        "\n",
        "    return"
      ],
      "execution_count": 0,
      "outputs": []
    },
    {
      "cell_type": "code",
      "metadata": {
        "id": "PWcoMc3BsoNE",
        "colab_type": "code",
        "outputId": "d6f5f161-4462-420b-cb49-117269d4609c",
        "colab": {
          "base_uri": "https://localhost:8080/",
          "height": 283
        }
      },
      "source": [
        "for key in models:\n",
        "   y_train_probas = cross_val_predict(models[key], X_train_processed, y_train, cv=3, method='predict_proba')\n",
        "   y_train_scores = y_train_probas[:, 1]\n",
        "   plot_roc_curve(y_train, y_train_scores, label=key)"
      ],
      "execution_count": 29,
      "outputs": [
        {
          "output_type": "display_data",
          "data": {
            "image/png": "[encoded data removed]",
            "text/plain": [
              "<Figure size 432x288 with 1 Axes>"
            ]
          },
          "metadata": {
            "tags": []
          }
        }
      ]
    },
    {
      "cell_type": "code",
      "metadata": {
        "id": "chw52C80Wku3",
        "colab_type": "code",
        "outputId": "cb2e48b7-2add-4de3-8d9d-5a90d5eeea02",
        "colab": {
          "base_uri": "https://localhost:8080/",
          "height": 119
        }
      },
      "source": [
        "for key in models:\n",
        "   y_train_probas = cross_val_predict(models[key], X_train_processed, y_train, cv=3, method='predict_proba')\n",
        "   y_train_scores = y_train_probas[:, 1]\n",
        "   auc_score = roc_auc_score(y_train, y_train_scores)\n",
        "   print(key, auc_score)"
      ],
      "execution_count": 30,
      "outputs": [
        {
          "output_type": "stream",
          "text": [
            "decision tree 0.9120148413724101\n",
            "random forest 0.9892545962396299\n",
            "extra trees 0.9914120148413724\n",
            "gradient boosting 0.9850960937174302\n",
            "xgboost 0.9879518072289155\n",
            "catboost 0.9887022136990871\n"
          ],
          "name": "stdout"
        }
      ]
    },
    {
      "cell_type": "markdown",
      "metadata": {
        "id": "CIgJPTmF7v-_",
        "colab_type": "text"
      },
      "source": [
        "###Test"
      ]
    },
    {
      "cell_type": "code",
      "metadata": {
        "id": "d-mc-lJcmIvP",
        "colab_type": "code",
        "outputId": "6580ae67-f349-49b7-a85c-5dd65e317eba",
        "colab": {
          "base_uri": "https://localhost:8080/",
          "height": 119
        }
      },
      "source": [
        "for key in models:\n",
        "  result = models[key].score(scaler.transform(X_test), y_test)\n",
        "  print(key, result)"
      ],
      "execution_count": 31,
      "outputs": [
        {
          "output_type": "stream",
          "text": [
            "decision tree 0.9122807017543859\n",
            "random forest 0.9649122807017544\n",
            "extra trees 0.956140350877193\n",
            "gradient boosting 0.9736842105263158\n",
            "xgboost 0.9824561403508771\n",
            "catboost 0.9824561403508771\n"
          ],
          "name": "stdout"
        }
      ]
    },
    {
      "cell_type": "code",
      "metadata": {
        "id": "vJwFB3Rf-xZt",
        "colab_type": "code",
        "colab": {}
      },
      "source": [
        ""
      ],
      "execution_count": 0,
      "outputs": []
    }
  ]
}