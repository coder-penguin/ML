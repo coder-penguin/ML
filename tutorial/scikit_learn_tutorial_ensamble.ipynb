{
  "nbformat": 4,
  "nbformat_minor": 0,
  "metadata": {
    "colab": {
      "name": "scikit-learn_tutorial_ensamble",
      "provenance": [],
      "collapsed_sections": [],
      "include_colab_link": true
    },
    "kernelspec": {
      "name": "python3",
      "display_name": "Python 3"
    }
  },
  "cells": [
    {
      "cell_type": "markdown",
      "metadata": {
        "id": "view-in-github",
        "colab_type": "text"
      },
      "source": [
        "<a href=\"https://colab.research.google.com/github/coder-penguin/ML/blob/master/tutorial/scikit_learn_tutorial_ensamble.ipynb\" target=\"_parent\"><img src=\"https://colab.research.google.com/assets/colab-badge.svg\" alt=\"Open In Colab\"/></a>"
      ]
    },
    {
      "cell_type": "markdown",
      "metadata": {
        "id": "E-5PkF7PBj7_",
        "colab_type": "text"
      },
      "source": [
        "#Sample code for emsamble learning"
      ]
    },
    {
      "cell_type": "markdown",
      "metadata": {
        "id": "V5hrcRzY_9uM",
        "colab_type": "text"
      },
      "source": [
        "Load libraries"
      ]
    },
    {
      "cell_type": "code",
      "metadata": {
        "id": "g-gQeG9T0SFD",
        "colab_type": "code",
        "outputId": "ff3eda78-331f-4bcd-cf31-5633312b40b6",
        "colab": {
          "base_uri": "https://localhost:8080/",
          "height": 361
        }
      },
      "source": [
        "!pip install catboost"
      ],
      "execution_count": 1,
      "outputs": [
        {
          "output_type": "stream",
          "text": [
            "Requirement already satisfied: catboost in /usr/local/lib/python3.6/dist-packages (0.22)\n",
            "Requirement already satisfied: six in /usr/local/lib/python3.6/dist-packages (from catboost) (1.12.0)\n",
            "Requirement already satisfied: pandas>=0.24.0 in /usr/local/lib/python3.6/dist-packages (from catboost) (1.0.3)\n",
            "Requirement already satisfied: scipy in /usr/local/lib/python3.6/dist-packages (from catboost) (1.4.1)\n",
            "Requirement already satisfied: matplotlib in /usr/local/lib/python3.6/dist-packages (from catboost) (3.2.1)\n",
            "Requirement already satisfied: graphviz in /usr/local/lib/python3.6/dist-packages (from catboost) (0.10.1)\n",
            "Requirement already satisfied: numpy>=1.16.0 in /usr/local/lib/python3.6/dist-packages (from catboost) (1.18.2)\n",
            "Requirement already satisfied: plotly in /usr/local/lib/python3.6/dist-packages (from catboost) (4.4.1)\n",
            "Requirement already satisfied: pytz>=2017.2 in /usr/local/lib/python3.6/dist-packages (from pandas>=0.24.0->catboost) (2018.9)\n",
            "Requirement already satisfied: python-dateutil>=2.6.1 in /usr/local/lib/python3.6/dist-packages (from pandas>=0.24.0->catboost) (2.8.1)\n",
            "Requirement already satisfied: cycler>=0.10 in /usr/local/lib/python3.6/dist-packages (from matplotlib->catboost) (0.10.0)\n",
            "Requirement already satisfied: pyparsing!=2.0.4,!=2.1.2,!=2.1.6,>=2.0.1 in /usr/local/lib/python3.6/dist-packages (from matplotlib->catboost) (2.4.6)\n",
            "Requirement already satisfied: kiwisolver>=1.0.1 in /usr/local/lib/python3.6/dist-packages (from matplotlib->catboost) (1.1.0)\n",
            "Requirement already satisfied: retrying>=1.3.3 in /usr/local/lib/python3.6/dist-packages (from plotly->catboost) (1.3.3)\n",
            "Requirement already satisfied: setuptools in /usr/local/lib/python3.6/dist-packages (from kiwisolver>=1.0.1->matplotlib->catboost) (46.0.0)\n"
          ],
          "name": "stdout"
        }
      ]
    },
    {
      "cell_type": "code",
      "metadata": {
        "id": "uz6chkI6AFGk",
        "colab_type": "code",
        "outputId": "ba2468b6-c7f0-4a27-bfdc-5e00ac7056ce",
        "colab": {
          "base_uri": "https://localhost:8080/",
          "height": 71
        }
      },
      "source": [
        "import numpy as np\n",
        "import pandas as pd\n",
        "import matplotlib.pyplot as plt\n",
        "\n",
        "from sklearn.datasets import load_breast_cancer\n",
        "from sklearn.model_selection import train_test_split, cross_val_predict, cross_val_score\n",
        "from sklearn.metrics import confusion_matrix\n",
        "from sklearn.metrics import accuracy_score, precision_score, recall_score, f1_score, classification_report\n",
        "from sklearn.metrics import precision_recall_curve, roc_curve, roc_auc_score\n",
        "from sklearn.tree import DecisionTreeClassifier \n",
        "from sklearn.ensemble import RandomForestClassifier\n",
        "from sklearn.ensemble import ExtraTreesClassifier\n",
        "from sklearn.ensemble import GradientBoostingClassifier\n",
        "from xgboost import XGBClassifier\n",
        "from catboost import CatBoostClassifier\n",
        "from sklearn.ensemble import VotingClassifier\n",
        "from sklearn.ensemble import BaggingClassifier\n",
        "from sklearn.preprocessing import StandardScaler\n",
        "from sklearn.externals import joblib"
      ],
      "execution_count": 2,
      "outputs": [
        {
          "output_type": "stream",
          "text": [
            "/usr/local/lib/python3.6/dist-packages/sklearn/externals/joblib/__init__.py:15: FutureWarning: sklearn.externals.joblib is deprecated in 0.21 and will be removed in 0.23. Please import this functionality directly from joblib, which can be installed with: pip install joblib. If this warning is raised when loading pickled models, you may need to re-serialize those models with scikit-learn 0.21+.\n",
            "  warnings.warn(msg, category=FutureWarning)\n"
          ],
          "name": "stderr"
        }
      ]
    },
    {
      "cell_type": "markdown",
      "metadata": {
        "id": "yWjy9yhPETE9",
        "colab_type": "text"
      },
      "source": [
        "Read data"
      ]
    },
    {
      "cell_type": "code",
      "metadata": {
        "id": "xKApP_2eEduJ",
        "colab_type": "code",
        "colab": {}
      },
      "source": [
        "# read the breast cancer wisconsin dataset\n",
        "dataset = load_breast_cancer()"
      ],
      "execution_count": 0,
      "outputs": []
    },
    {
      "cell_type": "code",
      "metadata": {
        "id": "seKjk_6vfYzd",
        "colab_type": "code",
        "outputId": "8ed5a4be-d7f6-4794-d810-5ba738dfc6a9",
        "colab": {
          "base_uri": "https://localhost:8080/",
          "height": 34
        }
      },
      "source": [
        "#30 features\n",
        "dataset['data'].shape"
      ],
      "execution_count": 4,
      "outputs": [
        {
          "output_type": "execute_result",
          "data": {
            "text/plain": [
              "(569, 30)"
            ]
          },
          "metadata": {
            "tags": []
          },
          "execution_count": 4
        }
      ]
    },
    {
      "cell_type": "code",
      "metadata": {
        "id": "9jO5ZfoA1cuY",
        "colab_type": "code",
        "outputId": "d45d085b-6367-4dc1-cc0f-2ec0a94f53e0",
        "colab": {
          "base_uri": "https://localhost:8080/",
          "height": 459
        }
      },
      "source": [
        "#binary target\n",
        "dataset['target']"
      ],
      "execution_count": 5,
      "outputs": [
        {
          "output_type": "execute_result",
          "data": {
            "text/plain": [
              "array([0, 0, 0, 0, 0, 0, 0, 0, 0, 0, 0, 0, 0, 0, 0, 0, 0, 0, 0, 1, 1, 1,\n",
              "       0, 0, 0, 0, 0, 0, 0, 0, 0, 0, 0, 0, 0, 0, 0, 1, 0, 0, 0, 0, 0, 0,\n",
              "       0, 0, 1, 0, 1, 1, 1, 1, 1, 0, 0, 1, 0, 0, 1, 1, 1, 1, 0, 1, 0, 0,\n",
              "       1, 1, 1, 1, 0, 1, 0, 0, 1, 0, 1, 0, 0, 1, 1, 1, 0, 0, 1, 0, 0, 0,\n",
              "       1, 1, 1, 0, 1, 1, 0, 0, 1, 1, 1, 0, 0, 1, 1, 1, 1, 0, 1, 1, 0, 1,\n",
              "       1, 1, 1, 1, 1, 1, 1, 0, 0, 0, 1, 0, 0, 1, 1, 1, 0, 0, 1, 0, 1, 0,\n",
              "       0, 1, 0, 0, 1, 1, 0, 1, 1, 0, 1, 1, 1, 1, 0, 1, 1, 1, 1, 1, 1, 1,\n",
              "       1, 1, 0, 1, 1, 1, 1, 0, 0, 1, 0, 1, 1, 0, 0, 1, 1, 0, 0, 1, 1, 1,\n",
              "       1, 0, 1, 1, 0, 0, 0, 1, 0, 1, 0, 1, 1, 1, 0, 1, 1, 0, 0, 1, 0, 0,\n",
              "       0, 0, 1, 0, 0, 0, 1, 0, 1, 0, 1, 1, 0, 1, 0, 0, 0, 0, 1, 1, 0, 0,\n",
              "       1, 1, 1, 0, 1, 1, 1, 1, 1, 0, 0, 1, 1, 0, 1, 1, 0, 0, 1, 0, 1, 1,\n",
              "       1, 1, 0, 1, 1, 1, 1, 1, 0, 1, 0, 0, 0, 0, 0, 0, 0, 0, 0, 0, 0, 0,\n",
              "       0, 0, 1, 1, 1, 1, 1, 1, 0, 1, 0, 1, 1, 0, 1, 1, 0, 1, 0, 0, 1, 1,\n",
              "       1, 1, 1, 1, 1, 1, 1, 1, 1, 1, 1, 0, 1, 1, 0, 1, 0, 1, 1, 1, 1, 1,\n",
              "       1, 1, 1, 1, 1, 1, 1, 1, 1, 0, 1, 1, 1, 0, 1, 0, 1, 1, 1, 1, 0, 0,\n",
              "       0, 1, 1, 1, 1, 0, 1, 0, 1, 0, 1, 1, 1, 0, 1, 1, 1, 1, 1, 1, 1, 0,\n",
              "       0, 0, 1, 1, 1, 1, 1, 1, 1, 1, 1, 1, 1, 0, 0, 1, 0, 0, 0, 1, 0, 0,\n",
              "       1, 1, 1, 1, 1, 0, 1, 1, 1, 1, 1, 0, 1, 1, 1, 0, 1, 1, 0, 0, 1, 1,\n",
              "       1, 1, 1, 1, 0, 1, 1, 1, 1, 1, 1, 1, 0, 1, 1, 1, 1, 1, 0, 1, 1, 0,\n",
              "       1, 1, 1, 1, 1, 1, 1, 1, 1, 1, 1, 1, 0, 1, 0, 0, 1, 0, 1, 1, 1, 1,\n",
              "       1, 0, 1, 1, 0, 1, 0, 1, 1, 0, 1, 0, 1, 1, 1, 1, 1, 1, 1, 1, 0, 0,\n",
              "       1, 1, 1, 1, 1, 1, 0, 1, 1, 1, 1, 1, 1, 1, 1, 1, 1, 0, 1, 1, 1, 1,\n",
              "       1, 1, 1, 0, 1, 0, 1, 1, 0, 1, 1, 1, 1, 1, 0, 0, 1, 0, 1, 0, 1, 1,\n",
              "       1, 1, 1, 0, 1, 1, 0, 1, 0, 1, 0, 0, 1, 1, 1, 0, 1, 1, 1, 1, 1, 1,\n",
              "       1, 1, 1, 1, 1, 0, 1, 0, 0, 1, 1, 1, 1, 1, 1, 1, 1, 1, 1, 1, 1, 1,\n",
              "       1, 1, 1, 1, 1, 1, 1, 1, 1, 1, 1, 1, 0, 0, 0, 0, 0, 0, 1])"
            ]
          },
          "metadata": {
            "tags": []
          },
          "execution_count": 5
        }
      ]
    },
    {
      "cell_type": "code",
      "metadata": {
        "id": "WIhdEMlF1U0M",
        "colab_type": "code",
        "outputId": "fc0dd403-1d83-4ae3-e1fb-a8e767de008a",
        "colab": {
          "base_uri": "https://localhost:8080/",
          "height": 34
        }
      },
      "source": [
        "dataset['target_names']"
      ],
      "execution_count": 6,
      "outputs": [
        {
          "output_type": "execute_result",
          "data": {
            "text/plain": [
              "array(['malignant', 'benign'], dtype='<U9')"
            ]
          },
          "metadata": {
            "tags": []
          },
          "execution_count": 6
        }
      ]
    },
    {
      "cell_type": "code",
      "metadata": {
        "id": "ZYm5eGa10_0o",
        "colab_type": "code",
        "outputId": "2dfa56fa-83d4-44be-81a2-19e898a9dcde",
        "colab": {
          "base_uri": "https://localhost:8080/",
          "height": 187
        }
      },
      "source": [
        "dataset['feature_names']"
      ],
      "execution_count": 7,
      "outputs": [
        {
          "output_type": "execute_result",
          "data": {
            "text/plain": [
              "array(['mean radius', 'mean texture', 'mean perimeter', 'mean area',\n",
              "       'mean smoothness', 'mean compactness', 'mean concavity',\n",
              "       'mean concave points', 'mean symmetry', 'mean fractal dimension',\n",
              "       'radius error', 'texture error', 'perimeter error', 'area error',\n",
              "       'smoothness error', 'compactness error', 'concavity error',\n",
              "       'concave points error', 'symmetry error',\n",
              "       'fractal dimension error', 'worst radius', 'worst texture',\n",
              "       'worst perimeter', 'worst area', 'worst smoothness',\n",
              "       'worst compactness', 'worst concavity', 'worst concave points',\n",
              "       'worst symmetry', 'worst fractal dimension'], dtype='<U23')"
            ]
          },
          "metadata": {
            "tags": []
          },
          "execution_count": 7
        }
      ]
    },
    {
      "cell_type": "code",
      "metadata": {
        "id": "9xRsKkwB_KxP",
        "colab_type": "code",
        "outputId": "5174644e-06a3-4496-ae82-74a45c8dc9ad",
        "colab": {
          "base_uri": "https://localhost:8080/",
          "height": 265
        }
      },
      "source": [
        "# show data\n",
        "plt.hist(dataset['data'][:, 0][dataset['target']==0], label=dataset['target_names'][0], alpha=0.5)\n",
        "plt.hist(dataset['data'][:, 0][dataset['target']==1], label=dataset['target_names'][1], alpha=0.5)\n",
        "plt.show()"
      ],
      "execution_count": 8,
      "outputs": [
        {
          "output_type": "display_data",
          "data": {
            "image/png": "[encoded data removed]",
            "text/plain": [
              "<Figure size 432x288 with 1 Axes>"
            ]
          },
          "metadata": {
            "tags": []
          }
        }
      ]
    },
    {
      "cell_type": "code",
      "metadata": {
        "id": "Sc_Ce1Y-FUrN",
        "colab_type": "code",
        "colab": {}
      },
      "source": [
        "# image(numpy.ndarray)\n",
        "X = dataset.data\n",
        "\n",
        "# label(numpy.ndarray)\n",
        "y = dataset.target"
      ],
      "execution_count": 0,
      "outputs": []
    },
    {
      "cell_type": "code",
      "metadata": {
        "id": "o6VcS3viIBh0",
        "colab_type": "code",
        "colab": {}
      },
      "source": [
        "#split dataset to train and test dataset\n",
        "test_size = 0.2\n",
        "X_train, X_test, y_train, y_test = train_test_split(X, y, test_size=test_size, shuffle=True)#default is True"
      ],
      "execution_count": 0,
      "outputs": []
    },
    {
      "cell_type": "code",
      "metadata": {
        "id": "iyOyxl4RJN9I",
        "colab_type": "code",
        "outputId": "660a0c40-8554-4f01-c143-aa0103013913",
        "colab": {
          "base_uri": "https://localhost:8080/",
          "height": 51
        }
      },
      "source": [
        "print(len(X_train), len(X_test))\n",
        "print(len(y_train), len(y_test))"
      ],
      "execution_count": 11,
      "outputs": [
        {
          "output_type": "stream",
          "text": [
            "455 114\n",
            "455 114\n"
          ],
          "name": "stdout"
        }
      ]
    },
    {
      "cell_type": "code",
      "metadata": {
        "id": "TyRv2MYY7dAd",
        "colab_type": "code",
        "colab": {}
      },
      "source": [
        "df = pd.DataFrame(data=X_train, columns=dataset.feature_names)"
      ],
      "execution_count": 0,
      "outputs": []
    },
    {
      "cell_type": "code",
      "metadata": {
        "id": "SDHd_Fvx7jog",
        "colab_type": "code",
        "colab": {}
      },
      "source": [
        "df['target'] = y_train"
      ],
      "execution_count": 0,
      "outputs": []
    },
    {
      "cell_type": "code",
      "metadata": {
        "id": "o8x1rIFg7lcR",
        "colab_type": "code",
        "colab": {
          "base_uri": "https://localhost:8080/",
          "height": 278
        },
        "outputId": "7b8eb5b9-b4f6-4e3f-f0af-1a456fc8ac84"
      },
      "source": [
        "df.head()"
      ],
      "execution_count": 14,
      "outputs": [
        {
          "output_type": "execute_result",
          "data": {
            "text/html": [
              "<div>\n",
              "<style scoped>\n",
              "    .dataframe tbody tr th:only-of-type {\n",
              "        vertical-align: middle;\n",
              "    }\n",
              "\n",
              "    .dataframe tbody tr th {\n",
              "        vertical-align: top;\n",
              "    }\n",
              "\n",
              "    .dataframe thead th {\n",
              "        text-align: right;\n",
              "    }\n",
              "</style>\n",
              "<table border=\"1\" class=\"dataframe\">\n",
              "  <thead>\n",
              "    <tr style=\"text-align: right;\">\n",
              "      <th></th>\n",
              "      <th>mean radius</th>\n",
              "      <th>mean texture</th>\n",
              "      <th>mean perimeter</th>\n",
              "      <th>mean area</th>\n",
              "      <th>mean smoothness</th>\n",
              "      <th>mean compactness</th>\n",
              "      <th>mean concavity</th>\n",
              "      <th>mean concave points</th>\n",
              "      <th>mean symmetry</th>\n",
              "      <th>mean fractal dimension</th>\n",
              "      <th>radius error</th>\n",
              "      <th>texture error</th>\n",
              "      <th>perimeter error</th>\n",
              "      <th>area error</th>\n",
              "      <th>smoothness error</th>\n",
              "      <th>compactness error</th>\n",
              "      <th>concavity error</th>\n",
              "      <th>concave points error</th>\n",
              "      <th>symmetry error</th>\n",
              "      <th>fractal dimension error</th>\n",
              "      <th>worst radius</th>\n",
              "      <th>worst texture</th>\n",
              "      <th>worst perimeter</th>\n",
              "      <th>worst area</th>\n",
              "      <th>worst smoothness</th>\n",
              "      <th>worst compactness</th>\n",
              "      <th>worst concavity</th>\n",
              "      <th>worst concave points</th>\n",
              "      <th>worst symmetry</th>\n",
              "      <th>worst fractal dimension</th>\n",
              "      <th>target</th>\n",
              "    </tr>\n",
              "  </thead>\n",
              "  <tbody>\n",
              "    <tr>\n",
              "      <th>0</th>\n",
              "      <td>11.890</td>\n",
              "      <td>18.35</td>\n",
              "      <td>77.32</td>\n",
              "      <td>432.2</td>\n",
              "      <td>0.09363</td>\n",
              "      <td>0.11540</td>\n",
              "      <td>0.06636</td>\n",
              "      <td>0.03142</td>\n",
              "      <td>0.1967</td>\n",
              "      <td>0.06314</td>\n",
              "      <td>0.2963</td>\n",
              "      <td>1.5630</td>\n",
              "      <td>2.087</td>\n",
              "      <td>21.46</td>\n",
              "      <td>0.008872</td>\n",
              "      <td>0.04192</td>\n",
              "      <td>0.05946</td>\n",
              "      <td>0.017850</td>\n",
              "      <td>0.02793</td>\n",
              "      <td>0.004775</td>\n",
              "      <td>13.25</td>\n",
              "      <td>27.10</td>\n",
              "      <td>86.20</td>\n",
              "      <td>531.2</td>\n",
              "      <td>0.14050</td>\n",
              "      <td>0.3046</td>\n",
              "      <td>0.2806</td>\n",
              "      <td>0.11380</td>\n",
              "      <td>0.3397</td>\n",
              "      <td>0.08365</td>\n",
              "      <td>1</td>\n",
              "    </tr>\n",
              "    <tr>\n",
              "      <th>1</th>\n",
              "      <td>18.820</td>\n",
              "      <td>21.97</td>\n",
              "      <td>123.70</td>\n",
              "      <td>1110.0</td>\n",
              "      <td>0.10180</td>\n",
              "      <td>0.13890</td>\n",
              "      <td>0.15940</td>\n",
              "      <td>0.08744</td>\n",
              "      <td>0.1943</td>\n",
              "      <td>0.06132</td>\n",
              "      <td>0.8191</td>\n",
              "      <td>1.9310</td>\n",
              "      <td>4.493</td>\n",
              "      <td>103.90</td>\n",
              "      <td>0.008074</td>\n",
              "      <td>0.04088</td>\n",
              "      <td>0.05321</td>\n",
              "      <td>0.018340</td>\n",
              "      <td>0.02383</td>\n",
              "      <td>0.004515</td>\n",
              "      <td>22.66</td>\n",
              "      <td>30.93</td>\n",
              "      <td>145.30</td>\n",
              "      <td>1603.0</td>\n",
              "      <td>0.13900</td>\n",
              "      <td>0.3463</td>\n",
              "      <td>0.3912</td>\n",
              "      <td>0.17080</td>\n",
              "      <td>0.3007</td>\n",
              "      <td>0.08314</td>\n",
              "      <td>0</td>\n",
              "    </tr>\n",
              "    <tr>\n",
              "      <th>2</th>\n",
              "      <td>9.904</td>\n",
              "      <td>18.06</td>\n",
              "      <td>64.60</td>\n",
              "      <td>302.4</td>\n",
              "      <td>0.09699</td>\n",
              "      <td>0.12940</td>\n",
              "      <td>0.13070</td>\n",
              "      <td>0.03716</td>\n",
              "      <td>0.1669</td>\n",
              "      <td>0.08116</td>\n",
              "      <td>0.4311</td>\n",
              "      <td>2.2610</td>\n",
              "      <td>3.132</td>\n",
              "      <td>27.48</td>\n",
              "      <td>0.012860</td>\n",
              "      <td>0.08808</td>\n",
              "      <td>0.11970</td>\n",
              "      <td>0.024600</td>\n",
              "      <td>0.03880</td>\n",
              "      <td>0.017920</td>\n",
              "      <td>11.26</td>\n",
              "      <td>24.39</td>\n",
              "      <td>73.07</td>\n",
              "      <td>390.2</td>\n",
              "      <td>0.13010</td>\n",
              "      <td>0.2950</td>\n",
              "      <td>0.3486</td>\n",
              "      <td>0.09910</td>\n",
              "      <td>0.2614</td>\n",
              "      <td>0.11620</td>\n",
              "      <td>1</td>\n",
              "    </tr>\n",
              "    <tr>\n",
              "      <th>3</th>\n",
              "      <td>13.800</td>\n",
              "      <td>15.79</td>\n",
              "      <td>90.43</td>\n",
              "      <td>584.1</td>\n",
              "      <td>0.10070</td>\n",
              "      <td>0.12800</td>\n",
              "      <td>0.07789</td>\n",
              "      <td>0.05069</td>\n",
              "      <td>0.1662</td>\n",
              "      <td>0.06566</td>\n",
              "      <td>0.2787</td>\n",
              "      <td>0.6205</td>\n",
              "      <td>1.957</td>\n",
              "      <td>23.35</td>\n",
              "      <td>0.004717</td>\n",
              "      <td>0.02065</td>\n",
              "      <td>0.01759</td>\n",
              "      <td>0.009206</td>\n",
              "      <td>0.01220</td>\n",
              "      <td>0.003130</td>\n",
              "      <td>16.57</td>\n",
              "      <td>20.86</td>\n",
              "      <td>110.30</td>\n",
              "      <td>812.4</td>\n",
              "      <td>0.14110</td>\n",
              "      <td>0.3542</td>\n",
              "      <td>0.2779</td>\n",
              "      <td>0.13830</td>\n",
              "      <td>0.2589</td>\n",
              "      <td>0.10300</td>\n",
              "      <td>0</td>\n",
              "    </tr>\n",
              "    <tr>\n",
              "      <th>4</th>\n",
              "      <td>18.080</td>\n",
              "      <td>21.84</td>\n",
              "      <td>117.40</td>\n",
              "      <td>1024.0</td>\n",
              "      <td>0.07371</td>\n",
              "      <td>0.08642</td>\n",
              "      <td>0.11030</td>\n",
              "      <td>0.05778</td>\n",
              "      <td>0.1770</td>\n",
              "      <td>0.05340</td>\n",
              "      <td>0.6362</td>\n",
              "      <td>1.3050</td>\n",
              "      <td>4.312</td>\n",
              "      <td>76.36</td>\n",
              "      <td>0.005530</td>\n",
              "      <td>0.05296</td>\n",
              "      <td>0.06110</td>\n",
              "      <td>0.014440</td>\n",
              "      <td>0.02140</td>\n",
              "      <td>0.005036</td>\n",
              "      <td>19.76</td>\n",
              "      <td>24.70</td>\n",
              "      <td>129.10</td>\n",
              "      <td>1228.0</td>\n",
              "      <td>0.08822</td>\n",
              "      <td>0.1963</td>\n",
              "      <td>0.2535</td>\n",
              "      <td>0.09181</td>\n",
              "      <td>0.2369</td>\n",
              "      <td>0.06558</td>\n",
              "      <td>0</td>\n",
              "    </tr>\n",
              "  </tbody>\n",
              "</table>\n",
              "</div>"
            ],
            "text/plain": [
              "   mean radius  mean texture  ...  worst fractal dimension  target\n",
              "0       11.890         18.35  ...                  0.08365       1\n",
              "1       18.820         21.97  ...                  0.08314       0\n",
              "2        9.904         18.06  ...                  0.11620       1\n",
              "3       13.800         15.79  ...                  0.10300       0\n",
              "4       18.080         21.84  ...                  0.06558       0\n",
              "\n",
              "[5 rows x 31 columns]"
            ]
          },
          "metadata": {
            "tags": []
          },
          "execution_count": 14
        }
      ]
    },
    {
      "cell_type": "code",
      "metadata": {
        "id": "ePJm5G3J7m5e",
        "colab_type": "code",
        "colab": {
          "base_uri": "https://localhost:8080/",
          "height": 371
        },
        "outputId": "58499029-aca4-4a09-f1df-bece5584f2a2"
      },
      "source": [
        "df.describe()"
      ],
      "execution_count": 15,
      "outputs": [
        {
          "output_type": "execute_result",
          "data": {
            "text/html": [
              "<div>\n",
              "<style scoped>\n",
              "    .dataframe tbody tr th:only-of-type {\n",
              "        vertical-align: middle;\n",
              "    }\n",
              "\n",
              "    .dataframe tbody tr th {\n",
              "        vertical-align: top;\n",
              "    }\n",
              "\n",
              "    .dataframe thead th {\n",
              "        text-align: right;\n",
              "    }\n",
              "</style>\n",
              "<table border=\"1\" class=\"dataframe\">\n",
              "  <thead>\n",
              "    <tr style=\"text-align: right;\">\n",
              "      <th></th>\n",
              "      <th>mean radius</th>\n",
              "      <th>mean texture</th>\n",
              "      <th>mean perimeter</th>\n",
              "      <th>mean area</th>\n",
              "      <th>mean smoothness</th>\n",
              "      <th>mean compactness</th>\n",
              "      <th>mean concavity</th>\n",
              "      <th>mean concave points</th>\n",
              "      <th>mean symmetry</th>\n",
              "      <th>mean fractal dimension</th>\n",
              "      <th>radius error</th>\n",
              "      <th>texture error</th>\n",
              "      <th>perimeter error</th>\n",
              "      <th>area error</th>\n",
              "      <th>smoothness error</th>\n",
              "      <th>compactness error</th>\n",
              "      <th>concavity error</th>\n",
              "      <th>concave points error</th>\n",
              "      <th>symmetry error</th>\n",
              "      <th>fractal dimension error</th>\n",
              "      <th>worst radius</th>\n",
              "      <th>worst texture</th>\n",
              "      <th>worst perimeter</th>\n",
              "      <th>worst area</th>\n",
              "      <th>worst smoothness</th>\n",
              "      <th>worst compactness</th>\n",
              "      <th>worst concavity</th>\n",
              "      <th>worst concave points</th>\n",
              "      <th>worst symmetry</th>\n",
              "      <th>worst fractal dimension</th>\n",
              "      <th>target</th>\n",
              "    </tr>\n",
              "  </thead>\n",
              "  <tbody>\n",
              "    <tr>\n",
              "      <th>count</th>\n",
              "      <td>455.000000</td>\n",
              "      <td>455.000000</td>\n",
              "      <td>455.000000</td>\n",
              "      <td>455.000000</td>\n",
              "      <td>455.000000</td>\n",
              "      <td>455.000000</td>\n",
              "      <td>455.000000</td>\n",
              "      <td>455.000000</td>\n",
              "      <td>455.000000</td>\n",
              "      <td>455.000000</td>\n",
              "      <td>455.000000</td>\n",
              "      <td>455.000000</td>\n",
              "      <td>455.000000</td>\n",
              "      <td>455.000000</td>\n",
              "      <td>455.000000</td>\n",
              "      <td>455.000000</td>\n",
              "      <td>455.000000</td>\n",
              "      <td>455.00000</td>\n",
              "      <td>455.000000</td>\n",
              "      <td>455.000000</td>\n",
              "      <td>455.000000</td>\n",
              "      <td>455.000000</td>\n",
              "      <td>455.000000</td>\n",
              "      <td>455.000000</td>\n",
              "      <td>455.000000</td>\n",
              "      <td>455.000000</td>\n",
              "      <td>455.000000</td>\n",
              "      <td>455.000000</td>\n",
              "      <td>455.000000</td>\n",
              "      <td>455.000000</td>\n",
              "      <td>455.000000</td>\n",
              "    </tr>\n",
              "    <tr>\n",
              "      <th>mean</th>\n",
              "      <td>14.071877</td>\n",
              "      <td>19.308132</td>\n",
              "      <td>91.628901</td>\n",
              "      <td>651.498681</td>\n",
              "      <td>0.096741</td>\n",
              "      <td>0.104839</td>\n",
              "      <td>0.089649</td>\n",
              "      <td>0.049052</td>\n",
              "      <td>0.181086</td>\n",
              "      <td>0.062996</td>\n",
              "      <td>0.411325</td>\n",
              "      <td>1.241549</td>\n",
              "      <td>2.913699</td>\n",
              "      <td>41.084176</td>\n",
              "      <td>0.007131</td>\n",
              "      <td>0.025927</td>\n",
              "      <td>0.032649</td>\n",
              "      <td>0.01197</td>\n",
              "      <td>0.020626</td>\n",
              "      <td>0.003827</td>\n",
              "      <td>16.239829</td>\n",
              "      <td>25.773011</td>\n",
              "      <td>107.087626</td>\n",
              "      <td>881.249231</td>\n",
              "      <td>0.133220</td>\n",
              "      <td>0.256558</td>\n",
              "      <td>0.275925</td>\n",
              "      <td>0.115262</td>\n",
              "      <td>0.289158</td>\n",
              "      <td>0.084226</td>\n",
              "      <td>0.624176</td>\n",
              "    </tr>\n",
              "    <tr>\n",
              "      <th>std</th>\n",
              "      <td>3.569510</td>\n",
              "      <td>4.293480</td>\n",
              "      <td>24.598203</td>\n",
              "      <td>360.413337</td>\n",
              "      <td>0.013953</td>\n",
              "      <td>0.052337</td>\n",
              "      <td>0.078786</td>\n",
              "      <td>0.038341</td>\n",
              "      <td>0.026866</td>\n",
              "      <td>0.007100</td>\n",
              "      <td>0.286760</td>\n",
              "      <td>0.564107</td>\n",
              "      <td>2.093563</td>\n",
              "      <td>47.971365</td>\n",
              "      <td>0.002976</td>\n",
              "      <td>0.017876</td>\n",
              "      <td>0.031456</td>\n",
              "      <td>0.00621</td>\n",
              "      <td>0.008439</td>\n",
              "      <td>0.002627</td>\n",
              "      <td>4.935764</td>\n",
              "      <td>6.198533</td>\n",
              "      <td>34.203384</td>\n",
              "      <td>590.789727</td>\n",
              "      <td>0.023141</td>\n",
              "      <td>0.158352</td>\n",
              "      <td>0.210078</td>\n",
              "      <td>0.065589</td>\n",
              "      <td>0.060825</td>\n",
              "      <td>0.018317</td>\n",
              "      <td>0.484868</td>\n",
              "    </tr>\n",
              "    <tr>\n",
              "      <th>min</th>\n",
              "      <td>6.981000</td>\n",
              "      <td>10.380000</td>\n",
              "      <td>43.790000</td>\n",
              "      <td>143.500000</td>\n",
              "      <td>0.052630</td>\n",
              "      <td>0.019380</td>\n",
              "      <td>0.000000</td>\n",
              "      <td>0.000000</td>\n",
              "      <td>0.106000</td>\n",
              "      <td>0.049960</td>\n",
              "      <td>0.111500</td>\n",
              "      <td>0.362100</td>\n",
              "      <td>0.757000</td>\n",
              "      <td>6.802000</td>\n",
              "      <td>0.001713</td>\n",
              "      <td>0.002252</td>\n",
              "      <td>0.000000</td>\n",
              "      <td>0.00000</td>\n",
              "      <td>0.007882</td>\n",
              "      <td>0.000895</td>\n",
              "      <td>7.930000</td>\n",
              "      <td>12.490000</td>\n",
              "      <td>50.410000</td>\n",
              "      <td>185.200000</td>\n",
              "      <td>0.071170</td>\n",
              "      <td>0.027290</td>\n",
              "      <td>0.000000</td>\n",
              "      <td>0.000000</td>\n",
              "      <td>0.156500</td>\n",
              "      <td>0.055040</td>\n",
              "      <td>0.000000</td>\n",
              "    </tr>\n",
              "    <tr>\n",
              "      <th>25%</th>\n",
              "      <td>11.675000</td>\n",
              "      <td>16.195000</td>\n",
              "      <td>74.795000</td>\n",
              "      <td>419.250000</td>\n",
              "      <td>0.086845</td>\n",
              "      <td>0.066015</td>\n",
              "      <td>0.029975</td>\n",
              "      <td>0.020715</td>\n",
              "      <td>0.162000</td>\n",
              "      <td>0.058220</td>\n",
              "      <td>0.234100</td>\n",
              "      <td>0.856450</td>\n",
              "      <td>1.644500</td>\n",
              "      <td>17.855000</td>\n",
              "      <td>0.005292</td>\n",
              "      <td>0.013710</td>\n",
              "      <td>0.015600</td>\n",
              "      <td>0.00814</td>\n",
              "      <td>0.015095</td>\n",
              "      <td>0.002269</td>\n",
              "      <td>13.010000</td>\n",
              "      <td>21.090000</td>\n",
              "      <td>83.945000</td>\n",
              "      <td>514.650000</td>\n",
              "      <td>0.117150</td>\n",
              "      <td>0.148600</td>\n",
              "      <td>0.120350</td>\n",
              "      <td>0.065280</td>\n",
              "      <td>0.250800</td>\n",
              "      <td>0.071465</td>\n",
              "      <td>0.000000</td>\n",
              "    </tr>\n",
              "    <tr>\n",
              "      <th>50%</th>\n",
              "      <td>13.270000</td>\n",
              "      <td>18.800000</td>\n",
              "      <td>85.840000</td>\n",
              "      <td>541.800000</td>\n",
              "      <td>0.096860</td>\n",
              "      <td>0.094620</td>\n",
              "      <td>0.065050</td>\n",
              "      <td>0.034380</td>\n",
              "      <td>0.179800</td>\n",
              "      <td>0.061660</td>\n",
              "      <td>0.327600</td>\n",
              "      <td>1.150000</td>\n",
              "      <td>2.326000</td>\n",
              "      <td>24.680000</td>\n",
              "      <td>0.006494</td>\n",
              "      <td>0.021150</td>\n",
              "      <td>0.026360</td>\n",
              "      <td>0.01112</td>\n",
              "      <td>0.018720</td>\n",
              "      <td>0.003288</td>\n",
              "      <td>14.920000</td>\n",
              "      <td>25.470000</td>\n",
              "      <td>97.590000</td>\n",
              "      <td>677.300000</td>\n",
              "      <td>0.133500</td>\n",
              "      <td>0.217600</td>\n",
              "      <td>0.238800</td>\n",
              "      <td>0.101700</td>\n",
              "      <td>0.281500</td>\n",
              "      <td>0.080240</td>\n",
              "      <td>1.000000</td>\n",
              "    </tr>\n",
              "    <tr>\n",
              "      <th>75%</th>\n",
              "      <td>15.635000</td>\n",
              "      <td>21.840000</td>\n",
              "      <td>103.050000</td>\n",
              "      <td>759.950000</td>\n",
              "      <td>0.105400</td>\n",
              "      <td>0.130350</td>\n",
              "      <td>0.126950</td>\n",
              "      <td>0.072020</td>\n",
              "      <td>0.195700</td>\n",
              "      <td>0.066370</td>\n",
              "      <td>0.480700</td>\n",
              "      <td>1.487500</td>\n",
              "      <td>3.427500</td>\n",
              "      <td>45.410000</td>\n",
              "      <td>0.008324</td>\n",
              "      <td>0.032790</td>\n",
              "      <td>0.042890</td>\n",
              "      <td>0.01507</td>\n",
              "      <td>0.023510</td>\n",
              "      <td>0.004565</td>\n",
              "      <td>18.280000</td>\n",
              "      <td>29.915000</td>\n",
              "      <td>123.800000</td>\n",
              "      <td>1030.500000</td>\n",
              "      <td>0.146400</td>\n",
              "      <td>0.341600</td>\n",
              "      <td>0.383100</td>\n",
              "      <td>0.162500</td>\n",
              "      <td>0.317500</td>\n",
              "      <td>0.092085</td>\n",
              "      <td>1.000000</td>\n",
              "    </tr>\n",
              "    <tr>\n",
              "      <th>max</th>\n",
              "      <td>28.110000</td>\n",
              "      <td>39.280000</td>\n",
              "      <td>188.500000</td>\n",
              "      <td>2501.000000</td>\n",
              "      <td>0.163400</td>\n",
              "      <td>0.345400</td>\n",
              "      <td>0.426400</td>\n",
              "      <td>0.191300</td>\n",
              "      <td>0.290600</td>\n",
              "      <td>0.097440</td>\n",
              "      <td>2.873000</td>\n",
              "      <td>4.885000</td>\n",
              "      <td>21.980000</td>\n",
              "      <td>542.200000</td>\n",
              "      <td>0.031130</td>\n",
              "      <td>0.135400</td>\n",
              "      <td>0.396000</td>\n",
              "      <td>0.05279</td>\n",
              "      <td>0.078950</td>\n",
              "      <td>0.029840</td>\n",
              "      <td>36.040000</td>\n",
              "      <td>49.540000</td>\n",
              "      <td>251.200000</td>\n",
              "      <td>4254.000000</td>\n",
              "      <td>0.222600</td>\n",
              "      <td>1.058000</td>\n",
              "      <td>1.252000</td>\n",
              "      <td>0.291000</td>\n",
              "      <td>0.663800</td>\n",
              "      <td>0.207500</td>\n",
              "      <td>1.000000</td>\n",
              "    </tr>\n",
              "  </tbody>\n",
              "</table>\n",
              "</div>"
            ],
            "text/plain": [
              "       mean radius  mean texture  ...  worst fractal dimension      target\n",
              "count   455.000000    455.000000  ...               455.000000  455.000000\n",
              "mean     14.071877     19.308132  ...                 0.084226    0.624176\n",
              "std       3.569510      4.293480  ...                 0.018317    0.484868\n",
              "min       6.981000     10.380000  ...                 0.055040    0.000000\n",
              "25%      11.675000     16.195000  ...                 0.071465    0.000000\n",
              "50%      13.270000     18.800000  ...                 0.080240    1.000000\n",
              "75%      15.635000     21.840000  ...                 0.092085    1.000000\n",
              "max      28.110000     39.280000  ...                 0.207500    1.000000\n",
              "\n",
              "[8 rows x 31 columns]"
            ]
          },
          "metadata": {
            "tags": []
          },
          "execution_count": 15
        }
      ]
    },
    {
      "cell_type": "code",
      "metadata": {
        "id": "Qi7IYTfZ7rJ5",
        "colab_type": "code",
        "colab": {
          "base_uri": "https://localhost:8080/",
          "height": 1000
        },
        "outputId": "e0a9e54b-5f65-42a7-93de-d2a5ae673e50"
      },
      "source": [
        "# show data\n",
        "df.hist(bins=50, figsize=(20,15))"
      ],
      "execution_count": 16,
      "outputs": [
        {
          "output_type": "execute_result",
          "data": {
            "text/plain": [
              "array([[<matplotlib.axes._subplots.AxesSubplot object at 0x7fe7bc046f98>,\n",
              "        <matplotlib.axes._subplots.AxesSubplot object at 0x7fe7bbffa240>,\n",
              "        <matplotlib.axes._subplots.AxesSubplot object at 0x7fe7bbfb04a8>,\n",
              "        <matplotlib.axes._subplots.AxesSubplot object at 0x7fe7bbf62710>,\n",
              "        <matplotlib.axes._subplots.AxesSubplot object at 0x7fe7bbf97978>,\n",
              "        <matplotlib.axes._subplots.AxesSubplot object at 0x7fe7bbf4bbe0>],\n",
              "       [<matplotlib.axes._subplots.AxesSubplot object at 0x7fe7bbeffe48>,\n",
              "        <matplotlib.axes._subplots.AxesSubplot object at 0x7fe7bbec00b8>,\n",
              "        <matplotlib.axes._subplots.AxesSubplot object at 0x7fe7bbec0128>,\n",
              "        <matplotlib.axes._subplots.AxesSubplot object at 0x7fe7bbe265c0>,\n",
              "        <matplotlib.axes._subplots.AxesSubplot object at 0x7fe7bbe5a828>,\n",
              "        <matplotlib.axes._subplots.AxesSubplot object at 0x7fe7bbe10a90>],\n",
              "       [<matplotlib.axes._subplots.AxesSubplot object at 0x7fe7bbdc1cf8>,\n",
              "        <matplotlib.axes._subplots.AxesSubplot object at 0x7fe7bbd77f60>,\n",
              "        <matplotlib.axes._subplots.AxesSubplot object at 0x7fe7bbd37208>,\n",
              "        <matplotlib.axes._subplots.AxesSubplot object at 0x7fe7bbcea470>,\n",
              "        <matplotlib.axes._subplots.AxesSubplot object at 0x7fe7bbca06d8>,\n",
              "        <matplotlib.axes._subplots.AxesSubplot object at 0x7fe7bbcd2940>],\n",
              "       [<matplotlib.axes._subplots.AxesSubplot object at 0x7fe7bbc86ba8>,\n",
              "        <matplotlib.axes._subplots.AxesSubplot object at 0x7fe7bbc39e10>,\n",
              "        <matplotlib.axes._subplots.AxesSubplot object at 0x7fe7bbbfc0b8>,\n",
              "        <matplotlib.axes._subplots.AxesSubplot object at 0x7fe7bbbb0320>,\n",
              "        <matplotlib.axes._subplots.AxesSubplot object at 0x7fe7bbb63588>,\n",
              "        <matplotlib.axes._subplots.AxesSubplot object at 0x7fe7bbb977f0>],\n",
              "       [<matplotlib.axes._subplots.AxesSubplot object at 0x7fe7bbb48a58>,\n",
              "        <matplotlib.axes._subplots.AxesSubplot object at 0x7fe7bbaffcc0>,\n",
              "        <matplotlib.axes._subplots.AxesSubplot object at 0x7fe7bbab3f28>,\n",
              "        <matplotlib.axes._subplots.AxesSubplot object at 0x7fe7bba741d0>,\n",
              "        <matplotlib.axes._subplots.AxesSubplot object at 0x7fe7bba28438>,\n",
              "        <matplotlib.axes._subplots.AxesSubplot object at 0x7fe7bb9dc6a0>],\n",
              "       [<matplotlib.axes._subplots.AxesSubplot object at 0x7fe7bba16438>,\n",
              "        <matplotlib.axes._subplots.AxesSubplot object at 0x7fe7bb9c67b8>,\n",
              "        <matplotlib.axes._subplots.AxesSubplot object at 0x7fe7bb977b38>,\n",
              "        <matplotlib.axes._subplots.AxesSubplot object at 0x7fe7bb92aeb8>,\n",
              "        <matplotlib.axes._subplots.AxesSubplot object at 0x7fe7bb8ea278>,\n",
              "        <matplotlib.axes._subplots.AxesSubplot object at 0x7fe7bb91b5f8>]],\n",
              "      dtype=object)"
            ]
          },
          "metadata": {
            "tags": []
          },
          "execution_count": 16
        },
        {
          "output_type": "display_data",
          "data": {
            "image/png": "[encoded data removed]",
            "text/plain": [
              "<Figure size 1440x1080 with 36 Axes>"
            ]
          },
          "metadata": {
            "tags": []
          }
        }
      ]
    },
    {
      "cell_type": "code",
      "metadata": {
        "id": "RA3Qql477rv_",
        "colab_type": "code",
        "colab": {}
      },
      "source": [
        "#standard correlation coefficient\n",
        "corr_mx = df.corr()"
      ],
      "execution_count": 0,
      "outputs": []
    },
    {
      "cell_type": "code",
      "metadata": {
        "id": "CiGom3BJ7t6O",
        "colab_type": "code",
        "colab": {
          "base_uri": "https://localhost:8080/",
          "height": 561
        },
        "outputId": "349578c5-72b2-4074-cfca-8d80ed9b4997"
      },
      "source": [
        "corr_mx['target'].sort_values(ascending=False)"
      ],
      "execution_count": 18,
      "outputs": [
        {
          "output_type": "execute_result",
          "data": {
            "text/plain": [
              "target                     1.000000\n",
              "smoothness error           0.073249\n",
              "symmetry error             0.039468\n",
              "texture error              0.015048\n",
              "mean fractal dimension     0.013168\n",
              "fractal dimension error   -0.080840\n",
              "concavity error           -0.231324\n",
              "compactness error         -0.290758\n",
              "mean symmetry             -0.301436\n",
              "worst fractal dimension   -0.331423\n",
              "mean smoothness           -0.346441\n",
              "worst symmetry            -0.383545\n",
              "concave points error      -0.399473\n",
              "worst smoothness          -0.422292\n",
              "mean texture              -0.431519\n",
              "worst texture             -0.477694\n",
              "area error                -0.532024\n",
              "perimeter error           -0.541040\n",
              "radius error              -0.553362\n",
              "worst compactness         -0.580742\n",
              "mean compactness          -0.582706\n",
              "worst concavity           -0.647455\n",
              "mean concavity            -0.689667\n",
              "mean area                 -0.691807\n",
              "worst area                -0.715847\n",
              "mean radius               -0.716429\n",
              "mean perimeter            -0.728632\n",
              "worst radius              -0.762928\n",
              "mean concave points       -0.768916\n",
              "worst perimeter           -0.769130\n",
              "worst concave points      -0.786860\n",
              "Name: target, dtype: float64"
            ]
          },
          "metadata": {
            "tags": []
          },
          "execution_count": 18
        }
      ]
    },
    {
      "cell_type": "code",
      "metadata": {
        "id": "wLNIq4R07wCs",
        "colab_type": "code",
        "colab": {
          "base_uri": "https://localhost:8080/",
          "height": 794
        },
        "outputId": "ec4d7eab-9b9a-4297-f619-1ebf95ce0649"
      },
      "source": [
        "attributes = ['target', 'worst concave points', 'worst perimeter', 'mean concave points']\n",
        "pd.plotting.scatter_matrix(df[attributes], figsize=(12, 8))"
      ],
      "execution_count": 19,
      "outputs": [
        {
          "output_type": "execute_result",
          "data": {
            "text/plain": [
              "array([[<matplotlib.axes._subplots.AxesSubplot object at 0x7fe7bad049e8>,\n",
              "        <matplotlib.axes._subplots.AxesSubplot object at 0x7fe7ba80da90>,\n",
              "        <matplotlib.axes._subplots.AxesSubplot object at 0x7fe7ba61bd30>,\n",
              "        <matplotlib.axes._subplots.AxesSubplot object at 0x7fe7ba59b0f0>],\n",
              "       [<matplotlib.axes._subplots.AxesSubplot object at 0x7fe7ba521668>,\n",
              "        <matplotlib.axes._subplots.AxesSubplot object at 0x7fe7ba4b37f0>,\n",
              "        <matplotlib.axes._subplots.AxesSubplot object at 0x7fe7ba4cdb70>,\n",
              "        <matplotlib.axes._subplots.AxesSubplot object at 0x7fe7b8c5ceb8>],\n",
              "       [<matplotlib.axes._subplots.AxesSubplot object at 0x7fe7b8c5cf28>,\n",
              "        <matplotlib.axes._subplots.AxesSubplot object at 0x7fe7b8c3c630>,\n",
              "        <matplotlib.axes._subplots.AxesSubplot object at 0x7fe7b8bee9b0>,\n",
              "        <matplotlib.axes._subplots.AxesSubplot object at 0x7fe7b8ba0d30>],\n",
              "       [<matplotlib.axes._subplots.AxesSubplot object at 0x7fe7b8b610f0>,\n",
              "        <matplotlib.axes._subplots.AxesSubplot object at 0x7fe7b8b91470>,\n",
              "        <matplotlib.axes._subplots.AxesSubplot object at 0x7fe7b8b457f0>,\n",
              "        <matplotlib.axes._subplots.AxesSubplot object at 0x7fe7b8af6b70>]],\n",
              "      dtype=object)"
            ]
          },
          "metadata": {
            "tags": []
          },
          "execution_count": 19
        },
        {
          "output_type": "display_data",
          "data": {
            "image/png": "[encoded data removed]",
            "text/plain": [
              "<Figure size 864x576 with 16 Axes>"
            ]
          },
          "metadata": {
            "tags": []
          }
        }
      ]
    },
    {
      "cell_type": "code",
      "metadata": {
        "id": "HHfb64U570dZ",
        "colab_type": "code",
        "colab": {}
      },
      "source": [
        "scaler = StandardScaler()\n",
        "X_train_processed = scaler.fit_transform(X_train)\n",
        "X_test_processed = scaler.transform(X_test)"
      ],
      "execution_count": 0,
      "outputs": []
    },
    {
      "cell_type": "code",
      "metadata": {
        "id": "-d6cE1TvOIB8",
        "colab_type": "code",
        "colab": {}
      },
      "source": [
        "def kth_cross_validation(model):\n",
        "   #k-th cross validation\n",
        "   cv = 3 #the number of foldings\n",
        "   scores = cross_val_score(model, X_train_processed, y_train, cv=cv, scoring='accuracy')\n",
        "   return scores"
      ],
      "execution_count": 0,
      "outputs": []
    },
    {
      "cell_type": "markdown",
      "metadata": {
        "id": "jvugNRRWNuYH",
        "colab_type": "text"
      },
      "source": [
        "###Voting"
      ]
    },
    {
      "cell_type": "code",
      "metadata": {
        "id": "nApXuVa31Eib",
        "colab_type": "code",
        "colab": {}
      },
      "source": [
        "models = [('decision tree', DecisionTreeClassifier()),\n",
        "                ('random forest' , RandomForestClassifier()),\n",
        "                ('extra trees' , ExtraTreesClassifier()),\n",
        "                ('gradient boosting' , GradientBoostingClassifier()),\n",
        "                ('xgboost' , XGBClassifier()),\n",
        "                ('catboost' , CatBoostClassifier(verbose=False))]"
      ],
      "execution_count": 0,
      "outputs": []
    },
    {
      "cell_type": "code",
      "metadata": {
        "id": "y3caPEEIKCHY",
        "colab_type": "code",
        "colab": {}
      },
      "source": [
        "def vote(models, vorting='hard'):\n",
        "   voting = VotingClassifier(estimators=models, voting='hard')\n",
        "   for model in models:\n",
        "     scores = kth_cross_validation(model[1])\n",
        "     print(model[0], scores.mean())\n",
        "   print('voting ' + vorting, kth_cross_validation(voting).mean())"
      ],
      "execution_count": 0,
      "outputs": []
    },
    {
      "cell_type": "code",
      "metadata": {
        "id": "E7LBTkv36gQZ",
        "colab_type": "code",
        "outputId": "271fb4a8-91f4-4976-ae50-5b5cdd113cdd",
        "colab": {
          "base_uri": "https://localhost:8080/",
          "height": 136
        }
      },
      "source": [
        "vote(models, vorting='hard')"
      ],
      "execution_count": 24,
      "outputs": [
        {
          "output_type": "stream",
          "text": [
            "decision tree 0.9231003834088533\n",
            "random forest 0.9450737771581271\n",
            "extra trees 0.960439177413733\n",
            "gradient boosting 0.951710816777042\n",
            "xgboost 0.9539037992331822\n",
            "catboost 0.9560822586266992\n",
            "voting hard 0.9539037992331824\n"
          ],
          "name": "stdout"
        }
      ]
    },
    {
      "cell_type": "code",
      "metadata": {
        "id": "YUi6Svvn6iul",
        "colab_type": "code",
        "outputId": "14a625d8-d100-4fdd-b5d5-f82e896b6fc2",
        "colab": {
          "base_uri": "https://localhost:8080/",
          "height": 136
        }
      },
      "source": [
        "vote(models, vorting='soft')"
      ],
      "execution_count": 25,
      "outputs": [
        {
          "output_type": "stream",
          "text": [
            "decision tree 0.9275153944463809\n",
            "random forest 0.9516527245265481\n",
            "extra trees 0.9626612059951203\n",
            "gradient boosting 0.9495033112582781\n",
            "xgboost 0.9539037992331822\n",
            "catboost 0.9560822586266992\n",
            "voting soft 0.9560967816893227\n"
          ],
          "name": "stdout"
        }
      ]
    },
    {
      "cell_type": "markdown",
      "metadata": {
        "id": "nHwFa6jiV29L",
        "colab_type": "text"
      },
      "source": [
        "###Bagging/Pasting"
      ]
    },
    {
      "cell_type": "code",
      "metadata": {
        "id": "R5j04o7ckEq6",
        "colab_type": "code",
        "colab": {}
      },
      "source": [
        "def bag(model, option='bagging'):\n",
        "    if option == 'bagging':\n",
        "       bagging = BaggingClassifier(DecisionTreeClassifier(), n_estimators=500, bootstrap=True, oob_score=True)\n",
        "       bagging.fit(X_train_processed, y_train)\n",
        "       score = bagging.oob_score_\n",
        "       print(option, score)\n",
        "    elif option == 'pasting':\n",
        "       bagging = BaggingClassifier(DecisionTreeClassifier(), n_estimators=500, bootstrap=False)\n",
        "       scores = kth_cross_validation(bagging)\n",
        "       print(option, scores.mean())\n",
        "    elif option == 'random patch':\n",
        "       bagging = BaggingClassifier(DecisionTreeClassifier(), n_estimators=500, bootstrap=True, max_samples=0.8, oob_score=True)\n",
        "       bagging.fit(X_train_processed, y_train)\n",
        "       score = bagging.oob_score_\n",
        "       print(option, score)\n",
        "    elif option == 'random subspace':\n",
        "       bagging = BaggingClassifier(DecisionTreeClassifier(), n_estimators=500, bootstrap=False, max_samples=0.8)\n",
        "       scores = kth_cross_validation(bagging)\n",
        "       print(option, scores.mean())"
      ],
      "execution_count": 0,
      "outputs": []
    },
    {
      "cell_type": "code",
      "metadata": {
        "id": "aswSNVqRV-Go",
        "colab_type": "code",
        "outputId": "0007307a-c276-49ff-dd08-65a0b7700a3d",
        "colab": {
          "base_uri": "https://localhost:8080/",
          "height": 34
        }
      },
      "source": [
        "bag(DecisionTreeClassifier(),option='bagging')"
      ],
      "execution_count": 27,
      "outputs": [
        {
          "output_type": "stream",
          "text": [
            "bagging 0.9494505494505494\n"
          ],
          "name": "stdout"
        }
      ]
    },
    {
      "cell_type": "code",
      "metadata": {
        "id": "B_qSWH-nWRmc",
        "colab_type": "code",
        "outputId": "3512af9b-d7f3-4d4b-8eea-5751b41475cd",
        "colab": {
          "base_uri": "https://localhost:8080/",
          "height": 34
        }
      },
      "source": [
        "bag(DecisionTreeClassifier(),option='pasting')"
      ],
      "execution_count": 28,
      "outputs": [
        {
          "output_type": "stream",
          "text": [
            "pasting 0.9296938538398978\n"
          ],
          "name": "stdout"
        }
      ]
    },
    {
      "cell_type": "code",
      "metadata": {
        "id": "YPbmUvcdtnZT",
        "colab_type": "code",
        "outputId": "69f4e8b3-94b8-41b5-c914-5a384df2782c",
        "colab": {
          "base_uri": "https://localhost:8080/",
          "height": 34
        }
      },
      "source": [
        "bag(DecisionTreeClassifier(),option='random patch')"
      ],
      "execution_count": 29,
      "outputs": [
        {
          "output_type": "stream",
          "text": [
            "random patch 0.9560439560439561\n"
          ],
          "name": "stdout"
        }
      ]
    },
    {
      "cell_type": "code",
      "metadata": {
        "id": "p9mwRkJjLHbz",
        "colab_type": "code",
        "outputId": "398f3eb7-f3e5-4274-9e8b-b00b5d49c654",
        "colab": {
          "base_uri": "https://localhost:8080/",
          "height": 34
        }
      },
      "source": [
        "bag(DecisionTreeClassifier(),option='random subspace')"
      ],
      "execution_count": 30,
      "outputs": [
        {
          "output_type": "stream",
          "text": [
            "random subspace 0.945073777158127\n"
          ],
          "name": "stdout"
        }
      ]
    },
    {
      "cell_type": "markdown",
      "metadata": {
        "id": "Z9Kp5nqPMar_",
        "colab_type": "text"
      },
      "source": [
        "###Stacking"
      ]
    },
    {
      "cell_type": "code",
      "metadata": {
        "id": "0p1axNI3vS4L",
        "colab_type": "code",
        "colab": {}
      },
      "source": [
        "def stack(models):\n",
        "   X_train1, X_train2, y_train1, y_train2 = train_test_split(X_train_processed, y_train, test_size=0.5)\n",
        "\n",
        "   y_train2_pred = []\n",
        "   y_test_pred = []\n",
        "   for model in models:\n",
        "     model[1].fit(X_train1, y_train1)  \n",
        "     y_train2_pred.append(model[1].predict(X_train2))\n",
        "     y_test_pred.append(model[1].predict(X_test_processed))\n",
        "  \n",
        "   y_train2_pred = np.array(y_train2_pred)\n",
        "   blender = DecisionTreeClassifier()\n",
        "   blender.fit(y_train2_pred.transpose(), y_train2)\n",
        "\n",
        "   y_test_pred = np.array(y_test_pred)\n",
        "   y_test_pred = blender.predict(y_test_pred.transpose())\n",
        "   score = accuracy_score(y_test, y_test_pred)\n",
        "   print('stacking', score)"
      ],
      "execution_count": 0,
      "outputs": []
    },
    {
      "cell_type": "code",
      "metadata": {
        "id": "vQm6XdqG4QyE",
        "colab_type": "code",
        "outputId": "990b201a-b456-4e8b-8405-d1c02690fc75",
        "colab": {
          "base_uri": "https://localhost:8080/",
          "height": 34
        }
      },
      "source": [
        "stack(models)"
      ],
      "execution_count": 32,
      "outputs": [
        {
          "output_type": "stream",
          "text": [
            "stacking 0.9824561403508771\n"
          ],
          "name": "stdout"
        }
      ]
    },
    {
      "cell_type": "code",
      "metadata": {
        "id": "veb2uBSdTHIU",
        "colab_type": "code",
        "colab": {}
      },
      "source": [
        ""
      ],
      "execution_count": 0,
      "outputs": []
    }
  ]
}