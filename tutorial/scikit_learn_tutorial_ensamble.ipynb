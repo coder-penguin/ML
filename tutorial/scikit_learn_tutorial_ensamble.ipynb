{
  "nbformat": 4,
  "nbformat_minor": 0,
  "metadata": {
    "colab": {
      "name": "scikit-learn_tutorial_ensamble",
      "provenance": [],
      "collapsed_sections": [],
      "include_colab_link": true
    },
    "kernelspec": {
      "name": "python3",
      "display_name": "Python 3"
    }
  },
  "cells": [
    {
      "cell_type": "markdown",
      "metadata": {
        "id": "view-in-github",
        "colab_type": "text"
      },
      "source": [
        "<a href=\"https://colab.research.google.com/github/coder-penguin/ML/blob/master/tutorial/scikit_learn_tutorial_ensamble.ipynb\" target=\"_parent\"><img src=\"https://colab.research.google.com/assets/colab-badge.svg\" alt=\"Open In Colab\"/></a>"
      ]
    },
    {
      "cell_type": "markdown",
      "metadata": {
        "id": "E-5PkF7PBj7_",
        "colab_type": "text"
      },
      "source": [
        "#Sample code for emsamble learning"
      ]
    },
    {
      "cell_type": "markdown",
      "metadata": {
        "id": "V5hrcRzY_9uM",
        "colab_type": "text"
      },
      "source": [
        "Load libraries"
      ]
    },
    {
      "cell_type": "code",
      "metadata": {
        "id": "g-gQeG9T0SFD",
        "colab_type": "code",
        "outputId": "bc9e9250-581a-4397-bb12-bd5cce209a01",
        "colab": {
          "base_uri": "https://localhost:8080/",
          "height": 460
        }
      },
      "source": [
        "!pip install catboost"
      ],
      "execution_count": 1,
      "outputs": [
        {
          "output_type": "stream",
          "text": [
            "Collecting catboost\n",
            "\u001b[?25l  Downloading https://files.pythonhosted.org/packages/b1/61/2b8106c8870601671d99ca94d8b8d180f2b740b7cdb95c930147508abcf9/catboost-0.23-cp36-none-manylinux1_x86_64.whl (64.7MB)\n",
            "\u001b[K     |████████████████████████████████| 64.8MB 58kB/s \n",
            "\u001b[?25hRequirement already satisfied: pandas>=0.24.0 in /usr/local/lib/python3.6/dist-packages (from catboost) (1.0.3)\n",
            "Requirement already satisfied: graphviz in /usr/local/lib/python3.6/dist-packages (from catboost) (0.10.1)\n",
            "Requirement already satisfied: matplotlib in /usr/local/lib/python3.6/dist-packages (from catboost) (3.2.1)\n",
            "Requirement already satisfied: numpy>=1.16.0 in /usr/local/lib/python3.6/dist-packages (from catboost) (1.18.4)\n",
            "Requirement already satisfied: six in /usr/local/lib/python3.6/dist-packages (from catboost) (1.12.0)\n",
            "Requirement already satisfied: plotly in /usr/local/lib/python3.6/dist-packages (from catboost) (4.4.1)\n",
            "Requirement already satisfied: scipy in /usr/local/lib/python3.6/dist-packages (from catboost) (1.4.1)\n",
            "Requirement already satisfied: pytz>=2017.2 in /usr/local/lib/python3.6/dist-packages (from pandas>=0.24.0->catboost) (2018.9)\n",
            "Requirement already satisfied: python-dateutil>=2.6.1 in /usr/local/lib/python3.6/dist-packages (from pandas>=0.24.0->catboost) (2.8.1)\n",
            "Requirement already satisfied: cycler>=0.10 in /usr/local/lib/python3.6/dist-packages (from matplotlib->catboost) (0.10.0)\n",
            "Requirement already satisfied: kiwisolver>=1.0.1 in /usr/local/lib/python3.6/dist-packages (from matplotlib->catboost) (1.2.0)\n",
            "Requirement already satisfied: pyparsing!=2.0.4,!=2.1.2,!=2.1.6,>=2.0.1 in /usr/local/lib/python3.6/dist-packages (from matplotlib->catboost) (2.4.7)\n",
            "Requirement already satisfied: retrying>=1.3.3 in /usr/local/lib/python3.6/dist-packages (from plotly->catboost) (1.3.3)\n",
            "Installing collected packages: catboost\n",
            "Successfully installed catboost-0.23\n"
          ],
          "name": "stdout"
        }
      ]
    },
    {
      "cell_type": "code",
      "metadata": {
        "id": "uz6chkI6AFGk",
        "colab_type": "code",
        "outputId": "457671b5-742a-4a89-c0b3-cd1755123eae",
        "colab": {
          "base_uri": "https://localhost:8080/",
          "height": 111
        }
      },
      "source": [
        "import numpy as np\n",
        "import pandas as pd\n",
        "import matplotlib.pyplot as plt\n",
        "\n",
        "from sklearn.datasets import load_breast_cancer\n",
        "from sklearn.model_selection import train_test_split, cross_val_predict, cross_val_score\n",
        "from sklearn.metrics import confusion_matrix\n",
        "from sklearn.metrics import accuracy_score, precision_score, recall_score, f1_score, classification_report\n",
        "from sklearn.metrics import precision_recall_curve, roc_curve, roc_auc_score\n",
        "from sklearn.tree import DecisionTreeClassifier \n",
        "from sklearn.ensemble import RandomForestClassifier\n",
        "from sklearn.ensemble import ExtraTreesClassifier\n",
        "from sklearn.ensemble import GradientBoostingClassifier\n",
        "from xgboost import XGBClassifier\n",
        "from catboost import CatBoostClassifier\n",
        "from sklearn.ensemble import VotingClassifier\n",
        "from sklearn.ensemble import BaggingClassifier\n",
        "from sklearn.preprocessing import StandardScaler\n",
        "from sklearn.externals import joblib"
      ],
      "execution_count": 2,
      "outputs": [
        {
          "output_type": "stream",
          "text": [
            "/usr/local/lib/python3.6/dist-packages/sklearn/externals/joblib/__init__.py:15: FutureWarning: sklearn.externals.joblib is deprecated in 0.21 and will be removed in 0.23. Please import this functionality directly from joblib, which can be installed with: pip install joblib. If this warning is raised when loading pickled models, you may need to re-serialize those models with scikit-learn 0.21+.\n",
            "  warnings.warn(msg, category=FutureWarning)\n"
          ],
          "name": "stderr"
        }
      ]
    },
    {
      "cell_type": "markdown",
      "metadata": {
        "id": "yWjy9yhPETE9",
        "colab_type": "text"
      },
      "source": [
        "Read data"
      ]
    },
    {
      "cell_type": "code",
      "metadata": {
        "id": "xKApP_2eEduJ",
        "colab_type": "code",
        "colab": {}
      },
      "source": [
        "# read the breast cancer wisconsin dataset\n",
        "dataset = load_breast_cancer()"
      ],
      "execution_count": 0,
      "outputs": []
    },
    {
      "cell_type": "code",
      "metadata": {
        "id": "seKjk_6vfYzd",
        "colab_type": "code",
        "outputId": "de45c8d6-62d6-4a97-88d3-073a6588c69c",
        "colab": {
          "base_uri": "https://localhost:8080/",
          "height": 34
        }
      },
      "source": [
        "#30 features\n",
        "dataset['data'].shape"
      ],
      "execution_count": 4,
      "outputs": [
        {
          "output_type": "execute_result",
          "data": {
            "text/plain": [
              "(569, 30)"
            ]
          },
          "metadata": {
            "tags": []
          },
          "execution_count": 4
        }
      ]
    },
    {
      "cell_type": "code",
      "metadata": {
        "id": "9jO5ZfoA1cuY",
        "colab_type": "code",
        "outputId": "67ef0e67-264b-4ca0-fd33-2a2563577b64",
        "colab": {
          "base_uri": "https://localhost:8080/",
          "height": 459
        }
      },
      "source": [
        "#binary target\n",
        "dataset['target']"
      ],
      "execution_count": 5,
      "outputs": [
        {
          "output_type": "execute_result",
          "data": {
            "text/plain": [
              "array([0, 0, 0, 0, 0, 0, 0, 0, 0, 0, 0, 0, 0, 0, 0, 0, 0, 0, 0, 1, 1, 1,\n",
              "       0, 0, 0, 0, 0, 0, 0, 0, 0, 0, 0, 0, 0, 0, 0, 1, 0, 0, 0, 0, 0, 0,\n",
              "       0, 0, 1, 0, 1, 1, 1, 1, 1, 0, 0, 1, 0, 0, 1, 1, 1, 1, 0, 1, 0, 0,\n",
              "       1, 1, 1, 1, 0, 1, 0, 0, 1, 0, 1, 0, 0, 1, 1, 1, 0, 0, 1, 0, 0, 0,\n",
              "       1, 1, 1, 0, 1, 1, 0, 0, 1, 1, 1, 0, 0, 1, 1, 1, 1, 0, 1, 1, 0, 1,\n",
              "       1, 1, 1, 1, 1, 1, 1, 0, 0, 0, 1, 0, 0, 1, 1, 1, 0, 0, 1, 0, 1, 0,\n",
              "       0, 1, 0, 0, 1, 1, 0, 1, 1, 0, 1, 1, 1, 1, 0, 1, 1, 1, 1, 1, 1, 1,\n",
              "       1, 1, 0, 1, 1, 1, 1, 0, 0, 1, 0, 1, 1, 0, 0, 1, 1, 0, 0, 1, 1, 1,\n",
              "       1, 0, 1, 1, 0, 0, 0, 1, 0, 1, 0, 1, 1, 1, 0, 1, 1, 0, 0, 1, 0, 0,\n",
              "       0, 0, 1, 0, 0, 0, 1, 0, 1, 0, 1, 1, 0, 1, 0, 0, 0, 0, 1, 1, 0, 0,\n",
              "       1, 1, 1, 0, 1, 1, 1, 1, 1, 0, 0, 1, 1, 0, 1, 1, 0, 0, 1, 0, 1, 1,\n",
              "       1, 1, 0, 1, 1, 1, 1, 1, 0, 1, 0, 0, 0, 0, 0, 0, 0, 0, 0, 0, 0, 0,\n",
              "       0, 0, 1, 1, 1, 1, 1, 1, 0, 1, 0, 1, 1, 0, 1, 1, 0, 1, 0, 0, 1, 1,\n",
              "       1, 1, 1, 1, 1, 1, 1, 1, 1, 1, 1, 0, 1, 1, 0, 1, 0, 1, 1, 1, 1, 1,\n",
              "       1, 1, 1, 1, 1, 1, 1, 1, 1, 0, 1, 1, 1, 0, 1, 0, 1, 1, 1, 1, 0, 0,\n",
              "       0, 1, 1, 1, 1, 0, 1, 0, 1, 0, 1, 1, 1, 0, 1, 1, 1, 1, 1, 1, 1, 0,\n",
              "       0, 0, 1, 1, 1, 1, 1, 1, 1, 1, 1, 1, 1, 0, 0, 1, 0, 0, 0, 1, 0, 0,\n",
              "       1, 1, 1, 1, 1, 0, 1, 1, 1, 1, 1, 0, 1, 1, 1, 0, 1, 1, 0, 0, 1, 1,\n",
              "       1, 1, 1, 1, 0, 1, 1, 1, 1, 1, 1, 1, 0, 1, 1, 1, 1, 1, 0, 1, 1, 0,\n",
              "       1, 1, 1, 1, 1, 1, 1, 1, 1, 1, 1, 1, 0, 1, 0, 0, 1, 0, 1, 1, 1, 1,\n",
              "       1, 0, 1, 1, 0, 1, 0, 1, 1, 0, 1, 0, 1, 1, 1, 1, 1, 1, 1, 1, 0, 0,\n",
              "       1, 1, 1, 1, 1, 1, 0, 1, 1, 1, 1, 1, 1, 1, 1, 1, 1, 0, 1, 1, 1, 1,\n",
              "       1, 1, 1, 0, 1, 0, 1, 1, 0, 1, 1, 1, 1, 1, 0, 0, 1, 0, 1, 0, 1, 1,\n",
              "       1, 1, 1, 0, 1, 1, 0, 1, 0, 1, 0, 0, 1, 1, 1, 0, 1, 1, 1, 1, 1, 1,\n",
              "       1, 1, 1, 1, 1, 0, 1, 0, 0, 1, 1, 1, 1, 1, 1, 1, 1, 1, 1, 1, 1, 1,\n",
              "       1, 1, 1, 1, 1, 1, 1, 1, 1, 1, 1, 1, 0, 0, 0, 0, 0, 0, 1])"
            ]
          },
          "metadata": {
            "tags": []
          },
          "execution_count": 5
        }
      ]
    },
    {
      "cell_type": "code",
      "metadata": {
        "id": "WIhdEMlF1U0M",
        "colab_type": "code",
        "outputId": "07423afc-708d-43fc-cbbb-8be02dcb6b56",
        "colab": {
          "base_uri": "https://localhost:8080/",
          "height": 34
        }
      },
      "source": [
        "dataset['target_names']"
      ],
      "execution_count": 6,
      "outputs": [
        {
          "output_type": "execute_result",
          "data": {
            "text/plain": [
              "array(['malignant', 'benign'], dtype='<U9')"
            ]
          },
          "metadata": {
            "tags": []
          },
          "execution_count": 6
        }
      ]
    },
    {
      "cell_type": "code",
      "metadata": {
        "id": "ZYm5eGa10_0o",
        "colab_type": "code",
        "outputId": "4f3c44e1-5518-4dcf-b354-917d38e93989",
        "colab": {
          "base_uri": "https://localhost:8080/",
          "height": 187
        }
      },
      "source": [
        "dataset['feature_names']"
      ],
      "execution_count": 7,
      "outputs": [
        {
          "output_type": "execute_result",
          "data": {
            "text/plain": [
              "array(['mean radius', 'mean texture', 'mean perimeter', 'mean area',\n",
              "       'mean smoothness', 'mean compactness', 'mean concavity',\n",
              "       'mean concave points', 'mean symmetry', 'mean fractal dimension',\n",
              "       'radius error', 'texture error', 'perimeter error', 'area error',\n",
              "       'smoothness error', 'compactness error', 'concavity error',\n",
              "       'concave points error', 'symmetry error',\n",
              "       'fractal dimension error', 'worst radius', 'worst texture',\n",
              "       'worst perimeter', 'worst area', 'worst smoothness',\n",
              "       'worst compactness', 'worst concavity', 'worst concave points',\n",
              "       'worst symmetry', 'worst fractal dimension'], dtype='<U23')"
            ]
          },
          "metadata": {
            "tags": []
          },
          "execution_count": 7
        }
      ]
    },
    {
      "cell_type": "code",
      "metadata": {
        "id": "9xRsKkwB_KxP",
        "colab_type": "code",
        "outputId": "9a4e0a7c-b3d5-45fa-86b5-f30e1474cab6",
        "colab": {
          "base_uri": "https://localhost:8080/",
          "height": 265
        }
      },
      "source": [
        "# show data\n",
        "plt.hist(dataset['data'][:, 0][dataset['target']==0], label=dataset['target_names'][0], alpha=0.5)\n",
        "plt.hist(dataset['data'][:, 0][dataset['target']==1], label=dataset['target_names'][1], alpha=0.5)\n",
        "plt.show()"
      ],
      "execution_count": 8,
      "outputs": [
        {
          "output_type": "display_data",
          "data": {
            "image/png": "[encoded data removed]",
            "text/plain": [
              "<Figure size 432x288 with 1 Axes>"
            ]
          },
          "metadata": {
            "tags": [],
            "needs_background": "light"
          }
        }
      ]
    },
    {
      "cell_type": "code",
      "metadata": {
        "id": "Sc_Ce1Y-FUrN",
        "colab_type": "code",
        "colab": {}
      },
      "source": [
        "# image(numpy.ndarray)\n",
        "X = dataset.data\n",
        "\n",
        "# label(numpy.ndarray)\n",
        "y = dataset.target"
      ],
      "execution_count": 0,
      "outputs": []
    },
    {
      "cell_type": "code",
      "metadata": {
        "id": "o6VcS3viIBh0",
        "colab_type": "code",
        "colab": {}
      },
      "source": [
        "#split dataset to train and test dataset\n",
        "test_size = 0.2\n",
        "X_train, X_test, y_train, y_test = train_test_split(X, y, test_size=test_size, shuffle=True)#default is True"
      ],
      "execution_count": 0,
      "outputs": []
    },
    {
      "cell_type": "code",
      "metadata": {
        "id": "iyOyxl4RJN9I",
        "colab_type": "code",
        "outputId": "441cb05d-ebd3-469b-80ce-3d29c4c6f184",
        "colab": {
          "base_uri": "https://localhost:8080/",
          "height": 51
        }
      },
      "source": [
        "print(len(X_train), len(X_test))\n",
        "print(len(y_train), len(y_test))"
      ],
      "execution_count": 11,
      "outputs": [
        {
          "output_type": "stream",
          "text": [
            "455 114\n",
            "455 114\n"
          ],
          "name": "stdout"
        }
      ]
    },
    {
      "cell_type": "code",
      "metadata": {
        "id": "TyRv2MYY7dAd",
        "colab_type": "code",
        "colab": {}
      },
      "source": [
        "df = pd.DataFrame(data=X_train, columns=dataset.feature_names)"
      ],
      "execution_count": 0,
      "outputs": []
    },
    {
      "cell_type": "code",
      "metadata": {
        "id": "SDHd_Fvx7jog",
        "colab_type": "code",
        "colab": {}
      },
      "source": [
        "df['target'] = y_train"
      ],
      "execution_count": 0,
      "outputs": []
    },
    {
      "cell_type": "code",
      "metadata": {
        "id": "o8x1rIFg7lcR",
        "colab_type": "code",
        "outputId": "9478a8b2-f886-419c-ffd4-114391372afb",
        "colab": {
          "base_uri": "https://localhost:8080/",
          "height": 278
        }
      },
      "source": [
        "df.head()"
      ],
      "execution_count": 14,
      "outputs": [
        {
          "output_type": "execute_result",
          "data": {
            "text/html": [
              "<div>\n",
              "<style scoped>\n",
              "    .dataframe tbody tr th:only-of-type {\n",
              "        vertical-align: middle;\n",
              "    }\n",
              "\n",
              "    .dataframe tbody tr th {\n",
              "        vertical-align: top;\n",
              "    }\n",
              "\n",
              "    .dataframe thead th {\n",
              "        text-align: right;\n",
              "    }\n",
              "</style>\n",
              "<table border=\"1\" class=\"dataframe\">\n",
              "  <thead>\n",
              "    <tr style=\"text-align: right;\">\n",
              "      <th></th>\n",
              "      <th>mean radius</th>\n",
              "      <th>mean texture</th>\n",
              "      <th>mean perimeter</th>\n",
              "      <th>mean area</th>\n",
              "      <th>mean smoothness</th>\n",
              "      <th>mean compactness</th>\n",
              "      <th>mean concavity</th>\n",
              "      <th>mean concave points</th>\n",
              "      <th>mean symmetry</th>\n",
              "      <th>mean fractal dimension</th>\n",
              "      <th>radius error</th>\n",
              "      <th>texture error</th>\n",
              "      <th>perimeter error</th>\n",
              "      <th>area error</th>\n",
              "      <th>smoothness error</th>\n",
              "      <th>compactness error</th>\n",
              "      <th>concavity error</th>\n",
              "      <th>concave points error</th>\n",
              "      <th>symmetry error</th>\n",
              "      <th>fractal dimension error</th>\n",
              "      <th>worst radius</th>\n",
              "      <th>worst texture</th>\n",
              "      <th>worst perimeter</th>\n",
              "      <th>worst area</th>\n",
              "      <th>worst smoothness</th>\n",
              "      <th>worst compactness</th>\n",
              "      <th>worst concavity</th>\n",
              "      <th>worst concave points</th>\n",
              "      <th>worst symmetry</th>\n",
              "      <th>worst fractal dimension</th>\n",
              "      <th>target</th>\n",
              "    </tr>\n",
              "  </thead>\n",
              "  <tbody>\n",
              "    <tr>\n",
              "      <th>0</th>\n",
              "      <td>9.465</td>\n",
              "      <td>21.01</td>\n",
              "      <td>60.11</td>\n",
              "      <td>269.4</td>\n",
              "      <td>0.10440</td>\n",
              "      <td>0.07773</td>\n",
              "      <td>0.02172</td>\n",
              "      <td>0.015040</td>\n",
              "      <td>0.1717</td>\n",
              "      <td>0.06899</td>\n",
              "      <td>0.2351</td>\n",
              "      <td>2.0110</td>\n",
              "      <td>1.660</td>\n",
              "      <td>14.20</td>\n",
              "      <td>0.010520</td>\n",
              "      <td>0.017550</td>\n",
              "      <td>0.01714</td>\n",
              "      <td>0.009333</td>\n",
              "      <td>0.02279</td>\n",
              "      <td>0.004237</td>\n",
              "      <td>10.41</td>\n",
              "      <td>31.56</td>\n",
              "      <td>67.03</td>\n",
              "      <td>330.7</td>\n",
              "      <td>0.15480</td>\n",
              "      <td>0.1664</td>\n",
              "      <td>0.09412</td>\n",
              "      <td>0.06517</td>\n",
              "      <td>0.2878</td>\n",
              "      <td>0.09211</td>\n",
              "      <td>1</td>\n",
              "    </tr>\n",
              "    <tr>\n",
              "      <th>1</th>\n",
              "      <td>13.000</td>\n",
              "      <td>21.82</td>\n",
              "      <td>87.50</td>\n",
              "      <td>519.8</td>\n",
              "      <td>0.12730</td>\n",
              "      <td>0.19320</td>\n",
              "      <td>0.18590</td>\n",
              "      <td>0.093530</td>\n",
              "      <td>0.2350</td>\n",
              "      <td>0.07389</td>\n",
              "      <td>0.3063</td>\n",
              "      <td>1.0020</td>\n",
              "      <td>2.406</td>\n",
              "      <td>24.32</td>\n",
              "      <td>0.005731</td>\n",
              "      <td>0.035020</td>\n",
              "      <td>0.03553</td>\n",
              "      <td>0.012260</td>\n",
              "      <td>0.02143</td>\n",
              "      <td>0.003749</td>\n",
              "      <td>15.49</td>\n",
              "      <td>30.73</td>\n",
              "      <td>106.20</td>\n",
              "      <td>739.3</td>\n",
              "      <td>0.17030</td>\n",
              "      <td>0.5401</td>\n",
              "      <td>0.53900</td>\n",
              "      <td>0.20600</td>\n",
              "      <td>0.4378</td>\n",
              "      <td>0.10720</td>\n",
              "      <td>0</td>\n",
              "    </tr>\n",
              "    <tr>\n",
              "      <th>2</th>\n",
              "      <td>13.880</td>\n",
              "      <td>16.16</td>\n",
              "      <td>88.37</td>\n",
              "      <td>596.6</td>\n",
              "      <td>0.07026</td>\n",
              "      <td>0.04831</td>\n",
              "      <td>0.02045</td>\n",
              "      <td>0.008507</td>\n",
              "      <td>0.1607</td>\n",
              "      <td>0.05474</td>\n",
              "      <td>0.2541</td>\n",
              "      <td>0.6218</td>\n",
              "      <td>1.709</td>\n",
              "      <td>23.12</td>\n",
              "      <td>0.003728</td>\n",
              "      <td>0.014150</td>\n",
              "      <td>0.01988</td>\n",
              "      <td>0.007016</td>\n",
              "      <td>0.01647</td>\n",
              "      <td>0.001970</td>\n",
              "      <td>15.51</td>\n",
              "      <td>19.97</td>\n",
              "      <td>99.66</td>\n",
              "      <td>745.3</td>\n",
              "      <td>0.08484</td>\n",
              "      <td>0.1233</td>\n",
              "      <td>0.10910</td>\n",
              "      <td>0.04537</td>\n",
              "      <td>0.2542</td>\n",
              "      <td>0.06623</td>\n",
              "      <td>1</td>\n",
              "    </tr>\n",
              "    <tr>\n",
              "      <th>3</th>\n",
              "      <td>17.140</td>\n",
              "      <td>16.40</td>\n",
              "      <td>116.00</td>\n",
              "      <td>912.7</td>\n",
              "      <td>0.11860</td>\n",
              "      <td>0.22760</td>\n",
              "      <td>0.22290</td>\n",
              "      <td>0.140100</td>\n",
              "      <td>0.3040</td>\n",
              "      <td>0.07413</td>\n",
              "      <td>1.0460</td>\n",
              "      <td>0.9760</td>\n",
              "      <td>7.276</td>\n",
              "      <td>111.40</td>\n",
              "      <td>0.008029</td>\n",
              "      <td>0.037990</td>\n",
              "      <td>0.03732</td>\n",
              "      <td>0.023970</td>\n",
              "      <td>0.02308</td>\n",
              "      <td>0.007444</td>\n",
              "      <td>22.25</td>\n",
              "      <td>21.40</td>\n",
              "      <td>152.40</td>\n",
              "      <td>1461.0</td>\n",
              "      <td>0.15450</td>\n",
              "      <td>0.3949</td>\n",
              "      <td>0.38530</td>\n",
              "      <td>0.25500</td>\n",
              "      <td>0.4066</td>\n",
              "      <td>0.10590</td>\n",
              "      <td>0</td>\n",
              "    </tr>\n",
              "    <tr>\n",
              "      <th>4</th>\n",
              "      <td>11.810</td>\n",
              "      <td>17.39</td>\n",
              "      <td>75.27</td>\n",
              "      <td>428.9</td>\n",
              "      <td>0.10070</td>\n",
              "      <td>0.05562</td>\n",
              "      <td>0.02353</td>\n",
              "      <td>0.015530</td>\n",
              "      <td>0.1718</td>\n",
              "      <td>0.05780</td>\n",
              "      <td>0.1859</td>\n",
              "      <td>1.9260</td>\n",
              "      <td>1.011</td>\n",
              "      <td>14.47</td>\n",
              "      <td>0.007831</td>\n",
              "      <td>0.008776</td>\n",
              "      <td>0.01556</td>\n",
              "      <td>0.006240</td>\n",
              "      <td>0.03139</td>\n",
              "      <td>0.001988</td>\n",
              "      <td>12.57</td>\n",
              "      <td>26.48</td>\n",
              "      <td>79.57</td>\n",
              "      <td>489.5</td>\n",
              "      <td>0.13560</td>\n",
              "      <td>0.1000</td>\n",
              "      <td>0.08803</td>\n",
              "      <td>0.04306</td>\n",
              "      <td>0.3200</td>\n",
              "      <td>0.06576</td>\n",
              "      <td>1</td>\n",
              "    </tr>\n",
              "  </tbody>\n",
              "</table>\n",
              "</div>"
            ],
            "text/plain": [
              "   mean radius  mean texture  ...  worst fractal dimension  target\n",
              "0        9.465         21.01  ...                  0.09211       1\n",
              "1       13.000         21.82  ...                  0.10720       0\n",
              "2       13.880         16.16  ...                  0.06623       1\n",
              "3       17.140         16.40  ...                  0.10590       0\n",
              "4       11.810         17.39  ...                  0.06576       1\n",
              "\n",
              "[5 rows x 31 columns]"
            ]
          },
          "metadata": {
            "tags": []
          },
          "execution_count": 14
        }
      ]
    },
    {
      "cell_type": "code",
      "metadata": {
        "id": "ePJm5G3J7m5e",
        "colab_type": "code",
        "outputId": "9b7bf436-75cb-4b0a-bc1f-dbe64624c96b",
        "colab": {
          "base_uri": "https://localhost:8080/",
          "height": 371
        }
      },
      "source": [
        "df.describe()"
      ],
      "execution_count": 15,
      "outputs": [
        {
          "output_type": "execute_result",
          "data": {
            "text/html": [
              "<div>\n",
              "<style scoped>\n",
              "    .dataframe tbody tr th:only-of-type {\n",
              "        vertical-align: middle;\n",
              "    }\n",
              "\n",
              "    .dataframe tbody tr th {\n",
              "        vertical-align: top;\n",
              "    }\n",
              "\n",
              "    .dataframe thead th {\n",
              "        text-align: right;\n",
              "    }\n",
              "</style>\n",
              "<table border=\"1\" class=\"dataframe\">\n",
              "  <thead>\n",
              "    <tr style=\"text-align: right;\">\n",
              "      <th></th>\n",
              "      <th>mean radius</th>\n",
              "      <th>mean texture</th>\n",
              "      <th>mean perimeter</th>\n",
              "      <th>mean area</th>\n",
              "      <th>mean smoothness</th>\n",
              "      <th>mean compactness</th>\n",
              "      <th>mean concavity</th>\n",
              "      <th>mean concave points</th>\n",
              "      <th>mean symmetry</th>\n",
              "      <th>mean fractal dimension</th>\n",
              "      <th>radius error</th>\n",
              "      <th>texture error</th>\n",
              "      <th>perimeter error</th>\n",
              "      <th>area error</th>\n",
              "      <th>smoothness error</th>\n",
              "      <th>compactness error</th>\n",
              "      <th>concavity error</th>\n",
              "      <th>concave points error</th>\n",
              "      <th>symmetry error</th>\n",
              "      <th>fractal dimension error</th>\n",
              "      <th>worst radius</th>\n",
              "      <th>worst texture</th>\n",
              "      <th>worst perimeter</th>\n",
              "      <th>worst area</th>\n",
              "      <th>worst smoothness</th>\n",
              "      <th>worst compactness</th>\n",
              "      <th>worst concavity</th>\n",
              "      <th>worst concave points</th>\n",
              "      <th>worst symmetry</th>\n",
              "      <th>worst fractal dimension</th>\n",
              "      <th>target</th>\n",
              "    </tr>\n",
              "  </thead>\n",
              "  <tbody>\n",
              "    <tr>\n",
              "      <th>count</th>\n",
              "      <td>455.000000</td>\n",
              "      <td>455.000000</td>\n",
              "      <td>455.000000</td>\n",
              "      <td>455.000000</td>\n",
              "      <td>455.000000</td>\n",
              "      <td>455.000000</td>\n",
              "      <td>455.000000</td>\n",
              "      <td>455.000000</td>\n",
              "      <td>455.000000</td>\n",
              "      <td>455.000000</td>\n",
              "      <td>455.000000</td>\n",
              "      <td>455.000000</td>\n",
              "      <td>455.000000</td>\n",
              "      <td>455.000000</td>\n",
              "      <td>455.000000</td>\n",
              "      <td>455.000000</td>\n",
              "      <td>455.000000</td>\n",
              "      <td>455.000000</td>\n",
              "      <td>455.000000</td>\n",
              "      <td>455.000000</td>\n",
              "      <td>455.000000</td>\n",
              "      <td>455.000000</td>\n",
              "      <td>455.000000</td>\n",
              "      <td>455.000000</td>\n",
              "      <td>455.000000</td>\n",
              "      <td>455.000000</td>\n",
              "      <td>455.000000</td>\n",
              "      <td>455.000000</td>\n",
              "      <td>455.000000</td>\n",
              "      <td>455.000000</td>\n",
              "      <td>455.000000</td>\n",
              "    </tr>\n",
              "    <tr>\n",
              "      <th>mean</th>\n",
              "      <td>13.949829</td>\n",
              "      <td>19.378593</td>\n",
              "      <td>90.752813</td>\n",
              "      <td>636.499780</td>\n",
              "      <td>0.096400</td>\n",
              "      <td>0.103433</td>\n",
              "      <td>0.085991</td>\n",
              "      <td>0.048020</td>\n",
              "      <td>0.181190</td>\n",
              "      <td>0.062986</td>\n",
              "      <td>0.395161</td>\n",
              "      <td>1.227655</td>\n",
              "      <td>2.790056</td>\n",
              "      <td>38.041633</td>\n",
              "      <td>0.007133</td>\n",
              "      <td>0.025259</td>\n",
              "      <td>0.030894</td>\n",
              "      <td>0.011696</td>\n",
              "      <td>0.020586</td>\n",
              "      <td>0.003832</td>\n",
              "      <td>16.082543</td>\n",
              "      <td>25.835714</td>\n",
              "      <td>105.919275</td>\n",
              "      <td>858.163956</td>\n",
              "      <td>0.132519</td>\n",
              "      <td>0.250759</td>\n",
              "      <td>0.264544</td>\n",
              "      <td>0.112931</td>\n",
              "      <td>0.289457</td>\n",
              "      <td>0.084141</td>\n",
              "      <td>0.635165</td>\n",
              "    </tr>\n",
              "    <tr>\n",
              "      <th>std</th>\n",
              "      <td>3.396307</td>\n",
              "      <td>4.432210</td>\n",
              "      <td>23.315249</td>\n",
              "      <td>325.515209</td>\n",
              "      <td>0.013979</td>\n",
              "      <td>0.050795</td>\n",
              "      <td>0.074377</td>\n",
              "      <td>0.037563</td>\n",
              "      <td>0.026977</td>\n",
              "      <td>0.007030</td>\n",
              "      <td>0.232595</td>\n",
              "      <td>0.542876</td>\n",
              "      <td>1.668217</td>\n",
              "      <td>33.434218</td>\n",
              "      <td>0.003064</td>\n",
              "      <td>0.017006</td>\n",
              "      <td>0.026189</td>\n",
              "      <td>0.005998</td>\n",
              "      <td>0.007820</td>\n",
              "      <td>0.002523</td>\n",
              "      <td>4.699460</td>\n",
              "      <td>6.301683</td>\n",
              "      <td>32.470644</td>\n",
              "      <td>536.772152</td>\n",
              "      <td>0.022931</td>\n",
              "      <td>0.151767</td>\n",
              "      <td>0.201333</td>\n",
              "      <td>0.064673</td>\n",
              "      <td>0.059355</td>\n",
              "      <td>0.017715</td>\n",
              "      <td>0.481914</td>\n",
              "    </tr>\n",
              "    <tr>\n",
              "      <th>min</th>\n",
              "      <td>6.981000</td>\n",
              "      <td>9.710000</td>\n",
              "      <td>43.790000</td>\n",
              "      <td>143.500000</td>\n",
              "      <td>0.052630</td>\n",
              "      <td>0.019380</td>\n",
              "      <td>0.000000</td>\n",
              "      <td>0.000000</td>\n",
              "      <td>0.106000</td>\n",
              "      <td>0.050240</td>\n",
              "      <td>0.111500</td>\n",
              "      <td>0.360200</td>\n",
              "      <td>0.771400</td>\n",
              "      <td>6.802000</td>\n",
              "      <td>0.001713</td>\n",
              "      <td>0.002252</td>\n",
              "      <td>0.000000</td>\n",
              "      <td>0.000000</td>\n",
              "      <td>0.009539</td>\n",
              "      <td>0.000895</td>\n",
              "      <td>7.930000</td>\n",
              "      <td>12.020000</td>\n",
              "      <td>50.410000</td>\n",
              "      <td>185.200000</td>\n",
              "      <td>0.071170</td>\n",
              "      <td>0.027290</td>\n",
              "      <td>0.000000</td>\n",
              "      <td>0.000000</td>\n",
              "      <td>0.156600</td>\n",
              "      <td>0.055210</td>\n",
              "      <td>0.000000</td>\n",
              "    </tr>\n",
              "    <tr>\n",
              "      <th>25%</th>\n",
              "      <td>11.555000</td>\n",
              "      <td>16.175000</td>\n",
              "      <td>74.095000</td>\n",
              "      <td>408.900000</td>\n",
              "      <td>0.086475</td>\n",
              "      <td>0.065090</td>\n",
              "      <td>0.029035</td>\n",
              "      <td>0.020220</td>\n",
              "      <td>0.162450</td>\n",
              "      <td>0.058220</td>\n",
              "      <td>0.234450</td>\n",
              "      <td>0.856100</td>\n",
              "      <td>1.604000</td>\n",
              "      <td>17.850000</td>\n",
              "      <td>0.005225</td>\n",
              "      <td>0.013425</td>\n",
              "      <td>0.014900</td>\n",
              "      <td>0.007605</td>\n",
              "      <td>0.015210</td>\n",
              "      <td>0.002275</td>\n",
              "      <td>12.835000</td>\n",
              "      <td>21.260000</td>\n",
              "      <td>83.180000</td>\n",
              "      <td>504.300000</td>\n",
              "      <td>0.117150</td>\n",
              "      <td>0.143600</td>\n",
              "      <td>0.110900</td>\n",
              "      <td>0.063255</td>\n",
              "      <td>0.250400</td>\n",
              "      <td>0.072090</td>\n",
              "      <td>0.000000</td>\n",
              "    </tr>\n",
              "    <tr>\n",
              "      <th>50%</th>\n",
              "      <td>13.210000</td>\n",
              "      <td>18.900000</td>\n",
              "      <td>85.420000</td>\n",
              "      <td>538.400000</td>\n",
              "      <td>0.096760</td>\n",
              "      <td>0.092630</td>\n",
              "      <td>0.059400</td>\n",
              "      <td>0.032510</td>\n",
              "      <td>0.179700</td>\n",
              "      <td>0.061710</td>\n",
              "      <td>0.327600</td>\n",
              "      <td>1.143000</td>\n",
              "      <td>2.287000</td>\n",
              "      <td>24.440000</td>\n",
              "      <td>0.006471</td>\n",
              "      <td>0.020520</td>\n",
              "      <td>0.025750</td>\n",
              "      <td>0.010760</td>\n",
              "      <td>0.018970</td>\n",
              "      <td>0.003288</td>\n",
              "      <td>14.800000</td>\n",
              "      <td>25.480000</td>\n",
              "      <td>96.690000</td>\n",
              "      <td>674.700000</td>\n",
              "      <td>0.131200</td>\n",
              "      <td>0.215800</td>\n",
              "      <td>0.224100</td>\n",
              "      <td>0.098150</td>\n",
              "      <td>0.281800</td>\n",
              "      <td>0.080200</td>\n",
              "      <td>1.000000</td>\n",
              "    </tr>\n",
              "    <tr>\n",
              "      <th>75%</th>\n",
              "      <td>15.740000</td>\n",
              "      <td>21.860000</td>\n",
              "      <td>103.650000</td>\n",
              "      <td>767.600000</td>\n",
              "      <td>0.105350</td>\n",
              "      <td>0.129750</td>\n",
              "      <td>0.130000</td>\n",
              "      <td>0.074490</td>\n",
              "      <td>0.195650</td>\n",
              "      <td>0.066395</td>\n",
              "      <td>0.480700</td>\n",
              "      <td>1.478500</td>\n",
              "      <td>3.297500</td>\n",
              "      <td>45.170000</td>\n",
              "      <td>0.008262</td>\n",
              "      <td>0.032295</td>\n",
              "      <td>0.041615</td>\n",
              "      <td>0.014685</td>\n",
              "      <td>0.023560</td>\n",
              "      <td>0.004565</td>\n",
              "      <td>18.800000</td>\n",
              "      <td>30.200000</td>\n",
              "      <td>125.500000</td>\n",
              "      <td>1086.000000</td>\n",
              "      <td>0.146050</td>\n",
              "      <td>0.325200</td>\n",
              "      <td>0.378500</td>\n",
              "      <td>0.161100</td>\n",
              "      <td>0.317750</td>\n",
              "      <td>0.092100</td>\n",
              "      <td>1.000000</td>\n",
              "    </tr>\n",
              "    <tr>\n",
              "      <th>max</th>\n",
              "      <td>25.730000</td>\n",
              "      <td>39.280000</td>\n",
              "      <td>174.200000</td>\n",
              "      <td>2010.000000</td>\n",
              "      <td>0.163400</td>\n",
              "      <td>0.311400</td>\n",
              "      <td>0.352300</td>\n",
              "      <td>0.191300</td>\n",
              "      <td>0.304000</td>\n",
              "      <td>0.095750</td>\n",
              "      <td>1.370000</td>\n",
              "      <td>4.885000</td>\n",
              "      <td>11.070000</td>\n",
              "      <td>224.100000</td>\n",
              "      <td>0.031130</td>\n",
              "      <td>0.106400</td>\n",
              "      <td>0.303800</td>\n",
              "      <td>0.040900</td>\n",
              "      <td>0.061460</td>\n",
              "      <td>0.022860</td>\n",
              "      <td>33.130000</td>\n",
              "      <td>49.540000</td>\n",
              "      <td>229.300000</td>\n",
              "      <td>3432.000000</td>\n",
              "      <td>0.222600</td>\n",
              "      <td>1.058000</td>\n",
              "      <td>1.252000</td>\n",
              "      <td>0.290300</td>\n",
              "      <td>0.577400</td>\n",
              "      <td>0.207500</td>\n",
              "      <td>1.000000</td>\n",
              "    </tr>\n",
              "  </tbody>\n",
              "</table>\n",
              "</div>"
            ],
            "text/plain": [
              "       mean radius  mean texture  ...  worst fractal dimension      target\n",
              "count   455.000000    455.000000  ...               455.000000  455.000000\n",
              "mean     13.949829     19.378593  ...                 0.084141    0.635165\n",
              "std       3.396307      4.432210  ...                 0.017715    0.481914\n",
              "min       6.981000      9.710000  ...                 0.055210    0.000000\n",
              "25%      11.555000     16.175000  ...                 0.072090    0.000000\n",
              "50%      13.210000     18.900000  ...                 0.080200    1.000000\n",
              "75%      15.740000     21.860000  ...                 0.092100    1.000000\n",
              "max      25.730000     39.280000  ...                 0.207500    1.000000\n",
              "\n",
              "[8 rows x 31 columns]"
            ]
          },
          "metadata": {
            "tags": []
          },
          "execution_count": 15
        }
      ]
    },
    {
      "cell_type": "code",
      "metadata": {
        "id": "Qi7IYTfZ7rJ5",
        "colab_type": "code",
        "outputId": "ac63d5bb-7a00-47ba-99cf-deb7ac304dff",
        "colab": {
          "base_uri": "https://localhost:8080/",
          "height": 1000
        }
      },
      "source": [
        "# show data\n",
        "df.hist(bins=50, figsize=(20,15))"
      ],
      "execution_count": 16,
      "outputs": [
        {
          "output_type": "execute_result",
          "data": {
            "text/plain": [
              "array([[<matplotlib.axes._subplots.AxesSubplot object at 0x7f0ab9417668>,\n",
              "        <matplotlib.axes._subplots.AxesSubplot object at 0x7f0ab9441908>,\n",
              "        <matplotlib.axes._subplots.AxesSubplot object at 0x7f0ab93f2b70>,\n",
              "        <matplotlib.axes._subplots.AxesSubplot object at 0x7f0ab93aadd8>,\n",
              "        <matplotlib.axes._subplots.AxesSubplot object at 0x7f0ab936a080>,\n",
              "        <matplotlib.axes._subplots.AxesSubplot object at 0x7f0ab931d2e8>],\n",
              "       [<matplotlib.axes._subplots.AxesSubplot object at 0x7f0ab92d2550>,\n",
              "        <matplotlib.axes._subplots.AxesSubplot object at 0x7f0ab9304780>,\n",
              "        <matplotlib.axes._subplots.AxesSubplot object at 0x7f0ab93047f0>,\n",
              "        <matplotlib.axes._subplots.AxesSubplot object at 0x7f0ab926dc88>,\n",
              "        <matplotlib.axes._subplots.AxesSubplot object at 0x7f0ab9222ef0>,\n",
              "        <matplotlib.axes._subplots.AxesSubplot object at 0x7f0ab91e0198>],\n",
              "       [<matplotlib.axes._subplots.AxesSubplot object at 0x7f0ab9195400>,\n",
              "        <matplotlib.axes._subplots.AxesSubplot object at 0x7f0ab9148668>,\n",
              "        <matplotlib.axes._subplots.AxesSubplot object at 0x7f0ab917c8d0>,\n",
              "        <matplotlib.axes._subplots.AxesSubplot object at 0x7f0ab9130b38>,\n",
              "        <matplotlib.axes._subplots.AxesSubplot object at 0x7f0ab90e6da0>,\n",
              "        <matplotlib.axes._subplots.AxesSubplot object at 0x7f0ab909bfd0>],\n",
              "       [<matplotlib.axes._subplots.AxesSubplot object at 0x7f0ab90592b0>,\n",
              "        <matplotlib.axes._subplots.AxesSubplot object at 0x7f0ab900d518>,\n",
              "        <matplotlib.axes._subplots.AxesSubplot object at 0x7f0ab9041780>,\n",
              "        <matplotlib.axes._subplots.AxesSubplot object at 0x7f0ab8ff69e8>,\n",
              "        <matplotlib.axes._subplots.AxesSubplot object at 0x7f0ab8fa8c50>,\n",
              "        <matplotlib.axes._subplots.AxesSubplot object at 0x7f0ab8f60eb8>],\n",
              "       [<matplotlib.axes._subplots.AxesSubplot object at 0x7f0ab8f1e160>,\n",
              "        <matplotlib.axes._subplots.AxesSubplot object at 0x7f0ab8ed23c8>,\n",
              "        <matplotlib.axes._subplots.AxesSubplot object at 0x7f0ab8f05630>,\n",
              "        <matplotlib.axes._subplots.AxesSubplot object at 0x7f0ab8eb9898>,\n",
              "        <matplotlib.axes._subplots.AxesSubplot object at 0x7f0ab8e6eb00>,\n",
              "        <matplotlib.axes._subplots.AxesSubplot object at 0x7f0ab8e21d68>],\n",
              "       [<matplotlib.axes._subplots.AxesSubplot object at 0x7f0ab8dd9b00>,\n",
              "        <matplotlib.axes._subplots.AxesSubplot object at 0x7f0ab8d8de80>,\n",
              "        <matplotlib.axes._subplots.AxesSubplot object at 0x7f0ab8d4b240>,\n",
              "        <matplotlib.axes._subplots.AxesSubplot object at 0x7f0ab8d7d5c0>,\n",
              "        <matplotlib.axes._subplots.AxesSubplot object at 0x7f0ab8d2f940>,\n",
              "        <matplotlib.axes._subplots.AxesSubplot object at 0x7f0ab8ce1cc0>]],\n",
              "      dtype=object)"
            ]
          },
          "metadata": {
            "tags": []
          },
          "execution_count": 16
        },
        {
          "output_type": "display_data",
          "data": {
            "image/png": "[encoded data removed]",
            "text/plain": [
              "<Figure size 1440x1080 with 36 Axes>"
            ]
          },
          "metadata": {
            "tags": [],
            "needs_background": "light"
          }
        }
      ]
    },
    {
      "cell_type": "code",
      "metadata": {
        "id": "RA3Qql477rv_",
        "colab_type": "code",
        "colab": {}
      },
      "source": [
        "#standard correlation coefficient\n",
        "corr_mx = df.corr()"
      ],
      "execution_count": 0,
      "outputs": []
    },
    {
      "cell_type": "code",
      "metadata": {
        "id": "CiGom3BJ7t6O",
        "colab_type": "code",
        "outputId": "93bb1244-e55b-4ade-ad0a-e35f467e4054",
        "colab": {
          "base_uri": "https://localhost:8080/",
          "height": 561
        }
      },
      "source": [
        "corr_mx['target'].sort_values(ascending=False)"
      ],
      "execution_count": 18,
      "outputs": [
        {
          "output_type": "execute_result",
          "data": {
            "text/plain": [
              "target                     1.000000\n",
              "smoothness error           0.111301\n",
              "symmetry error             0.060906\n",
              "texture error              0.042467\n",
              "mean fractal dimension     0.024130\n",
              "fractal dimension error   -0.064645\n",
              "compactness error         -0.268037\n",
              "concavity error           -0.273571\n",
              "worst fractal dimension   -0.329428\n",
              "mean symmetry             -0.329451\n",
              "mean smoothness           -0.356339\n",
              "mean texture              -0.402327\n",
              "concave points error      -0.404389\n",
              "worst smoothness          -0.409440\n",
              "worst symmetry            -0.433887\n",
              "worst texture             -0.452226\n",
              "perimeter error           -0.597596\n",
              "mean compactness          -0.600498\n",
              "worst compactness         -0.602375\n",
              "radius error              -0.608173\n",
              "area error                -0.661557\n",
              "worst concavity           -0.676831\n",
              "mean concavity            -0.726467\n",
              "mean area                 -0.740708\n",
              "mean radius               -0.748376\n",
              "worst area                -0.759336\n",
              "mean perimeter            -0.762379\n",
              "worst radius              -0.793616\n",
              "mean concave points       -0.795517\n",
              "worst perimeter           -0.801947\n",
              "worst concave points      -0.807286\n",
              "Name: target, dtype: float64"
            ]
          },
          "metadata": {
            "tags": []
          },
          "execution_count": 18
        }
      ]
    },
    {
      "cell_type": "code",
      "metadata": {
        "id": "wLNIq4R07wCs",
        "colab_type": "code",
        "outputId": "131e1757-0d77-4297-d259-49b836b999eb",
        "colab": {
          "base_uri": "https://localhost:8080/",
          "height": 794
        }
      },
      "source": [
        "attributes = ['target', 'worst concave points', 'worst perimeter', 'mean concave points']\n",
        "pd.plotting.scatter_matrix(df[attributes], figsize=(12, 8))"
      ],
      "execution_count": 19,
      "outputs": [
        {
          "output_type": "execute_result",
          "data": {
            "text/plain": [
              "array([[<matplotlib.axes._subplots.AxesSubplot object at 0x7f0ab8c28b70>,\n",
              "        <matplotlib.axes._subplots.AxesSubplot object at 0x7f0ab7aae5c0>,\n",
              "        <matplotlib.axes._subplots.AxesSubplot object at 0x7f0ab7b41710>,\n",
              "        <matplotlib.axes._subplots.AxesSubplot object at 0x7f0ab78f0470>],\n",
              "       [<matplotlib.axes._subplots.AxesSubplot object at 0x7f0ab79797f0>,\n",
              "        <matplotlib.axes._subplots.AxesSubplot object at 0x7f0ab78a80f0>,\n",
              "        <matplotlib.axes._subplots.AxesSubplot object at 0x7f0ab6045ef0>,\n",
              "        <matplotlib.axes._subplots.AxesSubplot object at 0x7f0ab6063278>],\n",
              "       [<matplotlib.axes._subplots.AxesSubplot object at 0x7f0ab60632e8>,\n",
              "        <matplotlib.axes._subplots.AxesSubplot object at 0x7f0ab603b9b0>,\n",
              "        <matplotlib.axes._subplots.AxesSubplot object at 0x7f0ab5feed30>,\n",
              "        <matplotlib.axes._subplots.AxesSubplot object at 0x7f0ab5fb00f0>],\n",
              "       [<matplotlib.axes._subplots.AxesSubplot object at 0x7f0ab5f60470>,\n",
              "        <matplotlib.axes._subplots.AxesSubplot object at 0x7f0ab5f137f0>,\n",
              "        <matplotlib.axes._subplots.AxesSubplot object at 0x7f0ab5f44b70>,\n",
              "        <matplotlib.axes._subplots.AxesSubplot object at 0x7f0ab5ef6ef0>]],\n",
              "      dtype=object)"
            ]
          },
          "metadata": {
            "tags": []
          },
          "execution_count": 19
        },
        {
          "output_type": "display_data",
          "data": {
            "image/png": "[encoded data removed]",
            "text/plain": [
              "<Figure size 864x576 with 16 Axes>"
            ]
          },
          "metadata": {
            "tags": [],
            "needs_background": "light"
          }
        }
      ]
    },
    {
      "cell_type": "code",
      "metadata": {
        "id": "HHfb64U570dZ",
        "colab_type": "code",
        "colab": {}
      },
      "source": [
        "scaler = StandardScaler()\n",
        "X_train_processed = scaler.fit_transform(X_train)\n",
        "X_test_processed = scaler.transform(X_test)"
      ],
      "execution_count": 0,
      "outputs": []
    },
    {
      "cell_type": "code",
      "metadata": {
        "id": "-d6cE1TvOIB8",
        "colab_type": "code",
        "colab": {}
      },
      "source": [
        "def kth_cross_validation(model):\n",
        "   #k-th cross validation\n",
        "   cv = 3 #the number of foldings\n",
        "   scores = cross_val_score(model, X_train_processed, y_train, cv=cv, scoring='accuracy')\n",
        "   return scores"
      ],
      "execution_count": 0,
      "outputs": []
    },
    {
      "cell_type": "markdown",
      "metadata": {
        "id": "jvugNRRWNuYH",
        "colab_type": "text"
      },
      "source": [
        "###Voting"
      ]
    },
    {
      "cell_type": "code",
      "metadata": {
        "id": "nApXuVa31Eib",
        "colab_type": "code",
        "colab": {}
      },
      "source": [
        "models = [('decision tree', DecisionTreeClassifier()),\n",
        "                ('random forest' , RandomForestClassifier()),\n",
        "                ('extra trees' , ExtraTreesClassifier()),\n",
        "                ('gradient boosting' , GradientBoostingClassifier()),\n",
        "                ('xgboost' , XGBClassifier()),\n",
        "                ('catboost' , CatBoostClassifier(verbose=False))]"
      ],
      "execution_count": 0,
      "outputs": []
    },
    {
      "cell_type": "code",
      "metadata": {
        "id": "y3caPEEIKCHY",
        "colab_type": "code",
        "colab": {}
      },
      "source": [
        "def vote(models, voting='hard'):\n",
        "   vc = VotingClassifier(estimators=models, voting=voting)\n",
        "   for model in models:\n",
        "     scores = kth_cross_validation(model[1])\n",
        "     print(model[0], scores.mean())\n",
        "   print('voting ' + voting, kth_cross_validation(vc).mean())"
      ],
      "execution_count": 0,
      "outputs": []
    },
    {
      "cell_type": "code",
      "metadata": {
        "id": "E7LBTkv36gQZ",
        "colab_type": "code",
        "outputId": "6e7dc64d-14b8-42bd-d471-6a26e6b4b6f5",
        "colab": {
          "base_uri": "https://localhost:8080/",
          "height": 136
        }
      },
      "source": [
        "vote(models, voting='hard')"
      ],
      "execution_count": 32,
      "outputs": [
        {
          "output_type": "stream",
          "text": [
            "decision tree 0.9318868362960381\n",
            "random forest 0.9648251423260138\n",
            "extra trees 0.9692401533635412\n",
            "gradient boosting 0.9494452190077842\n",
            "xgboost 0.956009643313582\n",
            "catboost 0.9714476588823051\n",
            "voting hard 0.9670326478447775\n"
          ],
          "name": "stdout"
        }
      ]
    },
    {
      "cell_type": "code",
      "metadata": {
        "id": "YUi6Svvn6iul",
        "colab_type": "code",
        "outputId": "c6dbcdbe-9573-4f54-b995-9f3622e99fe4",
        "colab": {
          "base_uri": "https://localhost:8080/",
          "height": 136
        }
      },
      "source": [
        "vote(models, voting='soft')"
      ],
      "execution_count": 33,
      "outputs": [
        {
          "output_type": "stream",
          "text": [
            "decision tree 0.9318577901707913\n",
            "random forest 0.960410131288486\n",
            "extra trees 0.9780411293133496\n",
            "gradient boosting 0.9494452190077842\n",
            "xgboost 0.956009643313582\n",
            "catboost 0.9714476588823051\n",
            "voting soft 0.9626321598698734\n"
          ],
          "name": "stdout"
        }
      ]
    },
    {
      "cell_type": "markdown",
      "metadata": {
        "id": "nHwFa6jiV29L",
        "colab_type": "text"
      },
      "source": [
        "###Bagging/Pasting"
      ]
    },
    {
      "cell_type": "code",
      "metadata": {
        "id": "R5j04o7ckEq6",
        "colab_type": "code",
        "colab": {}
      },
      "source": [
        "def bag(model, option='bagging'):\n",
        "    if option == 'bagging':\n",
        "       bagging = BaggingClassifier(DecisionTreeClassifier(), n_estimators=500, bootstrap=True, oob_score=True)\n",
        "       bagging.fit(X_train_processed, y_train)\n",
        "       score = bagging.oob_score_\n",
        "       print(option, score)\n",
        "    elif option == 'pasting':\n",
        "       bagging = BaggingClassifier(DecisionTreeClassifier(), n_estimators=500, bootstrap=False)\n",
        "       scores = kth_cross_validation(bagging)\n",
        "       print(option, scores.mean())\n",
        "    elif option == 'random patch':\n",
        "       bagging = BaggingClassifier(DecisionTreeClassifier(), n_estimators=500, bootstrap=True, max_samples=0.8, oob_score=True)\n",
        "       bagging.fit(X_train_processed, y_train)\n",
        "       score = bagging.oob_score_\n",
        "       print(option, score)\n",
        "    elif option == 'random subspace':\n",
        "       bagging = BaggingClassifier(DecisionTreeClassifier(), n_estimators=500, bootstrap=False, max_samples=0.8)\n",
        "       scores = kth_cross_validation(bagging)\n",
        "       print(option, scores.mean())"
      ],
      "execution_count": 0,
      "outputs": []
    },
    {
      "cell_type": "code",
      "metadata": {
        "id": "aswSNVqRV-Go",
        "colab_type": "code",
        "outputId": "6e9f0e81-9e9b-499e-e313-fb819beff92c",
        "colab": {
          "base_uri": "https://localhost:8080/",
          "height": 34
        }
      },
      "source": [
        "bag(DecisionTreeClassifier(),option='bagging')"
      ],
      "execution_count": 35,
      "outputs": [
        {
          "output_type": "stream",
          "text": [
            "bagging 0.9582417582417583\n"
          ],
          "name": "stdout"
        }
      ]
    },
    {
      "cell_type": "code",
      "metadata": {
        "id": "B_qSWH-nWRmc",
        "colab_type": "code",
        "outputId": "99b25531-e0e2-4649-d5f4-8733658019f5",
        "colab": {
          "base_uri": "https://localhost:8080/",
          "height": 34
        }
      },
      "source": [
        "bag(DecisionTreeClassifier(),option='pasting')"
      ],
      "execution_count": 36,
      "outputs": [
        {
          "output_type": "stream",
          "text": [
            "pasting 0.9296502846520275\n"
          ],
          "name": "stdout"
        }
      ]
    },
    {
      "cell_type": "code",
      "metadata": {
        "id": "YPbmUvcdtnZT",
        "colab_type": "code",
        "outputId": "be4b80e0-ca57-4597-d06f-c29cb870a902",
        "colab": {
          "base_uri": "https://localhost:8080/",
          "height": 34
        }
      },
      "source": [
        "bag(DecisionTreeClassifier(),option='random patch')"
      ],
      "execution_count": 37,
      "outputs": [
        {
          "output_type": "stream",
          "text": [
            "random patch 0.9626373626373627\n"
          ],
          "name": "stdout"
        }
      ]
    },
    {
      "cell_type": "code",
      "metadata": {
        "id": "p9mwRkJjLHbz",
        "colab_type": "code",
        "outputId": "c1a59e7b-9573-455a-bce8-3fb903c37d6b",
        "colab": {
          "base_uri": "https://localhost:8080/",
          "height": 34
        }
      },
      "source": [
        "bag(DecisionTreeClassifier(),option='random subspace')"
      ],
      "execution_count": 38,
      "outputs": [
        {
          "output_type": "stream",
          "text": [
            "random subspace 0.9472812826768909\n"
          ],
          "name": "stdout"
        }
      ]
    },
    {
      "cell_type": "markdown",
      "metadata": {
        "id": "Z9Kp5nqPMar_",
        "colab_type": "text"
      },
      "source": [
        "###Stacking"
      ]
    },
    {
      "cell_type": "code",
      "metadata": {
        "id": "0p1axNI3vS4L",
        "colab_type": "code",
        "colab": {}
      },
      "source": [
        "def stack(models):\n",
        "   X_train1, X_train2, y_train1, y_train2 = train_test_split(X_train_processed, y_train, test_size=0.5)\n",
        "\n",
        "   y_train2_pred = []\n",
        "   y_test_pred = []\n",
        "   for model in models:\n",
        "     model[1].fit(X_train1, y_train1)  \n",
        "     y_train2_pred.append(model[1].predict(X_train2))\n",
        "     y_test_pred.append(model[1].predict(X_test_processed))\n",
        "  \n",
        "   y_train2_pred = np.array(y_train2_pred)\n",
        "   blender = DecisionTreeClassifier()\n",
        "   blender.fit(y_train2_pred.transpose(), y_train2)\n",
        "\n",
        "   y_test_pred = np.array(y_test_pred)\n",
        "   y_test_pred = blender.predict(y_test_pred.transpose())\n",
        "   score = accuracy_score(y_test, y_test_pred)\n",
        "   print('stacking', score)"
      ],
      "execution_count": 0,
      "outputs": []
    },
    {
      "cell_type": "code",
      "metadata": {
        "id": "vQm6XdqG4QyE",
        "colab_type": "code",
        "outputId": "2431e6fb-2fde-4340-e0ac-0d3402d43183",
        "colab": {
          "base_uri": "https://localhost:8080/",
          "height": 34
        }
      },
      "source": [
        "stack(models)"
      ],
      "execution_count": 40,
      "outputs": [
        {
          "output_type": "stream",
          "text": [
            "stacking 0.9385964912280702\n"
          ],
          "name": "stdout"
        }
      ]
    },
    {
      "cell_type": "code",
      "metadata": {
        "id": "veb2uBSdTHIU",
        "colab_type": "code",
        "colab": {}
      },
      "source": [
        ""
      ],
      "execution_count": 0,
      "outputs": []
    }
  ]
}