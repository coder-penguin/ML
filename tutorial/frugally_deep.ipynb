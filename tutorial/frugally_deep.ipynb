{
  "nbformat": 4,
  "nbformat_minor": 0,
  "metadata": {
    "colab": {
      "name": "frugally-deep.ipynb",
      "provenance": [],
      "collapsed_sections": [],
      "include_colab_link": true
    },
    "kernelspec": {
      "name": "python3",
      "display_name": "Python 3"
    }
  },
  "cells": [
    {
      "cell_type": "markdown",
      "metadata": {
        "id": "view-in-github",
        "colab_type": "text"
      },
      "source": [
        "<a href=\"https://colab.research.google.com/github/coder-penguin/ML/blob/master/tutorial/frugally_deep.ipynb\" target=\"_parent\"><img src=\"https://colab.research.google.com/assets/colab-badge.svg\" alt=\"Open In Colab\"/></a>"
      ]
    },
    {
      "cell_type": "markdown",
      "metadata": {
        "id": "m8QXUcFnQYt4",
        "colab_type": "text"
      },
      "source": [
        "#Sample code for Keras to C++ conversion with frugally-deep"
      ]
    },
    {
      "cell_type": "markdown",
      "metadata": {
        "id": "eBTOuI2KQq2d",
        "colab_type": "text"
      },
      "source": [
        "Reference:\n",
        "https://github.com/Dobiasd/frugally-deep"
      ]
    },
    {
      "cell_type": "markdown",
      "metadata": {
        "id": "qk0rktI5Q1xV",
        "colab_type": "text"
      },
      "source": [
        "###Create a sample model"
      ]
    },
    {
      "cell_type": "code",
      "metadata": {
        "id": "6yt2FJgRQ0qR",
        "colab_type": "code",
        "colab": {}
      },
      "source": [
        "import numpy as np\n",
        "from tensorflow.keras.layers import Input, Dense\n",
        "from tensorflow.keras.models import Model\n",
        "from tensorflow.keras import backend as K"
      ],
      "execution_count": 0,
      "outputs": []
    },
    {
      "cell_type": "code",
      "metadata": {
        "id": "S10Z061iSQ9p",
        "colab_type": "code",
        "outputId": "daf367c5-243e-4ace-f2a3-35ef6fd5fb37",
        "colab": {
          "base_uri": "https://localhost:8080/",
          "height": 34
        }
      },
      "source": [
        "#check the current format\n",
        "K.image_data_format()"
      ],
      "execution_count": 0,
      "outputs": [
        {
          "output_type": "execute_result",
          "data": {
            "text/plain": [
              "'channels_last'"
            ]
          },
          "metadata": {
            "tags": []
          },
          "execution_count": 7
        }
      ]
    },
    {
      "cell_type": "code",
      "metadata": {
        "id": "ErmJphXESiWr",
        "colab_type": "code",
        "colab": {}
      },
      "source": [
        "#set channels_last format if not\n",
        "K.set_image_data_format('channels_last')"
      ],
      "execution_count": 0,
      "outputs": []
    },
    {
      "cell_type": "code",
      "metadata": {
        "id": "yRzEyRB6P6TH",
        "colab_type": "code",
        "colab": {}
      },
      "source": [
        "inputs = Input(shape=(4,))\n",
        "x = Dense(5, activation='relu')(inputs)\n",
        "predictions = Dense(3, activation='softmax')(x)\n",
        "model = Model(inputs=inputs, outputs=predictions)\n",
        "model.compile(loss='categorical_crossentropy', optimizer='nadam')"
      ],
      "execution_count": 0,
      "outputs": []
    },
    {
      "cell_type": "code",
      "metadata": {
        "id": "7RaglrgeQ_N-",
        "colab_type": "code",
        "outputId": "2a1d2270-77d5-4d86-9837-010044f289ac",
        "colab": {
          "base_uri": "https://localhost:8080/",
          "height": 374
        }
      },
      "source": [
        "model.fit(\n",
        "    np.asarray([[1, 2, 3, 4], [2, 3, 4, 5]]),\n",
        "    np.asarray([[1, 0, 0], [0, 0, 1]]), epochs=10)"
      ],
      "execution_count": 0,
      "outputs": [
        {
          "output_type": "stream",
          "text": [
            "Epoch 1/10\n",
            "1/1 [==============================] - 0s 1ms/step - loss: 2.5915\n",
            "Epoch 2/10\n",
            "1/1 [==============================] - 0s 2ms/step - loss: 2.5666\n",
            "Epoch 3/10\n",
            "1/1 [==============================] - 0s 2ms/step - loss: 2.5483\n",
            "Epoch 4/10\n",
            "1/1 [==============================] - 0s 1ms/step - loss: 2.5313\n",
            "Epoch 5/10\n",
            "1/1 [==============================] - 0s 1ms/step - loss: 2.5145\n",
            "Epoch 6/10\n",
            "1/1 [==============================] - 0s 1ms/step - loss: 2.4974\n",
            "Epoch 7/10\n",
            "1/1 [==============================] - 0s 1ms/step - loss: 2.4799\n",
            "Epoch 8/10\n",
            "1/1 [==============================] - 0s 1ms/step - loss: 2.4621\n",
            "Epoch 9/10\n",
            "1/1 [==============================] - 0s 1ms/step - loss: 2.4439\n",
            "Epoch 10/10\n",
            "1/1 [==============================] - 0s 1ms/step - loss: 2.4255\n"
          ],
          "name": "stdout"
        },
        {
          "output_type": "execute_result",
          "data": {
            "text/plain": [
              "<tensorflow.python.keras.callbacks.History at 0x7f7904711470>"
            ]
          },
          "metadata": {
            "tags": []
          },
          "execution_count": 10
        }
      ]
    },
    {
      "cell_type": "code",
      "metadata": {
        "id": "ONW5ttrkRBAY",
        "colab_type": "code",
        "colab": {}
      },
      "source": [
        "model.save('keras_model.h5', include_optimizer=False)"
      ],
      "execution_count": 0,
      "outputs": []
    },
    {
      "cell_type": "markdown",
      "metadata": {
        "id": "CKpKMJJjTfOE",
        "colab_type": "text"
      },
      "source": [
        "###Convert the model to a frugally-deep format"
      ]
    },
    {
      "cell_type": "code",
      "metadata": {
        "id": "dn_N14haTLDf",
        "colab_type": "code",
        "outputId": "920e0da3-fcb2-4a0f-9bb6-4af5306938ca",
        "colab": {
          "base_uri": "https://localhost:8080/",
          "height": 136
        }
      },
      "source": [
        "!git clone https://github.com/Dobiasd/frugally-deep.git"
      ],
      "execution_count": 0,
      "outputs": [
        {
          "output_type": "stream",
          "text": [
            "Cloning into 'frugally-deep'...\n",
            "remote: Enumerating objects: 219, done.\u001b[K\n",
            "remote: Counting objects: 100% (219/219), done.\u001b[K\n",
            "remote: Compressing objects: 100% (120/120), done.\u001b[K\n",
            "remote: Total 8122 (delta 129), reused 153 (delta 80), pack-reused 7903\u001b[K\n",
            "Receiving objects: 100% (8122/8122), 3.00 MiB | 11.69 MiB/s, done.\n",
            "Resolving deltas: 100% (5699/5699), done.\n"
          ],
          "name": "stdout"
        }
      ]
    },
    {
      "cell_type": "code",
      "metadata": {
        "id": "dxKzsPVNTVZl",
        "colab_type": "code",
        "outputId": "7f9f7d7a-01eb-4c47-8f97-de8c074fcae6",
        "colab": {
          "base_uri": "https://localhost:8080/",
          "height": 63
        }
      },
      "source": [
        "!ls ./"
      ],
      "execution_count": 0,
      "outputs": [
        {
          "output_type": "stream",
          "text": [
            "frugally-deep  keras_model.h5  sample_data\n"
          ],
          "name": "stdout"
        }
      ]
    },
    {
      "cell_type": "code",
      "metadata": {
        "id": "5VbXuPbFS6H6",
        "colab_type": "code",
        "outputId": "85d1afbe-0513-4c6c-9810-55e04a66ce3c",
        "colab": {
          "base_uri": "https://localhost:8080/",
          "height": 529
        }
      },
      "source": [
        "!python3 ./frugally-deep/keras_export/convert_model.py keras_model.h5 fdeep_model.json"
      ],
      "execution_count": 0,
      "outputs": [
        {
          "output_type": "stream",
          "text": [
            "loading keras_model.h5\n",
            "2020-04-14 01:31:21.133627: E tensorflow/stream_executor/cuda/cuda_driver.cc:313] failed call to cuInit: CUDA_ERROR_NO_DEVICE: no CUDA-capable device is detected\n",
            "WARNING:tensorflow:No training configuration found in the save file, so the model was *not* compiled. Compile it manually.\n",
            "Forward pass took 0.145329 s.\n",
            "Forward pass took 0.024316 s.\n",
            "Forward pass took 0.028699 s.\n",
            "Starting performance measurements.\n",
            "Forward pass took 0.02438 s.\n",
            "Forward pass took 0.026265 s.\n",
            "Forward pass took 0.024098 s.\n",
            "Forward pass took 0.022711 s.\n",
            "Forward pass took 0.022912 s.\n",
            "Forward pass took 0.0240732 s on average.\n",
            "Converting model architecture.\n",
            "Converting model weights.\n",
            "Done converting model weights.\n",
            "Calculating model hash.\n",
            "Model conversion finished.\n",
            "writing fdeep_model.json\n"
          ],
          "name": "stdout"
        }
      ]
    },
    {
      "cell_type": "code",
      "metadata": {
        "id": "kJcl2YMzT6bj",
        "colab_type": "code",
        "outputId": "5e913341-d981-4e48-a657-3125956f65bf",
        "colab": {
          "base_uri": "https://localhost:8080/",
          "height": 63
        }
      },
      "source": [
        "!ls ./"
      ],
      "execution_count": 0,
      "outputs": [
        {
          "output_type": "stream",
          "text": [
            "fdeep_model.json  frugally-deep  keras_model.h5  sample_data\n"
          ],
          "name": "stdout"
        }
      ]
    },
    {
      "cell_type": "markdown",
      "metadata": {
        "id": "bAQZJK0pbuh7",
        "colab_type": "text"
      },
      "source": [
        "###Run with c++"
      ]
    },
    {
      "cell_type": "markdown",
      "metadata": {
        "id": "cUp53hWrUw19",
        "colab_type": "text"
      },
      "source": [
        "\n",
        "1.   Download the json file\n",
        "2.   Install some packages follwing the instruction: https://github.com/Dobiasd/frugally-deep/blob/master/INSTALL.md\n",
        "\n",
        "        Requirement: cmake >= 3.2 and  c++ >= 14\n",
        "\n",
        "\n",
        "3.   Copy and past the following c++ code\n",
        "4.   Compile and Run it\n",
        "\n"
      ]
    },
    {
      "cell_type": "markdown",
      "metadata": {
        "id": "V2I1YWqwen6Z",
        "colab_type": "text"
      },
      "source": [
        "// main.cpp\n",
        "\n",
        "\n",
        "```\n",
        "#include <fdeep/fdeep.hpp>\n",
        "int main()\n",
        "{\n",
        "    const auto model = fdeep::load_model(\"fdeep_model.json\");\n",
        "    const auto result = model.predict(\n",
        "        {fdeep::tensor(fdeep::tensor_shape(static_cast<std::size_t>(4)),\n",
        "        {1, 2, 3, 4})});\n",
        "    std::cout << fdeep::show_tensors(result) << std::endl;\n",
        "}\n",
        "```\n",
        "\n",
        "\n"
      ]
    },
    {
      "cell_type": "code",
      "metadata": {
        "id": "Vhy8TDTbYWgf",
        "colab_type": "code",
        "colab": {}
      },
      "source": [
        ""
      ],
      "execution_count": 0,
      "outputs": []
    }
  ]
}