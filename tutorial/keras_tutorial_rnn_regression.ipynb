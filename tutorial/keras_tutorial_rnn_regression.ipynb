{
  "nbformat": 4,
  "nbformat_minor": 0,
  "metadata": {
    "colab": {
      "name": "keras_tutorial_rnn regression",
      "provenance": [],
      "collapsed_sections": [],
      "include_colab_link": true
    },
    "kernelspec": {
      "name": "python3",
      "display_name": "Python 3"
    },
    "accelerator": "GPU"
  },
  "cells": [
    {
      "cell_type": "markdown",
      "metadata": {
        "id": "view-in-github",
        "colab_type": "text"
      },
      "source": [
        "<a href=\"https://colab.research.google.com/github/coder-penguin/ML/blob/master/tutorial/keras_tutorial_rnn_regression.ipynb\" target=\"_parent\"><img src=\"https://colab.research.google.com/assets/colab-badge.svg\" alt=\"Open In Colab\"/></a>"
      ]
    },
    {
      "cell_type": "markdown",
      "metadata": {
        "id": "E-5PkF7PBj7_",
        "colab_type": "text"
      },
      "source": [
        "#Sample code for regression with RNN"
      ]
    },
    {
      "cell_type": "markdown",
      "metadata": {
        "id": "V5hrcRzY_9uM",
        "colab_type": "text"
      },
      "source": [
        "Load libraries"
      ]
    },
    {
      "cell_type": "code",
      "metadata": {
        "id": "uz6chkI6AFGk",
        "colab_type": "code",
        "outputId": "a5f1ddc1-2b82-4377-bbe7-2bd863d66569",
        "colab": {
          "base_uri": "https://localhost:8080/",
          "height": 251
        }
      },
      "source": [
        "import numpy as np\n",
        "import pandas as pd\n",
        "import matplotlib.pyplot as plt\n",
        "\n",
        "from sklearn.model_selection import train_test_split, KFold\n",
        "from sklearn.metrics import confusion_matrix\n",
        "from sklearn.metrics import accuracy_score, precision_score, recall_score, f1_score, classification_report\n",
        "from sklearn.metrics import precision_recall_curve, roc_curve, roc_auc_score\n",
        "from sklearn.preprocessing import StandardScaler\n",
        "from sklearn.externals import joblib\n",
        "\n",
        "import tensorflow as tf\n",
        "from tensorflow.keras.models import Sequential, load_model\n",
        "from tensorflow.keras.layers import Dense, SimpleRNN, GRU, LSTM, Dropout, BatchNormalization, Activation, Embedding\n",
        "from tensorflow.keras.optimizers import SGD\n",
        "from tensorflow.keras.callbacks import EarlyStopping, ModelCheckpoint\n",
        "from tensorflow.keras.utils import plot_model, model_to_dot\n",
        "from tensorflow.keras.preprocessing.sequence import pad_sequences\n",
        "from IPython.display import SVG\n",
        "\n",
        "print(tf.__version__)"
      ],
      "execution_count": 1,
      "outputs": [
        {
          "output_type": "stream",
          "text": [
            "/usr/local/lib/python3.6/dist-packages/sklearn/externals/joblib/__init__.py:15: FutureWarning: sklearn.externals.joblib is deprecated in 0.21 and will be removed in 0.23. Please import this functionality directly from joblib, which can be installed with: pip install joblib. If this warning is raised when loading pickled models, you may need to re-serialize those models with scikit-learn 0.21+.\n",
            "  warnings.warn(msg, category=FutureWarning)\n"
          ],
          "name": "stderr"
        },
        {
          "output_type": "stream",
          "text": [
            "2.2.0-rc2\n"
          ],
          "name": "stdout"
        }
      ]
    },
    {
      "cell_type": "code",
      "metadata": {
        "id": "CvDPtcJ2YPo0",
        "colab_type": "code",
        "outputId": "252b7464-22dd-4081-9ac1-6ad79512acbc",
        "colab": {
          "base_uri": "https://localhost:8080/",
          "height": 34
        }
      },
      "source": [
        "#check GPU\n",
        "tf.test.gpu_device_name()"
      ],
      "execution_count": 2,
      "outputs": [
        {
          "output_type": "execute_result",
          "data": {
            "text/plain": [
              "'/device:GPU:0'"
            ]
          },
          "metadata": {
            "tags": []
          },
          "execution_count": 2
        }
      ]
    },
    {
      "cell_type": "markdown",
      "metadata": {
        "id": "yWjy9yhPETE9",
        "colab_type": "text"
      },
      "source": [
        "Create data"
      ]
    },
    {
      "cell_type": "code",
      "metadata": {
        "id": "VbmeZB_QFy-5",
        "colab_type": "code",
        "colab": {}
      },
      "source": [
        "def sin(x, T):\n",
        "    return np.sin(2.0 * np.pi * x / T)"
      ],
      "execution_count": 0,
      "outputs": []
    },
    {
      "cell_type": "code",
      "metadata": {
        "id": "_Dm17T7BFvDc",
        "colab_type": "code",
        "colab": {}
      },
      "source": [
        "def generate_data(T, A=0.01):\n",
        "    x = np.arange(0, 2 * T + 1)\n",
        "    noise = A * np.random.uniform(low=-1.0, high=1.0, size=len(x))\n",
        "    return sin(x, T) + noise"
      ],
      "execution_count": 0,
      "outputs": []
    },
    {
      "cell_type": "code",
      "metadata": {
        "id": "O7FIN2q7F8m1",
        "colab_type": "code",
        "colab": {}
      },
      "source": [
        "def load_data(T, maxlen):\n",
        "    data = generate_data(T)\n",
        "\n",
        "    X, y = [], []\n",
        "    for i in range(len(data)-maxlen):\n",
        "        X.append(data[i:i + maxlen])\n",
        "        y.append(data[i + maxlen])\n",
        "\n",
        "    X = np.array(X).reshape(len(X), maxlen, 1)\n",
        "    y = np.array(y).reshape(len(X), 1)\n",
        "\n",
        "    return X, y"
      ],
      "execution_count": 0,
      "outputs": []
    },
    {
      "cell_type": "code",
      "metadata": {
        "id": "xKApP_2eEduJ",
        "colab_type": "code",
        "colab": {}
      },
      "source": [
        "# read the dataset\n",
        "data_size = 100\n",
        "maxlen = 30\n",
        "X_train, y_train = load_data(data_size, maxlen)\n",
        "X_test, y_test = load_data(data_size, maxlen)"
      ],
      "execution_count": 0,
      "outputs": []
    },
    {
      "cell_type": "code",
      "metadata": {
        "id": "iyOyxl4RJN9I",
        "colab_type": "code",
        "outputId": "77395566-2cab-4206-ccdc-98a35abe2dbb",
        "colab": {
          "base_uri": "https://localhost:8080/",
          "height": 51
        }
      },
      "source": [
        "print(len(X_train), len(X_test))\n",
        "print(len(y_train), len(y_test))"
      ],
      "execution_count": 64,
      "outputs": [
        {
          "output_type": "stream",
          "text": [
            "171 171\n",
            "171 171\n"
          ],
          "name": "stdout"
        }
      ]
    },
    {
      "cell_type": "markdown",
      "metadata": {
        "id": "jvugNRRWNuYH",
        "colab_type": "text"
      },
      "source": [
        "###Train model"
      ]
    },
    {
      "cell_type": "code",
      "metadata": {
        "id": "y3caPEEIKCHY",
        "colab_type": "code",
        "colab": {}
      },
      "source": [
        "def build_model(RNNtype):\n",
        "  activation = 'tanh'\n",
        "  h_nodes = 100\n",
        "  if RNNtype == 'Simple':\n",
        "    RNNcell = SimpleRNN(h_nodes, activation=activation, input_shape=(maxlen, X_train.shape[2]))\n",
        "  elif RNNtype == 'LSTM':\n",
        "    RNNcell = LSTM(h_nodes, activation=activation, input_shape=(maxlen, X_train.shape[2]))\n",
        "  elif RNNtype == 'GRU':\n",
        "    RNNcell = GRU(h_nodes, activation=activation, input_shape=(maxlen, X_train.shape[2]))\n",
        "\n",
        "  model = Sequential([\n",
        "    #Embedding(input_dim=max_features, output_dim=100, input_length=maxlen, embeddings_initializer='glorot_uniform'),\n",
        "    RNNcell,\n",
        "    Dense(1, activation='linear')\n",
        "  ], name='model_'+RNNtype)\n",
        "\n",
        "  #compile\n",
        "  loss = 'mean_squared_error'\n",
        "  optimizer = SGD(lr=0.01, nesterov=True)\n",
        "  model.compile(loss=loss, optimizer=optimizer)\n",
        "\n",
        "  return model"
      ],
      "execution_count": 0,
      "outputs": []
    },
    {
      "cell_type": "code",
      "metadata": {
        "id": "mA5uTMOWz2Ql",
        "colab_type": "code",
        "colab": {}
      },
      "source": [
        "models = {'Simple' : build_model('Simple'),\n",
        "                'LSTM' : build_model('LSTM'),\n",
        "                'GRU' : build_model('GRU')}"
      ],
      "execution_count": 0,
      "outputs": []
    },
    {
      "cell_type": "code",
      "metadata": {
        "id": "2mGABOONPPIw",
        "colab_type": "code",
        "outputId": "6e90699e-2a9c-49c1-c32e-d2d0338948cf",
        "colab": {
          "base_uri": "https://localhost:8080/",
          "height": 629
        }
      },
      "source": [
        "for key in models:\n",
        "  models[key].summary()"
      ],
      "execution_count": 51,
      "outputs": [
        {
          "output_type": "stream",
          "text": [
            "Model: \"model_Simple\"\n",
            "_________________________________________________________________\n",
            "Layer (type)                 Output Shape              Param #   \n",
            "=================================================================\n",
            "simple_rnn_4 (SimpleRNN)     (None, 100)               10200     \n",
            "_________________________________________________________________\n",
            "dense_10 (Dense)             (None, 1)                 101       \n",
            "=================================================================\n",
            "Total params: 10,301\n",
            "Trainable params: 10,301\n",
            "Non-trainable params: 0\n",
            "_________________________________________________________________\n",
            "Model: \"model_LSTM\"\n",
            "_________________________________________________________________\n",
            "Layer (type)                 Output Shape              Param #   \n",
            "=================================================================\n",
            "lstm_3 (LSTM)                (None, 100)               40800     \n",
            "_________________________________________________________________\n",
            "dense_11 (Dense)             (None, 1)                 101       \n",
            "=================================================================\n",
            "Total params: 40,901\n",
            "Trainable params: 40,901\n",
            "Non-trainable params: 0\n",
            "_________________________________________________________________\n",
            "Model: \"model_GRU\"\n",
            "_________________________________________________________________\n",
            "Layer (type)                 Output Shape              Param #   \n",
            "=================================================================\n",
            "gru_3 (GRU)                  (None, 100)               30900     \n",
            "_________________________________________________________________\n",
            "dense_12 (Dense)             (None, 1)                 101       \n",
            "=================================================================\n",
            "Total params: 31,001\n",
            "Trainable params: 31,001\n",
            "Non-trainable params: 0\n",
            "_________________________________________________________________\n"
          ],
          "name": "stdout"
        }
      ]
    },
    {
      "cell_type": "code",
      "metadata": {
        "id": "yCNiMiryZRVF",
        "colab_type": "code",
        "outputId": "4701c69a-2671-43cb-9f4d-fae1e2201be4",
        "colab": {
          "base_uri": "https://localhost:8080/",
          "height": 287
        }
      },
      "source": [
        "SVG(model_to_dot(models['Simple'], show_shapes=True, dpi=65).create(prog='dot', format='svg'))"
      ],
      "execution_count": 52,
      "outputs": [
        {
          "output_type": "execute_result",
          "data": {
            "text/plain": [
              "<IPython.core.display.SVG object>"
            ],
            "image/svg+xml": "<svg height=\"200pt\" viewBox=\"0.00 0.00 349.00 221.00\" width=\"315pt\" xmlns=\"http://www.w3.org/2000/svg\" xmlns:xlink=\"http://www.w3.org/1999/xlink\">\n<g class=\"graph\" id=\"graph0\" transform=\"scale(.9028 .9028) rotate(0) translate(4 217)\">\n<title>G</title>\n<polygon fill=\"#ffffff\" points=\"-4,4 -4,-217 345,-217 345,4 -4,4\" stroke=\"transparent\"/>\n<!-- 140347035252104 -->\n<g class=\"node\" id=\"node1\">\n<title>140347035252104</title>\n<polygon fill=\"none\" points=\"0,-166.5 0,-212.5 341,-212.5 341,-166.5 0,-166.5\" stroke=\"#000000\"/>\n<text fill=\"#000000\" font-family=\"Times,serif\" font-size=\"14.00\" text-anchor=\"middle\" x=\"102.5\" y=\"-185.8\">simple_rnn_4_input: InputLayer</text>\n<polyline fill=\"none\" points=\"205,-166.5 205,-212.5 \" stroke=\"#000000\"/>\n<text fill=\"#000000\" font-family=\"Times,serif\" font-size=\"14.00\" text-anchor=\"middle\" x=\"234\" y=\"-197.3\">input:</text>\n<polyline fill=\"none\" points=\"205,-189.5 263,-189.5 \" stroke=\"#000000\"/>\n<text fill=\"#000000\" font-family=\"Times,serif\" font-size=\"14.00\" text-anchor=\"middle\" x=\"234\" y=\"-174.3\">output:</text>\n<polyline fill=\"none\" points=\"263,-166.5 263,-212.5 \" stroke=\"#000000\"/>\n<text fill=\"#000000\" font-family=\"Times,serif\" font-size=\"14.00\" text-anchor=\"middle\" x=\"302\" y=\"-197.3\">[(?, 25, 1)]</text>\n<polyline fill=\"none\" points=\"263,-189.5 341,-189.5 \" stroke=\"#000000\"/>\n<text fill=\"#000000\" font-family=\"Times,serif\" font-size=\"14.00\" text-anchor=\"middle\" x=\"302\" y=\"-174.3\">[(?, 25, 1)]</text>\n</g>\n<!-- 140347608340856 -->\n<g class=\"node\" id=\"node2\">\n<title>140347608340856</title>\n<polygon fill=\"none\" points=\"19.5,-83.5 19.5,-129.5 321.5,-129.5 321.5,-83.5 19.5,-83.5\" stroke=\"#000000\"/>\n<text fill=\"#000000\" font-family=\"Times,serif\" font-size=\"14.00\" text-anchor=\"middle\" x=\"107\" y=\"-102.8\">simple_rnn_4: SimpleRNN</text>\n<polyline fill=\"none\" points=\"194.5,-83.5 194.5,-129.5 \" stroke=\"#000000\"/>\n<text fill=\"#000000\" font-family=\"Times,serif\" font-size=\"14.00\" text-anchor=\"middle\" x=\"223.5\" y=\"-114.3\">input:</text>\n<polyline fill=\"none\" points=\"194.5,-106.5 252.5,-106.5 \" stroke=\"#000000\"/>\n<text fill=\"#000000\" font-family=\"Times,serif\" font-size=\"14.00\" text-anchor=\"middle\" x=\"223.5\" y=\"-91.3\">output:</text>\n<polyline fill=\"none\" points=\"252.5,-83.5 252.5,-129.5 \" stroke=\"#000000\"/>\n<text fill=\"#000000\" font-family=\"Times,serif\" font-size=\"14.00\" text-anchor=\"middle\" x=\"287\" y=\"-114.3\">(?, 25, 1)</text>\n<polyline fill=\"none\" points=\"252.5,-106.5 321.5,-106.5 \" stroke=\"#000000\"/>\n<text fill=\"#000000\" font-family=\"Times,serif\" font-size=\"14.00\" text-anchor=\"middle\" x=\"287\" y=\"-91.3\">(?, 100)</text>\n</g>\n<!-- 140347035252104&#45;&gt;140347608340856 -->\n<g class=\"edge\" id=\"edge1\">\n<title>140347035252104-&gt;140347608340856</title>\n<path d=\"M170.5,-166.3799C170.5,-158.1745 170.5,-148.7679 170.5,-139.8786\" fill=\"none\" stroke=\"#000000\"/>\n<polygon fill=\"#000000\" points=\"174.0001,-139.784 170.5,-129.784 167.0001,-139.784 174.0001,-139.784\" stroke=\"#000000\"/>\n</g>\n<!-- 140347608340520 -->\n<g class=\"node\" id=\"node3\">\n<title>140347608340520</title>\n<polygon fill=\"none\" points=\"53.5,-.5 53.5,-46.5 287.5,-46.5 287.5,-.5 53.5,-.5\" stroke=\"#000000\"/>\n<text fill=\"#000000\" font-family=\"Times,serif\" font-size=\"14.00\" text-anchor=\"middle\" x=\"110.5\" y=\"-19.8\">dense_10: Dense</text>\n<polyline fill=\"none\" points=\"167.5,-.5 167.5,-46.5 \" stroke=\"#000000\"/>\n<text fill=\"#000000\" font-family=\"Times,serif\" font-size=\"14.00\" text-anchor=\"middle\" x=\"196.5\" y=\"-31.3\">input:</text>\n<polyline fill=\"none\" points=\"167.5,-23.5 225.5,-23.5 \" stroke=\"#000000\"/>\n<text fill=\"#000000\" font-family=\"Times,serif\" font-size=\"14.00\" text-anchor=\"middle\" x=\"196.5\" y=\"-8.3\">output:</text>\n<polyline fill=\"none\" points=\"225.5,-.5 225.5,-46.5 \" stroke=\"#000000\"/>\n<text fill=\"#000000\" font-family=\"Times,serif\" font-size=\"14.00\" text-anchor=\"middle\" x=\"256.5\" y=\"-31.3\">(?, 100)</text>\n<polyline fill=\"none\" points=\"225.5,-23.5 287.5,-23.5 \" stroke=\"#000000\"/>\n<text fill=\"#000000\" font-family=\"Times,serif\" font-size=\"14.00\" text-anchor=\"middle\" x=\"256.5\" y=\"-8.3\">(?, 1)</text>\n</g>\n<!-- 140347608340856&#45;&gt;140347608340520 -->\n<g class=\"edge\" id=\"edge2\">\n<title>140347608340856-&gt;140347608340520</title>\n<path d=\"M170.5,-83.3799C170.5,-75.1745 170.5,-65.7679 170.5,-56.8786\" fill=\"none\" stroke=\"#000000\"/>\n<polygon fill=\"#000000\" points=\"174.0001,-56.784 170.5,-46.784 167.0001,-56.784 174.0001,-56.784\" stroke=\"#000000\"/>\n</g>\n</g>\n</svg>"
          },
          "metadata": {
            "tags": []
          },
          "execution_count": 52
        }
      ]
    },
    {
      "cell_type": "code",
      "metadata": {
        "id": "rHmCPSKrhNhb",
        "colab_type": "code",
        "colab": {}
      },
      "source": [
        "!mkdir log"
      ],
      "execution_count": 0,
      "outputs": []
    },
    {
      "cell_type": "code",
      "metadata": {
        "id": "Y67ATRdYLME9",
        "colab_type": "code",
        "colab": {}
      },
      "source": [
        "callbacks = [#EarlyStopping(monitor='val_loss', patience=30, restore_best_weights=True), #stop training if there is no improvement\n",
        "                   ModelCheckpoint('./log/model_{epoch:03d}_{val_loss:.4f}.h5', save_best_only=True) #save models\n",
        "                   ]"
      ],
      "execution_count": 0,
      "outputs": []
    },
    {
      "cell_type": "code",
      "metadata": {
        "id": "uOUjfKTHNyhh",
        "colab_type": "code",
        "outputId": "07e5e122-6a22-47c0-dde4-69eb89dc9921",
        "colab": {
          "base_uri": "https://localhost:8080/",
          "height": 1000
        }
      },
      "source": [
        "histories = dict()\n",
        "for key in models:\n",
        "  histories[key] = models[key].fit(X_train, y_train, epochs=100, batch_size=256, validation_data=(X_test, y_test), callbacks=callbacks)"
      ],
      "execution_count": 67,
      "outputs": [
        {
          "output_type": "stream",
          "text": [
            "Epoch 1/100\n",
            "1/1 [==============================] - 0s 174ms/step - loss: 0.0779 - val_loss: 0.0326\n",
            "Epoch 2/100\n",
            "1/1 [==============================] - 0s 36ms/step - loss: 0.0325 - val_loss: 0.0387\n",
            "Epoch 3/100\n",
            "1/1 [==============================] - 0s 36ms/step - loss: 0.0386 - val_loss: 0.0444\n",
            "Epoch 4/100\n",
            "1/1 [==============================] - 0s 37ms/step - loss: 0.0444 - val_loss: 0.0364\n",
            "Epoch 5/100\n",
            "1/1 [==============================] - 0s 35ms/step - loss: 0.0362 - val_loss: 0.0192\n",
            "Epoch 6/100\n",
            "1/1 [==============================] - 0s 37ms/step - loss: 0.0192 - val_loss: 0.0090\n",
            "Epoch 7/100\n",
            "1/1 [==============================] - 0s 36ms/step - loss: 0.0089 - val_loss: 0.0051\n",
            "Epoch 8/100\n",
            "1/1 [==============================] - 0s 41ms/step - loss: 0.0050 - val_loss: 0.0038\n",
            "Epoch 9/100\n",
            "1/1 [==============================] - 0s 36ms/step - loss: 0.0037 - val_loss: 0.0033\n",
            "Epoch 10/100\n",
            "1/1 [==============================] - 0s 36ms/step - loss: 0.0033 - val_loss: 0.0031\n",
            "Epoch 11/100\n",
            "1/1 [==============================] - 0s 42ms/step - loss: 0.0031 - val_loss: 0.0030\n",
            "Epoch 12/100\n",
            "1/1 [==============================] - 0s 44ms/step - loss: 0.0030 - val_loss: 0.0029\n",
            "Epoch 13/100\n",
            "1/1 [==============================] - 0s 37ms/step - loss: 0.0029 - val_loss: 0.0029\n",
            "Epoch 14/100\n",
            "1/1 [==============================] - 0s 38ms/step - loss: 0.0028 - val_loss: 0.0028\n",
            "Epoch 15/100\n",
            "1/1 [==============================] - 0s 38ms/step - loss: 0.0028 - val_loss: 0.0027\n",
            "Epoch 16/100\n",
            "1/1 [==============================] - 0s 36ms/step - loss: 0.0027 - val_loss: 0.0027\n",
            "Epoch 17/100\n",
            "1/1 [==============================] - 0s 37ms/step - loss: 0.0026 - val_loss: 0.0026\n",
            "Epoch 18/100\n",
            "1/1 [==============================] - 0s 46ms/step - loss: 0.0026 - val_loss: 0.0025\n",
            "Epoch 19/100\n",
            "1/1 [==============================] - 0s 37ms/step - loss: 0.0025 - val_loss: 0.0025\n",
            "Epoch 20/100\n",
            "1/1 [==============================] - 0s 38ms/step - loss: 0.0024 - val_loss: 0.0024\n",
            "Epoch 21/100\n",
            "1/1 [==============================] - 0s 38ms/step - loss: 0.0024 - val_loss: 0.0024\n",
            "Epoch 22/100\n",
            "1/1 [==============================] - 0s 39ms/step - loss: 0.0023 - val_loss: 0.0023\n",
            "Epoch 23/100\n",
            "1/1 [==============================] - 0s 41ms/step - loss: 0.0023 - val_loss: 0.0022\n",
            "Epoch 24/100\n",
            "1/1 [==============================] - 0s 38ms/step - loss: 0.0022 - val_loss: 0.0022\n",
            "Epoch 25/100\n",
            "1/1 [==============================] - 0s 39ms/step - loss: 0.0022 - val_loss: 0.0021\n",
            "Epoch 26/100\n",
            "1/1 [==============================] - 0s 48ms/step - loss: 0.0021 - val_loss: 0.0021\n",
            "Epoch 27/100\n",
            "1/1 [==============================] - 0s 45ms/step - loss: 0.0021 - val_loss: 0.0021\n",
            "Epoch 28/100\n",
            "1/1 [==============================] - 0s 36ms/step - loss: 0.0020 - val_loss: 0.0020\n",
            "Epoch 29/100\n",
            "1/1 [==============================] - 0s 39ms/step - loss: 0.0020 - val_loss: 0.0020\n",
            "Epoch 30/100\n",
            "1/1 [==============================] - 0s 37ms/step - loss: 0.0019 - val_loss: 0.0019\n",
            "Epoch 31/100\n",
            "1/1 [==============================] - 0s 38ms/step - loss: 0.0019 - val_loss: 0.0019\n",
            "Epoch 32/100\n",
            "1/1 [==============================] - 0s 39ms/step - loss: 0.0019 - val_loss: 0.0018\n",
            "Epoch 33/100\n",
            "1/1 [==============================] - 0s 37ms/step - loss: 0.0018 - val_loss: 0.0018\n",
            "Epoch 34/100\n",
            "1/1 [==============================] - 0s 37ms/step - loss: 0.0018 - val_loss: 0.0018\n",
            "Epoch 35/100\n",
            "1/1 [==============================] - 0s 39ms/step - loss: 0.0017 - val_loss: 0.0017\n",
            "Epoch 36/100\n",
            "1/1 [==============================] - 0s 37ms/step - loss: 0.0017 - val_loss: 0.0017\n",
            "Epoch 37/100\n",
            "1/1 [==============================] - 0s 47ms/step - loss: 0.0017 - val_loss: 0.0017\n",
            "Epoch 38/100\n",
            "1/1 [==============================] - 0s 39ms/step - loss: 0.0016 - val_loss: 0.0016\n",
            "Epoch 39/100\n",
            "1/1 [==============================] - 0s 44ms/step - loss: 0.0016 - val_loss: 0.0016\n",
            "Epoch 40/100\n",
            "1/1 [==============================] - 0s 44ms/step - loss: 0.0016 - val_loss: 0.0016\n",
            "Epoch 41/100\n",
            "1/1 [==============================] - 0s 43ms/step - loss: 0.0015 - val_loss: 0.0015\n",
            "Epoch 42/100\n",
            "1/1 [==============================] - 0s 40ms/step - loss: 0.0015 - val_loss: 0.0015\n",
            "Epoch 43/100\n",
            "1/1 [==============================] - 0s 40ms/step - loss: 0.0015 - val_loss: 0.0015\n",
            "Epoch 44/100\n",
            "1/1 [==============================] - 0s 41ms/step - loss: 0.0014 - val_loss: 0.0014\n",
            "Epoch 45/100\n",
            "1/1 [==============================] - 0s 37ms/step - loss: 0.0014 - val_loss: 0.0014\n",
            "Epoch 46/100\n",
            "1/1 [==============================] - 0s 40ms/step - loss: 0.0014 - val_loss: 0.0014\n",
            "Epoch 47/100\n",
            "1/1 [==============================] - 0s 48ms/step - loss: 0.0014 - val_loss: 0.0013\n",
            "Epoch 48/100\n",
            "1/1 [==============================] - 0s 38ms/step - loss: 0.0013 - val_loss: 0.0013\n",
            "Epoch 49/100\n",
            "1/1 [==============================] - 0s 41ms/step - loss: 0.0013 - val_loss: 0.0013\n",
            "Epoch 50/100\n",
            "1/1 [==============================] - 0s 37ms/step - loss: 0.0013 - val_loss: 0.0013\n",
            "Epoch 51/100\n",
            "1/1 [==============================] - 0s 39ms/step - loss: 0.0013 - val_loss: 0.0012\n",
            "Epoch 52/100\n",
            "1/1 [==============================] - 0s 40ms/step - loss: 0.0012 - val_loss: 0.0012\n",
            "Epoch 53/100\n",
            "1/1 [==============================] - 0s 47ms/step - loss: 0.0012 - val_loss: 0.0012\n",
            "Epoch 54/100\n",
            "1/1 [==============================] - 0s 40ms/step - loss: 0.0012 - val_loss: 0.0012\n",
            "Epoch 55/100\n",
            "1/1 [==============================] - 0s 42ms/step - loss: 0.0012 - val_loss: 0.0011\n",
            "Epoch 56/100\n",
            "1/1 [==============================] - 0s 48ms/step - loss: 0.0011 - val_loss: 0.0011\n",
            "Epoch 57/100\n",
            "1/1 [==============================] - 0s 43ms/step - loss: 0.0011 - val_loss: 0.0011\n",
            "Epoch 58/100\n",
            "1/1 [==============================] - 0s 40ms/step - loss: 0.0011 - val_loss: 0.0011\n",
            "Epoch 59/100\n",
            "1/1 [==============================] - 0s 43ms/step - loss: 0.0011 - val_loss: 0.0011\n",
            "Epoch 60/100\n",
            "1/1 [==============================] - 0s 38ms/step - loss: 0.0011 - val_loss: 0.0010\n",
            "Epoch 61/100\n",
            "1/1 [==============================] - 0s 38ms/step - loss: 0.0010 - val_loss: 0.0010\n",
            "Epoch 62/100\n",
            "1/1 [==============================] - 0s 37ms/step - loss: 0.0010 - val_loss: 0.0010\n",
            "Epoch 63/100\n",
            "1/1 [==============================] - 0s 39ms/step - loss: 9.9970e-04 - val_loss: 9.8735e-04\n",
            "Epoch 64/100\n",
            "1/1 [==============================] - 0s 39ms/step - loss: 9.8133e-04 - val_loss: 9.6918e-04\n",
            "Epoch 65/100\n",
            "1/1 [==============================] - 0s 41ms/step - loss: 9.6338e-04 - val_loss: 9.5142e-04\n",
            "Epoch 66/100\n",
            "1/1 [==============================] - 0s 60ms/step - loss: 9.4585e-04 - val_loss: 9.3406e-04\n",
            "Epoch 67/100\n",
            "1/1 [==============================] - 0s 40ms/step - loss: 9.2870e-04 - val_loss: 9.1708e-04\n",
            "Epoch 68/100\n",
            "1/1 [==============================] - 0s 43ms/step - loss: 9.1194e-04 - val_loss: 9.0049e-04\n",
            "Epoch 69/100\n",
            "1/1 [==============================] - 0s 40ms/step - loss: 8.9556e-04 - val_loss: 8.8427e-04\n",
            "Epoch 70/100\n",
            "1/1 [==============================] - 0s 47ms/step - loss: 8.7954e-04 - val_loss: 8.6840e-04\n",
            "Epoch 71/100\n",
            "1/1 [==============================] - 0s 58ms/step - loss: 8.6388e-04 - val_loss: 8.5288e-04\n",
            "Epoch 72/100\n",
            "1/1 [==============================] - 0s 37ms/step - loss: 8.4856e-04 - val_loss: 8.3771e-04\n",
            "Epoch 73/100\n",
            "1/1 [==============================] - 0s 38ms/step - loss: 8.3359e-04 - val_loss: 8.2286e-04\n",
            "Epoch 74/100\n",
            "1/1 [==============================] - 0s 38ms/step - loss: 8.1893e-04 - val_loss: 8.0834e-04\n",
            "Epoch 75/100\n",
            "1/1 [==============================] - 0s 46ms/step - loss: 8.0460e-04 - val_loss: 7.9413e-04\n",
            "Epoch 76/100\n",
            "1/1 [==============================] - 0s 50ms/step - loss: 7.9058e-04 - val_loss: 7.8023e-04\n",
            "Epoch 77/100\n",
            "1/1 [==============================] - 0s 48ms/step - loss: 7.7687e-04 - val_loss: 7.6663e-04\n",
            "Epoch 78/100\n",
            "1/1 [==============================] - 0s 55ms/step - loss: 7.6345e-04 - val_loss: 7.5331e-04\n",
            "Epoch 79/100\n",
            "1/1 [==============================] - 0s 55ms/step - loss: 7.5031e-04 - val_loss: 7.4029e-04\n",
            "Epoch 80/100\n",
            "1/1 [==============================] - 0s 50ms/step - loss: 7.3746e-04 - val_loss: 7.2754e-04\n",
            "Epoch 81/100\n",
            "1/1 [==============================] - 0s 55ms/step - loss: 7.2489e-04 - val_loss: 7.1506e-04\n",
            "Epoch 82/100\n",
            "1/1 [==============================] - 0s 54ms/step - loss: 7.1258e-04 - val_loss: 7.0284e-04\n",
            "Epoch 83/100\n",
            "1/1 [==============================] - 0s 53ms/step - loss: 7.0053e-04 - val_loss: 6.9088e-04\n",
            "Epoch 84/100\n",
            "1/1 [==============================] - 0s 52ms/step - loss: 6.8873e-04 - val_loss: 6.7917e-04\n",
            "Epoch 85/100\n",
            "1/1 [==============================] - 0s 53ms/step - loss: 6.7719e-04 - val_loss: 6.6770e-04\n",
            "Epoch 86/100\n",
            "1/1 [==============================] - 0s 49ms/step - loss: 6.6588e-04 - val_loss: 6.5647e-04\n",
            "Epoch 87/100\n",
            "1/1 [==============================] - 0s 48ms/step - loss: 6.5481e-04 - val_loss: 6.4548e-04\n",
            "Epoch 88/100\n",
            "1/1 [==============================] - 0s 48ms/step - loss: 6.4398e-04 - val_loss: 6.3471e-04\n",
            "Epoch 89/100\n",
            "1/1 [==============================] - 0s 47ms/step - loss: 6.3336e-04 - val_loss: 6.2417e-04\n",
            "Epoch 90/100\n",
            "1/1 [==============================] - 0s 51ms/step - loss: 6.2297e-04 - val_loss: 6.1384e-04\n",
            "Epoch 91/100\n",
            "1/1 [==============================] - 0s 55ms/step - loss: 6.1279e-04 - val_loss: 6.0372e-04\n",
            "Epoch 92/100\n",
            "1/1 [==============================] - 0s 47ms/step - loss: 6.0282e-04 - val_loss: 5.9381e-04\n",
            "Epoch 93/100\n",
            "1/1 [==============================] - 0s 53ms/step - loss: 5.9306e-04 - val_loss: 5.8410e-04\n",
            "Epoch 94/100\n",
            "1/1 [==============================] - 0s 55ms/step - loss: 5.8349e-04 - val_loss: 5.7459e-04\n",
            "Epoch 95/100\n",
            "1/1 [==============================] - 0s 46ms/step - loss: 5.7412e-04 - val_loss: 5.6527e-04\n",
            "Epoch 96/100\n",
            "1/1 [==============================] - 0s 48ms/step - loss: 5.6495e-04 - val_loss: 5.5614e-04\n",
            "Epoch 97/100\n",
            "1/1 [==============================] - 0s 49ms/step - loss: 5.5595e-04 - val_loss: 5.4719e-04\n",
            "Epoch 98/100\n",
            "1/1 [==============================] - 0s 47ms/step - loss: 5.4714e-04 - val_loss: 5.3843e-04\n",
            "Epoch 99/100\n",
            "1/1 [==============================] - 0s 48ms/step - loss: 5.3851e-04 - val_loss: 5.2984e-04\n",
            "Epoch 100/100\n",
            "1/1 [==============================] - 0s 49ms/step - loss: 5.3005e-04 - val_loss: 5.2142e-04\n",
            "Epoch 1/100\n",
            "1/1 [==============================] - 0s 417ms/step - loss: 0.4721 - val_loss: 0.4434\n",
            "Epoch 2/100\n",
            "1/1 [==============================] - 0s 37ms/step - loss: 0.4426 - val_loss: 0.4161\n",
            "Epoch 3/100\n",
            "1/1 [==============================] - 0s 37ms/step - loss: 0.4153 - val_loss: 0.3908\n",
            "Epoch 4/100\n",
            "1/1 [==============================] - 0s 36ms/step - loss: 0.3901 - val_loss: 0.3673\n",
            "Epoch 5/100\n",
            "1/1 [==============================] - 0s 36ms/step - loss: 0.3666 - val_loss: 0.3455\n",
            "Epoch 6/100\n",
            "1/1 [==============================] - 0s 40ms/step - loss: 0.3448 - val_loss: 0.3251\n",
            "Epoch 7/100\n",
            "1/1 [==============================] - 0s 49ms/step - loss: 0.3245 - val_loss: 0.3062\n",
            "Epoch 8/100\n",
            "1/1 [==============================] - 0s 38ms/step - loss: 0.3055 - val_loss: 0.2885\n",
            "Epoch 9/100\n",
            "1/1 [==============================] - 0s 36ms/step - loss: 0.2878 - val_loss: 0.2719\n",
            "Epoch 10/100\n",
            "1/1 [==============================] - 0s 48ms/step - loss: 0.2713 - val_loss: 0.2565\n",
            "Epoch 11/100\n",
            "1/1 [==============================] - 0s 38ms/step - loss: 0.2559 - val_loss: 0.2420\n",
            "Epoch 12/100\n",
            "1/1 [==============================] - 0s 38ms/step - loss: 0.2414 - val_loss: 0.2285\n",
            "Epoch 13/100\n",
            "1/1 [==============================] - 0s 37ms/step - loss: 0.2280 - val_loss: 0.2159\n",
            "Epoch 14/100\n",
            "1/1 [==============================] - 0s 37ms/step - loss: 0.2154 - val_loss: 0.2041\n",
            "Epoch 15/100\n",
            "1/1 [==============================] - 0s 38ms/step - loss: 0.2036 - val_loss: 0.1931\n",
            "Epoch 16/100\n",
            "1/1 [==============================] - 0s 35ms/step - loss: 0.1926 - val_loss: 0.1828\n",
            "Epoch 17/100\n",
            "1/1 [==============================] - 0s 41ms/step - loss: 0.1823 - val_loss: 0.1732\n",
            "Epoch 18/100\n",
            "1/1 [==============================] - 0s 37ms/step - loss: 0.1728 - val_loss: 0.1643\n",
            "Epoch 19/100\n",
            "1/1 [==============================] - 0s 38ms/step - loss: 0.1638 - val_loss: 0.1560\n",
            "Epoch 20/100\n",
            "1/1 [==============================] - 0s 36ms/step - loss: 0.1555 - val_loss: 0.1482\n",
            "Epoch 21/100\n",
            "1/1 [==============================] - 0s 35ms/step - loss: 0.1478 - val_loss: 0.1410\n",
            "Epoch 22/100\n",
            "1/1 [==============================] - 0s 36ms/step - loss: 0.1405 - val_loss: 0.1343\n",
            "Epoch 23/100\n",
            "1/1 [==============================] - 0s 36ms/step - loss: 0.1338 - val_loss: 0.1280\n",
            "Epoch 24/100\n",
            "1/1 [==============================] - 0s 35ms/step - loss: 0.1276 - val_loss: 0.1222\n",
            "Epoch 25/100\n",
            "1/1 [==============================] - 0s 36ms/step - loss: 0.1218 - val_loss: 0.1169\n",
            "Epoch 26/100\n",
            "1/1 [==============================] - 0s 41ms/step - loss: 0.1165 - val_loss: 0.1119\n",
            "Epoch 27/100\n",
            "1/1 [==============================] - 0s 449ms/step - loss: 0.1115 - val_loss: 0.1073\n",
            "Epoch 28/100\n",
            "1/1 [==============================] - 0s 42ms/step - loss: 0.1069 - val_loss: 0.1030\n",
            "Epoch 29/100\n",
            "1/1 [==============================] - 0s 42ms/step - loss: 0.1026 - val_loss: 0.0991\n",
            "Epoch 30/100\n",
            "1/1 [==============================] - 0s 36ms/step - loss: 0.0987 - val_loss: 0.0954\n",
            "Epoch 31/100\n",
            "1/1 [==============================] - 0s 37ms/step - loss: 0.0951 - val_loss: 0.0921\n",
            "Epoch 32/100\n",
            "1/1 [==============================] - 0s 38ms/step - loss: 0.0917 - val_loss: 0.0890\n",
            "Epoch 33/100\n",
            "1/1 [==============================] - 0s 37ms/step - loss: 0.0886 - val_loss: 0.0861\n",
            "Epoch 34/100\n",
            "1/1 [==============================] - 0s 36ms/step - loss: 0.0858 - val_loss: 0.0834\n",
            "Epoch 35/100\n",
            "1/1 [==============================] - 0s 38ms/step - loss: 0.0831 - val_loss: 0.0810\n",
            "Epoch 36/100\n",
            "1/1 [==============================] - 0s 47ms/step - loss: 0.0807 - val_loss: 0.0788\n",
            "Epoch 37/100\n",
            "1/1 [==============================] - 0s 38ms/step - loss: 0.0784 - val_loss: 0.0767\n",
            "Epoch 38/100\n",
            "1/1 [==============================] - 0s 40ms/step - loss: 0.0764 - val_loss: 0.0748\n",
            "Epoch 39/100\n",
            "1/1 [==============================] - 0s 40ms/step - loss: 0.0745 - val_loss: 0.0730\n",
            "Epoch 40/100\n",
            "1/1 [==============================] - 0s 42ms/step - loss: 0.0727 - val_loss: 0.0714\n",
            "Epoch 41/100\n",
            "1/1 [==============================] - 0s 39ms/step - loss: 0.0711 - val_loss: 0.0699\n",
            "Epoch 42/100\n",
            "1/1 [==============================] - 0s 39ms/step - loss: 0.0696 - val_loss: 0.0685\n",
            "Epoch 43/100\n",
            "1/1 [==============================] - 0s 48ms/step - loss: 0.0682 - val_loss: 0.0672\n",
            "Epoch 44/100\n",
            "1/1 [==============================] - 0s 41ms/step - loss: 0.0669 - val_loss: 0.0660\n",
            "Epoch 45/100\n",
            "1/1 [==============================] - 0s 41ms/step - loss: 0.0657 - val_loss: 0.0649\n",
            "Epoch 46/100\n",
            "1/1 [==============================] - 0s 49ms/step - loss: 0.0647 - val_loss: 0.0639\n",
            "Epoch 47/100\n",
            "1/1 [==============================] - 0s 40ms/step - loss: 0.0636 - val_loss: 0.0630\n",
            "Epoch 48/100\n",
            "1/1 [==============================] - 0s 39ms/step - loss: 0.0627 - val_loss: 0.0621\n",
            "Epoch 49/100\n",
            "1/1 [==============================] - 0s 39ms/step - loss: 0.0618 - val_loss: 0.0613\n",
            "Epoch 50/100\n",
            "1/1 [==============================] - 0s 42ms/step - loss: 0.0610 - val_loss: 0.0605\n",
            "Epoch 51/100\n",
            "1/1 [==============================] - 0s 42ms/step - loss: 0.0603 - val_loss: 0.0598\n",
            "Epoch 52/100\n",
            "1/1 [==============================] - 0s 39ms/step - loss: 0.0595 - val_loss: 0.0591\n",
            "Epoch 53/100\n",
            "1/1 [==============================] - 0s 39ms/step - loss: 0.0589 - val_loss: 0.0585\n",
            "Epoch 54/100\n",
            "1/1 [==============================] - 0s 42ms/step - loss: 0.0583 - val_loss: 0.0579\n",
            "Epoch 55/100\n",
            "1/1 [==============================] - 0s 48ms/step - loss: 0.0577 - val_loss: 0.0574\n",
            "Epoch 56/100\n",
            "1/1 [==============================] - 0s 40ms/step - loss: 0.0571 - val_loss: 0.0568\n",
            "Epoch 57/100\n",
            "1/1 [==============================] - 0s 37ms/step - loss: 0.0566 - val_loss: 0.0564\n",
            "Epoch 58/100\n",
            "1/1 [==============================] - 0s 39ms/step - loss: 0.0561 - val_loss: 0.0559\n",
            "Epoch 59/100\n",
            "1/1 [==============================] - 0s 39ms/step - loss: 0.0556 - val_loss: 0.0554\n",
            "Epoch 60/100\n",
            "1/1 [==============================] - 0s 42ms/step - loss: 0.0552 - val_loss: 0.0550\n",
            "Epoch 61/100\n",
            "1/1 [==============================] - 0s 36ms/step - loss: 0.0548 - val_loss: 0.0546\n",
            "Epoch 62/100\n",
            "1/1 [==============================] - 0s 37ms/step - loss: 0.0544 - val_loss: 0.0542\n",
            "Epoch 63/100\n",
            "1/1 [==============================] - 0s 45ms/step - loss: 0.0540 - val_loss: 0.0539\n",
            "Epoch 64/100\n",
            "1/1 [==============================] - 0s 38ms/step - loss: 0.0536 - val_loss: 0.0535\n",
            "Epoch 65/100\n",
            "1/1 [==============================] - 0s 45ms/step - loss: 0.0533 - val_loss: 0.0532\n",
            "Epoch 66/100\n",
            "1/1 [==============================] - 0s 36ms/step - loss: 0.0529 - val_loss: 0.0528\n",
            "Epoch 67/100\n",
            "1/1 [==============================] - 0s 37ms/step - loss: 0.0526 - val_loss: 0.0525\n",
            "Epoch 68/100\n",
            "1/1 [==============================] - 0s 38ms/step - loss: 0.0523 - val_loss: 0.0522\n",
            "Epoch 69/100\n",
            "1/1 [==============================] - 0s 36ms/step - loss: 0.0520 - val_loss: 0.0519\n",
            "Epoch 70/100\n",
            "1/1 [==============================] - 0s 40ms/step - loss: 0.0517 - val_loss: 0.0516\n",
            "Epoch 71/100\n",
            "1/1 [==============================] - 0s 38ms/step - loss: 0.0514 - val_loss: 0.0513\n",
            "Epoch 72/100\n",
            "1/1 [==============================] - 0s 39ms/step - loss: 0.0511 - val_loss: 0.0511\n",
            "Epoch 73/100\n",
            "1/1 [==============================] - 0s 38ms/step - loss: 0.0508 - val_loss: 0.0508\n",
            "Epoch 74/100\n",
            "1/1 [==============================] - 0s 46ms/step - loss: 0.0506 - val_loss: 0.0505\n",
            "Epoch 75/100\n",
            "1/1 [==============================] - 0s 36ms/step - loss: 0.0503 - val_loss: 0.0503\n",
            "Epoch 76/100\n",
            "1/1 [==============================] - 0s 39ms/step - loss: 0.0501 - val_loss: 0.0500\n",
            "Epoch 77/100\n",
            "1/1 [==============================] - 0s 40ms/step - loss: 0.0498 - val_loss: 0.0498\n",
            "Epoch 78/100\n",
            "1/1 [==============================] - 0s 40ms/step - loss: 0.0496 - val_loss: 0.0495\n",
            "Epoch 79/100\n",
            "1/1 [==============================] - 0s 39ms/step - loss: 0.0493 - val_loss: 0.0493\n",
            "Epoch 80/100\n",
            "1/1 [==============================] - 0s 55ms/step - loss: 0.0491 - val_loss: 0.0491\n",
            "Epoch 81/100\n",
            "1/1 [==============================] - 0s 49ms/step - loss: 0.0489 - val_loss: 0.0488\n",
            "Epoch 82/100\n",
            "1/1 [==============================] - 0s 42ms/step - loss: 0.0486 - val_loss: 0.0486\n",
            "Epoch 83/100\n",
            "1/1 [==============================] - 0s 50ms/step - loss: 0.0484 - val_loss: 0.0484\n",
            "Epoch 84/100\n",
            "1/1 [==============================] - 0s 47ms/step - loss: 0.0482 - val_loss: 0.0482\n",
            "Epoch 85/100\n",
            "1/1 [==============================] - 0s 39ms/step - loss: 0.0480 - val_loss: 0.0479\n",
            "Epoch 86/100\n",
            "1/1 [==============================] - 0s 41ms/step - loss: 0.0477 - val_loss: 0.0477\n",
            "Epoch 87/100\n",
            "1/1 [==============================] - 0s 37ms/step - loss: 0.0475 - val_loss: 0.0475\n",
            "Epoch 88/100\n",
            "1/1 [==============================] - 0s 37ms/step - loss: 0.0473 - val_loss: 0.0473\n",
            "Epoch 89/100\n",
            "1/1 [==============================] - 0s 39ms/step - loss: 0.0471 - val_loss: 0.0471\n",
            "Epoch 90/100\n",
            "1/1 [==============================] - 0s 36ms/step - loss: 0.0469 - val_loss: 0.0469\n",
            "Epoch 91/100\n",
            "1/1 [==============================] - 0s 38ms/step - loss: 0.0467 - val_loss: 0.0467\n",
            "Epoch 92/100\n",
            "1/1 [==============================] - 0s 40ms/step - loss: 0.0465 - val_loss: 0.0465\n",
            "Epoch 93/100\n",
            "1/1 [==============================] - 0s 40ms/step - loss: 0.0463 - val_loss: 0.0463\n",
            "Epoch 94/100\n",
            "1/1 [==============================] - 0s 46ms/step - loss: 0.0461 - val_loss: 0.0461\n",
            "Epoch 95/100\n",
            "1/1 [==============================] - 0s 38ms/step - loss: 0.0459 - val_loss: 0.0459\n",
            "Epoch 96/100\n",
            "1/1 [==============================] - 0s 38ms/step - loss: 0.0457 - val_loss: 0.0457\n",
            "Epoch 97/100\n",
            "1/1 [==============================] - 0s 41ms/step - loss: 0.0455 - val_loss: 0.0455\n",
            "Epoch 98/100\n",
            "1/1 [==============================] - 0s 34ms/step - loss: 0.0453 - val_loss: 0.0453\n",
            "Epoch 99/100\n",
            "1/1 [==============================] - 0s 41ms/step - loss: 0.0452 - val_loss: 0.0452\n",
            "Epoch 100/100\n",
            "1/1 [==============================] - 0s 38ms/step - loss: 0.0450 - val_loss: 0.0450\n",
            "Epoch 1/100\n",
            "1/1 [==============================] - 0s 361ms/step - loss: 0.4371 - val_loss: 0.4102\n",
            "Epoch 2/100\n",
            "1/1 [==============================] - 0s 40ms/step - loss: 0.4094 - val_loss: 0.3844\n",
            "Epoch 3/100\n",
            "1/1 [==============================] - 0s 38ms/step - loss: 0.3837 - val_loss: 0.3604\n",
            "Epoch 4/100\n",
            "1/1 [==============================] - 0s 36ms/step - loss: 0.3597 - val_loss: 0.3381\n",
            "Epoch 5/100\n",
            "1/1 [==============================] - 0s 38ms/step - loss: 0.3374 - val_loss: 0.3172\n",
            "Epoch 6/100\n",
            "1/1 [==============================] - 0s 46ms/step - loss: 0.3166 - val_loss: 0.2977\n",
            "Epoch 7/100\n",
            "1/1 [==============================] - 0s 41ms/step - loss: 0.2971 - val_loss: 0.2795\n",
            "Epoch 8/100\n",
            "1/1 [==============================] - 0s 39ms/step - loss: 0.2789 - val_loss: 0.2624\n",
            "Epoch 9/100\n",
            "1/1 [==============================] - 0s 36ms/step - loss: 0.2618 - val_loss: 0.2464\n",
            "Epoch 10/100\n",
            "1/1 [==============================] - 0s 39ms/step - loss: 0.2459 - val_loss: 0.2315\n",
            "Epoch 11/100\n",
            "1/1 [==============================] - 0s 38ms/step - loss: 0.2309 - val_loss: 0.2174\n",
            "Epoch 12/100\n",
            "1/1 [==============================] - 0s 43ms/step - loss: 0.2169 - val_loss: 0.2042\n",
            "Epoch 13/100\n",
            "1/1 [==============================] - 0s 44ms/step - loss: 0.2038 - val_loss: 0.1919\n",
            "Epoch 14/100\n",
            "1/1 [==============================] - 0s 37ms/step - loss: 0.1914 - val_loss: 0.1803\n",
            "Epoch 15/100\n",
            "1/1 [==============================] - 0s 37ms/step - loss: 0.1799 - val_loss: 0.1694\n",
            "Epoch 16/100\n",
            "1/1 [==============================] - 0s 44ms/step - loss: 0.1690 - val_loss: 0.1592\n",
            "Epoch 17/100\n",
            "1/1 [==============================] - 0s 45ms/step - loss: 0.1588 - val_loss: 0.1496\n",
            "Epoch 18/100\n",
            "1/1 [==============================] - 0s 37ms/step - loss: 0.1492 - val_loss: 0.1406\n",
            "Epoch 19/100\n",
            "1/1 [==============================] - 0s 38ms/step - loss: 0.1403 - val_loss: 0.1322\n",
            "Epoch 20/100\n",
            "1/1 [==============================] - 0s 36ms/step - loss: 0.1318 - val_loss: 0.1243\n",
            "Epoch 21/100\n",
            "1/1 [==============================] - 0s 39ms/step - loss: 0.1239 - val_loss: 0.1168\n",
            "Epoch 22/100\n",
            "1/1 [==============================] - 0s 43ms/step - loss: 0.1165 - val_loss: 0.1099\n",
            "Epoch 23/100\n",
            "1/1 [==============================] - 0s 39ms/step - loss: 0.1096 - val_loss: 0.1033\n",
            "Epoch 24/100\n",
            "1/1 [==============================] - 0s 38ms/step - loss: 0.1030 - val_loss: 0.0972\n",
            "Epoch 25/100\n",
            "1/1 [==============================] - 0s 37ms/step - loss: 0.0969 - val_loss: 0.0915\n",
            "Epoch 26/100\n",
            "1/1 [==============================] - 0s 52ms/step - loss: 0.0912 - val_loss: 0.0861\n",
            "Epoch 27/100\n",
            "1/1 [==============================] - 0s 37ms/step - loss: 0.0858 - val_loss: 0.0810\n",
            "Epoch 28/100\n",
            "1/1 [==============================] - 0s 37ms/step - loss: 0.0808 - val_loss: 0.0763\n",
            "Epoch 29/100\n",
            "1/1 [==============================] - 0s 38ms/step - loss: 0.0761 - val_loss: 0.0719\n",
            "Epoch 30/100\n",
            "1/1 [==============================] - 0s 36ms/step - loss: 0.0717 - val_loss: 0.0678\n",
            "Epoch 31/100\n",
            "1/1 [==============================] - 0s 43ms/step - loss: 0.0675 - val_loss: 0.0639\n",
            "Epoch 32/100\n",
            "1/1 [==============================] - 0s 37ms/step - loss: 0.0637 - val_loss: 0.0603\n",
            "Epoch 33/100\n",
            "1/1 [==============================] - 0s 39ms/step - loss: 0.0601 - val_loss: 0.0569\n",
            "Epoch 34/100\n",
            "1/1 [==============================] - 0s 37ms/step - loss: 0.0567 - val_loss: 0.0537\n",
            "Epoch 35/100\n",
            "1/1 [==============================] - 0s 38ms/step - loss: 0.0536 - val_loss: 0.0508\n",
            "Epoch 36/100\n",
            "1/1 [==============================] - 0s 45ms/step - loss: 0.0506 - val_loss: 0.0480\n",
            "Epoch 37/100\n",
            "1/1 [==============================] - 0s 36ms/step - loss: 0.0479 - val_loss: 0.0455\n",
            "Epoch 38/100\n",
            "1/1 [==============================] - 0s 37ms/step - loss: 0.0453 - val_loss: 0.0431\n",
            "Epoch 39/100\n",
            "1/1 [==============================] - 0s 43ms/step - loss: 0.0429 - val_loss: 0.0408\n",
            "Epoch 40/100\n",
            "1/1 [==============================] - 0s 36ms/step - loss: 0.0407 - val_loss: 0.0387\n",
            "Epoch 41/100\n",
            "1/1 [==============================] - 0s 37ms/step - loss: 0.0386 - val_loss: 0.0368\n",
            "Epoch 42/100\n",
            "1/1 [==============================] - 0s 44ms/step - loss: 0.0367 - val_loss: 0.0350\n",
            "Epoch 43/100\n",
            "1/1 [==============================] - 0s 35ms/step - loss: 0.0349 - val_loss: 0.0333\n",
            "Epoch 44/100\n",
            "1/1 [==============================] - 0s 40ms/step - loss: 0.0332 - val_loss: 0.0317\n",
            "Epoch 45/100\n",
            "1/1 [==============================] - 0s 45ms/step - loss: 0.0316 - val_loss: 0.0303\n",
            "Epoch 46/100\n",
            "1/1 [==============================] - 0s 35ms/step - loss: 0.0302 - val_loss: 0.0289\n",
            "Epoch 47/100\n",
            "1/1 [==============================] - 0s 50ms/step - loss: 0.0288 - val_loss: 0.0277\n",
            "Epoch 48/100\n",
            "1/1 [==============================] - 0s 37ms/step - loss: 0.0276 - val_loss: 0.0265\n",
            "Epoch 49/100\n",
            "1/1 [==============================] - 0s 37ms/step - loss: 0.0264 - val_loss: 0.0254\n",
            "Epoch 50/100\n",
            "1/1 [==============================] - 0s 37ms/step - loss: 0.0253 - val_loss: 0.0244\n",
            "Epoch 51/100\n",
            "1/1 [==============================] - 0s 38ms/step - loss: 0.0243 - val_loss: 0.0234\n",
            "Epoch 52/100\n",
            "1/1 [==============================] - 0s 36ms/step - loss: 0.0234 - val_loss: 0.0226\n",
            "Epoch 53/100\n",
            "1/1 [==============================] - 0s 37ms/step - loss: 0.0225 - val_loss: 0.0218\n",
            "Epoch 54/100\n",
            "1/1 [==============================] - 0s 37ms/step - loss: 0.0217 - val_loss: 0.0210\n",
            "Epoch 55/100\n",
            "1/1 [==============================] - 0s 42ms/step - loss: 0.0209 - val_loss: 0.0203\n",
            "Epoch 56/100\n",
            "1/1 [==============================] - 0s 38ms/step - loss: 0.0202 - val_loss: 0.0197\n",
            "Epoch 57/100\n",
            "1/1 [==============================] - 0s 37ms/step - loss: 0.0196 - val_loss: 0.0191\n",
            "Epoch 58/100\n",
            "1/1 [==============================] - 0s 39ms/step - loss: 0.0190 - val_loss: 0.0185\n",
            "Epoch 59/100\n",
            "1/1 [==============================] - 0s 38ms/step - loss: 0.0184 - val_loss: 0.0180\n",
            "Epoch 60/100\n",
            "1/1 [==============================] - 0s 40ms/step - loss: 0.0179 - val_loss: 0.0175\n",
            "Epoch 61/100\n",
            "1/1 [==============================] - 0s 39ms/step - loss: 0.0175 - val_loss: 0.0171\n",
            "Epoch 62/100\n",
            "1/1 [==============================] - 0s 36ms/step - loss: 0.0170 - val_loss: 0.0167\n",
            "Epoch 63/100\n",
            "1/1 [==============================] - 0s 42ms/step - loss: 0.0166 - val_loss: 0.0163\n",
            "Epoch 64/100\n",
            "1/1 [==============================] - 0s 36ms/step - loss: 0.0162 - val_loss: 0.0159\n",
            "Epoch 65/100\n",
            "1/1 [==============================] - 0s 41ms/step - loss: 0.0159 - val_loss: 0.0156\n",
            "Epoch 66/100\n",
            "1/1 [==============================] - 0s 39ms/step - loss: 0.0156 - val_loss: 0.0153\n",
            "Epoch 67/100\n",
            "1/1 [==============================] - 0s 39ms/step - loss: 0.0153 - val_loss: 0.0150\n",
            "Epoch 68/100\n",
            "1/1 [==============================] - 0s 51ms/step - loss: 0.0150 - val_loss: 0.0148\n",
            "Epoch 69/100\n",
            "1/1 [==============================] - 0s 44ms/step - loss: 0.0147 - val_loss: 0.0145\n",
            "Epoch 70/100\n",
            "1/1 [==============================] - 0s 39ms/step - loss: 0.0145 - val_loss: 0.0143\n",
            "Epoch 71/100\n",
            "1/1 [==============================] - 0s 39ms/step - loss: 0.0143 - val_loss: 0.0141\n",
            "Epoch 72/100\n",
            "1/1 [==============================] - 0s 36ms/step - loss: 0.0141 - val_loss: 0.0139\n",
            "Epoch 73/100\n",
            "1/1 [==============================] - 0s 37ms/step - loss: 0.0139 - val_loss: 0.0138\n",
            "Epoch 74/100\n",
            "1/1 [==============================] - 0s 42ms/step - loss: 0.0137 - val_loss: 0.0136\n",
            "Epoch 75/100\n",
            "1/1 [==============================] - 0s 37ms/step - loss: 0.0135 - val_loss: 0.0134\n",
            "Epoch 76/100\n",
            "1/1 [==============================] - 0s 39ms/step - loss: 0.0134 - val_loss: 0.0133\n",
            "Epoch 77/100\n",
            "1/1 [==============================] - 0s 36ms/step - loss: 0.0133 - val_loss: 0.0132\n",
            "Epoch 78/100\n",
            "1/1 [==============================] - 0s 40ms/step - loss: 0.0131 - val_loss: 0.0131\n",
            "Epoch 79/100\n",
            "1/1 [==============================] - 0s 40ms/step - loss: 0.0130 - val_loss: 0.0130\n",
            "Epoch 80/100\n",
            "1/1 [==============================] - 0s 41ms/step - loss: 0.0129 - val_loss: 0.0129\n",
            "Epoch 81/100\n",
            "1/1 [==============================] - 0s 40ms/step - loss: 0.0128 - val_loss: 0.0128\n",
            "Epoch 82/100\n",
            "1/1 [==============================] - 0s 42ms/step - loss: 0.0127 - val_loss: 0.0127\n",
            "Epoch 83/100\n",
            "1/1 [==============================] - 0s 53ms/step - loss: 0.0126 - val_loss: 0.0126\n",
            "Epoch 84/100\n",
            "1/1 [==============================] - 0s 43ms/step - loss: 0.0125 - val_loss: 0.0125\n",
            "Epoch 85/100\n",
            "1/1 [==============================] - 0s 41ms/step - loss: 0.0125 - val_loss: 0.0124\n",
            "Epoch 86/100\n",
            "1/1 [==============================] - 0s 42ms/step - loss: 0.0124 - val_loss: 0.0124\n",
            "Epoch 87/100\n",
            "1/1 [==============================] - 0s 39ms/step - loss: 0.0123 - val_loss: 0.0123\n",
            "Epoch 88/100\n",
            "1/1 [==============================] - 0s 48ms/step - loss: 0.0123 - val_loss: 0.0123\n",
            "Epoch 89/100\n",
            "1/1 [==============================] - 0s 39ms/step - loss: 0.0122 - val_loss: 0.0122\n",
            "Epoch 90/100\n",
            "1/1 [==============================] - 0s 41ms/step - loss: 0.0122 - val_loss: 0.0122\n",
            "Epoch 91/100\n",
            "1/1 [==============================] - 0s 40ms/step - loss: 0.0121 - val_loss: 0.0121\n",
            "Epoch 92/100\n",
            "1/1 [==============================] - 0s 39ms/step - loss: 0.0121 - val_loss: 0.0121\n",
            "Epoch 93/100\n",
            "1/1 [==============================] - 0s 46ms/step - loss: 0.0120 - val_loss: 0.0120\n",
            "Epoch 94/100\n",
            "1/1 [==============================] - 0s 39ms/step - loss: 0.0120 - val_loss: 0.0120\n",
            "Epoch 95/100\n",
            "1/1 [==============================] - 0s 40ms/step - loss: 0.0120 - val_loss: 0.0120\n",
            "Epoch 96/100\n",
            "1/1 [==============================] - 0s 39ms/step - loss: 0.0119 - val_loss: 0.0119\n",
            "Epoch 97/100\n",
            "1/1 [==============================] - 0s 40ms/step - loss: 0.0119 - val_loss: 0.0119\n",
            "Epoch 98/100\n",
            "1/1 [==============================] - 0s 41ms/step - loss: 0.0119 - val_loss: 0.0119\n",
            "Epoch 99/100\n",
            "1/1 [==============================] - 0s 44ms/step - loss: 0.0118 - val_loss: 0.0119\n",
            "Epoch 100/100\n",
            "1/1 [==============================] - 0s 36ms/step - loss: 0.0118 - val_loss: 0.0118\n"
          ],
          "name": "stdout"
        }
      ]
    },
    {
      "cell_type": "code",
      "metadata": {
        "id": "DgH_gEwmbEEw",
        "colab_type": "code",
        "colab": {}
      },
      "source": [
        "def plot_loss(history):\n",
        "  plt.figure(figsize=(6, 4))\n",
        "\n",
        "  plt.plot(history.epoch, history.history[\"loss\"], label=\"train_loss\")\n",
        "  plt.plot(history.epoch, history.history[\"val_loss\"], label=\"val_loss\")\n",
        "  plt.xlabel(\"epoch\")\n",
        "  plt.legend()"
      ],
      "execution_count": 0,
      "outputs": []
    },
    {
      "cell_type": "code",
      "metadata": {
        "id": "gIILW_QwAMfy",
        "colab_type": "code",
        "outputId": "1e0b6c16-1251-43b7-aefa-591183459c26",
        "colab": {
          "base_uri": "https://localhost:8080/",
          "height": 854
        }
      },
      "source": [
        "for key in histories:\n",
        "  print(key)\n",
        "  plot_loss(histories[key])"
      ],
      "execution_count": 68,
      "outputs": [
        {
          "output_type": "stream",
          "text": [
            "Simple\n",
            "LSTM\n",
            "GRU\n"
          ],
          "name": "stdout"
        },
        {
          "output_type": "display_data",
          "data": {
            "image/png": "[encoded data removed]",
            "text/plain": [
              "<Figure size 432x288 with 1 Axes>"
            ]
          },
          "metadata": {
            "tags": []
          }
        },
        {
          "output_type": "display_data",
          "data": {
            "image/png": "[encoded data removed]",
            "text/plain": [
              "<Figure size 432x288 with 1 Axes>"
            ]
          },
          "metadata": {
            "tags": []
          }
        },
        {
          "output_type": "display_data",
          "data": {
            "image/png": "[encoded data removed]",
            "text/plain": [
              "<Figure size 432x288 with 1 Axes>"
            ]
          },
          "metadata": {
            "tags": []
          }
        }
      ]
    },
    {
      "cell_type": "markdown",
      "metadata": {
        "id": "CIgJPTmF7v-_",
        "colab_type": "text"
      },
      "source": [
        "###Test"
      ]
    },
    {
      "cell_type": "code",
      "metadata": {
        "id": "OFdD-x1ZKZ3Q",
        "colab_type": "code",
        "outputId": "adc14791-a41b-45c4-f9bf-8c747ae7609c",
        "colab": {
          "base_uri": "https://localhost:8080/",
          "height": 34
        }
      },
      "source": [
        "model = models['Simple']\n",
        "test_loss = model.evaluate(X_test, y_test, batch_size=128)"
      ],
      "execution_count": 69,
      "outputs": [
        {
          "output_type": "stream",
          "text": [
            "2/2 [==============================] - 0s 5ms/step - loss: 5.1051e-04\n"
          ],
          "name": "stdout"
        }
      ]
    },
    {
      "cell_type": "code",
      "metadata": {
        "id": "xM9qnUvQajg-",
        "colab_type": "code",
        "outputId": "731595c2-2dad-425f-8264-c787ac2cf34b",
        "colab": {
          "base_uri": "https://localhost:8080/",
          "height": 34
        }
      },
      "source": [
        "print('test loss : ', test_loss)"
      ],
      "execution_count": 70,
      "outputs": [
        {
          "output_type": "stream",
          "text": [
            "test loss :  0.0005105105228722095\n"
          ],
          "name": "stdout"
        }
      ]
    },
    {
      "cell_type": "code",
      "metadata": {
        "id": "Vze5Jn7CMvWd",
        "colab_type": "code",
        "colab": {}
      },
      "source": [
        "y_test_pred = model.predict(X_test)"
      ],
      "execution_count": 0,
      "outputs": []
    },
    {
      "cell_type": "code",
      "metadata": {
        "id": "A_edGKNS-xSI",
        "colab_type": "code",
        "colab": {
          "base_uri": "https://localhost:8080/",
          "height": 265
        },
        "outputId": "63b3e98f-c3f6-4e60-cd05-c03790a814a0"
      },
      "source": [
        "plt.plot(np.arange(len(y_test)), y_test, label='original')\n",
        "plt.plot(np.arange(len(y_test)), y_test_pred, label='prediction')\n",
        "plt.legend()\n",
        "plt.show()"
      ],
      "execution_count": 72,
      "outputs": [
        {
          "output_type": "display_data",
          "data": {
            "image/png": "[encoded data removed]",
            "text/plain": [
              "<Figure size 432x288 with 1 Axes>"
            ]
          },
          "metadata": {
            "tags": []
          }
        }
      ]
    },
    {
      "cell_type": "markdown",
      "metadata": {
        "id": "-F-zfxit8R0A",
        "colab_type": "text"
      },
      "source": [
        "###Save"
      ]
    },
    {
      "cell_type": "code",
      "metadata": {
        "id": "OeCJwAct8mq8",
        "colab_type": "code",
        "colab": {}
      },
      "source": [
        "#save the prediction\n",
        "submissiondir = '.'\n",
        "submissionname = 'submission'\n",
        "pd.DataFrame(data={'x':np.arange(len(y_test)), 'target':y_test[:,0], 'prediction':y_test_pred[:,0]}).to_csv(submissiondir + '/' + submissionname + \".csv\", index_label=[\"Id\"])"
      ],
      "execution_count": 0,
      "outputs": []
    },
    {
      "cell_type": "code",
      "metadata": {
        "id": "gmZQtZYZ6yAa",
        "colab_type": "code",
        "colab": {}
      },
      "source": [
        "# save the model\n",
        "filename = 'model.h5'\n",
        "model.save(filename)"
      ],
      "execution_count": 0,
      "outputs": []
    },
    {
      "cell_type": "code",
      "metadata": {
        "id": "PSHnOTDv8Q-J",
        "colab_type": "code",
        "outputId": "40a1ef76-56c7-4238-b31b-4bad114574ea",
        "colab": {
          "base_uri": "https://localhost:8080/",
          "height": 211
        }
      },
      "source": [
        "# load the model\n",
        "loaded_model = load_model(filename)\n",
        "test_loss = loaded_model.evaluate(X_test, y_test, batch_size=128)"
      ],
      "execution_count": 76,
      "outputs": [
        {
          "output_type": "stream",
          "text": [
            "WARNING:tensorflow:Error in loading the saved optimizer state. As a result, your model is starting with a freshly initialized optimizer.\n",
            "2/2 [==============================] - 0s 4ms/step - loss: 5.1051e-04\n"
          ],
          "name": "stdout"
        }
      ]
    },
    {
      "cell_type": "code",
      "metadata": {
        "id": "vJwFB3Rf-xZt",
        "colab_type": "code",
        "outputId": "0be1d7e3-59b5-4d7f-a834-eeb893ed90cd",
        "colab": {
          "base_uri": "https://localhost:8080/",
          "height": 34
        }
      },
      "source": [
        "print('test loss : ', test_loss)"
      ],
      "execution_count": 77,
      "outputs": [
        {
          "output_type": "stream",
          "text": [
            "test loss :  0.0005105105228722095\n"
          ],
          "name": "stdout"
        }
      ]
    },
    {
      "cell_type": "code",
      "metadata": {
        "id": "grprSYDncuoz",
        "colab_type": "code",
        "colab": {}
      },
      "source": [
        ""
      ],
      "execution_count": 0,
      "outputs": []
    }
  ]
}