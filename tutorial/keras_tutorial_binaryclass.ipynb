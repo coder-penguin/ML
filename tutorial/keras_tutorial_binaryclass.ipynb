{
  "nbformat": 4,
  "nbformat_minor": 0,
  "metadata": {
    "colab": {
      "name": "keras_tutorial_binaryclass",
      "provenance": [],
      "collapsed_sections": [],
      "include_colab_link": true
    },
    "kernelspec": {
      "name": "python3",
      "display_name": "Python 3"
    },
    "accelerator": "GPU"
  },
  "cells": [
    {
      "cell_type": "markdown",
      "metadata": {
        "id": "view-in-github",
        "colab_type": "text"
      },
      "source": [
        "<a href=\"https://colab.research.google.com/github/coder-penguin/ML/blob/master/tutorial/keras_tutorial_binaryclass.ipynb\" target=\"_parent\"><img src=\"https://colab.research.google.com/assets/colab-badge.svg\" alt=\"Open In Colab\"/></a>"
      ]
    },
    {
      "cell_type": "markdown",
      "metadata": {
        "id": "E-5PkF7PBj7_",
        "colab_type": "text"
      },
      "source": [
        "#Sample code for binary classification with NN"
      ]
    },
    {
      "cell_type": "markdown",
      "metadata": {
        "id": "V5hrcRzY_9uM",
        "colab_type": "text"
      },
      "source": [
        "Load libraries"
      ]
    },
    {
      "cell_type": "code",
      "metadata": {
        "id": "uz6chkI6AFGk",
        "colab_type": "code",
        "outputId": "04fc55e9-5fa7-4510-9de4-5a89c20c4a4e",
        "colab": {
          "base_uri": "https://localhost:8080/",
          "height": 91
        }
      },
      "source": [
        "import numpy as np\n",
        "import pandas as pd\n",
        "import matplotlib.pyplot as plt\n",
        "\n",
        "from sklearn.datasets import load_breast_cancer\n",
        "from sklearn.model_selection import train_test_split, KFold\n",
        "from sklearn.metrics import confusion_matrix\n",
        "from sklearn.metrics import accuracy_score, precision_score, recall_score, f1_score, classification_report\n",
        "from sklearn.metrics import precision_recall_curve, roc_curve, roc_auc_score\n",
        "from sklearn.preprocessing import StandardScaler\n",
        "from sklearn.externals import joblib\n",
        "\n",
        "import tensorflow as tf\n",
        "from tensorflow.keras.models import Sequential, load_model\n",
        "from tensorflow.keras.layers import Dense, Dropout, BatchNormalization, Activation\n",
        "from tensorflow.keras.optimizers import SGD\n",
        "from tensorflow.keras.callbacks import EarlyStopping, ModelCheckpoint\n",
        "from tensorflow.keras.utils import plot_model, model_to_dot\n",
        "from IPython.display import SVG\n",
        "\n",
        "print(tf.__version__)"
      ],
      "execution_count": 1,
      "outputs": [
        {
          "output_type": "stream",
          "text": [
            "/usr/local/lib/python3.6/dist-packages/sklearn/externals/joblib/__init__.py:15: FutureWarning: sklearn.externals.joblib is deprecated in 0.21 and will be removed in 0.23. Please import this functionality directly from joblib, which can be installed with: pip install joblib. If this warning is raised when loading pickled models, you may need to re-serialize those models with scikit-learn 0.21+.\n",
            "  warnings.warn(msg, category=FutureWarning)\n"
          ],
          "name": "stderr"
        },
        {
          "output_type": "stream",
          "text": [
            "2.2.0-rc2\n"
          ],
          "name": "stdout"
        }
      ]
    },
    {
      "cell_type": "code",
      "metadata": {
        "id": "CvDPtcJ2YPo0",
        "colab_type": "code",
        "colab": {
          "base_uri": "https://localhost:8080/",
          "height": 34
        },
        "outputId": "3812867c-b6b6-40a8-92c2-211c0cbe4546"
      },
      "source": [
        "#check GPU\n",
        "tf.test.gpu_device_name()"
      ],
      "execution_count": 2,
      "outputs": [
        {
          "output_type": "execute_result",
          "data": {
            "text/plain": [
              "'/device:GPU:0'"
            ]
          },
          "metadata": {
            "tags": []
          },
          "execution_count": 2
        }
      ]
    },
    {
      "cell_type": "markdown",
      "metadata": {
        "id": "yWjy9yhPETE9",
        "colab_type": "text"
      },
      "source": [
        "Read data"
      ]
    },
    {
      "cell_type": "code",
      "metadata": {
        "id": "xKApP_2eEduJ",
        "colab_type": "code",
        "colab": {}
      },
      "source": [
        "# read the breast cancer wisconsin dataset\n",
        "dataset = load_breast_cancer()"
      ],
      "execution_count": 0,
      "outputs": []
    },
    {
      "cell_type": "code",
      "metadata": {
        "id": "seKjk_6vfYzd",
        "colab_type": "code",
        "outputId": "d65e8abe-84d6-474b-c9e7-9d2c6ba85eba",
        "colab": {
          "base_uri": "https://localhost:8080/",
          "height": 34
        }
      },
      "source": [
        "#30 features\n",
        "dataset['data'].shape"
      ],
      "execution_count": 4,
      "outputs": [
        {
          "output_type": "execute_result",
          "data": {
            "text/plain": [
              "(569, 30)"
            ]
          },
          "metadata": {
            "tags": []
          },
          "execution_count": 4
        }
      ]
    },
    {
      "cell_type": "code",
      "metadata": {
        "id": "9jO5ZfoA1cuY",
        "colab_type": "code",
        "outputId": "94c65004-415c-4b62-e1ef-2986c206c601",
        "colab": {
          "base_uri": "https://localhost:8080/",
          "height": 459
        }
      },
      "source": [
        "#binary target\n",
        "dataset['target']"
      ],
      "execution_count": 5,
      "outputs": [
        {
          "output_type": "execute_result",
          "data": {
            "text/plain": [
              "array([0, 0, 0, 0, 0, 0, 0, 0, 0, 0, 0, 0, 0, 0, 0, 0, 0, 0, 0, 1, 1, 1,\n",
              "       0, 0, 0, 0, 0, 0, 0, 0, 0, 0, 0, 0, 0, 0, 0, 1, 0, 0, 0, 0, 0, 0,\n",
              "       0, 0, 1, 0, 1, 1, 1, 1, 1, 0, 0, 1, 0, 0, 1, 1, 1, 1, 0, 1, 0, 0,\n",
              "       1, 1, 1, 1, 0, 1, 0, 0, 1, 0, 1, 0, 0, 1, 1, 1, 0, 0, 1, 0, 0, 0,\n",
              "       1, 1, 1, 0, 1, 1, 0, 0, 1, 1, 1, 0, 0, 1, 1, 1, 1, 0, 1, 1, 0, 1,\n",
              "       1, 1, 1, 1, 1, 1, 1, 0, 0, 0, 1, 0, 0, 1, 1, 1, 0, 0, 1, 0, 1, 0,\n",
              "       0, 1, 0, 0, 1, 1, 0, 1, 1, 0, 1, 1, 1, 1, 0, 1, 1, 1, 1, 1, 1, 1,\n",
              "       1, 1, 0, 1, 1, 1, 1, 0, 0, 1, 0, 1, 1, 0, 0, 1, 1, 0, 0, 1, 1, 1,\n",
              "       1, 0, 1, 1, 0, 0, 0, 1, 0, 1, 0, 1, 1, 1, 0, 1, 1, 0, 0, 1, 0, 0,\n",
              "       0, 0, 1, 0, 0, 0, 1, 0, 1, 0, 1, 1, 0, 1, 0, 0, 0, 0, 1, 1, 0, 0,\n",
              "       1, 1, 1, 0, 1, 1, 1, 1, 1, 0, 0, 1, 1, 0, 1, 1, 0, 0, 1, 0, 1, 1,\n",
              "       1, 1, 0, 1, 1, 1, 1, 1, 0, 1, 0, 0, 0, 0, 0, 0, 0, 0, 0, 0, 0, 0,\n",
              "       0, 0, 1, 1, 1, 1, 1, 1, 0, 1, 0, 1, 1, 0, 1, 1, 0, 1, 0, 0, 1, 1,\n",
              "       1, 1, 1, 1, 1, 1, 1, 1, 1, 1, 1, 0, 1, 1, 0, 1, 0, 1, 1, 1, 1, 1,\n",
              "       1, 1, 1, 1, 1, 1, 1, 1, 1, 0, 1, 1, 1, 0, 1, 0, 1, 1, 1, 1, 0, 0,\n",
              "       0, 1, 1, 1, 1, 0, 1, 0, 1, 0, 1, 1, 1, 0, 1, 1, 1, 1, 1, 1, 1, 0,\n",
              "       0, 0, 1, 1, 1, 1, 1, 1, 1, 1, 1, 1, 1, 0, 0, 1, 0, 0, 0, 1, 0, 0,\n",
              "       1, 1, 1, 1, 1, 0, 1, 1, 1, 1, 1, 0, 1, 1, 1, 0, 1, 1, 0, 0, 1, 1,\n",
              "       1, 1, 1, 1, 0, 1, 1, 1, 1, 1, 1, 1, 0, 1, 1, 1, 1, 1, 0, 1, 1, 0,\n",
              "       1, 1, 1, 1, 1, 1, 1, 1, 1, 1, 1, 1, 0, 1, 0, 0, 1, 0, 1, 1, 1, 1,\n",
              "       1, 0, 1, 1, 0, 1, 0, 1, 1, 0, 1, 0, 1, 1, 1, 1, 1, 1, 1, 1, 0, 0,\n",
              "       1, 1, 1, 1, 1, 1, 0, 1, 1, 1, 1, 1, 1, 1, 1, 1, 1, 0, 1, 1, 1, 1,\n",
              "       1, 1, 1, 0, 1, 0, 1, 1, 0, 1, 1, 1, 1, 1, 0, 0, 1, 0, 1, 0, 1, 1,\n",
              "       1, 1, 1, 0, 1, 1, 0, 1, 0, 1, 0, 0, 1, 1, 1, 0, 1, 1, 1, 1, 1, 1,\n",
              "       1, 1, 1, 1, 1, 0, 1, 0, 0, 1, 1, 1, 1, 1, 1, 1, 1, 1, 1, 1, 1, 1,\n",
              "       1, 1, 1, 1, 1, 1, 1, 1, 1, 1, 1, 1, 0, 0, 0, 0, 0, 0, 1])"
            ]
          },
          "metadata": {
            "tags": []
          },
          "execution_count": 5
        }
      ]
    },
    {
      "cell_type": "code",
      "metadata": {
        "id": "WIhdEMlF1U0M",
        "colab_type": "code",
        "outputId": "856a9121-de2c-4c12-f27c-c5eb149ea29a",
        "colab": {
          "base_uri": "https://localhost:8080/",
          "height": 34
        }
      },
      "source": [
        "dataset['target_names']"
      ],
      "execution_count": 6,
      "outputs": [
        {
          "output_type": "execute_result",
          "data": {
            "text/plain": [
              "array(['malignant', 'benign'], dtype='<U9')"
            ]
          },
          "metadata": {
            "tags": []
          },
          "execution_count": 6
        }
      ]
    },
    {
      "cell_type": "code",
      "metadata": {
        "id": "ZYm5eGa10_0o",
        "colab_type": "code",
        "outputId": "629e99c4-8c3f-4941-f02b-9fee0d49999a",
        "colab": {
          "base_uri": "https://localhost:8080/",
          "height": 187
        }
      },
      "source": [
        "dataset['feature_names']"
      ],
      "execution_count": 7,
      "outputs": [
        {
          "output_type": "execute_result",
          "data": {
            "text/plain": [
              "array(['mean radius', 'mean texture', 'mean perimeter', 'mean area',\n",
              "       'mean smoothness', 'mean compactness', 'mean concavity',\n",
              "       'mean concave points', 'mean symmetry', 'mean fractal dimension',\n",
              "       'radius error', 'texture error', 'perimeter error', 'area error',\n",
              "       'smoothness error', 'compactness error', 'concavity error',\n",
              "       'concave points error', 'symmetry error',\n",
              "       'fractal dimension error', 'worst radius', 'worst texture',\n",
              "       'worst perimeter', 'worst area', 'worst smoothness',\n",
              "       'worst compactness', 'worst concavity', 'worst concave points',\n",
              "       'worst symmetry', 'worst fractal dimension'], dtype='<U23')"
            ]
          },
          "metadata": {
            "tags": []
          },
          "execution_count": 7
        }
      ]
    },
    {
      "cell_type": "code",
      "metadata": {
        "id": "9xRsKkwB_KxP",
        "colab_type": "code",
        "outputId": "e455ff1f-2216-4469-c0ea-84abba570996",
        "colab": {
          "base_uri": "https://localhost:8080/",
          "height": 265
        }
      },
      "source": [
        "# show data\n",
        "plt.hist(dataset['data'][:, 0][dataset['target']==0], label=dataset['target_names'][0], alpha=0.5)\n",
        "plt.hist(dataset['data'][:, 0][dataset['target']==1], label=dataset['target_names'][1], alpha=0.5)\n",
        "plt.show()"
      ],
      "execution_count": 8,
      "outputs": [
        {
          "output_type": "display_data",
          "data": {
            "image/png": "[encoded data removed]",
            "text/plain": [
              "<Figure size 432x288 with 1 Axes>"
            ]
          },
          "metadata": {
            "tags": []
          }
        }
      ]
    },
    {
      "cell_type": "code",
      "metadata": {
        "id": "Sc_Ce1Y-FUrN",
        "colab_type": "code",
        "colab": {}
      },
      "source": [
        "# image(numpy.ndarray)\n",
        "X = dataset.data\n",
        "\n",
        "# label(numpy.ndarray)\n",
        "y = dataset.target"
      ],
      "execution_count": 0,
      "outputs": []
    },
    {
      "cell_type": "code",
      "metadata": {
        "id": "o6VcS3viIBh0",
        "colab_type": "code",
        "colab": {}
      },
      "source": [
        "#split dataset to train and test dataset\n",
        "test_size = 0.2\n",
        "X_train, X_test, y_train, y_test = train_test_split(X, y, test_size=test_size, shuffle=True)#default is True"
      ],
      "execution_count": 0,
      "outputs": []
    },
    {
      "cell_type": "code",
      "metadata": {
        "id": "iyOyxl4RJN9I",
        "colab_type": "code",
        "outputId": "91bb53a6-1848-4e92-9eae-b092fd03df5b",
        "colab": {
          "base_uri": "https://localhost:8080/",
          "height": 51
        }
      },
      "source": [
        "print(len(X_train), len(X_test))\n",
        "print(len(y_train), len(y_test))"
      ],
      "execution_count": 11,
      "outputs": [
        {
          "output_type": "stream",
          "text": [
            "455 114\n",
            "455 114\n"
          ],
          "name": "stdout"
        }
      ]
    },
    {
      "cell_type": "code",
      "metadata": {
        "id": "StPnFQOuHQkz",
        "colab_type": "code",
        "colab": {}
      },
      "source": [
        "df = pd.DataFrame(data=X_train, columns=dataset.feature_names)"
      ],
      "execution_count": 0,
      "outputs": []
    },
    {
      "cell_type": "code",
      "metadata": {
        "id": "RaT9YzegIfhR",
        "colab_type": "code",
        "colab": {}
      },
      "source": [
        "df['target'] = y_train"
      ],
      "execution_count": 0,
      "outputs": []
    },
    {
      "cell_type": "code",
      "metadata": {
        "id": "oc08Fb3pHdh6",
        "colab_type": "code",
        "colab": {
          "base_uri": "https://localhost:8080/",
          "height": 278
        },
        "outputId": "8fd449a7-23a9-4baf-dd14-d6f199141946"
      },
      "source": [
        "df.head()"
      ],
      "execution_count": 14,
      "outputs": [
        {
          "output_type": "execute_result",
          "data": {
            "text/html": [
              "<div>\n",
              "<style scoped>\n",
              "    .dataframe tbody tr th:only-of-type {\n",
              "        vertical-align: middle;\n",
              "    }\n",
              "\n",
              "    .dataframe tbody tr th {\n",
              "        vertical-align: top;\n",
              "    }\n",
              "\n",
              "    .dataframe thead th {\n",
              "        text-align: right;\n",
              "    }\n",
              "</style>\n",
              "<table border=\"1\" class=\"dataframe\">\n",
              "  <thead>\n",
              "    <tr style=\"text-align: right;\">\n",
              "      <th></th>\n",
              "      <th>mean radius</th>\n",
              "      <th>mean texture</th>\n",
              "      <th>mean perimeter</th>\n",
              "      <th>mean area</th>\n",
              "      <th>mean smoothness</th>\n",
              "      <th>mean compactness</th>\n",
              "      <th>mean concavity</th>\n",
              "      <th>mean concave points</th>\n",
              "      <th>mean symmetry</th>\n",
              "      <th>mean fractal dimension</th>\n",
              "      <th>radius error</th>\n",
              "      <th>texture error</th>\n",
              "      <th>perimeter error</th>\n",
              "      <th>area error</th>\n",
              "      <th>smoothness error</th>\n",
              "      <th>compactness error</th>\n",
              "      <th>concavity error</th>\n",
              "      <th>concave points error</th>\n",
              "      <th>symmetry error</th>\n",
              "      <th>fractal dimension error</th>\n",
              "      <th>worst radius</th>\n",
              "      <th>worst texture</th>\n",
              "      <th>worst perimeter</th>\n",
              "      <th>worst area</th>\n",
              "      <th>worst smoothness</th>\n",
              "      <th>worst compactness</th>\n",
              "      <th>worst concavity</th>\n",
              "      <th>worst concave points</th>\n",
              "      <th>worst symmetry</th>\n",
              "      <th>worst fractal dimension</th>\n",
              "      <th>target</th>\n",
              "    </tr>\n",
              "  </thead>\n",
              "  <tbody>\n",
              "    <tr>\n",
              "      <th>0</th>\n",
              "      <td>14.34</td>\n",
              "      <td>13.47</td>\n",
              "      <td>92.51</td>\n",
              "      <td>641.2</td>\n",
              "      <td>0.09906</td>\n",
              "      <td>0.07624</td>\n",
              "      <td>0.05724</td>\n",
              "      <td>0.046030</td>\n",
              "      <td>0.2075</td>\n",
              "      <td>0.05448</td>\n",
              "      <td>0.5220</td>\n",
              "      <td>0.8121</td>\n",
              "      <td>3.763</td>\n",
              "      <td>48.290</td>\n",
              "      <td>0.007089</td>\n",
              "      <td>0.01428</td>\n",
              "      <td>0.02360</td>\n",
              "      <td>0.012860</td>\n",
              "      <td>0.02266</td>\n",
              "      <td>0.001463</td>\n",
              "      <td>16.77</td>\n",
              "      <td>16.90</td>\n",
              "      <td>110.40</td>\n",
              "      <td>873.2</td>\n",
              "      <td>0.12970</td>\n",
              "      <td>0.1525</td>\n",
              "      <td>0.1632</td>\n",
              "      <td>0.10870</td>\n",
              "      <td>0.3062</td>\n",
              "      <td>0.06072</td>\n",
              "      <td>1</td>\n",
              "    </tr>\n",
              "    <tr>\n",
              "      <th>1</th>\n",
              "      <td>20.55</td>\n",
              "      <td>20.86</td>\n",
              "      <td>137.80</td>\n",
              "      <td>1308.0</td>\n",
              "      <td>0.10460</td>\n",
              "      <td>0.17390</td>\n",
              "      <td>0.20850</td>\n",
              "      <td>0.132200</td>\n",
              "      <td>0.2127</td>\n",
              "      <td>0.06251</td>\n",
              "      <td>0.6986</td>\n",
              "      <td>0.9901</td>\n",
              "      <td>4.706</td>\n",
              "      <td>87.780</td>\n",
              "      <td>0.004578</td>\n",
              "      <td>0.02616</td>\n",
              "      <td>0.04005</td>\n",
              "      <td>0.014210</td>\n",
              "      <td>0.01948</td>\n",
              "      <td>0.002689</td>\n",
              "      <td>24.30</td>\n",
              "      <td>25.48</td>\n",
              "      <td>160.20</td>\n",
              "      <td>1809.0</td>\n",
              "      <td>0.12680</td>\n",
              "      <td>0.3135</td>\n",
              "      <td>0.4433</td>\n",
              "      <td>0.21480</td>\n",
              "      <td>0.3077</td>\n",
              "      <td>0.07569</td>\n",
              "      <td>0</td>\n",
              "    </tr>\n",
              "    <tr>\n",
              "      <th>2</th>\n",
              "      <td>11.32</td>\n",
              "      <td>27.08</td>\n",
              "      <td>71.76</td>\n",
              "      <td>395.7</td>\n",
              "      <td>0.06883</td>\n",
              "      <td>0.03813</td>\n",
              "      <td>0.01633</td>\n",
              "      <td>0.003125</td>\n",
              "      <td>0.1869</td>\n",
              "      <td>0.05628</td>\n",
              "      <td>0.1210</td>\n",
              "      <td>0.8927</td>\n",
              "      <td>1.059</td>\n",
              "      <td>8.605</td>\n",
              "      <td>0.003653</td>\n",
              "      <td>0.01647</td>\n",
              "      <td>0.01633</td>\n",
              "      <td>0.003125</td>\n",
              "      <td>0.01537</td>\n",
              "      <td>0.002052</td>\n",
              "      <td>12.08</td>\n",
              "      <td>33.75</td>\n",
              "      <td>79.82</td>\n",
              "      <td>452.3</td>\n",
              "      <td>0.09203</td>\n",
              "      <td>0.1432</td>\n",
              "      <td>0.1089</td>\n",
              "      <td>0.02083</td>\n",
              "      <td>0.2849</td>\n",
              "      <td>0.07087</td>\n",
              "      <td>1</td>\n",
              "    </tr>\n",
              "    <tr>\n",
              "      <th>3</th>\n",
              "      <td>14.90</td>\n",
              "      <td>22.53</td>\n",
              "      <td>102.10</td>\n",
              "      <td>685.0</td>\n",
              "      <td>0.09947</td>\n",
              "      <td>0.22250</td>\n",
              "      <td>0.27330</td>\n",
              "      <td>0.097110</td>\n",
              "      <td>0.2041</td>\n",
              "      <td>0.06898</td>\n",
              "      <td>0.2530</td>\n",
              "      <td>0.8749</td>\n",
              "      <td>3.466</td>\n",
              "      <td>24.190</td>\n",
              "      <td>0.006965</td>\n",
              "      <td>0.06213</td>\n",
              "      <td>0.07926</td>\n",
              "      <td>0.022340</td>\n",
              "      <td>0.01499</td>\n",
              "      <td>0.005784</td>\n",
              "      <td>16.35</td>\n",
              "      <td>27.57</td>\n",
              "      <td>125.40</td>\n",
              "      <td>832.7</td>\n",
              "      <td>0.14190</td>\n",
              "      <td>0.7090</td>\n",
              "      <td>0.9019</td>\n",
              "      <td>0.24750</td>\n",
              "      <td>0.2866</td>\n",
              "      <td>0.11550</td>\n",
              "      <td>0</td>\n",
              "    </tr>\n",
              "    <tr>\n",
              "      <th>4</th>\n",
              "      <td>17.27</td>\n",
              "      <td>25.42</td>\n",
              "      <td>112.40</td>\n",
              "      <td>928.8</td>\n",
              "      <td>0.08331</td>\n",
              "      <td>0.11090</td>\n",
              "      <td>0.12040</td>\n",
              "      <td>0.057360</td>\n",
              "      <td>0.1467</td>\n",
              "      <td>0.05407</td>\n",
              "      <td>0.5100</td>\n",
              "      <td>1.6790</td>\n",
              "      <td>3.283</td>\n",
              "      <td>58.380</td>\n",
              "      <td>0.008109</td>\n",
              "      <td>0.04308</td>\n",
              "      <td>0.04942</td>\n",
              "      <td>0.017420</td>\n",
              "      <td>0.01594</td>\n",
              "      <td>0.003739</td>\n",
              "      <td>20.38</td>\n",
              "      <td>35.46</td>\n",
              "      <td>132.80</td>\n",
              "      <td>1284.0</td>\n",
              "      <td>0.14360</td>\n",
              "      <td>0.4122</td>\n",
              "      <td>0.5036</td>\n",
              "      <td>0.17390</td>\n",
              "      <td>0.2500</td>\n",
              "      <td>0.07944</td>\n",
              "      <td>0</td>\n",
              "    </tr>\n",
              "  </tbody>\n",
              "</table>\n",
              "</div>"
            ],
            "text/plain": [
              "   mean radius  mean texture  ...  worst fractal dimension  target\n",
              "0        14.34         13.47  ...                  0.06072       1\n",
              "1        20.55         20.86  ...                  0.07569       0\n",
              "2        11.32         27.08  ...                  0.07087       1\n",
              "3        14.90         22.53  ...                  0.11550       0\n",
              "4        17.27         25.42  ...                  0.07944       0\n",
              "\n",
              "[5 rows x 31 columns]"
            ]
          },
          "metadata": {
            "tags": []
          },
          "execution_count": 14
        }
      ]
    },
    {
      "cell_type": "code",
      "metadata": {
        "id": "t0N0tWdrHmG7",
        "colab_type": "code",
        "colab": {
          "base_uri": "https://localhost:8080/",
          "height": 371
        },
        "outputId": "bc2829e8-995a-41f9-b9e8-c66516ea0252"
      },
      "source": [
        "df.describe()"
      ],
      "execution_count": 15,
      "outputs": [
        {
          "output_type": "execute_result",
          "data": {
            "text/html": [
              "<div>\n",
              "<style scoped>\n",
              "    .dataframe tbody tr th:only-of-type {\n",
              "        vertical-align: middle;\n",
              "    }\n",
              "\n",
              "    .dataframe tbody tr th {\n",
              "        vertical-align: top;\n",
              "    }\n",
              "\n",
              "    .dataframe thead th {\n",
              "        text-align: right;\n",
              "    }\n",
              "</style>\n",
              "<table border=\"1\" class=\"dataframe\">\n",
              "  <thead>\n",
              "    <tr style=\"text-align: right;\">\n",
              "      <th></th>\n",
              "      <th>mean radius</th>\n",
              "      <th>mean texture</th>\n",
              "      <th>mean perimeter</th>\n",
              "      <th>mean area</th>\n",
              "      <th>mean smoothness</th>\n",
              "      <th>mean compactness</th>\n",
              "      <th>mean concavity</th>\n",
              "      <th>mean concave points</th>\n",
              "      <th>mean symmetry</th>\n",
              "      <th>mean fractal dimension</th>\n",
              "      <th>radius error</th>\n",
              "      <th>texture error</th>\n",
              "      <th>perimeter error</th>\n",
              "      <th>area error</th>\n",
              "      <th>smoothness error</th>\n",
              "      <th>compactness error</th>\n",
              "      <th>concavity error</th>\n",
              "      <th>concave points error</th>\n",
              "      <th>symmetry error</th>\n",
              "      <th>fractal dimension error</th>\n",
              "      <th>worst radius</th>\n",
              "      <th>worst texture</th>\n",
              "      <th>worst perimeter</th>\n",
              "      <th>worst area</th>\n",
              "      <th>worst smoothness</th>\n",
              "      <th>worst compactness</th>\n",
              "      <th>worst concavity</th>\n",
              "      <th>worst concave points</th>\n",
              "      <th>worst symmetry</th>\n",
              "      <th>worst fractal dimension</th>\n",
              "      <th>target</th>\n",
              "    </tr>\n",
              "  </thead>\n",
              "  <tbody>\n",
              "    <tr>\n",
              "      <th>count</th>\n",
              "      <td>455.000000</td>\n",
              "      <td>455.000000</td>\n",
              "      <td>455.000000</td>\n",
              "      <td>455.000000</td>\n",
              "      <td>455.000000</td>\n",
              "      <td>455.000000</td>\n",
              "      <td>455.000000</td>\n",
              "      <td>455.000000</td>\n",
              "      <td>455.000000</td>\n",
              "      <td>455.000000</td>\n",
              "      <td>455.000000</td>\n",
              "      <td>455.000000</td>\n",
              "      <td>455.000000</td>\n",
              "      <td>455.000000</td>\n",
              "      <td>455.000000</td>\n",
              "      <td>455.000000</td>\n",
              "      <td>455.000000</td>\n",
              "      <td>455.000000</td>\n",
              "      <td>455.000000</td>\n",
              "      <td>455.000000</td>\n",
              "      <td>455.000000</td>\n",
              "      <td>455.000000</td>\n",
              "      <td>455.000000</td>\n",
              "      <td>455.000000</td>\n",
              "      <td>455.000000</td>\n",
              "      <td>455.000000</td>\n",
              "      <td>455.000000</td>\n",
              "      <td>455.000000</td>\n",
              "      <td>455.000000</td>\n",
              "      <td>455.000000</td>\n",
              "      <td>455.000000</td>\n",
              "    </tr>\n",
              "    <tr>\n",
              "      <th>mean</th>\n",
              "      <td>14.010701</td>\n",
              "      <td>19.222835</td>\n",
              "      <td>91.118681</td>\n",
              "      <td>642.005055</td>\n",
              "      <td>0.096348</td>\n",
              "      <td>0.102511</td>\n",
              "      <td>0.087130</td>\n",
              "      <td>0.047667</td>\n",
              "      <td>0.180062</td>\n",
              "      <td>0.062801</td>\n",
              "      <td>0.393110</td>\n",
              "      <td>1.190535</td>\n",
              "      <td>2.773288</td>\n",
              "      <td>38.952607</td>\n",
              "      <td>0.007010</td>\n",
              "      <td>0.024911</td>\n",
              "      <td>0.031726</td>\n",
              "      <td>0.011546</td>\n",
              "      <td>0.020342</td>\n",
              "      <td>0.003744</td>\n",
              "      <td>16.140218</td>\n",
              "      <td>25.594747</td>\n",
              "      <td>106.342088</td>\n",
              "      <td>864.316923</td>\n",
              "      <td>0.132794</td>\n",
              "      <td>0.253216</td>\n",
              "      <td>0.272450</td>\n",
              "      <td>0.113675</td>\n",
              "      <td>0.289763</td>\n",
              "      <td>0.084156</td>\n",
              "      <td>0.632967</td>\n",
              "    </tr>\n",
              "    <tr>\n",
              "      <th>std</th>\n",
              "      <td>3.388838</td>\n",
              "      <td>4.308776</td>\n",
              "      <td>23.265495</td>\n",
              "      <td>336.943992</td>\n",
              "      <td>0.014175</td>\n",
              "      <td>0.050754</td>\n",
              "      <td>0.077689</td>\n",
              "      <td>0.037413</td>\n",
              "      <td>0.027542</td>\n",
              "      <td>0.006979</td>\n",
              "      <td>0.273735</td>\n",
              "      <td>0.546918</td>\n",
              "      <td>1.961061</td>\n",
              "      <td>46.449921</td>\n",
              "      <td>0.003037</td>\n",
              "      <td>0.017738</td>\n",
              "      <td>0.031752</td>\n",
              "      <td>0.006065</td>\n",
              "      <td>0.007882</td>\n",
              "      <td>0.002618</td>\n",
              "      <td>4.666932</td>\n",
              "      <td>6.207201</td>\n",
              "      <td>32.303967</td>\n",
              "      <td>547.306304</td>\n",
              "      <td>0.022730</td>\n",
              "      <td>0.156689</td>\n",
              "      <td>0.208275</td>\n",
              "      <td>0.064701</td>\n",
              "      <td>0.061824</td>\n",
              "      <td>0.018504</td>\n",
              "      <td>0.482526</td>\n",
              "    </tr>\n",
              "    <tr>\n",
              "      <th>min</th>\n",
              "      <td>6.981000</td>\n",
              "      <td>9.710000</td>\n",
              "      <td>43.790000</td>\n",
              "      <td>143.500000</td>\n",
              "      <td>0.052630</td>\n",
              "      <td>0.023440</td>\n",
              "      <td>0.000000</td>\n",
              "      <td>0.000000</td>\n",
              "      <td>0.106000</td>\n",
              "      <td>0.049960</td>\n",
              "      <td>0.111500</td>\n",
              "      <td>0.360200</td>\n",
              "      <td>0.757000</td>\n",
              "      <td>6.802000</td>\n",
              "      <td>0.001713</td>\n",
              "      <td>0.003012</td>\n",
              "      <td>0.000000</td>\n",
              "      <td>0.000000</td>\n",
              "      <td>0.009539</td>\n",
              "      <td>0.000895</td>\n",
              "      <td>7.930000</td>\n",
              "      <td>12.020000</td>\n",
              "      <td>50.410000</td>\n",
              "      <td>185.200000</td>\n",
              "      <td>0.071170</td>\n",
              "      <td>0.027290</td>\n",
              "      <td>0.000000</td>\n",
              "      <td>0.000000</td>\n",
              "      <td>0.156600</td>\n",
              "      <td>0.055210</td>\n",
              "      <td>0.000000</td>\n",
              "    </tr>\n",
              "    <tr>\n",
              "      <th>25%</th>\n",
              "      <td>11.710000</td>\n",
              "      <td>16.190000</td>\n",
              "      <td>75.235000</td>\n",
              "      <td>420.750000</td>\n",
              "      <td>0.086010</td>\n",
              "      <td>0.063100</td>\n",
              "      <td>0.028540</td>\n",
              "      <td>0.019485</td>\n",
              "      <td>0.160800</td>\n",
              "      <td>0.057805</td>\n",
              "      <td>0.231250</td>\n",
              "      <td>0.822500</td>\n",
              "      <td>1.594000</td>\n",
              "      <td>17.775000</td>\n",
              "      <td>0.005213</td>\n",
              "      <td>0.012535</td>\n",
              "      <td>0.014570</td>\n",
              "      <td>0.007490</td>\n",
              "      <td>0.014995</td>\n",
              "      <td>0.002214</td>\n",
              "      <td>13.020000</td>\n",
              "      <td>21.005000</td>\n",
              "      <td>84.135000</td>\n",
              "      <td>515.850000</td>\n",
              "      <td>0.117650</td>\n",
              "      <td>0.144100</td>\n",
              "      <td>0.112100</td>\n",
              "      <td>0.063155</td>\n",
              "      <td>0.250100</td>\n",
              "      <td>0.071835</td>\n",
              "      <td>0.000000</td>\n",
              "    </tr>\n",
              "    <tr>\n",
              "      <th>50%</th>\n",
              "      <td>13.210000</td>\n",
              "      <td>18.770000</td>\n",
              "      <td>85.630000</td>\n",
              "      <td>538.900000</td>\n",
              "      <td>0.095920</td>\n",
              "      <td>0.090090</td>\n",
              "      <td>0.059290</td>\n",
              "      <td>0.032750</td>\n",
              "      <td>0.178200</td>\n",
              "      <td>0.061610</td>\n",
              "      <td>0.316000</td>\n",
              "      <td>1.077000</td>\n",
              "      <td>2.279000</td>\n",
              "      <td>24.250000</td>\n",
              "      <td>0.006399</td>\n",
              "      <td>0.020030</td>\n",
              "      <td>0.025440</td>\n",
              "      <td>0.010670</td>\n",
              "      <td>0.018680</td>\n",
              "      <td>0.003107</td>\n",
              "      <td>14.840000</td>\n",
              "      <td>25.220000</td>\n",
              "      <td>97.190000</td>\n",
              "      <td>677.300000</td>\n",
              "      <td>0.132400</td>\n",
              "      <td>0.214100</td>\n",
              "      <td>0.229900</td>\n",
              "      <td>0.098510</td>\n",
              "      <td>0.282300</td>\n",
              "      <td>0.079990</td>\n",
              "      <td>1.000000</td>\n",
              "    </tr>\n",
              "    <tr>\n",
              "      <th>75%</th>\n",
              "      <td>15.515000</td>\n",
              "      <td>21.595000</td>\n",
              "      <td>102.650000</td>\n",
              "      <td>748.050000</td>\n",
              "      <td>0.105300</td>\n",
              "      <td>0.130350</td>\n",
              "      <td>0.130000</td>\n",
              "      <td>0.073820</td>\n",
              "      <td>0.195300</td>\n",
              "      <td>0.066100</td>\n",
              "      <td>0.459000</td>\n",
              "      <td>1.433500</td>\n",
              "      <td>3.215000</td>\n",
              "      <td>44.180000</td>\n",
              "      <td>0.008039</td>\n",
              "      <td>0.031790</td>\n",
              "      <td>0.040110</td>\n",
              "      <td>0.014380</td>\n",
              "      <td>0.023360</td>\n",
              "      <td>0.004449</td>\n",
              "      <td>18.180000</td>\n",
              "      <td>29.445000</td>\n",
              "      <td>123.500000</td>\n",
              "      <td>1023.000000</td>\n",
              "      <td>0.146200</td>\n",
              "      <td>0.340750</td>\n",
              "      <td>0.385300</td>\n",
              "      <td>0.161350</td>\n",
              "      <td>0.317450</td>\n",
              "      <td>0.092100</td>\n",
              "      <td>1.000000</td>\n",
              "    </tr>\n",
              "    <tr>\n",
              "      <th>max</th>\n",
              "      <td>28.110000</td>\n",
              "      <td>39.280000</td>\n",
              "      <td>188.500000</td>\n",
              "      <td>2501.000000</td>\n",
              "      <td>0.163400</td>\n",
              "      <td>0.286700</td>\n",
              "      <td>0.426800</td>\n",
              "      <td>0.201200</td>\n",
              "      <td>0.304000</td>\n",
              "      <td>0.097440</td>\n",
              "      <td>2.873000</td>\n",
              "      <td>4.885000</td>\n",
              "      <td>21.980000</td>\n",
              "      <td>542.200000</td>\n",
              "      <td>0.031130</td>\n",
              "      <td>0.135400</td>\n",
              "      <td>0.396000</td>\n",
              "      <td>0.052790</td>\n",
              "      <td>0.061460</td>\n",
              "      <td>0.029840</td>\n",
              "      <td>36.040000</td>\n",
              "      <td>49.540000</td>\n",
              "      <td>251.200000</td>\n",
              "      <td>4254.000000</td>\n",
              "      <td>0.222600</td>\n",
              "      <td>1.058000</td>\n",
              "      <td>1.252000</td>\n",
              "      <td>0.291000</td>\n",
              "      <td>0.663800</td>\n",
              "      <td>0.207500</td>\n",
              "      <td>1.000000</td>\n",
              "    </tr>\n",
              "  </tbody>\n",
              "</table>\n",
              "</div>"
            ],
            "text/plain": [
              "       mean radius  mean texture  ...  worst fractal dimension      target\n",
              "count   455.000000    455.000000  ...               455.000000  455.000000\n",
              "mean     14.010701     19.222835  ...                 0.084156    0.632967\n",
              "std       3.388838      4.308776  ...                 0.018504    0.482526\n",
              "min       6.981000      9.710000  ...                 0.055210    0.000000\n",
              "25%      11.710000     16.190000  ...                 0.071835    0.000000\n",
              "50%      13.210000     18.770000  ...                 0.079990    1.000000\n",
              "75%      15.515000     21.595000  ...                 0.092100    1.000000\n",
              "max      28.110000     39.280000  ...                 0.207500    1.000000\n",
              "\n",
              "[8 rows x 31 columns]"
            ]
          },
          "metadata": {
            "tags": []
          },
          "execution_count": 15
        }
      ]
    },
    {
      "cell_type": "code",
      "metadata": {
        "id": "49yjZIesIOpg",
        "colab_type": "code",
        "colab": {
          "base_uri": "https://localhost:8080/",
          "height": 1000
        },
        "outputId": "6a7af615-be6f-43ad-b509-cd2a609e91cd"
      },
      "source": [
        "# show data\n",
        "df.hist(bins=50, figsize=(20,15))"
      ],
      "execution_count": 16,
      "outputs": [
        {
          "output_type": "execute_result",
          "data": {
            "text/plain": [
              "array([[<matplotlib.axes._subplots.AxesSubplot object at 0x7f1dfc601c50>,\n",
              "        <matplotlib.axes._subplots.AxesSubplot object at 0x7f1dfc53bef0>,\n",
              "        <matplotlib.axes._subplots.AxesSubplot object at 0x7f1dfc4f7198>,\n",
              "        <matplotlib.axes._subplots.AxesSubplot object at 0x7f1dfc4aa400>,\n",
              "        <matplotlib.axes._subplots.AxesSubplot object at 0x7f1dfc45a668>,\n",
              "        <matplotlib.axes._subplots.AxesSubplot object at 0x7f1dfc48dda0>],\n",
              "       [<matplotlib.axes._subplots.AxesSubplot object at 0x7f1dfc44e160>,\n",
              "        <matplotlib.axes._subplots.AxesSubplot object at 0x7f1dfc3fd4a8>,\n",
              "        <matplotlib.axes._subplots.AxesSubplot object at 0x7f1dfc3fd518>,\n",
              "        <matplotlib.axes._subplots.AxesSubplot object at 0x7f1dfc360be0>,\n",
              "        <matplotlib.axes._subplots.AxesSubplot object at 0x7f1dfc395f60>,\n",
              "        <matplotlib.axes._subplots.AxesSubplot object at 0x7f1dfc354320>],\n",
              "       [<matplotlib.axes._subplots.AxesSubplot object at 0x7f1dfc3056a0>,\n",
              "        <matplotlib.axes._subplots.AxesSubplot object at 0x7f1dfc2b7a20>,\n",
              "        <matplotlib.axes._subplots.AxesSubplot object at 0x7f1dfc269da0>,\n",
              "        <matplotlib.axes._subplots.AxesSubplot object at 0x7f1dfc226160>,\n",
              "        <matplotlib.axes._subplots.AxesSubplot object at 0x7f1dfc1da4e0>,\n",
              "        <matplotlib.axes._subplots.AxesSubplot object at 0x7f1dfc20b860>],\n",
              "       [<matplotlib.axes._subplots.AxesSubplot object at 0x7f1dfc1bfbe0>,\n",
              "        <matplotlib.axes._subplots.AxesSubplot object at 0x7f1dfc171f60>,\n",
              "        <matplotlib.axes._subplots.AxesSubplot object at 0x7f1dfc131320>,\n",
              "        <matplotlib.axes._subplots.AxesSubplot object at 0x7f1dfc0e26a0>,\n",
              "        <matplotlib.axes._subplots.AxesSubplot object at 0x7f1dfc114a20>,\n",
              "        <matplotlib.axes._subplots.AxesSubplot object at 0x7f1dfc0c6da0>],\n",
              "       [<matplotlib.axes._subplots.AxesSubplot object at 0x7f1dfc084160>,\n",
              "        <matplotlib.axes._subplots.AxesSubplot object at 0x7f1e0a95d550>,\n",
              "        <matplotlib.axes._subplots.AxesSubplot object at 0x7f1dfc500630>,\n",
              "        <matplotlib.axes._subplots.AxesSubplot object at 0x7f1dfcab0160>,\n",
              "        <matplotlib.axes._subplots.AxesSubplot object at 0x7f1dfca6c5f8>,\n",
              "        <matplotlib.axes._subplots.AxesSubplot object at 0x7f1df5fcdf98>],\n",
              "       [<matplotlib.axes._subplots.AxesSubplot object at 0x7f1df5f8c240>,\n",
              "        <matplotlib.axes._subplots.AxesSubplot object at 0x7f1df5fbf4a8>,\n",
              "        <matplotlib.axes._subplots.AxesSubplot object at 0x7f1df5f75710>,\n",
              "        <matplotlib.axes._subplots.AxesSubplot object at 0x7f1df5f27978>,\n",
              "        <matplotlib.axes._subplots.AxesSubplot object at 0x7f1df5ed9be0>,\n",
              "        <matplotlib.axes._subplots.AxesSubplot object at 0x7f1df5e8fe48>]],\n",
              "      dtype=object)"
            ]
          },
          "metadata": {
            "tags": []
          },
          "execution_count": 16
        },
        {
          "output_type": "display_data",
          "data": {
            "image/png": "[encoded data removed]",
            "text/plain": [
              "<Figure size 1440x1080 with 36 Axes>"
            ]
          },
          "metadata": {
            "tags": []
          }
        }
      ]
    },
    {
      "cell_type": "code",
      "metadata": {
        "id": "ECQDJkZlIve8",
        "colab_type": "code",
        "colab": {}
      },
      "source": [
        "#standard correlation coefficient\n",
        "corr_mx = df.corr()"
      ],
      "execution_count": 0,
      "outputs": []
    },
    {
      "cell_type": "code",
      "metadata": {
        "id": "H-_L1KrNIyZl",
        "colab_type": "code",
        "colab": {
          "base_uri": "https://localhost:8080/",
          "height": 561
        },
        "outputId": "68e8a7a1-ff25-4dea-ce3a-338eec38a9c1"
      },
      "source": [
        "corr_mx['target'].sort_values(ascending=False)"
      ],
      "execution_count": 18,
      "outputs": [
        {
          "output_type": "execute_result",
          "data": {
            "text/plain": [
              "target                     1.000000\n",
              "smoothness error           0.057437\n",
              "texture error              0.042387\n",
              "symmetry error             0.031374\n",
              "mean fractal dimension    -0.000475\n",
              "fractal dimension error   -0.067846\n",
              "concavity error           -0.212792\n",
              "compactness error         -0.273392\n",
              "worst fractal dimension   -0.328876\n",
              "mean symmetry             -0.349430\n",
              "mean smoothness           -0.373530\n",
              "concave points error      -0.382253\n",
              "mean texture              -0.405077\n",
              "worst symmetry            -0.440194\n",
              "worst smoothness          -0.446160\n",
              "worst texture             -0.447434\n",
              "area error                -0.506526\n",
              "perimeter error           -0.522607\n",
              "radius error              -0.532848\n",
              "worst compactness         -0.592559\n",
              "mean compactness          -0.598864\n",
              "worst concavity           -0.645982\n",
              "mean concavity            -0.685723\n",
              "mean area                 -0.701308\n",
              "mean radius               -0.723984\n",
              "worst area                -0.732832\n",
              "mean perimeter            -0.738152\n",
              "worst radius              -0.776425\n",
              "mean concave points       -0.781846\n",
              "worst perimeter           -0.783975\n",
              "worst concave points      -0.800860\n",
              "Name: target, dtype: float64"
            ]
          },
          "metadata": {
            "tags": []
          },
          "execution_count": 18
        }
      ]
    },
    {
      "cell_type": "code",
      "metadata": {
        "id": "rv08Dm_fI9zU",
        "colab_type": "code",
        "colab": {
          "base_uri": "https://localhost:8080/",
          "height": 794
        },
        "outputId": "7045f2a5-d03f-4810-f180-17a3210a08a0"
      },
      "source": [
        "attributes = ['target', 'worst concave points', 'worst perimeter', 'mean concave points']\n",
        "pd.plotting.scatter_matrix(df[attributes], figsize=(12, 8))"
      ],
      "execution_count": 19,
      "outputs": [
        {
          "output_type": "execute_result",
          "data": {
            "text/plain": [
              "array([[<matplotlib.axes._subplots.AxesSubplot object at 0x7f1df4e49f98>,\n",
              "        <matplotlib.axes._subplots.AxesSubplot object at 0x7f1df4f17438>,\n",
              "        <matplotlib.axes._subplots.AxesSubplot object at 0x7f1df4e3ba20>,\n",
              "        <matplotlib.axes._subplots.AxesSubplot object at 0x7f1df4d59278>],\n",
              "       [<matplotlib.axes._subplots.AxesSubplot object at 0x7f1df54cbfd0>,\n",
              "        <matplotlib.axes._subplots.AxesSubplot object at 0x7f1df4a19940>,\n",
              "        <matplotlib.axes._subplots.AxesSubplot object at 0x7f1df4c27550>,\n",
              "        <matplotlib.axes._subplots.AxesSubplot object at 0x7f1df41c3860>],\n",
              "       [<matplotlib.axes._subplots.AxesSubplot object at 0x7f1df41c38d0>,\n",
              "        <matplotlib.axes._subplots.AxesSubplot object at 0x7f1df419cd68>,\n",
              "        <matplotlib.axes._subplots.AxesSubplot object at 0x7f1df4151fd0>,\n",
              "        <matplotlib.axes._subplots.AxesSubplot object at 0x7f1df4110278>],\n",
              "       [<matplotlib.axes._subplots.AxesSubplot object at 0x7f1df40c44e0>,\n",
              "        <matplotlib.axes._subplots.AxesSubplot object at 0x7f1df40f9748>,\n",
              "        <matplotlib.axes._subplots.AxesSubplot object at 0x7f1df40ac9b0>,\n",
              "        <matplotlib.axes._subplots.AxesSubplot object at 0x7f1df405fc18>]],\n",
              "      dtype=object)"
            ]
          },
          "metadata": {
            "tags": []
          },
          "execution_count": 19
        },
        {
          "output_type": "display_data",
          "data": {
            "image/png": "[encoded data removed]",
            "text/plain": [
              "<Figure size 864x576 with 16 Axes>"
            ]
          },
          "metadata": {
            "tags": []
          }
        }
      ]
    },
    {
      "cell_type": "code",
      "metadata": {
        "id": "ipmabk2fJ0Tv",
        "colab_type": "code",
        "colab": {}
      },
      "source": [
        "scaler = StandardScaler()\n",
        "X_train_processed = scaler.fit_transform(X_train)"
      ],
      "execution_count": 0,
      "outputs": []
    },
    {
      "cell_type": "markdown",
      "metadata": {
        "id": "jvugNRRWNuYH",
        "colab_type": "text"
      },
      "source": [
        "###Train model"
      ]
    },
    {
      "cell_type": "code",
      "metadata": {
        "id": "y3caPEEIKCHY",
        "colab_type": "code",
        "colab": {}
      },
      "source": [
        "def build_model():\n",
        "  activation = 'elu'\n",
        "  model = Sequential([\n",
        "    Dropout(0.2, input_shape=(30,)),\n",
        "    Dense(64),\n",
        "    BatchNormalization(),\n",
        "    Activation(activation),\n",
        "    Dropout(0.5),\n",
        "    Dense(32, activation=activation),\n",
        "    Dense(1, activation='sigmoid')\n",
        "  ], name='my_model')\n",
        "\n",
        "  #compile\n",
        "  loss = 'binary_crossentropy'\n",
        "  optimizer = SGD(lr=0.005, nesterov=True)\n",
        "  model.compile(loss=loss, optimizer=optimizer, metrics=['accuracy'])\n",
        "\n",
        "  return model"
      ],
      "execution_count": 0,
      "outputs": []
    },
    {
      "cell_type": "code",
      "metadata": {
        "id": "mA5uTMOWz2Ql",
        "colab_type": "code",
        "colab": {}
      },
      "source": [
        "model = build_model()"
      ],
      "execution_count": 0,
      "outputs": []
    },
    {
      "cell_type": "code",
      "metadata": {
        "id": "2mGABOONPPIw",
        "colab_type": "code",
        "colab": {
          "base_uri": "https://localhost:8080/",
          "height": 391
        },
        "outputId": "ff9880bf-485a-401f-aeef-75e302a04f4c"
      },
      "source": [
        "model.summary()"
      ],
      "execution_count": 23,
      "outputs": [
        {
          "output_type": "stream",
          "text": [
            "Model: \"my_model\"\n",
            "_________________________________________________________________\n",
            "Layer (type)                 Output Shape              Param #   \n",
            "=================================================================\n",
            "dropout (Dropout)            (None, 30)                0         \n",
            "_________________________________________________________________\n",
            "dense (Dense)                (None, 64)                1984      \n",
            "_________________________________________________________________\n",
            "batch_normalization (BatchNo (None, 64)                256       \n",
            "_________________________________________________________________\n",
            "activation (Activation)      (None, 64)                0         \n",
            "_________________________________________________________________\n",
            "dropout_1 (Dropout)          (None, 64)                0         \n",
            "_________________________________________________________________\n",
            "dense_1 (Dense)              (None, 32)                2080      \n",
            "_________________________________________________________________\n",
            "dense_2 (Dense)              (None, 1)                 33        \n",
            "=================================================================\n",
            "Total params: 4,353\n",
            "Trainable params: 4,225\n",
            "Non-trainable params: 128\n",
            "_________________________________________________________________\n"
          ],
          "name": "stdout"
        }
      ]
    },
    {
      "cell_type": "code",
      "metadata": {
        "id": "lmHV5Rh2LX05",
        "colab_type": "code",
        "colab": {
          "base_uri": "https://localhost:8080/",
          "height": 786
        },
        "outputId": "62f994fc-5b59-4005-9b13-34d84d6f9edc"
      },
      "source": [
        "#show model\n",
        "SVG(model_to_dot(model, show_shapes=True, dpi=65).create(prog='dot', format='svg'))"
      ],
      "execution_count": 24,
      "outputs": [
        {
          "output_type": "execute_result",
          "data": {
            "text/plain": [
              "<IPython.core.display.SVG object>"
            ],
            "image/svg+xml": "<svg height=\"574pt\" viewBox=\"0.00 0.00 376.00 636.00\" width=\"339pt\" xmlns=\"http://www.w3.org/2000/svg\" xmlns:xlink=\"http://www.w3.org/1999/xlink\">\n<g class=\"graph\" id=\"graph0\" transform=\"scale(.9028 .9028) rotate(0) translate(4 632)\">\n<title>G</title>\n<polygon fill=\"#ffffff\" points=\"-4,4 -4,-632 372,-632 372,4 -4,4\" stroke=\"transparent\"/>\n<!-- 139766580497880 -->\n<g class=\"node\" id=\"node1\">\n<title>139766580497880</title>\n<polygon fill=\"none\" points=\"38,-581.5 38,-627.5 330,-627.5 330,-581.5 38,-581.5\" stroke=\"#000000\"/>\n<text fill=\"#000000\" font-family=\"Times,serif\" font-size=\"14.00\" text-anchor=\"middle\" x=\"123.5\" y=\"-600.8\">dropout_input: InputLayer</text>\n<polyline fill=\"none\" points=\"209,-581.5 209,-627.5 \" stroke=\"#000000\"/>\n<text fill=\"#000000\" font-family=\"Times,serif\" font-size=\"14.00\" text-anchor=\"middle\" x=\"238\" y=\"-612.3\">input:</text>\n<polyline fill=\"none\" points=\"209,-604.5 267,-604.5 \" stroke=\"#000000\"/>\n<text fill=\"#000000\" font-family=\"Times,serif\" font-size=\"14.00\" text-anchor=\"middle\" x=\"238\" y=\"-589.3\">output:</text>\n<polyline fill=\"none\" points=\"267,-581.5 267,-627.5 \" stroke=\"#000000\"/>\n<text fill=\"#000000\" font-family=\"Times,serif\" font-size=\"14.00\" text-anchor=\"middle\" x=\"298.5\" y=\"-612.3\">[(?, 30)]</text>\n<polyline fill=\"none\" points=\"267,-604.5 330,-604.5 \" stroke=\"#000000\"/>\n<text fill=\"#000000\" font-family=\"Times,serif\" font-size=\"14.00\" text-anchor=\"middle\" x=\"298.5\" y=\"-589.3\">[(?, 30)]</text>\n</g>\n<!-- 139766624566688 -->\n<g class=\"node\" id=\"node2\">\n<title>139766624566688</title>\n<polygon fill=\"none\" points=\"68.5,-498.5 68.5,-544.5 299.5,-544.5 299.5,-498.5 68.5,-498.5\" stroke=\"#000000\"/>\n<text fill=\"#000000\" font-family=\"Times,serif\" font-size=\"14.00\" text-anchor=\"middle\" x=\"128\" y=\"-517.8\">dropout: Dropout</text>\n<polyline fill=\"none\" points=\"187.5,-498.5 187.5,-544.5 \" stroke=\"#000000\"/>\n<text fill=\"#000000\" font-family=\"Times,serif\" font-size=\"14.00\" text-anchor=\"middle\" x=\"216.5\" y=\"-529.3\">input:</text>\n<polyline fill=\"none\" points=\"187.5,-521.5 245.5,-521.5 \" stroke=\"#000000\"/>\n<text fill=\"#000000\" font-family=\"Times,serif\" font-size=\"14.00\" text-anchor=\"middle\" x=\"216.5\" y=\"-506.3\">output:</text>\n<polyline fill=\"none\" points=\"245.5,-498.5 245.5,-544.5 \" stroke=\"#000000\"/>\n<text fill=\"#000000\" font-family=\"Times,serif\" font-size=\"14.00\" text-anchor=\"middle\" x=\"272.5\" y=\"-529.3\">(?, 30)</text>\n<polyline fill=\"none\" points=\"245.5,-521.5 299.5,-521.5 \" stroke=\"#000000\"/>\n<text fill=\"#000000\" font-family=\"Times,serif\" font-size=\"14.00\" text-anchor=\"middle\" x=\"272.5\" y=\"-506.3\">(?, 30)</text>\n</g>\n<!-- 139766580497880&#45;&gt;139766624566688 -->\n<g class=\"edge\" id=\"edge1\">\n<title>139766580497880-&gt;139766624566688</title>\n<path d=\"M184,-581.3799C184,-573.1745 184,-563.7679 184,-554.8786\" fill=\"none\" stroke=\"#000000\"/>\n<polygon fill=\"#000000\" points=\"187.5001,-554.784 184,-544.784 180.5001,-554.784 187.5001,-554.784\" stroke=\"#000000\"/>\n</g>\n<!-- 139766580416864 -->\n<g class=\"node\" id=\"node3\">\n<title>139766580416864</title>\n<polygon fill=\"none\" points=\"82,-415.5 82,-461.5 286,-461.5 286,-415.5 82,-415.5\" stroke=\"#000000\"/>\n<text fill=\"#000000\" font-family=\"Times,serif\" font-size=\"14.00\" text-anchor=\"middle\" x=\"128\" y=\"-434.8\">dense: Dense</text>\n<polyline fill=\"none\" points=\"174,-415.5 174,-461.5 \" stroke=\"#000000\"/>\n<text fill=\"#000000\" font-family=\"Times,serif\" font-size=\"14.00\" text-anchor=\"middle\" x=\"203\" y=\"-446.3\">input:</text>\n<polyline fill=\"none\" points=\"174,-438.5 232,-438.5 \" stroke=\"#000000\"/>\n<text fill=\"#000000\" font-family=\"Times,serif\" font-size=\"14.00\" text-anchor=\"middle\" x=\"203\" y=\"-423.3\">output:</text>\n<polyline fill=\"none\" points=\"232,-415.5 232,-461.5 \" stroke=\"#000000\"/>\n<text fill=\"#000000\" font-family=\"Times,serif\" font-size=\"14.00\" text-anchor=\"middle\" x=\"259\" y=\"-446.3\">(?, 30)</text>\n<polyline fill=\"none\" points=\"232,-438.5 286,-438.5 \" stroke=\"#000000\"/>\n<text fill=\"#000000\" font-family=\"Times,serif\" font-size=\"14.00\" text-anchor=\"middle\" x=\"259\" y=\"-423.3\">(?, 64)</text>\n</g>\n<!-- 139766624566688&#45;&gt;139766580416864 -->\n<g class=\"edge\" id=\"edge2\">\n<title>139766624566688-&gt;139766580416864</title>\n<path d=\"M184,-498.3799C184,-490.1745 184,-480.7679 184,-471.8786\" fill=\"none\" stroke=\"#000000\"/>\n<polygon fill=\"#000000\" points=\"187.5001,-471.784 184,-461.784 180.5001,-471.784 187.5001,-471.784\" stroke=\"#000000\"/>\n</g>\n<!-- 139766580986768 -->\n<g class=\"node\" id=\"node4\">\n<title>139766580986768</title>\n<polygon fill=\"none\" points=\"0,-332.5 0,-378.5 368,-378.5 368,-332.5 0,-332.5\" stroke=\"#000000\"/>\n<text fill=\"#000000\" font-family=\"Times,serif\" font-size=\"14.00\" text-anchor=\"middle\" x=\"128\" y=\"-351.8\">batch_normalization: BatchNormalization</text>\n<polyline fill=\"none\" points=\"256,-332.5 256,-378.5 \" stroke=\"#000000\"/>\n<text fill=\"#000000\" font-family=\"Times,serif\" font-size=\"14.00\" text-anchor=\"middle\" x=\"285\" y=\"-363.3\">input:</text>\n<polyline fill=\"none\" points=\"256,-355.5 314,-355.5 \" stroke=\"#000000\"/>\n<text fill=\"#000000\" font-family=\"Times,serif\" font-size=\"14.00\" text-anchor=\"middle\" x=\"285\" y=\"-340.3\">output:</text>\n<polyline fill=\"none\" points=\"314,-332.5 314,-378.5 \" stroke=\"#000000\"/>\n<text fill=\"#000000\" font-family=\"Times,serif\" font-size=\"14.00\" text-anchor=\"middle\" x=\"341\" y=\"-363.3\">(?, 64)</text>\n<polyline fill=\"none\" points=\"314,-355.5 368,-355.5 \" stroke=\"#000000\"/>\n<text fill=\"#000000\" font-family=\"Times,serif\" font-size=\"14.00\" text-anchor=\"middle\" x=\"341\" y=\"-340.3\">(?, 64)</text>\n</g>\n<!-- 139766580416864&#45;&gt;139766580986768 -->\n<g class=\"edge\" id=\"edge3\">\n<title>139766580416864-&gt;139766580986768</title>\n<path d=\"M184,-415.3799C184,-407.1745 184,-397.7679 184,-388.8786\" fill=\"none\" stroke=\"#000000\"/>\n<polygon fill=\"#000000\" points=\"187.5001,-388.784 184,-378.784 180.5001,-388.784 187.5001,-388.784\" stroke=\"#000000\"/>\n</g>\n<!-- 139766580887392 -->\n<g class=\"node\" id=\"node5\">\n<title>139766580887392</title>\n<polygon fill=\"none\" points=\"58.5,-249.5 58.5,-295.5 309.5,-295.5 309.5,-249.5 58.5,-249.5\" stroke=\"#000000\"/>\n<text fill=\"#000000\" font-family=\"Times,serif\" font-size=\"14.00\" text-anchor=\"middle\" x=\"128\" y=\"-268.8\">activation: Activation</text>\n<polyline fill=\"none\" points=\"197.5,-249.5 197.5,-295.5 \" stroke=\"#000000\"/>\n<text fill=\"#000000\" font-family=\"Times,serif\" font-size=\"14.00\" text-anchor=\"middle\" x=\"226.5\" y=\"-280.3\">input:</text>\n<polyline fill=\"none\" points=\"197.5,-272.5 255.5,-272.5 \" stroke=\"#000000\"/>\n<text fill=\"#000000\" font-family=\"Times,serif\" font-size=\"14.00\" text-anchor=\"middle\" x=\"226.5\" y=\"-257.3\">output:</text>\n<polyline fill=\"none\" points=\"255.5,-249.5 255.5,-295.5 \" stroke=\"#000000\"/>\n<text fill=\"#000000\" font-family=\"Times,serif\" font-size=\"14.00\" text-anchor=\"middle\" x=\"282.5\" y=\"-280.3\">(?, 64)</text>\n<polyline fill=\"none\" points=\"255.5,-272.5 309.5,-272.5 \" stroke=\"#000000\"/>\n<text fill=\"#000000\" font-family=\"Times,serif\" font-size=\"14.00\" text-anchor=\"middle\" x=\"282.5\" y=\"-257.3\">(?, 64)</text>\n</g>\n<!-- 139766580986768&#45;&gt;139766580887392 -->\n<g class=\"edge\" id=\"edge4\">\n<title>139766580986768-&gt;139766580887392</title>\n<path d=\"M184,-332.3799C184,-324.1745 184,-314.7679 184,-305.8786\" fill=\"none\" stroke=\"#000000\"/>\n<polygon fill=\"#000000\" points=\"187.5001,-305.784 184,-295.784 180.5001,-305.784 187.5001,-305.784\" stroke=\"#000000\"/>\n</g>\n<!-- 139766648397720 -->\n<g class=\"node\" id=\"node6\">\n<title>139766648397720</title>\n<polygon fill=\"none\" points=\"61,-166.5 61,-212.5 307,-212.5 307,-166.5 61,-166.5\" stroke=\"#000000\"/>\n<text fill=\"#000000\" font-family=\"Times,serif\" font-size=\"14.00\" text-anchor=\"middle\" x=\"128\" y=\"-185.8\">dropout_1: Dropout</text>\n<polyline fill=\"none\" points=\"195,-166.5 195,-212.5 \" stroke=\"#000000\"/>\n<text fill=\"#000000\" font-family=\"Times,serif\" font-size=\"14.00\" text-anchor=\"middle\" x=\"224\" y=\"-197.3\">input:</text>\n<polyline fill=\"none\" points=\"195,-189.5 253,-189.5 \" stroke=\"#000000\"/>\n<text fill=\"#000000\" font-family=\"Times,serif\" font-size=\"14.00\" text-anchor=\"middle\" x=\"224\" y=\"-174.3\">output:</text>\n<polyline fill=\"none\" points=\"253,-166.5 253,-212.5 \" stroke=\"#000000\"/>\n<text fill=\"#000000\" font-family=\"Times,serif\" font-size=\"14.00\" text-anchor=\"middle\" x=\"280\" y=\"-197.3\">(?, 64)</text>\n<polyline fill=\"none\" points=\"253,-189.5 307,-189.5 \" stroke=\"#000000\"/>\n<text fill=\"#000000\" font-family=\"Times,serif\" font-size=\"14.00\" text-anchor=\"middle\" x=\"280\" y=\"-174.3\">(?, 64)</text>\n</g>\n<!-- 139766580887392&#45;&gt;139766648397720 -->\n<g class=\"edge\" id=\"edge5\">\n<title>139766580887392-&gt;139766648397720</title>\n<path d=\"M184,-249.3799C184,-241.1745 184,-231.7679 184,-222.8786\" fill=\"none\" stroke=\"#000000\"/>\n<polygon fill=\"#000000\" points=\"187.5001,-222.784 184,-212.784 180.5001,-222.784 187.5001,-222.784\" stroke=\"#000000\"/>\n</g>\n<!-- 139766764913496 -->\n<g class=\"node\" id=\"node7\">\n<title>139766764913496</title>\n<polygon fill=\"none\" points=\"74.5,-83.5 74.5,-129.5 293.5,-129.5 293.5,-83.5 74.5,-83.5\" stroke=\"#000000\"/>\n<text fill=\"#000000\" font-family=\"Times,serif\" font-size=\"14.00\" text-anchor=\"middle\" x=\"128\" y=\"-102.8\">dense_1: Dense</text>\n<polyline fill=\"none\" points=\"181.5,-83.5 181.5,-129.5 \" stroke=\"#000000\"/>\n<text fill=\"#000000\" font-family=\"Times,serif\" font-size=\"14.00\" text-anchor=\"middle\" x=\"210.5\" y=\"-114.3\">input:</text>\n<polyline fill=\"none\" points=\"181.5,-106.5 239.5,-106.5 \" stroke=\"#000000\"/>\n<text fill=\"#000000\" font-family=\"Times,serif\" font-size=\"14.00\" text-anchor=\"middle\" x=\"210.5\" y=\"-91.3\">output:</text>\n<polyline fill=\"none\" points=\"239.5,-83.5 239.5,-129.5 \" stroke=\"#000000\"/>\n<text fill=\"#000000\" font-family=\"Times,serif\" font-size=\"14.00\" text-anchor=\"middle\" x=\"266.5\" y=\"-114.3\">(?, 64)</text>\n<polyline fill=\"none\" points=\"239.5,-106.5 293.5,-106.5 \" stroke=\"#000000\"/>\n<text fill=\"#000000\" font-family=\"Times,serif\" font-size=\"14.00\" text-anchor=\"middle\" x=\"266.5\" y=\"-91.3\">(?, 32)</text>\n</g>\n<!-- 139766648397720&#45;&gt;139766764913496 -->\n<g class=\"edge\" id=\"edge6\">\n<title>139766648397720-&gt;139766764913496</title>\n<path d=\"M184,-166.3799C184,-158.1745 184,-148.7679 184,-139.8786\" fill=\"none\" stroke=\"#000000\"/>\n<polygon fill=\"#000000\" points=\"187.5001,-139.784 184,-129.784 180.5001,-139.784 187.5001,-139.784\" stroke=\"#000000\"/>\n</g>\n<!-- 139766635678688 -->\n<g class=\"node\" id=\"node8\">\n<title>139766635678688</title>\n<polygon fill=\"none\" points=\"74.5,-.5 74.5,-46.5 293.5,-46.5 293.5,-.5 74.5,-.5\" stroke=\"#000000\"/>\n<text fill=\"#000000\" font-family=\"Times,serif\" font-size=\"14.00\" text-anchor=\"middle\" x=\"128\" y=\"-19.8\">dense_2: Dense</text>\n<polyline fill=\"none\" points=\"181.5,-.5 181.5,-46.5 \" stroke=\"#000000\"/>\n<text fill=\"#000000\" font-family=\"Times,serif\" font-size=\"14.00\" text-anchor=\"middle\" x=\"210.5\" y=\"-31.3\">input:</text>\n<polyline fill=\"none\" points=\"181.5,-23.5 239.5,-23.5 \" stroke=\"#000000\"/>\n<text fill=\"#000000\" font-family=\"Times,serif\" font-size=\"14.00\" text-anchor=\"middle\" x=\"210.5\" y=\"-8.3\">output:</text>\n<polyline fill=\"none\" points=\"239.5,-.5 239.5,-46.5 \" stroke=\"#000000\"/>\n<text fill=\"#000000\" font-family=\"Times,serif\" font-size=\"14.00\" text-anchor=\"middle\" x=\"266.5\" y=\"-31.3\">(?, 32)</text>\n<polyline fill=\"none\" points=\"239.5,-23.5 293.5,-23.5 \" stroke=\"#000000\"/>\n<text fill=\"#000000\" font-family=\"Times,serif\" font-size=\"14.00\" text-anchor=\"middle\" x=\"266.5\" y=\"-8.3\">(?, 1)</text>\n</g>\n<!-- 139766764913496&#45;&gt;139766635678688 -->\n<g class=\"edge\" id=\"edge7\">\n<title>139766764913496-&gt;139766635678688</title>\n<path d=\"M184,-83.3799C184,-75.1745 184,-65.7679 184,-56.8786\" fill=\"none\" stroke=\"#000000\"/>\n<polygon fill=\"#000000\" points=\"187.5001,-56.784 184,-46.784 180.5001,-56.784 187.5001,-56.784\" stroke=\"#000000\"/>\n</g>\n</g>\n</svg>"
          },
          "metadata": {
            "tags": []
          },
          "execution_count": 24
        }
      ]
    },
    {
      "cell_type": "code",
      "metadata": {
        "id": "rHmCPSKrhNhb",
        "colab_type": "code",
        "colab": {
          "base_uri": "https://localhost:8080/",
          "height": 63
        },
        "outputId": "fefe9db7-988a-4546-a5d8-b8af610bc6f1"
      },
      "source": [
        "!mkdir log"
      ],
      "execution_count": 25,
      "outputs": [
        {
          "output_type": "stream",
          "text": [
            "mkdir: cannot create directory ‘log’: File exists\n"
          ],
          "name": "stdout"
        }
      ]
    },
    {
      "cell_type": "code",
      "metadata": {
        "id": "Y67ATRdYLME9",
        "colab_type": "code",
        "colab": {}
      },
      "source": [
        "callbacks = [#EarlyStopping(monitor='val_loss', patience=30, restore_best_weights=True), #stop training if there is no improvement\n",
        "                   ModelCheckpoint('./log/model_{epoch:03d}_{val_loss:.4f}.h5', save_best_only=True) #save models\n",
        "                   ]"
      ],
      "execution_count": 0,
      "outputs": []
    },
    {
      "cell_type": "code",
      "metadata": {
        "id": "uOUjfKTHNyhh",
        "colab_type": "code",
        "outputId": "c5280a81-2b2a-4415-9146-9d6f7b8c397b",
        "colab": {
          "base_uri": "https://localhost:8080/",
          "height": 1000
        }
      },
      "source": [
        "history = model.fit(X_train_processed, y_train, epochs=100, batch_size=32, validation_split=0.1, callbacks=callbacks)"
      ],
      "execution_count": 27,
      "outputs": [
        {
          "output_type": "stream",
          "text": [
            "Epoch 1/100\n",
            "13/13 [==============================] - 0s 17ms/step - loss: 0.7990 - accuracy: 0.5183 - val_loss: 0.5391 - val_accuracy: 0.8261\n",
            "Epoch 2/100\n",
            "13/13 [==============================] - 0s 5ms/step - loss: 0.5955 - accuracy: 0.6846 - val_loss: 0.4343 - val_accuracy: 0.8696\n",
            "Epoch 3/100\n",
            "13/13 [==============================] - 0s 5ms/step - loss: 0.5201 - accuracy: 0.7384 - val_loss: 0.3692 - val_accuracy: 0.8913\n",
            "Epoch 4/100\n",
            "13/13 [==============================] - 0s 5ms/step - loss: 0.4284 - accuracy: 0.8044 - val_loss: 0.3273 - val_accuracy: 0.8913\n",
            "Epoch 5/100\n",
            "13/13 [==============================] - 0s 6ms/step - loss: 0.4072 - accuracy: 0.8386 - val_loss: 0.2992 - val_accuracy: 0.9130\n",
            "Epoch 6/100\n",
            "13/13 [==============================] - 0s 5ms/step - loss: 0.4088 - accuracy: 0.8264 - val_loss: 0.2745 - val_accuracy: 0.9348\n",
            "Epoch 7/100\n",
            "13/13 [==============================] - 0s 5ms/step - loss: 0.3656 - accuracy: 0.8509 - val_loss: 0.2553 - val_accuracy: 0.9348\n",
            "Epoch 8/100\n",
            "13/13 [==============================] - 0s 6ms/step - loss: 0.3280 - accuracy: 0.8753 - val_loss: 0.2417 - val_accuracy: 0.9348\n",
            "Epoch 9/100\n",
            "13/13 [==============================] - 0s 6ms/step - loss: 0.3155 - accuracy: 0.8704 - val_loss: 0.2295 - val_accuracy: 0.9348\n",
            "Epoch 10/100\n",
            "13/13 [==============================] - 0s 5ms/step - loss: 0.3041 - accuracy: 0.8655 - val_loss: 0.2200 - val_accuracy: 0.9348\n",
            "Epoch 11/100\n",
            "13/13 [==============================] - 0s 5ms/step - loss: 0.2477 - accuracy: 0.9169 - val_loss: 0.2122 - val_accuracy: 0.9348\n",
            "Epoch 12/100\n",
            "13/13 [==============================] - 0s 5ms/step - loss: 0.3079 - accuracy: 0.8778 - val_loss: 0.2051 - val_accuracy: 0.9348\n",
            "Epoch 13/100\n",
            "13/13 [==============================] - 0s 5ms/step - loss: 0.3040 - accuracy: 0.8729 - val_loss: 0.1995 - val_accuracy: 0.9565\n",
            "Epoch 14/100\n",
            "13/13 [==============================] - 0s 6ms/step - loss: 0.2769 - accuracy: 0.8851 - val_loss: 0.1951 - val_accuracy: 0.9565\n",
            "Epoch 15/100\n",
            "13/13 [==============================] - 0s 6ms/step - loss: 0.2318 - accuracy: 0.9169 - val_loss: 0.1910 - val_accuracy: 0.9565\n",
            "Epoch 16/100\n",
            "13/13 [==============================] - 0s 5ms/step - loss: 0.2514 - accuracy: 0.8949 - val_loss: 0.1869 - val_accuracy: 0.9565\n",
            "Epoch 17/100\n",
            "13/13 [==============================] - 0s 6ms/step - loss: 0.2190 - accuracy: 0.9242 - val_loss: 0.1829 - val_accuracy: 0.9565\n",
            "Epoch 18/100\n",
            "13/13 [==============================] - 0s 5ms/step - loss: 0.2210 - accuracy: 0.9242 - val_loss: 0.1790 - val_accuracy: 0.9565\n",
            "Epoch 19/100\n",
            "13/13 [==============================] - 0s 5ms/step - loss: 0.2008 - accuracy: 0.9291 - val_loss: 0.1757 - val_accuracy: 0.9565\n",
            "Epoch 20/100\n",
            "13/13 [==============================] - 0s 6ms/step - loss: 0.2322 - accuracy: 0.9218 - val_loss: 0.1734 - val_accuracy: 0.9565\n",
            "Epoch 21/100\n",
            "13/13 [==============================] - 0s 5ms/step - loss: 0.2091 - accuracy: 0.9218 - val_loss: 0.1708 - val_accuracy: 0.9565\n",
            "Epoch 22/100\n",
            "13/13 [==============================] - 0s 5ms/step - loss: 0.1793 - accuracy: 0.9560 - val_loss: 0.1684 - val_accuracy: 0.9565\n",
            "Epoch 23/100\n",
            "13/13 [==============================] - 0s 5ms/step - loss: 0.2142 - accuracy: 0.9267 - val_loss: 0.1670 - val_accuracy: 0.9565\n",
            "Epoch 24/100\n",
            "13/13 [==============================] - 0s 6ms/step - loss: 0.2019 - accuracy: 0.9315 - val_loss: 0.1652 - val_accuracy: 0.9565\n",
            "Epoch 25/100\n",
            "13/13 [==============================] - 0s 5ms/step - loss: 0.2061 - accuracy: 0.9242 - val_loss: 0.1632 - val_accuracy: 0.9565\n",
            "Epoch 26/100\n",
            "13/13 [==============================] - 0s 6ms/step - loss: 0.1490 - accuracy: 0.9584 - val_loss: 0.1619 - val_accuracy: 0.9565\n",
            "Epoch 27/100\n",
            "13/13 [==============================] - 0s 6ms/step - loss: 0.2269 - accuracy: 0.9169 - val_loss: 0.1608 - val_accuracy: 0.9565\n",
            "Epoch 28/100\n",
            "13/13 [==============================] - 0s 5ms/step - loss: 0.2140 - accuracy: 0.9120 - val_loss: 0.1591 - val_accuracy: 0.9565\n",
            "Epoch 29/100\n",
            "13/13 [==============================] - 0s 5ms/step - loss: 0.1816 - accuracy: 0.9487 - val_loss: 0.1575 - val_accuracy: 0.9565\n",
            "Epoch 30/100\n",
            "13/13 [==============================] - 0s 5ms/step - loss: 0.2340 - accuracy: 0.8998 - val_loss: 0.1564 - val_accuracy: 0.9565\n",
            "Epoch 31/100\n",
            "13/13 [==============================] - 0s 5ms/step - loss: 0.1726 - accuracy: 0.9487 - val_loss: 0.1551 - val_accuracy: 0.9565\n",
            "Epoch 32/100\n",
            "13/13 [==============================] - 0s 5ms/step - loss: 0.1828 - accuracy: 0.9340 - val_loss: 0.1545 - val_accuracy: 0.9565\n",
            "Epoch 33/100\n",
            "13/13 [==============================] - 0s 6ms/step - loss: 0.1679 - accuracy: 0.9364 - val_loss: 0.1532 - val_accuracy: 0.9565\n",
            "Epoch 34/100\n",
            "13/13 [==============================] - 0s 6ms/step - loss: 0.1660 - accuracy: 0.9389 - val_loss: 0.1524 - val_accuracy: 0.9565\n",
            "Epoch 35/100\n",
            "13/13 [==============================] - 0s 5ms/step - loss: 0.1920 - accuracy: 0.9242 - val_loss: 0.1508 - val_accuracy: 0.9565\n",
            "Epoch 36/100\n",
            "13/13 [==============================] - 0s 5ms/step - loss: 0.1769 - accuracy: 0.9364 - val_loss: 0.1499 - val_accuracy: 0.9565\n",
            "Epoch 37/100\n",
            "13/13 [==============================] - 0s 5ms/step - loss: 0.1719 - accuracy: 0.9413 - val_loss: 0.1496 - val_accuracy: 0.9565\n",
            "Epoch 38/100\n",
            "13/13 [==============================] - 0s 5ms/step - loss: 0.2004 - accuracy: 0.9242 - val_loss: 0.1485 - val_accuracy: 0.9565\n",
            "Epoch 39/100\n",
            "13/13 [==============================] - 0s 5ms/step - loss: 0.1766 - accuracy: 0.9389 - val_loss: 0.1479 - val_accuracy: 0.9565\n",
            "Epoch 40/100\n",
            "13/13 [==============================] - 0s 6ms/step - loss: 0.1678 - accuracy: 0.9389 - val_loss: 0.1471 - val_accuracy: 0.9565\n",
            "Epoch 41/100\n",
            "13/13 [==============================] - 0s 5ms/step - loss: 0.1851 - accuracy: 0.9315 - val_loss: 0.1467 - val_accuracy: 0.9565\n",
            "Epoch 42/100\n",
            "13/13 [==============================] - 0s 5ms/step - loss: 0.1677 - accuracy: 0.9487 - val_loss: 0.1459 - val_accuracy: 0.9565\n",
            "Epoch 43/100\n",
            "13/13 [==============================] - 0s 5ms/step - loss: 0.1761 - accuracy: 0.9340 - val_loss: 0.1459 - val_accuracy: 0.9565\n",
            "Epoch 44/100\n",
            "13/13 [==============================] - 0s 5ms/step - loss: 0.1606 - accuracy: 0.9511 - val_loss: 0.1453 - val_accuracy: 0.9565\n",
            "Epoch 45/100\n",
            "13/13 [==============================] - 0s 5ms/step - loss: 0.1506 - accuracy: 0.9535 - val_loss: 0.1450 - val_accuracy: 0.9565\n",
            "Epoch 46/100\n",
            "13/13 [==============================] - 0s 5ms/step - loss: 0.1906 - accuracy: 0.9267 - val_loss: 0.1436 - val_accuracy: 0.9565\n",
            "Epoch 47/100\n",
            "13/13 [==============================] - 0s 5ms/step - loss: 0.2098 - accuracy: 0.9144 - val_loss: 0.1437 - val_accuracy: 0.9565\n",
            "Epoch 48/100\n",
            "13/13 [==============================] - 0s 6ms/step - loss: 0.1684 - accuracy: 0.9413 - val_loss: 0.1426 - val_accuracy: 0.9565\n",
            "Epoch 49/100\n",
            "13/13 [==============================] - 0s 5ms/step - loss: 0.1615 - accuracy: 0.9413 - val_loss: 0.1419 - val_accuracy: 0.9565\n",
            "Epoch 50/100\n",
            "13/13 [==============================] - 0s 6ms/step - loss: 0.1959 - accuracy: 0.9071 - val_loss: 0.1416 - val_accuracy: 0.9565\n",
            "Epoch 51/100\n",
            "13/13 [==============================] - 0s 5ms/step - loss: 0.1593 - accuracy: 0.9560 - val_loss: 0.1412 - val_accuracy: 0.9565\n",
            "Epoch 52/100\n",
            "13/13 [==============================] - 0s 6ms/step - loss: 0.1596 - accuracy: 0.9462 - val_loss: 0.1408 - val_accuracy: 0.9565\n",
            "Epoch 53/100\n",
            "13/13 [==============================] - 0s 4ms/step - loss: 0.1581 - accuracy: 0.9438 - val_loss: 0.1408 - val_accuracy: 0.9565\n",
            "Epoch 54/100\n",
            "13/13 [==============================] - 0s 6ms/step - loss: 0.1576 - accuracy: 0.9462 - val_loss: 0.1406 - val_accuracy: 0.9565\n",
            "Epoch 55/100\n",
            "13/13 [==============================] - 0s 5ms/step - loss: 0.1942 - accuracy: 0.9193 - val_loss: 0.1400 - val_accuracy: 0.9565\n",
            "Epoch 56/100\n",
            "13/13 [==============================] - 0s 4ms/step - loss: 0.1646 - accuracy: 0.9462 - val_loss: 0.1401 - val_accuracy: 0.9565\n",
            "Epoch 57/100\n",
            "13/13 [==============================] - 0s 5ms/step - loss: 0.1423 - accuracy: 0.9413 - val_loss: 0.1393 - val_accuracy: 0.9565\n",
            "Epoch 58/100\n",
            "13/13 [==============================] - 0s 5ms/step - loss: 0.1653 - accuracy: 0.9389 - val_loss: 0.1389 - val_accuracy: 0.9565\n",
            "Epoch 59/100\n",
            "13/13 [==============================] - 0s 5ms/step - loss: 0.1560 - accuracy: 0.9315 - val_loss: 0.1382 - val_accuracy: 0.9565\n",
            "Epoch 60/100\n",
            "13/13 [==============================] - 0s 5ms/step - loss: 0.1768 - accuracy: 0.9267 - val_loss: 0.1381 - val_accuracy: 0.9565\n",
            "Epoch 61/100\n",
            "13/13 [==============================] - 0s 4ms/step - loss: 0.1493 - accuracy: 0.9462 - val_loss: 0.1382 - val_accuracy: 0.9565\n",
            "Epoch 62/100\n",
            "13/13 [==============================] - 0s 6ms/step - loss: 0.1514 - accuracy: 0.9487 - val_loss: 0.1381 - val_accuracy: 0.9565\n",
            "Epoch 63/100\n",
            "13/13 [==============================] - 0s 6ms/step - loss: 0.1395 - accuracy: 0.9609 - val_loss: 0.1376 - val_accuracy: 0.9565\n",
            "Epoch 64/100\n",
            "13/13 [==============================] - 0s 6ms/step - loss: 0.1747 - accuracy: 0.9291 - val_loss: 0.1368 - val_accuracy: 0.9565\n",
            "Epoch 65/100\n",
            "13/13 [==============================] - 0s 4ms/step - loss: 0.1854 - accuracy: 0.9340 - val_loss: 0.1375 - val_accuracy: 0.9565\n",
            "Epoch 66/100\n",
            "13/13 [==============================] - 0s 5ms/step - loss: 0.1527 - accuracy: 0.9315 - val_loss: 0.1377 - val_accuracy: 0.9565\n",
            "Epoch 67/100\n",
            "13/13 [==============================] - 0s 5ms/step - loss: 0.1343 - accuracy: 0.9487 - val_loss: 0.1377 - val_accuracy: 0.9565\n",
            "Epoch 68/100\n",
            "13/13 [==============================] - 0s 5ms/step - loss: 0.1471 - accuracy: 0.9487 - val_loss: 0.1378 - val_accuracy: 0.9565\n",
            "Epoch 69/100\n",
            "13/13 [==============================] - 0s 4ms/step - loss: 0.1417 - accuracy: 0.9462 - val_loss: 0.1376 - val_accuracy: 0.9565\n",
            "Epoch 70/100\n",
            "13/13 [==============================] - 0s 4ms/step - loss: 0.1664 - accuracy: 0.9389 - val_loss: 0.1377 - val_accuracy: 0.9565\n",
            "Epoch 71/100\n",
            "13/13 [==============================] - 0s 5ms/step - loss: 0.1573 - accuracy: 0.9340 - val_loss: 0.1369 - val_accuracy: 0.9565\n",
            "Epoch 72/100\n",
            "13/13 [==============================] - 0s 5ms/step - loss: 0.1192 - accuracy: 0.9584 - val_loss: 0.1368 - val_accuracy: 0.9565\n",
            "Epoch 73/100\n",
            "13/13 [==============================] - 0s 5ms/step - loss: 0.1578 - accuracy: 0.9389 - val_loss: 0.1376 - val_accuracy: 0.9565\n",
            "Epoch 74/100\n",
            "13/13 [==============================] - 0s 4ms/step - loss: 0.1218 - accuracy: 0.9511 - val_loss: 0.1368 - val_accuracy: 0.9565\n",
            "Epoch 75/100\n",
            "13/13 [==============================] - 0s 4ms/step - loss: 0.1849 - accuracy: 0.9267 - val_loss: 0.1369 - val_accuracy: 0.9565\n",
            "Epoch 76/100\n",
            "13/13 [==============================] - 0s 5ms/step - loss: 0.1380 - accuracy: 0.9438 - val_loss: 0.1368 - val_accuracy: 0.9565\n",
            "Epoch 77/100\n",
            "13/13 [==============================] - 0s 5ms/step - loss: 0.1374 - accuracy: 0.9413 - val_loss: 0.1365 - val_accuracy: 0.9565\n",
            "Epoch 78/100\n",
            "13/13 [==============================] - 0s 5ms/step - loss: 0.1419 - accuracy: 0.9511 - val_loss: 0.1358 - val_accuracy: 0.9565\n",
            "Epoch 79/100\n",
            "13/13 [==============================] - 0s 4ms/step - loss: 0.1895 - accuracy: 0.9315 - val_loss: 0.1360 - val_accuracy: 0.9565\n",
            "Epoch 80/100\n",
            "13/13 [==============================] - 0s 5ms/step - loss: 0.1450 - accuracy: 0.9560 - val_loss: 0.1360 - val_accuracy: 0.9565\n",
            "Epoch 81/100\n",
            "13/13 [==============================] - 0s 4ms/step - loss: 0.1383 - accuracy: 0.9487 - val_loss: 0.1365 - val_accuracy: 0.9565\n",
            "Epoch 82/100\n",
            "13/13 [==============================] - 0s 4ms/step - loss: 0.1340 - accuracy: 0.9535 - val_loss: 0.1366 - val_accuracy: 0.9565\n",
            "Epoch 83/100\n",
            "13/13 [==============================] - 0s 5ms/step - loss: 0.1165 - accuracy: 0.9682 - val_loss: 0.1361 - val_accuracy: 0.9565\n",
            "Epoch 84/100\n",
            "13/13 [==============================] - 0s 4ms/step - loss: 0.1498 - accuracy: 0.9462 - val_loss: 0.1373 - val_accuracy: 0.9565\n",
            "Epoch 85/100\n",
            "13/13 [==============================] - 0s 4ms/step - loss: 0.1516 - accuracy: 0.9413 - val_loss: 0.1376 - val_accuracy: 0.9565\n",
            "Epoch 86/100\n",
            "13/13 [==============================] - 0s 4ms/step - loss: 0.1615 - accuracy: 0.9413 - val_loss: 0.1380 - val_accuracy: 0.9565\n",
            "Epoch 87/100\n",
            "13/13 [==============================] - 0s 4ms/step - loss: 0.1452 - accuracy: 0.9389 - val_loss: 0.1383 - val_accuracy: 0.9565\n",
            "Epoch 88/100\n",
            "13/13 [==============================] - 0s 4ms/step - loss: 0.1222 - accuracy: 0.9584 - val_loss: 0.1377 - val_accuracy: 0.9565\n",
            "Epoch 89/100\n",
            "13/13 [==============================] - 0s 4ms/step - loss: 0.1521 - accuracy: 0.9487 - val_loss: 0.1372 - val_accuracy: 0.9565\n",
            "Epoch 90/100\n",
            "13/13 [==============================] - 0s 5ms/step - loss: 0.1549 - accuracy: 0.9364 - val_loss: 0.1369 - val_accuracy: 0.9565\n",
            "Epoch 91/100\n",
            "13/13 [==============================] - 0s 4ms/step - loss: 0.1229 - accuracy: 0.9560 - val_loss: 0.1358 - val_accuracy: 0.9565\n",
            "Epoch 92/100\n",
            "13/13 [==============================] - 0s 6ms/step - loss: 0.1166 - accuracy: 0.9682 - val_loss: 0.1357 - val_accuracy: 0.9565\n",
            "Epoch 93/100\n",
            "13/13 [==============================] - 0s 6ms/step - loss: 0.1628 - accuracy: 0.9340 - val_loss: 0.1351 - val_accuracy: 0.9565\n",
            "Epoch 94/100\n",
            "13/13 [==============================] - 0s 5ms/step - loss: 0.1183 - accuracy: 0.9511 - val_loss: 0.1348 - val_accuracy: 0.9565\n",
            "Epoch 95/100\n",
            "13/13 [==============================] - 0s 4ms/step - loss: 0.1475 - accuracy: 0.9487 - val_loss: 0.1350 - val_accuracy: 0.9565\n",
            "Epoch 96/100\n",
            "13/13 [==============================] - 0s 5ms/step - loss: 0.1351 - accuracy: 0.9535 - val_loss: 0.1344 - val_accuracy: 0.9565\n",
            "Epoch 97/100\n",
            "13/13 [==============================] - 0s 5ms/step - loss: 0.1308 - accuracy: 0.9584 - val_loss: 0.1341 - val_accuracy: 0.9565\n",
            "Epoch 98/100\n",
            "13/13 [==============================] - 0s 6ms/step - loss: 0.1045 - accuracy: 0.9756 - val_loss: 0.1338 - val_accuracy: 0.9565\n",
            "Epoch 99/100\n",
            "13/13 [==============================] - 0s 5ms/step - loss: 0.1406 - accuracy: 0.9462 - val_loss: 0.1344 - val_accuracy: 0.9565\n",
            "Epoch 100/100\n",
            "13/13 [==============================] - 0s 4ms/step - loss: 0.1419 - accuracy: 0.9438 - val_loss: 0.1346 - val_accuracy: 0.9565\n"
          ],
          "name": "stdout"
        }
      ]
    },
    {
      "cell_type": "code",
      "metadata": {
        "id": "DgH_gEwmbEEw",
        "colab_type": "code",
        "colab": {}
      },
      "source": [
        "def plot_loss_and_accuracy(history):\n",
        "  plt.figure(figsize=(12, 4))\n",
        "  plt.subplot(121)\n",
        "  plt.plot(history.epoch, history.history[\"accuracy\"], label=\"train_accuracy\")\n",
        "  plt.plot(history.epoch, history.history[\"val_accuracy\"], label=\"val_accuracy\")\n",
        "  plt.xlabel(\"epoch\")\n",
        "  plt.legend()\n",
        "\n",
        "  plt.subplot(122)\n",
        "  plt.plot(history.epoch, history.history[\"loss\"], label=\"train_loss\")\n",
        "  plt.plot(history.epoch, history.history[\"val_loss\"], label=\"val_loss\")\n",
        "  plt.xlabel(\"epoch\")\n",
        "  plt.legend()"
      ],
      "execution_count": 0,
      "outputs": []
    },
    {
      "cell_type": "code",
      "metadata": {
        "id": "gIILW_QwAMfy",
        "colab_type": "code",
        "colab": {
          "base_uri": "https://localhost:8080/",
          "height": 279
        },
        "outputId": "a426311a-a797-48aa-9ce8-d177731106c8"
      },
      "source": [
        "plot_loss_and_accuracy(history)"
      ],
      "execution_count": 29,
      "outputs": [
        {
          "output_type": "display_data",
          "data": {
            "image/png": "[encoded data removed]",
            "text/plain": [
              "<Figure size 864x288 with 2 Axes>"
            ]
          },
          "metadata": {
            "tags": []
          }
        }
      ]
    },
    {
      "cell_type": "markdown",
      "metadata": {
        "id": "ulyGSSBYOId8",
        "colab_type": "text"
      },
      "source": [
        "###Evaluation"
      ]
    },
    {
      "cell_type": "markdown",
      "metadata": {
        "id": "LtE4TV6ZUNvi",
        "colab_type": "text"
      },
      "source": [
        "k-th cross validation"
      ]
    },
    {
      "cell_type": "code",
      "metadata": {
        "id": "6ys8yBVdf1SF",
        "colab_type": "code",
        "colab": {}
      },
      "source": [
        "def cross_validation(X, y, cv=None, epochs=100, batch_size=32):\n",
        "  kf = KFold(n_splits=cv, shuffle=True)\n",
        "\n",
        "  y_probas = [0] * len(y)\n",
        "  accuracy_list = []\n",
        "  for train_index, val_index in kf.split(X, y):\n",
        "    train_data = X[train_index]\n",
        "    train_label = y[train_index]\n",
        "    val_data = X[val_index]\n",
        "    val_label = y[val_index]\n",
        "\n",
        "    model = build_model()\n",
        "    history = model.fit(train_data, train_label, epochs=epochs, batch_size=batch_size, validation_data=(val_data, val_label))\n",
        "    val_probas = model.predict(val_data)\n",
        "    for i, index in enumerate(val_index):\n",
        "      y_probas[index] = val_probas[i][0]\n",
        "\n",
        "    plot_loss_and_accuracy(history)\n",
        "\n",
        "    accuracy = np.max(history.history['val_accuracy'])\n",
        "    print('accuracy : ', accuracy)\n",
        "    accuracy_list.append(accuracy)\n",
        "\n",
        "  print('accuracy : ', np.mean(accuracy_list), ' +- ', np.std(accuracy_list))  \n",
        "\n",
        "  return y_probas"
      ],
      "execution_count": 0,
      "outputs": []
    },
    {
      "cell_type": "code",
      "metadata": {
        "id": "-d6cE1TvOIB8",
        "colab_type": "code",
        "outputId": "798bc391-60f2-4808-80d9-bd1cbd4253bd",
        "colab": {
          "base_uri": "https://localhost:8080/",
          "height": 1000
        }
      },
      "source": [
        "#k-th cross validation\n",
        "cv = 3 #the number of foldings\n",
        "y_train_probas = cross_validation(X_train_processed, y_train, cv=cv)"
      ],
      "execution_count": 31,
      "outputs": [
        {
          "output_type": "stream",
          "text": [
            "Epoch 1/100\n",
            "10/10 [==============================] - 0s 13ms/step - loss: 0.8835 - accuracy: 0.5512 - val_loss: 0.5021 - val_accuracy: 0.7500\n",
            "Epoch 2/100\n",
            "10/10 [==============================] - 0s 6ms/step - loss: 0.6190 - accuracy: 0.6799 - val_loss: 0.3930 - val_accuracy: 0.8618\n",
            "Epoch 3/100\n",
            "10/10 [==============================] - 0s 5ms/step - loss: 0.5347 - accuracy: 0.6931 - val_loss: 0.3225 - val_accuracy: 0.9408\n",
            "Epoch 4/100\n",
            "10/10 [==============================] - 0s 5ms/step - loss: 0.4871 - accuracy: 0.7723 - val_loss: 0.2766 - val_accuracy: 0.9474\n",
            "Epoch 5/100\n",
            "10/10 [==============================] - 0s 5ms/step - loss: 0.3574 - accuracy: 0.8482 - val_loss: 0.2487 - val_accuracy: 0.9539\n",
            "Epoch 6/100\n",
            "10/10 [==============================] - 0s 6ms/step - loss: 0.4075 - accuracy: 0.8086 - val_loss: 0.2267 - val_accuracy: 0.9605\n",
            "Epoch 7/100\n",
            "10/10 [==============================] - 0s 5ms/step - loss: 0.3295 - accuracy: 0.8581 - val_loss: 0.2124 - val_accuracy: 0.9605\n",
            "Epoch 8/100\n",
            "10/10 [==============================] - 0s 6ms/step - loss: 0.3309 - accuracy: 0.8746 - val_loss: 0.1995 - val_accuracy: 0.9605\n",
            "Epoch 9/100\n",
            "10/10 [==============================] - 0s 6ms/step - loss: 0.2968 - accuracy: 0.8977 - val_loss: 0.1885 - val_accuracy: 0.9605\n",
            "Epoch 10/100\n",
            "10/10 [==============================] - 0s 5ms/step - loss: 0.2906 - accuracy: 0.8779 - val_loss: 0.1788 - val_accuracy: 0.9605\n",
            "Epoch 11/100\n",
            "10/10 [==============================] - 0s 6ms/step - loss: 0.3223 - accuracy: 0.8845 - val_loss: 0.1722 - val_accuracy: 0.9605\n",
            "Epoch 12/100\n",
            "10/10 [==============================] - 0s 5ms/step - loss: 0.2411 - accuracy: 0.9076 - val_loss: 0.1666 - val_accuracy: 0.9605\n",
            "Epoch 13/100\n",
            "10/10 [==============================] - 0s 5ms/step - loss: 0.2640 - accuracy: 0.8944 - val_loss: 0.1601 - val_accuracy: 0.9671\n",
            "Epoch 14/100\n",
            "10/10 [==============================] - 0s 6ms/step - loss: 0.2754 - accuracy: 0.9010 - val_loss: 0.1554 - val_accuracy: 0.9671\n",
            "Epoch 15/100\n",
            "10/10 [==============================] - 0s 5ms/step - loss: 0.2552 - accuracy: 0.8977 - val_loss: 0.1505 - val_accuracy: 0.9671\n",
            "Epoch 16/100\n",
            "10/10 [==============================] - 0s 6ms/step - loss: 0.2168 - accuracy: 0.9373 - val_loss: 0.1462 - val_accuracy: 0.9671\n",
            "Epoch 17/100\n",
            "10/10 [==============================] - 0s 6ms/step - loss: 0.2396 - accuracy: 0.9175 - val_loss: 0.1418 - val_accuracy: 0.9671\n",
            "Epoch 18/100\n",
            "10/10 [==============================] - 0s 5ms/step - loss: 0.2221 - accuracy: 0.9241 - val_loss: 0.1377 - val_accuracy: 0.9671\n",
            "Epoch 19/100\n",
            "10/10 [==============================] - 0s 5ms/step - loss: 0.1929 - accuracy: 0.9175 - val_loss: 0.1342 - val_accuracy: 0.9671\n",
            "Epoch 20/100\n",
            "10/10 [==============================] - 0s 5ms/step - loss: 0.1817 - accuracy: 0.9373 - val_loss: 0.1308 - val_accuracy: 0.9671\n",
            "Epoch 21/100\n",
            "10/10 [==============================] - 0s 5ms/step - loss: 0.2171 - accuracy: 0.9076 - val_loss: 0.1283 - val_accuracy: 0.9671\n",
            "Epoch 22/100\n",
            "10/10 [==============================] - 0s 5ms/step - loss: 0.2031 - accuracy: 0.9175 - val_loss: 0.1246 - val_accuracy: 0.9671\n",
            "Epoch 23/100\n",
            "10/10 [==============================] - 0s 6ms/step - loss: 0.2188 - accuracy: 0.9076 - val_loss: 0.1226 - val_accuracy: 0.9671\n",
            "Epoch 24/100\n",
            "10/10 [==============================] - 0s 5ms/step - loss: 0.2253 - accuracy: 0.9241 - val_loss: 0.1197 - val_accuracy: 0.9671\n",
            "Epoch 25/100\n",
            "10/10 [==============================] - 0s 6ms/step - loss: 0.1678 - accuracy: 0.9472 - val_loss: 0.1181 - val_accuracy: 0.9671\n",
            "Epoch 26/100\n",
            "10/10 [==============================] - 0s 5ms/step - loss: 0.1902 - accuracy: 0.9406 - val_loss: 0.1163 - val_accuracy: 0.9671\n",
            "Epoch 27/100\n",
            "10/10 [==============================] - 0s 5ms/step - loss: 0.1563 - accuracy: 0.9505 - val_loss: 0.1153 - val_accuracy: 0.9671\n",
            "Epoch 28/100\n",
            "10/10 [==============================] - 0s 5ms/step - loss: 0.1846 - accuracy: 0.9307 - val_loss: 0.1138 - val_accuracy: 0.9671\n",
            "Epoch 29/100\n",
            "10/10 [==============================] - 0s 5ms/step - loss: 0.2239 - accuracy: 0.9109 - val_loss: 0.1119 - val_accuracy: 0.9671\n",
            "Epoch 30/100\n",
            "10/10 [==============================] - 0s 5ms/step - loss: 0.2000 - accuracy: 0.9142 - val_loss: 0.1094 - val_accuracy: 0.9671\n",
            "Epoch 31/100\n",
            "10/10 [==============================] - 0s 5ms/step - loss: 0.2243 - accuracy: 0.9274 - val_loss: 0.1076 - val_accuracy: 0.9671\n",
            "Epoch 32/100\n",
            "10/10 [==============================] - 0s 5ms/step - loss: 0.1864 - accuracy: 0.9307 - val_loss: 0.1065 - val_accuracy: 0.9671\n",
            "Epoch 33/100\n",
            "10/10 [==============================] - 0s 6ms/step - loss: 0.1983 - accuracy: 0.9175 - val_loss: 0.1060 - val_accuracy: 0.9671\n",
            "Epoch 34/100\n",
            "10/10 [==============================] - 0s 5ms/step - loss: 0.1826 - accuracy: 0.9373 - val_loss: 0.1043 - val_accuracy: 0.9671\n",
            "Epoch 35/100\n",
            "10/10 [==============================] - 0s 5ms/step - loss: 0.1678 - accuracy: 0.9439 - val_loss: 0.1024 - val_accuracy: 0.9671\n",
            "Epoch 36/100\n",
            "10/10 [==============================] - 0s 5ms/step - loss: 0.1748 - accuracy: 0.9406 - val_loss: 0.1003 - val_accuracy: 0.9671\n",
            "Epoch 37/100\n",
            "10/10 [==============================] - 0s 5ms/step - loss: 0.1543 - accuracy: 0.9439 - val_loss: 0.0988 - val_accuracy: 0.9671\n",
            "Epoch 38/100\n",
            "10/10 [==============================] - 0s 5ms/step - loss: 0.1626 - accuracy: 0.9406 - val_loss: 0.0980 - val_accuracy: 0.9737\n",
            "Epoch 39/100\n",
            "10/10 [==============================] - 0s 5ms/step - loss: 0.1901 - accuracy: 0.9373 - val_loss: 0.0974 - val_accuracy: 0.9737\n",
            "Epoch 40/100\n",
            "10/10 [==============================] - 0s 5ms/step - loss: 0.2100 - accuracy: 0.9208 - val_loss: 0.0961 - val_accuracy: 0.9803\n",
            "Epoch 41/100\n",
            "10/10 [==============================] - 0s 5ms/step - loss: 0.1875 - accuracy: 0.9307 - val_loss: 0.0949 - val_accuracy: 0.9803\n",
            "Epoch 42/100\n",
            "10/10 [==============================] - 0s 6ms/step - loss: 0.2029 - accuracy: 0.9241 - val_loss: 0.0942 - val_accuracy: 0.9803\n",
            "Epoch 43/100\n",
            "10/10 [==============================] - 0s 5ms/step - loss: 0.1815 - accuracy: 0.9241 - val_loss: 0.0925 - val_accuracy: 0.9803\n",
            "Epoch 44/100\n",
            "10/10 [==============================] - 0s 5ms/step - loss: 0.1758 - accuracy: 0.9340 - val_loss: 0.0920 - val_accuracy: 0.9803\n",
            "Epoch 45/100\n",
            "10/10 [==============================] - 0s 5ms/step - loss: 0.1592 - accuracy: 0.9472 - val_loss: 0.0918 - val_accuracy: 0.9803\n",
            "Epoch 46/100\n",
            "10/10 [==============================] - 0s 6ms/step - loss: 0.1553 - accuracy: 0.9472 - val_loss: 0.0906 - val_accuracy: 0.9803\n",
            "Epoch 47/100\n",
            "10/10 [==============================] - 0s 5ms/step - loss: 0.1357 - accuracy: 0.9538 - val_loss: 0.0899 - val_accuracy: 0.9803\n",
            "Epoch 48/100\n",
            "10/10 [==============================] - 0s 5ms/step - loss: 0.1446 - accuracy: 0.9472 - val_loss: 0.0888 - val_accuracy: 0.9803\n",
            "Epoch 49/100\n",
            "10/10 [==============================] - 0s 5ms/step - loss: 0.1707 - accuracy: 0.9439 - val_loss: 0.0881 - val_accuracy: 0.9803\n",
            "Epoch 50/100\n",
            "10/10 [==============================] - 0s 6ms/step - loss: 0.1498 - accuracy: 0.9472 - val_loss: 0.0873 - val_accuracy: 0.9803\n",
            "Epoch 51/100\n",
            "10/10 [==============================] - 0s 6ms/step - loss: 0.1745 - accuracy: 0.9439 - val_loss: 0.0860 - val_accuracy: 0.9803\n",
            "Epoch 52/100\n",
            "10/10 [==============================] - 0s 5ms/step - loss: 0.1672 - accuracy: 0.9274 - val_loss: 0.0852 - val_accuracy: 0.9803\n",
            "Epoch 53/100\n",
            "10/10 [==============================] - 0s 5ms/step - loss: 0.2201 - accuracy: 0.9076 - val_loss: 0.0849 - val_accuracy: 0.9803\n",
            "Epoch 54/100\n",
            "10/10 [==============================] - 0s 5ms/step - loss: 0.1550 - accuracy: 0.9472 - val_loss: 0.0839 - val_accuracy: 0.9803\n",
            "Epoch 55/100\n",
            "10/10 [==============================] - 0s 5ms/step - loss: 0.1915 - accuracy: 0.9340 - val_loss: 0.0833 - val_accuracy: 0.9803\n",
            "Epoch 56/100\n",
            "10/10 [==============================] - 0s 6ms/step - loss: 0.2047 - accuracy: 0.9208 - val_loss: 0.0829 - val_accuracy: 0.9803\n",
            "Epoch 57/100\n",
            "10/10 [==============================] - 0s 5ms/step - loss: 0.1710 - accuracy: 0.9274 - val_loss: 0.0823 - val_accuracy: 0.9803\n",
            "Epoch 58/100\n",
            "10/10 [==============================] - 0s 6ms/step - loss: 0.1638 - accuracy: 0.9340 - val_loss: 0.0821 - val_accuracy: 0.9803\n",
            "Epoch 59/100\n",
            "10/10 [==============================] - 0s 5ms/step - loss: 0.1539 - accuracy: 0.9439 - val_loss: 0.0816 - val_accuracy: 0.9803\n",
            "Epoch 60/100\n",
            "10/10 [==============================] - 0s 6ms/step - loss: 0.1628 - accuracy: 0.9406 - val_loss: 0.0811 - val_accuracy: 0.9803\n",
            "Epoch 61/100\n",
            "10/10 [==============================] - 0s 6ms/step - loss: 0.1498 - accuracy: 0.9505 - val_loss: 0.0800 - val_accuracy: 0.9803\n",
            "Epoch 62/100\n",
            "10/10 [==============================] - 0s 5ms/step - loss: 0.1738 - accuracy: 0.9208 - val_loss: 0.0799 - val_accuracy: 0.9803\n",
            "Epoch 63/100\n",
            "10/10 [==============================] - 0s 5ms/step - loss: 0.1470 - accuracy: 0.9406 - val_loss: 0.0795 - val_accuracy: 0.9803\n",
            "Epoch 64/100\n",
            "10/10 [==============================] - 0s 6ms/step - loss: 0.1376 - accuracy: 0.9472 - val_loss: 0.0788 - val_accuracy: 0.9803\n",
            "Epoch 65/100\n",
            "10/10 [==============================] - 0s 6ms/step - loss: 0.1360 - accuracy: 0.9571 - val_loss: 0.0786 - val_accuracy: 0.9803\n",
            "Epoch 66/100\n",
            "10/10 [==============================] - 0s 5ms/step - loss: 0.1841 - accuracy: 0.9241 - val_loss: 0.0779 - val_accuracy: 0.9803\n",
            "Epoch 67/100\n",
            "10/10 [==============================] - 0s 6ms/step - loss: 0.1463 - accuracy: 0.9406 - val_loss: 0.0774 - val_accuracy: 0.9803\n",
            "Epoch 68/100\n",
            "10/10 [==============================] - 0s 5ms/step - loss: 0.1274 - accuracy: 0.9637 - val_loss: 0.0775 - val_accuracy: 0.9803\n",
            "Epoch 69/100\n",
            "10/10 [==============================] - 0s 5ms/step - loss: 0.1735 - accuracy: 0.9472 - val_loss: 0.0770 - val_accuracy: 0.9803\n",
            "Epoch 70/100\n",
            "10/10 [==============================] - 0s 6ms/step - loss: 0.1621 - accuracy: 0.9373 - val_loss: 0.0764 - val_accuracy: 0.9868\n",
            "Epoch 71/100\n",
            "10/10 [==============================] - 0s 5ms/step - loss: 0.1435 - accuracy: 0.9538 - val_loss: 0.0761 - val_accuracy: 0.9868\n",
            "Epoch 72/100\n",
            "10/10 [==============================] - 0s 5ms/step - loss: 0.1653 - accuracy: 0.9406 - val_loss: 0.0761 - val_accuracy: 0.9868\n",
            "Epoch 73/100\n",
            "10/10 [==============================] - 0s 5ms/step - loss: 0.1426 - accuracy: 0.9439 - val_loss: 0.0761 - val_accuracy: 0.9803\n",
            "Epoch 74/100\n",
            "10/10 [==============================] - 0s 5ms/step - loss: 0.1538 - accuracy: 0.9439 - val_loss: 0.0761 - val_accuracy: 0.9803\n",
            "Epoch 75/100\n",
            "10/10 [==============================] - 0s 6ms/step - loss: 0.2171 - accuracy: 0.9208 - val_loss: 0.0760 - val_accuracy: 0.9803\n",
            "Epoch 76/100\n",
            "10/10 [==============================] - 0s 5ms/step - loss: 0.1460 - accuracy: 0.9274 - val_loss: 0.0759 - val_accuracy: 0.9803\n",
            "Epoch 77/100\n",
            "10/10 [==============================] - 0s 5ms/step - loss: 0.2080 - accuracy: 0.9175 - val_loss: 0.0748 - val_accuracy: 0.9803\n",
            "Epoch 78/100\n",
            "10/10 [==============================] - 0s 5ms/step - loss: 0.1453 - accuracy: 0.9505 - val_loss: 0.0744 - val_accuracy: 0.9868\n",
            "Epoch 79/100\n",
            "10/10 [==============================] - 0s 5ms/step - loss: 0.1592 - accuracy: 0.9340 - val_loss: 0.0743 - val_accuracy: 0.9868\n",
            "Epoch 80/100\n",
            "10/10 [==============================] - 0s 6ms/step - loss: 0.1327 - accuracy: 0.9472 - val_loss: 0.0736 - val_accuracy: 0.9868\n",
            "Epoch 81/100\n",
            "10/10 [==============================] - 0s 6ms/step - loss: 0.1690 - accuracy: 0.9472 - val_loss: 0.0733 - val_accuracy: 0.9868\n",
            "Epoch 82/100\n",
            "10/10 [==============================] - 0s 6ms/step - loss: 0.1726 - accuracy: 0.9439 - val_loss: 0.0736 - val_accuracy: 0.9868\n",
            "Epoch 83/100\n",
            "10/10 [==============================] - 0s 6ms/step - loss: 0.1832 - accuracy: 0.9406 - val_loss: 0.0733 - val_accuracy: 0.9868\n",
            "Epoch 84/100\n",
            "10/10 [==============================] - 0s 6ms/step - loss: 0.1775 - accuracy: 0.9307 - val_loss: 0.0730 - val_accuracy: 0.9868\n",
            "Epoch 85/100\n",
            "10/10 [==============================] - 0s 5ms/step - loss: 0.1548 - accuracy: 0.9373 - val_loss: 0.0729 - val_accuracy: 0.9868\n",
            "Epoch 86/100\n",
            "10/10 [==============================] - 0s 5ms/step - loss: 0.1808 - accuracy: 0.9175 - val_loss: 0.0730 - val_accuracy: 0.9868\n",
            "Epoch 87/100\n",
            "10/10 [==============================] - 0s 6ms/step - loss: 0.1972 - accuracy: 0.9208 - val_loss: 0.0725 - val_accuracy: 0.9868\n",
            "Epoch 88/100\n",
            "10/10 [==============================] - 0s 5ms/step - loss: 0.1814 - accuracy: 0.9472 - val_loss: 0.0717 - val_accuracy: 0.9868\n",
            "Epoch 89/100\n",
            "10/10 [==============================] - 0s 6ms/step - loss: 0.1892 - accuracy: 0.9208 - val_loss: 0.0717 - val_accuracy: 0.9868\n",
            "Epoch 90/100\n",
            "10/10 [==============================] - 0s 5ms/step - loss: 0.1462 - accuracy: 0.9472 - val_loss: 0.0718 - val_accuracy: 0.9868\n",
            "Epoch 91/100\n",
            "10/10 [==============================] - 0s 6ms/step - loss: 0.1450 - accuracy: 0.9439 - val_loss: 0.0716 - val_accuracy: 0.9868\n",
            "Epoch 92/100\n",
            "10/10 [==============================] - 0s 5ms/step - loss: 0.1839 - accuracy: 0.9241 - val_loss: 0.0714 - val_accuracy: 0.9868\n",
            "Epoch 93/100\n",
            "10/10 [==============================] - 0s 5ms/step - loss: 0.1848 - accuracy: 0.9340 - val_loss: 0.0713 - val_accuracy: 0.9868\n",
            "Epoch 94/100\n",
            "10/10 [==============================] - 0s 5ms/step - loss: 0.2134 - accuracy: 0.9175 - val_loss: 0.0712 - val_accuracy: 0.9868\n",
            "Epoch 95/100\n",
            "10/10 [==============================] - 0s 5ms/step - loss: 0.1615 - accuracy: 0.9439 - val_loss: 0.0708 - val_accuracy: 0.9868\n",
            "Epoch 96/100\n",
            "10/10 [==============================] - 0s 5ms/step - loss: 0.1356 - accuracy: 0.9439 - val_loss: 0.0706 - val_accuracy: 0.9868\n",
            "Epoch 97/100\n",
            "10/10 [==============================] - 0s 5ms/step - loss: 0.1900 - accuracy: 0.9274 - val_loss: 0.0704 - val_accuracy: 0.9868\n",
            "Epoch 98/100\n",
            "10/10 [==============================] - 0s 6ms/step - loss: 0.1536 - accuracy: 0.9472 - val_loss: 0.0703 - val_accuracy: 0.9868\n",
            "Epoch 99/100\n",
            "10/10 [==============================] - 0s 6ms/step - loss: 0.1488 - accuracy: 0.9439 - val_loss: 0.0703 - val_accuracy: 0.9868\n",
            "Epoch 100/100\n",
            "10/10 [==============================] - 0s 6ms/step - loss: 0.1146 - accuracy: 0.9538 - val_loss: 0.0699 - val_accuracy: 0.9868\n",
            "accuracy :  0.9868420958518982\n",
            "Epoch 1/100\n",
            "10/10 [==============================] - 0s 13ms/step - loss: 0.6037 - accuracy: 0.6799 - val_loss: 0.4878 - val_accuracy: 0.7697\n",
            "Epoch 2/100\n",
            "10/10 [==============================] - 0s 5ms/step - loss: 0.5387 - accuracy: 0.7459 - val_loss: 0.4219 - val_accuracy: 0.8289\n",
            "Epoch 3/100\n",
            "10/10 [==============================] - 0s 5ms/step - loss: 0.4740 - accuracy: 0.7921 - val_loss: 0.3771 - val_accuracy: 0.8553\n",
            "Epoch 4/100\n",
            "10/10 [==============================] - 0s 6ms/step - loss: 0.3914 - accuracy: 0.8449 - val_loss: 0.3425 - val_accuracy: 0.8882\n",
            "Epoch 5/100\n",
            "10/10 [==============================] - 0s 6ms/step - loss: 0.3903 - accuracy: 0.8317 - val_loss: 0.3145 - val_accuracy: 0.9013\n",
            "Epoch 6/100\n",
            "10/10 [==============================] - 0s 26ms/step - loss: 0.3314 - accuracy: 0.8746 - val_loss: 0.2959 - val_accuracy: 0.9079\n",
            "Epoch 7/100\n",
            "10/10 [==============================] - 0s 5ms/step - loss: 0.3160 - accuracy: 0.8812 - val_loss: 0.2782 - val_accuracy: 0.9079\n",
            "Epoch 8/100\n",
            "10/10 [==============================] - 0s 6ms/step - loss: 0.3185 - accuracy: 0.8779 - val_loss: 0.2640 - val_accuracy: 0.9079\n",
            "Epoch 9/100\n",
            "10/10 [==============================] - 0s 5ms/step - loss: 0.3285 - accuracy: 0.8548 - val_loss: 0.2520 - val_accuracy: 0.9211\n",
            "Epoch 10/100\n",
            "10/10 [==============================] - 0s 5ms/step - loss: 0.2776 - accuracy: 0.9010 - val_loss: 0.2428 - val_accuracy: 0.9211\n",
            "Epoch 11/100\n",
            "10/10 [==============================] - 0s 5ms/step - loss: 0.2772 - accuracy: 0.9142 - val_loss: 0.2356 - val_accuracy: 0.9211\n",
            "Epoch 12/100\n",
            "10/10 [==============================] - 0s 6ms/step - loss: 0.2642 - accuracy: 0.8977 - val_loss: 0.2278 - val_accuracy: 0.9211\n",
            "Epoch 13/100\n",
            "10/10 [==============================] - 0s 6ms/step - loss: 0.2651 - accuracy: 0.8878 - val_loss: 0.2210 - val_accuracy: 0.9276\n",
            "Epoch 14/100\n",
            "10/10 [==============================] - 0s 6ms/step - loss: 0.2069 - accuracy: 0.9340 - val_loss: 0.2152 - val_accuracy: 0.9276\n",
            "Epoch 15/100\n",
            "10/10 [==============================] - 0s 5ms/step - loss: 0.2737 - accuracy: 0.9076 - val_loss: 0.2094 - val_accuracy: 0.9276\n",
            "Epoch 16/100\n",
            "10/10 [==============================] - 0s 5ms/step - loss: 0.2224 - accuracy: 0.9208 - val_loss: 0.2049 - val_accuracy: 0.9276\n",
            "Epoch 17/100\n",
            "10/10 [==============================] - 0s 5ms/step - loss: 0.2101 - accuracy: 0.9373 - val_loss: 0.2005 - val_accuracy: 0.9408\n",
            "Epoch 18/100\n",
            "10/10 [==============================] - 0s 6ms/step - loss: 0.2161 - accuracy: 0.9340 - val_loss: 0.1965 - val_accuracy: 0.9408\n",
            "Epoch 19/100\n",
            "10/10 [==============================] - 0s 5ms/step - loss: 0.2297 - accuracy: 0.9109 - val_loss: 0.1929 - val_accuracy: 0.9408\n",
            "Epoch 20/100\n",
            "10/10 [==============================] - 0s 5ms/step - loss: 0.2111 - accuracy: 0.9241 - val_loss: 0.1899 - val_accuracy: 0.9408\n",
            "Epoch 21/100\n",
            "10/10 [==============================] - 0s 5ms/step - loss: 0.2000 - accuracy: 0.9274 - val_loss: 0.1874 - val_accuracy: 0.9474\n",
            "Epoch 22/100\n",
            "10/10 [==============================] - 0s 5ms/step - loss: 0.2299 - accuracy: 0.9307 - val_loss: 0.1842 - val_accuracy: 0.9474\n",
            "Epoch 23/100\n",
            "10/10 [==============================] - 0s 5ms/step - loss: 0.1898 - accuracy: 0.9340 - val_loss: 0.1812 - val_accuracy: 0.9474\n",
            "Epoch 24/100\n",
            "10/10 [==============================] - 0s 7ms/step - loss: 0.1957 - accuracy: 0.9307 - val_loss: 0.1790 - val_accuracy: 0.9474\n",
            "Epoch 25/100\n",
            "10/10 [==============================] - 0s 6ms/step - loss: 0.1953 - accuracy: 0.9373 - val_loss: 0.1764 - val_accuracy: 0.9474\n",
            "Epoch 26/100\n",
            "10/10 [==============================] - 0s 5ms/step - loss: 0.2034 - accuracy: 0.9439 - val_loss: 0.1745 - val_accuracy: 0.9474\n",
            "Epoch 27/100\n",
            "10/10 [==============================] - 0s 6ms/step - loss: 0.1802 - accuracy: 0.9472 - val_loss: 0.1727 - val_accuracy: 0.9474\n",
            "Epoch 28/100\n",
            "10/10 [==============================] - 0s 5ms/step - loss: 0.2088 - accuracy: 0.9142 - val_loss: 0.1710 - val_accuracy: 0.9474\n",
            "Epoch 29/100\n",
            "10/10 [==============================] - 0s 5ms/step - loss: 0.1853 - accuracy: 0.9307 - val_loss: 0.1699 - val_accuracy: 0.9474\n",
            "Epoch 30/100\n",
            "10/10 [==============================] - 0s 5ms/step - loss: 0.1761 - accuracy: 0.9472 - val_loss: 0.1678 - val_accuracy: 0.9474\n",
            "Epoch 31/100\n",
            "10/10 [==============================] - 0s 6ms/step - loss: 0.2160 - accuracy: 0.9142 - val_loss: 0.1663 - val_accuracy: 0.9474\n",
            "Epoch 32/100\n",
            "10/10 [==============================] - 0s 6ms/step - loss: 0.1790 - accuracy: 0.9274 - val_loss: 0.1650 - val_accuracy: 0.9474\n",
            "Epoch 33/100\n",
            "10/10 [==============================] - 0s 6ms/step - loss: 0.1985 - accuracy: 0.9241 - val_loss: 0.1638 - val_accuracy: 0.9474\n",
            "Epoch 34/100\n",
            "10/10 [==============================] - 0s 6ms/step - loss: 0.1546 - accuracy: 0.9439 - val_loss: 0.1621 - val_accuracy: 0.9474\n",
            "Epoch 35/100\n",
            "10/10 [==============================] - 0s 5ms/step - loss: 0.1700 - accuracy: 0.9538 - val_loss: 0.1609 - val_accuracy: 0.9474\n",
            "Epoch 36/100\n",
            "10/10 [==============================] - 0s 6ms/step - loss: 0.1649 - accuracy: 0.9472 - val_loss: 0.1600 - val_accuracy: 0.9474\n",
            "Epoch 37/100\n",
            "10/10 [==============================] - 0s 6ms/step - loss: 0.1597 - accuracy: 0.9340 - val_loss: 0.1590 - val_accuracy: 0.9474\n",
            "Epoch 38/100\n",
            "10/10 [==============================] - 0s 5ms/step - loss: 0.1618 - accuracy: 0.9373 - val_loss: 0.1583 - val_accuracy: 0.9474\n",
            "Epoch 39/100\n",
            "10/10 [==============================] - 0s 5ms/step - loss: 0.1629 - accuracy: 0.9340 - val_loss: 0.1572 - val_accuracy: 0.9474\n",
            "Epoch 40/100\n",
            "10/10 [==============================] - 0s 6ms/step - loss: 0.1436 - accuracy: 0.9505 - val_loss: 0.1554 - val_accuracy: 0.9474\n",
            "Epoch 41/100\n",
            "10/10 [==============================] - 0s 5ms/step - loss: 0.1419 - accuracy: 0.9637 - val_loss: 0.1545 - val_accuracy: 0.9474\n",
            "Epoch 42/100\n",
            "10/10 [==============================] - 0s 6ms/step - loss: 0.1550 - accuracy: 0.9439 - val_loss: 0.1538 - val_accuracy: 0.9474\n",
            "Epoch 43/100\n",
            "10/10 [==============================] - 0s 5ms/step - loss: 0.1058 - accuracy: 0.9703 - val_loss: 0.1528 - val_accuracy: 0.9474\n",
            "Epoch 44/100\n",
            "10/10 [==============================] - 0s 5ms/step - loss: 0.1568 - accuracy: 0.9505 - val_loss: 0.1520 - val_accuracy: 0.9474\n",
            "Epoch 45/100\n",
            "10/10 [==============================] - 0s 6ms/step - loss: 0.1594 - accuracy: 0.9241 - val_loss: 0.1513 - val_accuracy: 0.9474\n",
            "Epoch 46/100\n",
            "10/10 [==============================] - 0s 6ms/step - loss: 0.1246 - accuracy: 0.9670 - val_loss: 0.1505 - val_accuracy: 0.9474\n",
            "Epoch 47/100\n",
            "10/10 [==============================] - 0s 6ms/step - loss: 0.1380 - accuracy: 0.9406 - val_loss: 0.1500 - val_accuracy: 0.9474\n",
            "Epoch 48/100\n",
            "10/10 [==============================] - 0s 5ms/step - loss: 0.1694 - accuracy: 0.9439 - val_loss: 0.1494 - val_accuracy: 0.9474\n",
            "Epoch 49/100\n",
            "10/10 [==============================] - 0s 5ms/step - loss: 0.1183 - accuracy: 0.9604 - val_loss: 0.1488 - val_accuracy: 0.9474\n",
            "Epoch 50/100\n",
            "10/10 [==============================] - 0s 6ms/step - loss: 0.1609 - accuracy: 0.9307 - val_loss: 0.1480 - val_accuracy: 0.9474\n",
            "Epoch 51/100\n",
            "10/10 [==============================] - 0s 5ms/step - loss: 0.1672 - accuracy: 0.9307 - val_loss: 0.1471 - val_accuracy: 0.9474\n",
            "Epoch 52/100\n",
            "10/10 [==============================] - 0s 6ms/step - loss: 0.1556 - accuracy: 0.9472 - val_loss: 0.1467 - val_accuracy: 0.9474\n",
            "Epoch 53/100\n",
            "10/10 [==============================] - 0s 5ms/step - loss: 0.1694 - accuracy: 0.9439 - val_loss: 0.1468 - val_accuracy: 0.9474\n",
            "Epoch 54/100\n",
            "10/10 [==============================] - 0s 5ms/step - loss: 0.1563 - accuracy: 0.9505 - val_loss: 0.1467 - val_accuracy: 0.9474\n",
            "Epoch 55/100\n",
            "10/10 [==============================] - 0s 6ms/step - loss: 0.1436 - accuracy: 0.9406 - val_loss: 0.1463 - val_accuracy: 0.9474\n",
            "Epoch 56/100\n",
            "10/10 [==============================] - 0s 6ms/step - loss: 0.1542 - accuracy: 0.9406 - val_loss: 0.1459 - val_accuracy: 0.9474\n",
            "Epoch 57/100\n",
            "10/10 [==============================] - 0s 5ms/step - loss: 0.1416 - accuracy: 0.9670 - val_loss: 0.1456 - val_accuracy: 0.9474\n",
            "Epoch 58/100\n",
            "10/10 [==============================] - 0s 5ms/step - loss: 0.1061 - accuracy: 0.9703 - val_loss: 0.1447 - val_accuracy: 0.9474\n",
            "Epoch 59/100\n",
            "10/10 [==============================] - 0s 5ms/step - loss: 0.1348 - accuracy: 0.9406 - val_loss: 0.1448 - val_accuracy: 0.9474\n",
            "Epoch 60/100\n",
            "10/10 [==============================] - 0s 5ms/step - loss: 0.1238 - accuracy: 0.9505 - val_loss: 0.1444 - val_accuracy: 0.9474\n",
            "Epoch 61/100\n",
            "10/10 [==============================] - 0s 6ms/step - loss: 0.1311 - accuracy: 0.9505 - val_loss: 0.1438 - val_accuracy: 0.9474\n",
            "Epoch 62/100\n",
            "10/10 [==============================] - 0s 5ms/step - loss: 0.1407 - accuracy: 0.9538 - val_loss: 0.1431 - val_accuracy: 0.9474\n",
            "Epoch 63/100\n",
            "10/10 [==============================] - 0s 5ms/step - loss: 0.1192 - accuracy: 0.9637 - val_loss: 0.1428 - val_accuracy: 0.9474\n",
            "Epoch 64/100\n",
            "10/10 [==============================] - 0s 5ms/step - loss: 0.1663 - accuracy: 0.9505 - val_loss: 0.1424 - val_accuracy: 0.9474\n",
            "Epoch 65/100\n",
            "10/10 [==============================] - 0s 6ms/step - loss: 0.1307 - accuracy: 0.9439 - val_loss: 0.1419 - val_accuracy: 0.9474\n",
            "Epoch 66/100\n",
            "10/10 [==============================] - 0s 6ms/step - loss: 0.1351 - accuracy: 0.9406 - val_loss: 0.1418 - val_accuracy: 0.9474\n",
            "Epoch 67/100\n",
            "10/10 [==============================] - 0s 6ms/step - loss: 0.1269 - accuracy: 0.9505 - val_loss: 0.1412 - val_accuracy: 0.9474\n",
            "Epoch 68/100\n",
            "10/10 [==============================] - 0s 5ms/step - loss: 0.1416 - accuracy: 0.9406 - val_loss: 0.1405 - val_accuracy: 0.9474\n",
            "Epoch 69/100\n",
            "10/10 [==============================] - 0s 5ms/step - loss: 0.0990 - accuracy: 0.9703 - val_loss: 0.1401 - val_accuracy: 0.9474\n",
            "Epoch 70/100\n",
            "10/10 [==============================] - 0s 6ms/step - loss: 0.1068 - accuracy: 0.9637 - val_loss: 0.1396 - val_accuracy: 0.9539\n",
            "Epoch 71/100\n",
            "10/10 [==============================] - 0s 5ms/step - loss: 0.1438 - accuracy: 0.9274 - val_loss: 0.1392 - val_accuracy: 0.9474\n",
            "Epoch 72/100\n",
            "10/10 [==============================] - 0s 5ms/step - loss: 0.1088 - accuracy: 0.9670 - val_loss: 0.1390 - val_accuracy: 0.9474\n",
            "Epoch 73/100\n",
            "10/10 [==============================] - 0s 7ms/step - loss: 0.1166 - accuracy: 0.9604 - val_loss: 0.1386 - val_accuracy: 0.9539\n",
            "Epoch 74/100\n",
            "10/10 [==============================] - 0s 6ms/step - loss: 0.1143 - accuracy: 0.9637 - val_loss: 0.1382 - val_accuracy: 0.9539\n",
            "Epoch 75/100\n",
            "10/10 [==============================] - 0s 6ms/step - loss: 0.0956 - accuracy: 0.9802 - val_loss: 0.1382 - val_accuracy: 0.9474\n",
            "Epoch 76/100\n",
            "10/10 [==============================] - 0s 6ms/step - loss: 0.1146 - accuracy: 0.9505 - val_loss: 0.1383 - val_accuracy: 0.9474\n",
            "Epoch 77/100\n",
            "10/10 [==============================] - 0s 5ms/step - loss: 0.1345 - accuracy: 0.9505 - val_loss: 0.1377 - val_accuracy: 0.9474\n",
            "Epoch 78/100\n",
            "10/10 [==============================] - 0s 5ms/step - loss: 0.1383 - accuracy: 0.9604 - val_loss: 0.1372 - val_accuracy: 0.9474\n",
            "Epoch 79/100\n",
            "10/10 [==============================] - 0s 6ms/step - loss: 0.1129 - accuracy: 0.9736 - val_loss: 0.1370 - val_accuracy: 0.9474\n",
            "Epoch 80/100\n",
            "10/10 [==============================] - 0s 6ms/step - loss: 0.0895 - accuracy: 0.9802 - val_loss: 0.1368 - val_accuracy: 0.9539\n",
            "Epoch 81/100\n",
            "10/10 [==============================] - 0s 6ms/step - loss: 0.1040 - accuracy: 0.9571 - val_loss: 0.1369 - val_accuracy: 0.9474\n",
            "Epoch 82/100\n",
            "10/10 [==============================] - 0s 6ms/step - loss: 0.1217 - accuracy: 0.9571 - val_loss: 0.1364 - val_accuracy: 0.9539\n",
            "Epoch 83/100\n",
            "10/10 [==============================] - 0s 5ms/step - loss: 0.1497 - accuracy: 0.9373 - val_loss: 0.1362 - val_accuracy: 0.9539\n",
            "Epoch 84/100\n",
            "10/10 [==============================] - 0s 5ms/step - loss: 0.1077 - accuracy: 0.9637 - val_loss: 0.1357 - val_accuracy: 0.9539\n",
            "Epoch 85/100\n",
            "10/10 [==============================] - 0s 5ms/step - loss: 0.1576 - accuracy: 0.9439 - val_loss: 0.1355 - val_accuracy: 0.9539\n",
            "Epoch 86/100\n",
            "10/10 [==============================] - 0s 5ms/step - loss: 0.0830 - accuracy: 0.9736 - val_loss: 0.1353 - val_accuracy: 0.9539\n",
            "Epoch 87/100\n",
            "10/10 [==============================] - 0s 5ms/step - loss: 0.0954 - accuracy: 0.9604 - val_loss: 0.1352 - val_accuracy: 0.9539\n",
            "Epoch 88/100\n",
            "10/10 [==============================] - 0s 5ms/step - loss: 0.1294 - accuracy: 0.9505 - val_loss: 0.1346 - val_accuracy: 0.9539\n",
            "Epoch 89/100\n",
            "10/10 [==============================] - 0s 6ms/step - loss: 0.1353 - accuracy: 0.9505 - val_loss: 0.1345 - val_accuracy: 0.9539\n",
            "Epoch 90/100\n",
            "10/10 [==============================] - 0s 5ms/step - loss: 0.1375 - accuracy: 0.9439 - val_loss: 0.1346 - val_accuracy: 0.9539\n",
            "Epoch 91/100\n",
            "10/10 [==============================] - 0s 6ms/step - loss: 0.1288 - accuracy: 0.9406 - val_loss: 0.1346 - val_accuracy: 0.9539\n",
            "Epoch 92/100\n",
            "10/10 [==============================] - 0s 5ms/step - loss: 0.1490 - accuracy: 0.9406 - val_loss: 0.1341 - val_accuracy: 0.9539\n",
            "Epoch 93/100\n",
            "10/10 [==============================] - 0s 5ms/step - loss: 0.0979 - accuracy: 0.9670 - val_loss: 0.1340 - val_accuracy: 0.9539\n",
            "Epoch 94/100\n",
            "10/10 [==============================] - 0s 5ms/step - loss: 0.1195 - accuracy: 0.9604 - val_loss: 0.1336 - val_accuracy: 0.9539\n",
            "Epoch 95/100\n",
            "10/10 [==============================] - 0s 5ms/step - loss: 0.1201 - accuracy: 0.9505 - val_loss: 0.1332 - val_accuracy: 0.9539\n",
            "Epoch 96/100\n",
            "10/10 [==============================] - 0s 6ms/step - loss: 0.1190 - accuracy: 0.9472 - val_loss: 0.1329 - val_accuracy: 0.9539\n",
            "Epoch 97/100\n",
            "10/10 [==============================] - 0s 5ms/step - loss: 0.1366 - accuracy: 0.9505 - val_loss: 0.1330 - val_accuracy: 0.9539\n",
            "Epoch 98/100\n",
            "10/10 [==============================] - 0s 6ms/step - loss: 0.0831 - accuracy: 0.9802 - val_loss: 0.1327 - val_accuracy: 0.9539\n",
            "Epoch 99/100\n",
            "10/10 [==============================] - 0s 7ms/step - loss: 0.1507 - accuracy: 0.9505 - val_loss: 0.1327 - val_accuracy: 0.9539\n",
            "Epoch 100/100\n",
            "10/10 [==============================] - 0s 6ms/step - loss: 0.1288 - accuracy: 0.9439 - val_loss: 0.1326 - val_accuracy: 0.9539\n",
            "accuracy :  0.9539473652839661\n",
            "Epoch 1/100\n",
            "10/10 [==============================] - 0s 13ms/step - loss: 1.1334 - accuracy: 0.3158 - val_loss: 0.9406 - val_accuracy: 0.3576\n",
            "Epoch 2/100\n",
            "10/10 [==============================] - 0s 5ms/step - loss: 0.9088 - accuracy: 0.4112 - val_loss: 0.7389 - val_accuracy: 0.5497\n",
            "Epoch 3/100\n",
            "10/10 [==============================] - 0s 6ms/step - loss: 0.7347 - accuracy: 0.5132 - val_loss: 0.6041 - val_accuracy: 0.6954\n",
            "Epoch 4/100\n",
            "10/10 [==============================] - 0s 7ms/step - loss: 0.6666 - accuracy: 0.5757 - val_loss: 0.5005 - val_accuracy: 0.7881\n",
            "Epoch 5/100\n",
            "10/10 [==============================] - 0s 5ms/step - loss: 0.5559 - accuracy: 0.7171 - val_loss: 0.4341 - val_accuracy: 0.9007\n",
            "Epoch 6/100\n",
            "10/10 [==============================] - 0s 5ms/step - loss: 0.5045 - accuracy: 0.7730 - val_loss: 0.3825 - val_accuracy: 0.9205\n",
            "Epoch 7/100\n",
            "10/10 [==============================] - 0s 6ms/step - loss: 0.5044 - accuracy: 0.7895 - val_loss: 0.3379 - val_accuracy: 0.9404\n",
            "Epoch 8/100\n",
            "10/10 [==============================] - 0s 6ms/step - loss: 0.4240 - accuracy: 0.8125 - val_loss: 0.3058 - val_accuracy: 0.9404\n",
            "Epoch 9/100\n",
            "10/10 [==============================] - 0s 6ms/step - loss: 0.4086 - accuracy: 0.8322 - val_loss: 0.2813 - val_accuracy: 0.9470\n",
            "Epoch 10/100\n",
            "10/10 [==============================] - 0s 6ms/step - loss: 0.4027 - accuracy: 0.8355 - val_loss: 0.2590 - val_accuracy: 0.9536\n",
            "Epoch 11/100\n",
            "10/10 [==============================] - 0s 6ms/step - loss: 0.3698 - accuracy: 0.8717 - val_loss: 0.2392 - val_accuracy: 0.9536\n",
            "Epoch 12/100\n",
            "10/10 [==============================] - 0s 6ms/step - loss: 0.3419 - accuracy: 0.8914 - val_loss: 0.2238 - val_accuracy: 0.9603\n",
            "Epoch 13/100\n",
            "10/10 [==============================] - 0s 5ms/step - loss: 0.3376 - accuracy: 0.8717 - val_loss: 0.2104 - val_accuracy: 0.9669\n",
            "Epoch 14/100\n",
            "10/10 [==============================] - 0s 5ms/step - loss: 0.3385 - accuracy: 0.8849 - val_loss: 0.1993 - val_accuracy: 0.9603\n",
            "Epoch 15/100\n",
            "10/10 [==============================] - 0s 6ms/step - loss: 0.2979 - accuracy: 0.8980 - val_loss: 0.1884 - val_accuracy: 0.9669\n",
            "Epoch 16/100\n",
            "10/10 [==============================] - 0s 6ms/step - loss: 0.2762 - accuracy: 0.9276 - val_loss: 0.1788 - val_accuracy: 0.9669\n",
            "Epoch 17/100\n",
            "10/10 [==============================] - 0s 5ms/step - loss: 0.2981 - accuracy: 0.9079 - val_loss: 0.1706 - val_accuracy: 0.9669\n",
            "Epoch 18/100\n",
            "10/10 [==============================] - 0s 5ms/step - loss: 0.2993 - accuracy: 0.8882 - val_loss: 0.1639 - val_accuracy: 0.9669\n",
            "Epoch 19/100\n",
            "10/10 [==============================] - 0s 6ms/step - loss: 0.2603 - accuracy: 0.9145 - val_loss: 0.1575 - val_accuracy: 0.9669\n",
            "Epoch 20/100\n",
            "10/10 [==============================] - 0s 6ms/step - loss: 0.2597 - accuracy: 0.9178 - val_loss: 0.1517 - val_accuracy: 0.9669\n",
            "Epoch 21/100\n",
            "10/10 [==============================] - 0s 6ms/step - loss: 0.2748 - accuracy: 0.9276 - val_loss: 0.1470 - val_accuracy: 0.9669\n",
            "Epoch 22/100\n",
            "10/10 [==============================] - 0s 6ms/step - loss: 0.2578 - accuracy: 0.9243 - val_loss: 0.1427 - val_accuracy: 0.9735\n",
            "Epoch 23/100\n",
            "10/10 [==============================] - 0s 6ms/step - loss: 0.2480 - accuracy: 0.9178 - val_loss: 0.1393 - val_accuracy: 0.9669\n",
            "Epoch 24/100\n",
            "10/10 [==============================] - 0s 6ms/step - loss: 0.2567 - accuracy: 0.9211 - val_loss: 0.1350 - val_accuracy: 0.9669\n",
            "Epoch 25/100\n",
            "10/10 [==============================] - 0s 7ms/step - loss: 0.2590 - accuracy: 0.9243 - val_loss: 0.1315 - val_accuracy: 0.9669\n",
            "Epoch 26/100\n",
            "10/10 [==============================] - 0s 6ms/step - loss: 0.2539 - accuracy: 0.9046 - val_loss: 0.1289 - val_accuracy: 0.9669\n",
            "Epoch 27/100\n",
            "10/10 [==============================] - 0s 5ms/step - loss: 0.2553 - accuracy: 0.9309 - val_loss: 0.1259 - val_accuracy: 0.9669\n",
            "Epoch 28/100\n",
            "10/10 [==============================] - 0s 5ms/step - loss: 0.2504 - accuracy: 0.9112 - val_loss: 0.1231 - val_accuracy: 0.9669\n",
            "Epoch 29/100\n",
            "10/10 [==============================] - 0s 5ms/step - loss: 0.2332 - accuracy: 0.9342 - val_loss: 0.1208 - val_accuracy: 0.9669\n",
            "Epoch 30/100\n",
            "10/10 [==============================] - 0s 5ms/step - loss: 0.2272 - accuracy: 0.9375 - val_loss: 0.1183 - val_accuracy: 0.9669\n",
            "Epoch 31/100\n",
            "10/10 [==============================] - 0s 5ms/step - loss: 0.2289 - accuracy: 0.9145 - val_loss: 0.1159 - val_accuracy: 0.9669\n",
            "Epoch 32/100\n",
            "10/10 [==============================] - 0s 5ms/step - loss: 0.2313 - accuracy: 0.9309 - val_loss: 0.1141 - val_accuracy: 0.9669\n",
            "Epoch 33/100\n",
            "10/10 [==============================] - 0s 5ms/step - loss: 0.2063 - accuracy: 0.9342 - val_loss: 0.1119 - val_accuracy: 0.9669\n",
            "Epoch 34/100\n",
            "10/10 [==============================] - 0s 5ms/step - loss: 0.2186 - accuracy: 0.9145 - val_loss: 0.1098 - val_accuracy: 0.9669\n",
            "Epoch 35/100\n",
            "10/10 [==============================] - 0s 6ms/step - loss: 0.2102 - accuracy: 0.9408 - val_loss: 0.1080 - val_accuracy: 0.9669\n",
            "Epoch 36/100\n",
            "10/10 [==============================] - 0s 6ms/step - loss: 0.2231 - accuracy: 0.9309 - val_loss: 0.1061 - val_accuracy: 0.9669\n",
            "Epoch 37/100\n",
            "10/10 [==============================] - 0s 5ms/step - loss: 0.2080 - accuracy: 0.9309 - val_loss: 0.1042 - val_accuracy: 0.9669\n",
            "Epoch 38/100\n",
            "10/10 [==============================] - 0s 6ms/step - loss: 0.2045 - accuracy: 0.9243 - val_loss: 0.1027 - val_accuracy: 0.9669\n",
            "Epoch 39/100\n",
            "10/10 [==============================] - 0s 5ms/step - loss: 0.2060 - accuracy: 0.9309 - val_loss: 0.1012 - val_accuracy: 0.9669\n",
            "Epoch 40/100\n",
            "10/10 [==============================] - 0s 5ms/step - loss: 0.1985 - accuracy: 0.9309 - val_loss: 0.0997 - val_accuracy: 0.9669\n",
            "Epoch 41/100\n",
            "10/10 [==============================] - 0s 6ms/step - loss: 0.2499 - accuracy: 0.9211 - val_loss: 0.0991 - val_accuracy: 0.9669\n",
            "Epoch 42/100\n",
            "10/10 [==============================] - 0s 5ms/step - loss: 0.1982 - accuracy: 0.9276 - val_loss: 0.0980 - val_accuracy: 0.9669\n",
            "Epoch 43/100\n",
            "10/10 [==============================] - 0s 5ms/step - loss: 0.2023 - accuracy: 0.9375 - val_loss: 0.0970 - val_accuracy: 0.9669\n",
            "Epoch 44/100\n",
            "10/10 [==============================] - 0s 6ms/step - loss: 0.2184 - accuracy: 0.9243 - val_loss: 0.0956 - val_accuracy: 0.9669\n",
            "Epoch 45/100\n",
            "10/10 [==============================] - 0s 5ms/step - loss: 0.1890 - accuracy: 0.9408 - val_loss: 0.0944 - val_accuracy: 0.9669\n",
            "Epoch 46/100\n",
            "10/10 [==============================] - 0s 5ms/step - loss: 0.1958 - accuracy: 0.9441 - val_loss: 0.0934 - val_accuracy: 0.9669\n",
            "Epoch 47/100\n",
            "10/10 [==============================] - 0s 5ms/step - loss: 0.2478 - accuracy: 0.8980 - val_loss: 0.0929 - val_accuracy: 0.9669\n",
            "Epoch 48/100\n",
            "10/10 [==============================] - 0s 6ms/step - loss: 0.2066 - accuracy: 0.9178 - val_loss: 0.0919 - val_accuracy: 0.9669\n",
            "Epoch 49/100\n",
            "10/10 [==============================] - 0s 5ms/step - loss: 0.1817 - accuracy: 0.9276 - val_loss: 0.0910 - val_accuracy: 0.9669\n",
            "Epoch 50/100\n",
            "10/10 [==============================] - 0s 5ms/step - loss: 0.1905 - accuracy: 0.9309 - val_loss: 0.0897 - val_accuracy: 0.9669\n",
            "Epoch 51/100\n",
            "10/10 [==============================] - 0s 5ms/step - loss: 0.2102 - accuracy: 0.9112 - val_loss: 0.0888 - val_accuracy: 0.9669\n",
            "Epoch 52/100\n",
            "10/10 [==============================] - 0s 6ms/step - loss: 0.2339 - accuracy: 0.9211 - val_loss: 0.0889 - val_accuracy: 0.9669\n",
            "Epoch 53/100\n",
            "10/10 [==============================] - 0s 6ms/step - loss: 0.2003 - accuracy: 0.9211 - val_loss: 0.0879 - val_accuracy: 0.9669\n",
            "Epoch 54/100\n",
            "10/10 [==============================] - 0s 6ms/step - loss: 0.2311 - accuracy: 0.9243 - val_loss: 0.0875 - val_accuracy: 0.9669\n",
            "Epoch 55/100\n",
            "10/10 [==============================] - 0s 5ms/step - loss: 0.2209 - accuracy: 0.9079 - val_loss: 0.0872 - val_accuracy: 0.9669\n",
            "Epoch 56/100\n",
            "10/10 [==============================] - 0s 5ms/step - loss: 0.1741 - accuracy: 0.9474 - val_loss: 0.0860 - val_accuracy: 0.9669\n",
            "Epoch 57/100\n",
            "10/10 [==============================] - 0s 5ms/step - loss: 0.2202 - accuracy: 0.9145 - val_loss: 0.0852 - val_accuracy: 0.9735\n",
            "Epoch 58/100\n",
            "10/10 [==============================] - 0s 6ms/step - loss: 0.1739 - accuracy: 0.9441 - val_loss: 0.0840 - val_accuracy: 0.9735\n",
            "Epoch 59/100\n",
            "10/10 [==============================] - 0s 5ms/step - loss: 0.2097 - accuracy: 0.9178 - val_loss: 0.0832 - val_accuracy: 0.9735\n",
            "Epoch 60/100\n",
            "10/10 [==============================] - 0s 5ms/step - loss: 0.1740 - accuracy: 0.9408 - val_loss: 0.0824 - val_accuracy: 0.9735\n",
            "Epoch 61/100\n",
            "10/10 [==============================] - 0s 5ms/step - loss: 0.1801 - accuracy: 0.9375 - val_loss: 0.0815 - val_accuracy: 0.9735\n",
            "Epoch 62/100\n",
            "10/10 [==============================] - 0s 6ms/step - loss: 0.1929 - accuracy: 0.9309 - val_loss: 0.0808 - val_accuracy: 0.9735\n",
            "Epoch 63/100\n",
            "10/10 [==============================] - 0s 6ms/step - loss: 0.1835 - accuracy: 0.9243 - val_loss: 0.0801 - val_accuracy: 0.9735\n",
            "Epoch 64/100\n",
            "10/10 [==============================] - 0s 5ms/step - loss: 0.1921 - accuracy: 0.9375 - val_loss: 0.0793 - val_accuracy: 0.9735\n",
            "Epoch 65/100\n",
            "10/10 [==============================] - 0s 5ms/step - loss: 0.1548 - accuracy: 0.9507 - val_loss: 0.0785 - val_accuracy: 0.9735\n",
            "Epoch 66/100\n",
            "10/10 [==============================] - 0s 5ms/step - loss: 0.1597 - accuracy: 0.9408 - val_loss: 0.0777 - val_accuracy: 0.9735\n",
            "Epoch 67/100\n",
            "10/10 [==============================] - 0s 5ms/step - loss: 0.2178 - accuracy: 0.9046 - val_loss: 0.0775 - val_accuracy: 0.9735\n",
            "Epoch 68/100\n",
            "10/10 [==============================] - 0s 5ms/step - loss: 0.1571 - accuracy: 0.9474 - val_loss: 0.0766 - val_accuracy: 0.9735\n",
            "Epoch 69/100\n",
            "10/10 [==============================] - 0s 6ms/step - loss: 0.1613 - accuracy: 0.9507 - val_loss: 0.0760 - val_accuracy: 0.9735\n",
            "Epoch 70/100\n",
            "10/10 [==============================] - 0s 5ms/step - loss: 0.1487 - accuracy: 0.9375 - val_loss: 0.0755 - val_accuracy: 0.9735\n",
            "Epoch 71/100\n",
            "10/10 [==============================] - 0s 6ms/step - loss: 0.1468 - accuracy: 0.9474 - val_loss: 0.0750 - val_accuracy: 0.9735\n",
            "Epoch 72/100\n",
            "10/10 [==============================] - 0s 6ms/step - loss: 0.1763 - accuracy: 0.9375 - val_loss: 0.0745 - val_accuracy: 0.9735\n",
            "Epoch 73/100\n",
            "10/10 [==============================] - 0s 5ms/step - loss: 0.1856 - accuracy: 0.9408 - val_loss: 0.0740 - val_accuracy: 0.9735\n",
            "Epoch 74/100\n",
            "10/10 [==============================] - 0s 6ms/step - loss: 0.1644 - accuracy: 0.9572 - val_loss: 0.0734 - val_accuracy: 0.9735\n",
            "Epoch 75/100\n",
            "10/10 [==============================] - 0s 5ms/step - loss: 0.1934 - accuracy: 0.9243 - val_loss: 0.0731 - val_accuracy: 0.9735\n",
            "Epoch 76/100\n",
            "10/10 [==============================] - 0s 6ms/step - loss: 0.1655 - accuracy: 0.9408 - val_loss: 0.0727 - val_accuracy: 0.9735\n",
            "Epoch 77/100\n",
            "10/10 [==============================] - 0s 5ms/step - loss: 0.1916 - accuracy: 0.9276 - val_loss: 0.0720 - val_accuracy: 0.9735\n",
            "Epoch 78/100\n",
            "10/10 [==============================] - 0s 5ms/step - loss: 0.1738 - accuracy: 0.9474 - val_loss: 0.0715 - val_accuracy: 0.9735\n",
            "Epoch 79/100\n",
            "10/10 [==============================] - 0s 5ms/step - loss: 0.1568 - accuracy: 0.9276 - val_loss: 0.0712 - val_accuracy: 0.9735\n",
            "Epoch 80/100\n",
            "10/10 [==============================] - 0s 6ms/step - loss: 0.1656 - accuracy: 0.9408 - val_loss: 0.0711 - val_accuracy: 0.9735\n",
            "Epoch 81/100\n",
            "10/10 [==============================] - 0s 5ms/step - loss: 0.1847 - accuracy: 0.9309 - val_loss: 0.0707 - val_accuracy: 0.9735\n",
            "Epoch 82/100\n",
            "10/10 [==============================] - 0s 6ms/step - loss: 0.1870 - accuracy: 0.9276 - val_loss: 0.0704 - val_accuracy: 0.9735\n",
            "Epoch 83/100\n",
            "10/10 [==============================] - 0s 5ms/step - loss: 0.1746 - accuracy: 0.9243 - val_loss: 0.0705 - val_accuracy: 0.9735\n",
            "Epoch 84/100\n",
            "10/10 [==============================] - 0s 5ms/step - loss: 0.1551 - accuracy: 0.9474 - val_loss: 0.0701 - val_accuracy: 0.9735\n",
            "Epoch 85/100\n",
            "10/10 [==============================] - 0s 6ms/step - loss: 0.1613 - accuracy: 0.9408 - val_loss: 0.0701 - val_accuracy: 0.9735\n",
            "Epoch 86/100\n",
            "10/10 [==============================] - 0s 6ms/step - loss: 0.2104 - accuracy: 0.9309 - val_loss: 0.0703 - val_accuracy: 0.9735\n",
            "Epoch 87/100\n",
            "10/10 [==============================] - 0s 5ms/step - loss: 0.1336 - accuracy: 0.9507 - val_loss: 0.0700 - val_accuracy: 0.9735\n",
            "Epoch 88/100\n",
            "10/10 [==============================] - 0s 5ms/step - loss: 0.1734 - accuracy: 0.9375 - val_loss: 0.0698 - val_accuracy: 0.9735\n",
            "Epoch 89/100\n",
            "10/10 [==============================] - 0s 6ms/step - loss: 0.2095 - accuracy: 0.9342 - val_loss: 0.0696 - val_accuracy: 0.9735\n",
            "Epoch 90/100\n",
            "10/10 [==============================] - 0s 5ms/step - loss: 0.1524 - accuracy: 0.9441 - val_loss: 0.0696 - val_accuracy: 0.9735\n",
            "Epoch 91/100\n",
            "10/10 [==============================] - 0s 6ms/step - loss: 0.1649 - accuracy: 0.9211 - val_loss: 0.0694 - val_accuracy: 0.9735\n",
            "Epoch 92/100\n",
            "10/10 [==============================] - 0s 5ms/step - loss: 0.1890 - accuracy: 0.9309 - val_loss: 0.0693 - val_accuracy: 0.9735\n",
            "Epoch 93/100\n",
            "10/10 [==============================] - 0s 5ms/step - loss: 0.1487 - accuracy: 0.9572 - val_loss: 0.0689 - val_accuracy: 0.9735\n",
            "Epoch 94/100\n",
            "10/10 [==============================] - 0s 5ms/step - loss: 0.1556 - accuracy: 0.9375 - val_loss: 0.0685 - val_accuracy: 0.9735\n",
            "Epoch 95/100\n",
            "10/10 [==============================] - 0s 6ms/step - loss: 0.1506 - accuracy: 0.9539 - val_loss: 0.0678 - val_accuracy: 0.9735\n",
            "Epoch 96/100\n",
            "10/10 [==============================] - 0s 6ms/step - loss: 0.1509 - accuracy: 0.9408 - val_loss: 0.0676 - val_accuracy: 0.9735\n",
            "Epoch 97/100\n",
            "10/10 [==============================] - 0s 5ms/step - loss: 0.1916 - accuracy: 0.9276 - val_loss: 0.0676 - val_accuracy: 0.9735\n",
            "Epoch 98/100\n",
            "10/10 [==============================] - 0s 5ms/step - loss: 0.1481 - accuracy: 0.9474 - val_loss: 0.0674 - val_accuracy: 0.9735\n",
            "Epoch 99/100\n",
            "10/10 [==============================] - 0s 6ms/step - loss: 0.1824 - accuracy: 0.9342 - val_loss: 0.0670 - val_accuracy: 0.9735\n",
            "Epoch 100/100\n",
            "10/10 [==============================] - 0s 5ms/step - loss: 0.1469 - accuracy: 0.9474 - val_loss: 0.0663 - val_accuracy: 0.9735\n",
            "accuracy :  0.9735099077224731\n",
            "accuracy :  0.9714331229527792  +-  0.013509270915904056\n"
          ],
          "name": "stdout"
        },
        {
          "output_type": "display_data",
          "data": {
            "image/png": "[encoded data removed]",
            "text/plain": [
              "<Figure size 864x288 with 2 Axes>"
            ]
          },
          "metadata": {
            "tags": []
          }
        },
        {
          "output_type": "display_data",
          "data": {
            "image/png": "[encoded data removed]",
            "text/plain": [
              "<Figure size 864x288 with 2 Axes>"
            ]
          },
          "metadata": {
            "tags": []
          }
        },
        {
          "output_type": "display_data",
          "data": {
            "image/png": "[encoded data removed]",
            "text/plain": [
              "<Figure size 864x288 with 2 Axes>"
            ]
          },
          "metadata": {
            "tags": []
          }
        }
      ]
    },
    {
      "cell_type": "code",
      "metadata": {
        "id": "uiNAirO77flN",
        "colab_type": "code",
        "colab": {}
      },
      "source": [
        "y_train_one = []\n",
        "y_train_zero = []\n",
        "for i, x in enumerate(y_train_probas):\n",
        "  if y_train[i] == 1:\n",
        "    y_train_one.append(x)\n",
        "  else :\n",
        "    y_train_zero.append(x)"
      ],
      "execution_count": 0,
      "outputs": []
    },
    {
      "cell_type": "code",
      "metadata": {
        "id": "rA3BGtlC6x5-",
        "colab_type": "code",
        "colab": {
          "base_uri": "https://localhost:8080/",
          "height": 588
        },
        "outputId": "d7f0c881-5bda-4c42-fba7-7df60b8ecdf1"
      },
      "source": [
        "plt.hist(y_train_one, bins=50, alpha=0.5)\n",
        "plt.hist(y_train_zero, bins=50, alpha=0.5)"
      ],
      "execution_count": 33,
      "outputs": [
        {
          "output_type": "execute_result",
          "data": {
            "text/plain": [
              "(array([109.,  13.,   2.,   7.,   4.,   4.,   1.,   2.,   1.,   3.,   1.,\n",
              "          2.,   2.,   2.,   1.,   1.,   1.,   0.,   1.,   0.,   0.,   0.,\n",
              "          0.,   1.,   0.,   0.,   1.,   0.,   2.,   0.,   0.,   0.,   1.,\n",
              "          1.,   0.,   0.,   1.,   0.,   0.,   0.,   0.,   0.,   0.,   0.,\n",
              "          0.,   0.,   2.,   0.,   0.,   1.]),\n",
              " array([1.5447003e-07, 1.9919798e-02, 3.9839439e-02, 5.9759084e-02,\n",
              "        7.9678722e-02, 9.9598370e-02, 1.1951801e-01, 1.3943766e-01,\n",
              "        1.5935729e-01, 1.7927694e-01, 1.9919658e-01, 2.1911623e-01,\n",
              "        2.3903586e-01, 2.5895551e-01, 2.7887514e-01, 2.9879481e-01,\n",
              "        3.1871444e-01, 3.3863407e-01, 3.5855374e-01, 3.7847337e-01,\n",
              "        3.9839301e-01, 4.1831264e-01, 4.3823230e-01, 4.5815194e-01,\n",
              "        4.7807157e-01, 4.9799123e-01, 5.1791084e-01, 5.3783053e-01,\n",
              "        5.5775017e-01, 5.7766980e-01, 5.9758943e-01, 6.1750907e-01,\n",
              "        6.3742870e-01, 6.5734833e-01, 6.7726803e-01, 6.9718766e-01,\n",
              "        7.1710730e-01, 7.3702693e-01, 7.5694656e-01, 7.7686620e-01,\n",
              "        7.9678589e-01, 8.1670552e-01, 8.3662516e-01, 8.5654479e-01,\n",
              "        8.7646443e-01, 8.9638406e-01, 9.1630369e-01, 9.3622339e-01,\n",
              "        9.5614302e-01, 9.7606266e-01, 9.9598229e-01], dtype=float32),\n",
              " <a list of 50 Patch objects>)"
            ]
          },
          "metadata": {
            "tags": []
          },
          "execution_count": 33
        },
        {
          "output_type": "display_data",
          "data": {
            "image/png": "[encoded data removed]",
            "text/plain": [
              "<Figure size 432x288 with 1 Axes>"
            ]
          },
          "metadata": {
            "tags": []
          }
        }
      ]
    },
    {
      "cell_type": "markdown",
      "metadata": {
        "id": "qaewy_XNUCli",
        "colab_type": "text"
      },
      "source": [
        "confusion matrix"
      ]
    },
    {
      "cell_type": "code",
      "metadata": {
        "id": "TZd9ufXVRH4C",
        "colab_type": "code",
        "colab": {}
      },
      "source": [
        "#calculate confusion matrix\n",
        "#y_train_pred = cross_val_predict(model, X_train, y_train, cv=cv)\n",
        "threshold = 0.5\n",
        "y_train_pred = [y_train_probas[i]>threshold for i in range(len(y_train_probas))]\n",
        "conf_mx = confusion_matrix(y_train, y_train_pred)"
      ],
      "execution_count": 0,
      "outputs": []
    },
    {
      "cell_type": "code",
      "metadata": {
        "id": "5dqZ8eIPRu5J",
        "colab_type": "code",
        "outputId": "978ceab5-f5da-459a-bbfa-942800b8134a",
        "colab": {
          "base_uri": "https://localhost:8080/",
          "height": 275
        }
      },
      "source": [
        "plt.matshow(conf_mx, cmap=plt.cm.gray)\n",
        "plt.show()"
      ],
      "execution_count": 35,
      "outputs": [
        {
          "output_type": "display_data",
          "data": {
            "image/png": "[encoded data removed]",
            "text/plain": [
              "<Figure size 288x288 with 1 Axes>"
            ]
          },
          "metadata": {
            "tags": []
          }
        }
      ]
    },
    {
      "cell_type": "code",
      "metadata": {
        "id": "nguEbiLbSL97",
        "colab_type": "code",
        "outputId": "284bcff8-a07c-4105-86b3-462ecaead462",
        "colab": {
          "base_uri": "https://localhost:8080/",
          "height": 275
        }
      },
      "source": [
        "#convert to error probability\n",
        "row_sums = conf_mx.sum(axis=1, keepdims=True)\n",
        "norm_conf_mx = conf_mx / row_sums\n",
        "#set diagonal to 0 for visibility\n",
        "np.fill_diagonal(norm_conf_mx, 0)\n",
        "plt.matshow(norm_conf_mx, cmap=plt.cm.gray)\n",
        "plt.show()"
      ],
      "execution_count": 36,
      "outputs": [
        {
          "output_type": "display_data",
          "data": {
            "image/png": "[encoded data removed]",
            "text/plain": [
              "<Figure size 288x288 with 1 Axes>"
            ]
          },
          "metadata": {
            "tags": []
          }
        }
      ]
    },
    {
      "cell_type": "markdown",
      "metadata": {
        "id": "nHwFa6jiV29L",
        "colab_type": "text"
      },
      "source": [
        "various scores"
      ]
    },
    {
      "cell_type": "code",
      "metadata": {
        "id": "R5j04o7ckEq6",
        "colab_type": "code",
        "outputId": "dd585147-b54a-4a8d-dbb5-e8cb60cb45bf",
        "colab": {
          "base_uri": "https://localhost:8080/",
          "height": 34
        }
      },
      "source": [
        "accuracy_score(y_train, y_train_pred)"
      ],
      "execution_count": 37,
      "outputs": [
        {
          "output_type": "execute_result",
          "data": {
            "text/plain": [
              "0.9714285714285714"
            ]
          },
          "metadata": {
            "tags": []
          },
          "execution_count": 37
        }
      ]
    },
    {
      "cell_type": "code",
      "metadata": {
        "id": "aswSNVqRV-Go",
        "colab_type": "code",
        "outputId": "1d9df363-2eff-4b75-93aa-c26a6aec8e33",
        "colab": {
          "base_uri": "https://localhost:8080/",
          "height": 34
        }
      },
      "source": [
        "precision_score(y_train, y_train_pred)"
      ],
      "execution_count": 38,
      "outputs": [
        {
          "output_type": "execute_result",
          "data": {
            "text/plain": [
              "0.9692832764505119"
            ]
          },
          "metadata": {
            "tags": []
          },
          "execution_count": 38
        }
      ]
    },
    {
      "cell_type": "code",
      "metadata": {
        "id": "B_qSWH-nWRmc",
        "colab_type": "code",
        "outputId": "5842cee2-1ff7-40ea-93ce-52366d11aef8",
        "colab": {
          "base_uri": "https://localhost:8080/",
          "height": 34
        }
      },
      "source": [
        "recall_score(y_train, y_train_pred)"
      ],
      "execution_count": 39,
      "outputs": [
        {
          "output_type": "execute_result",
          "data": {
            "text/plain": [
              "0.9861111111111112"
            ]
          },
          "metadata": {
            "tags": []
          },
          "execution_count": 39
        }
      ]
    },
    {
      "cell_type": "code",
      "metadata": {
        "id": "bL0OjSv2WXNR",
        "colab_type": "code",
        "outputId": "a9092dd1-2a65-4d7c-8a67-f1668e8a9a30",
        "colab": {
          "base_uri": "https://localhost:8080/",
          "height": 34
        }
      },
      "source": [
        "f1_score(y_train, y_train_pred)"
      ],
      "execution_count": 40,
      "outputs": [
        {
          "output_type": "execute_result",
          "data": {
            "text/plain": [
              "0.9776247848537005"
            ]
          },
          "metadata": {
            "tags": []
          },
          "execution_count": 40
        }
      ]
    },
    {
      "cell_type": "code",
      "metadata": {
        "id": "g7Zg2F81kryJ",
        "colab_type": "code",
        "outputId": "2e5494bd-89b7-4fe6-8be2-a5c8d33cfe2d",
        "colab": {
          "base_uri": "https://localhost:8080/",
          "height": 170
        }
      },
      "source": [
        "print(classification_report(y_train, y_train_pred))"
      ],
      "execution_count": 41,
      "outputs": [
        {
          "output_type": "stream",
          "text": [
            "              precision    recall  f1-score   support\n",
            "\n",
            "           0       0.98      0.95      0.96       167\n",
            "           1       0.97      0.99      0.98       288\n",
            "\n",
            "    accuracy                           0.97       455\n",
            "   macro avg       0.97      0.97      0.97       455\n",
            "weighted avg       0.97      0.97      0.97       455\n",
            "\n"
          ],
          "name": "stdout"
        }
      ]
    },
    {
      "cell_type": "code",
      "metadata": {
        "id": "0p1axNI3vS4L",
        "colab_type": "code",
        "colab": {}
      },
      "source": [
        "y_train_scores = y_train_probas"
      ],
      "execution_count": 0,
      "outputs": []
    },
    {
      "cell_type": "code",
      "metadata": {
        "id": "vQm6XdqG4QyE",
        "colab_type": "code",
        "colab": {}
      },
      "source": [
        "def plot_pr_curve(y, y_score, label=None):\n",
        "\n",
        "    fpr, tpr, thresholds = precision_recall_curve(y, y_score)\n",
        "    plt.plot(fpr, tpr, linewidth=2, label=label)\n",
        "    plt.plot([0, 1], [1, 0], 'k--')\n",
        "    plt.axis([0, 1, 0, 1])\n",
        "    plt.xlabel('Recall')\n",
        "    plt.ylabel('Precision')\n",
        "    plt.legend()\n",
        "\n",
        "    return"
      ],
      "execution_count": 0,
      "outputs": []
    },
    {
      "cell_type": "code",
      "metadata": {
        "id": "U318bPF64rWu",
        "colab_type": "code",
        "outputId": "6efcd7b5-a24c-4fa5-a3ee-32e5f704ea04",
        "colab": {
          "base_uri": "https://localhost:8080/",
          "height": 300
        }
      },
      "source": [
        "plot_pr_curve(y_train, y_train_scores)\n",
        "plt.show()"
      ],
      "execution_count": 44,
      "outputs": [
        {
          "output_type": "stream",
          "text": [
            "No handles with labels found to put in legend.\n"
          ],
          "name": "stderr"
        },
        {
          "output_type": "display_data",
          "data": {
            "image/png": "[encoded data removed]",
            "text/plain": [
              "<Figure size 432x288 with 1 Axes>"
            ]
          },
          "metadata": {
            "tags": []
          }
        }
      ]
    },
    {
      "cell_type": "code",
      "metadata": {
        "id": "7VCYqksuq24d",
        "colab_type": "code",
        "colab": {}
      },
      "source": [
        "def plot_roc_curve(y, y_score, label=None):\n",
        "\n",
        "    fpr, tpr, thresholds = roc_curve(y, y_score)\n",
        "    plt.plot(fpr, tpr, linewidth=2, label=label)\n",
        "    plt.plot([0, 1], [0, 1], 'k--')\n",
        "    plt.axis([0, 1, 0, 1])\n",
        "    plt.xlabel('False Positive Rate')\n",
        "    plt.ylabel('True Positive Rate')\n",
        "    plt.legend()\n",
        "\n",
        "    return"
      ],
      "execution_count": 0,
      "outputs": []
    },
    {
      "cell_type": "code",
      "metadata": {
        "id": "-Xu3kjTZseOT",
        "colab_type": "code",
        "outputId": "24a37b44-0559-46c6-ecf4-8ede6fd8b1cc",
        "colab": {
          "base_uri": "https://localhost:8080/",
          "height": 300
        }
      },
      "source": [
        "plot_roc_curve(y_train, y_train_scores)\n",
        "plt.show()"
      ],
      "execution_count": 46,
      "outputs": [
        {
          "output_type": "stream",
          "text": [
            "No handles with labels found to put in legend.\n"
          ],
          "name": "stderr"
        },
        {
          "output_type": "display_data",
          "data": {
            "image/png": "[encoded data removed]",
            "text/plain": [
              "<Figure size 432x288 with 1 Axes>"
            ]
          },
          "metadata": {
            "tags": []
          }
        }
      ]
    },
    {
      "cell_type": "code",
      "metadata": {
        "id": "chw52C80Wku3",
        "colab_type": "code",
        "outputId": "e8adbd5b-8e99-4eb1-f351-0220d31c2154",
        "colab": {
          "base_uri": "https://localhost:8080/",
          "height": 34
        }
      },
      "source": [
        "roc_auc_score(y_train, y_train_scores)"
      ],
      "execution_count": 47,
      "outputs": [
        {
          "output_type": "execute_result",
          "data": {
            "text/plain": [
              "0.9928684298070525"
            ]
          },
          "metadata": {
            "tags": []
          },
          "execution_count": 47
        }
      ]
    },
    {
      "cell_type": "markdown",
      "metadata": {
        "id": "CIgJPTmF7v-_",
        "colab_type": "text"
      },
      "source": [
        "###Test"
      ]
    },
    {
      "cell_type": "code",
      "metadata": {
        "id": "OFdD-x1ZKZ3Q",
        "colab_type": "code",
        "colab": {
          "base_uri": "https://localhost:8080/",
          "height": 34
        },
        "outputId": "7f03b029-0b02-4610-fb5d-aab6f9e34d53"
      },
      "source": [
        "test_loss, test_accuracy = model.evaluate(scaler.transform(X_test), y_test, batch_size=128)"
      ],
      "execution_count": 48,
      "outputs": [
        {
          "output_type": "stream",
          "text": [
            "1/1 [==============================] - 0s 1ms/step - loss: 0.0906 - accuracy: 0.9825\n"
          ],
          "name": "stdout"
        }
      ]
    },
    {
      "cell_type": "code",
      "metadata": {
        "id": "xM9qnUvQajg-",
        "colab_type": "code",
        "colab": {
          "base_uri": "https://localhost:8080/",
          "height": 34
        },
        "outputId": "86eea3a4-8963-41db-b11a-dbc84da7698c"
      },
      "source": [
        "print('test loss : ', test_loss, ', accuracy : ', test_accuracy)"
      ],
      "execution_count": 49,
      "outputs": [
        {
          "output_type": "stream",
          "text": [
            "test loss :  0.09060074388980865 , accuracy :  0.9824561476707458\n"
          ],
          "name": "stdout"
        }
      ]
    },
    {
      "cell_type": "code",
      "metadata": {
        "id": "Vze5Jn7CMvWd",
        "colab_type": "code",
        "colab": {}
      },
      "source": [
        "y_test_probas = model.predict(scaler.transform(X_test))"
      ],
      "execution_count": 0,
      "outputs": []
    },
    {
      "cell_type": "code",
      "metadata": {
        "id": "S-X9iv2Mfh18",
        "colab_type": "code",
        "colab": {}
      },
      "source": [
        "threshold = 0.5\n",
        "y_test_pred = [int(x[0]>threshold) for x in y_test_probas]"
      ],
      "execution_count": 0,
      "outputs": []
    },
    {
      "cell_type": "code",
      "metadata": {
        "id": "lRY0GZeCc1SQ",
        "colab_type": "code",
        "colab": {
          "base_uri": "https://localhost:8080/",
          "height": 54
        },
        "outputId": "ab6efa37-bd35-4ae1-e39d-f3d1364db469"
      },
      "source": [
        "print(y_test_pred)"
      ],
      "execution_count": 52,
      "outputs": [
        {
          "output_type": "stream",
          "text": [
            "[1, 1, 0, 0, 1, 1, 1, 0, 1, 0, 1, 0, 1, 1, 1, 1, 0, 1, 0, 0, 1, 1, 1, 1, 0, 1, 1, 0, 1, 1, 1, 0, 0, 0, 1, 1, 0, 1, 0, 0, 0, 1, 1, 1, 1, 1, 1, 1, 0, 0, 1, 1, 1, 1, 1, 1, 1, 0, 0, 0, 0, 0, 1, 1, 1, 1, 1, 0, 1, 0, 1, 1, 1, 1, 1, 0, 0, 1, 0, 0, 0, 1, 1, 0, 1, 1, 0, 1, 1, 0, 0, 1, 0, 0, 1, 1, 0, 1, 1, 0, 1, 1, 0, 0, 1, 1, 1, 1, 0, 1, 1, 1, 0, 1]\n"
          ],
          "name": "stdout"
        }
      ]
    },
    {
      "cell_type": "markdown",
      "metadata": {
        "id": "-F-zfxit8R0A",
        "colab_type": "text"
      },
      "source": [
        "###Save"
      ]
    },
    {
      "cell_type": "code",
      "metadata": {
        "id": "OeCJwAct8mq8",
        "colab_type": "code",
        "colab": {}
      },
      "source": [
        "#save the prediction\n",
        "submissiondir = '.'\n",
        "submissionname = 'submission'\n",
        "pd.DataFrame(data={'target':y_test, 'prediction':y_test_pred}).to_csv(submissiondir + '/' + submissionname + \".csv\", index_label=[\"Id\"])"
      ],
      "execution_count": 0,
      "outputs": []
    },
    {
      "cell_type": "code",
      "metadata": {
        "id": "gmZQtZYZ6yAa",
        "colab_type": "code",
        "colab": {}
      },
      "source": [
        "# save the model\n",
        "filename = 'model.h5'\n",
        "model.save(filename)"
      ],
      "execution_count": 0,
      "outputs": []
    },
    {
      "cell_type": "code",
      "metadata": {
        "id": "PSHnOTDv8Q-J",
        "colab_type": "code",
        "outputId": "b15698f6-9a24-44b5-bb61-3c3d5c673186",
        "colab": {
          "base_uri": "https://localhost:8080/",
          "height": 71
        }
      },
      "source": [
        "# load the model\n",
        "loaded_model = load_model(filename)\n",
        "test_loss, test_accuracy = loaded_model.evaluate(scaler.transform(X_test), y_test, batch_size=128)"
      ],
      "execution_count": 55,
      "outputs": [
        {
          "output_type": "stream",
          "text": [
            "WARNING:tensorflow:Error in loading the saved optimizer state. As a result, your model is starting with a freshly initialized optimizer.\n",
            "1/1 [==============================] - 0s 1ms/step - loss: 0.0906 - accuracy: 0.9825\n"
          ],
          "name": "stdout"
        }
      ]
    },
    {
      "cell_type": "code",
      "metadata": {
        "id": "vJwFB3Rf-xZt",
        "colab_type": "code",
        "colab": {
          "base_uri": "https://localhost:8080/",
          "height": 34
        },
        "outputId": "65d4221b-ad8e-4d05-e4c1-ccf5cd3d1056"
      },
      "source": [
        "print('test loss : ', test_loss, ', accuracy : ', test_accuracy)"
      ],
      "execution_count": 56,
      "outputs": [
        {
          "output_type": "stream",
          "text": [
            "test loss :  0.09060074388980865 , accuracy :  0.9824561476707458\n"
          ],
          "name": "stdout"
        }
      ]
    },
    {
      "cell_type": "code",
      "metadata": {
        "id": "grprSYDncuoz",
        "colab_type": "code",
        "colab": {}
      },
      "source": [
        ""
      ],
      "execution_count": 0,
      "outputs": []
    }
  ]
}